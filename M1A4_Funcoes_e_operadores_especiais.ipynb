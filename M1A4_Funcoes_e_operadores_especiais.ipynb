{
  "nbformat": 4,
  "nbformat_minor": 0,
  "metadata": {
    "colab": {
      "name": "M1A4_Funcoes_e_operadores_especiais.ipynb",
      "provenance": [],
      "authorship_tag": "ABX9TyNp/BpdsuXBIFtF7lji82ie",
      "include_colab_link": true
    },
    "kernelspec": {
      "name": "python3",
      "display_name": "Python 3"
    },
    "language_info": {
      "name": "python"
    }
  },
  "cells": [
    {
      "cell_type": "markdown",
      "metadata": {
        "id": "view-in-github",
        "colab_type": "text"
      },
      "source": [
        "<a href=\"https://colab.research.google.com/github/jefersonmatsui/Data_Science_com_Python_Modal_Mais/blob/main/M1A4_Funcoes_e_operadores_especiais.ipynb\" target=\"_parent\"><img src=\"https://colab.research.google.com/assets/colab-badge.svg\" alt=\"Open In Colab\"/></a>"
      ]
    },
    {
      "cell_type": "markdown",
      "source": [
        "### 11.4. Random"
      ],
      "metadata": {
        "id": "e4LzjPbVPegh"
      }
    },
    {
      "cell_type": "markdown",
      "source": [
        "Este operador pode ser utilizado para obter números aleatórios de acordo com alguma condição pré-determinada"
      ],
      "metadata": {
        "id": "tfkuMbReq9Yk"
      }
    },
    {
      "cell_type": "code",
      "source": [
        "from random import randint, shuffle"
      ],
      "metadata": {
        "id": "i2EgensCrB2D"
      },
      "execution_count": 1,
      "outputs": []
    },
    {
      "cell_type": "markdown",
      "source": [
        "A função randint() retorna um número aleatório dentro de um intervalo específico"
      ],
      "metadata": {
        "id": "DHdPO2VKrCXC"
      }
    },
    {
      "cell_type": "code",
      "source": [
        "randint(0, 100)"
      ],
      "metadata": {
        "colab": {
          "base_uri": "https://localhost:8080/"
        },
        "id": "zCCnQMj_rFKv",
        "outputId": "45d8ab8b-6742-4f80-824d-c6ee567adabd"
      },
      "execution_count": 6,
      "outputs": [
        {
          "output_type": "execute_result",
          "data": {
            "text/plain": [
              "59"
            ]
          },
          "metadata": {},
          "execution_count": 6
        }
      ]
    },
    {
      "cell_type": "code",
      "source": [
        "randint(0, 10)"
      ],
      "metadata": {
        "colab": {
          "base_uri": "https://localhost:8080/"
        },
        "id": "bq8_DlrirdPK",
        "outputId": "61f26044-eea1-49be-e57d-068bb40a2d70"
      },
      "execution_count": 7,
      "outputs": [
        {
          "output_type": "execute_result",
          "data": {
            "text/plain": [
              "7"
            ]
          },
          "metadata": {},
          "execution_count": 7
        }
      ]
    },
    {
      "cell_type": "code",
      "source": [
        "# Vamos gerar uma lista com 10 números aleatórios que sejam entre 10 e 100\n",
        "\n",
        "listrand = []\n",
        "for n in range(0, 10): \n",
        "  listrand.append(randint(10, 100))"
      ],
      "metadata": {
        "id": "O-iKfRbLrFyE"
      },
      "execution_count": 20,
      "outputs": []
    },
    {
      "cell_type": "code",
      "source": [
        "listrand"
      ],
      "metadata": {
        "colab": {
          "base_uri": "https://localhost:8080/"
        },
        "id": "NH9AgCBBsrnB",
        "outputId": "9b3f812e-df9d-4bc9-e487-4b6ed69ffdf9"
      },
      "execution_count": 21,
      "outputs": [
        {
          "output_type": "execute_result",
          "data": {
            "text/plain": [
              "[16, 91, 10, 20, 56, 92, 94, 76, 68, 44]"
            ]
          },
          "metadata": {},
          "execution_count": 21
        }
      ]
    },
    {
      "cell_type": "code",
      "source": [
        "listrand.sort()"
      ],
      "metadata": {
        "id": "tUBhPHFxs-pf"
      },
      "execution_count": 22,
      "outputs": []
    },
    {
      "cell_type": "code",
      "source": [
        "listrand"
      ],
      "metadata": {
        "colab": {
          "base_uri": "https://localhost:8080/"
        },
        "id": "O6rbGz7-tDto",
        "outputId": "a724ddd1-ddd0-4e74-d649-12fabc77ad49"
      },
      "execution_count": 23,
      "outputs": [
        {
          "output_type": "execute_result",
          "data": {
            "text/plain": [
              "[10, 16, 20, 44, 56, 68, 76, 91, 92, 94]"
            ]
          },
          "metadata": {},
          "execution_count": 23
        }
      ]
    },
    {
      "cell_type": "code",
      "source": [
        "listrand.reverse()"
      ],
      "metadata": {
        "id": "iEyfw9HftGTI"
      },
      "execution_count": 24,
      "outputs": []
    },
    {
      "cell_type": "code",
      "source": [
        "listrand"
      ],
      "metadata": {
        "colab": {
          "base_uri": "https://localhost:8080/"
        },
        "id": "JuWOQLEvtJpL",
        "outputId": "8bd39333-a132-48f8-9e18-8cc742306021"
      },
      "execution_count": 25,
      "outputs": [
        {
          "output_type": "execute_result",
          "data": {
            "text/plain": [
              "[94, 92, 91, 76, 68, 56, 44, 20, 16, 10]"
            ]
          },
          "metadata": {},
          "execution_count": 25
        }
      ]
    },
    {
      "cell_type": "code",
      "source": [
        "shuffle(listrand)"
      ],
      "metadata": {
        "id": "wl6e4i9utLNu"
      },
      "execution_count": 26,
      "outputs": []
    },
    {
      "cell_type": "code",
      "source": [
        "listrand"
      ],
      "metadata": {
        "colab": {
          "base_uri": "https://localhost:8080/"
        },
        "id": "Wp7tUUDHtRCO",
        "outputId": "98d13b9b-1bf4-43d6-8278-edea489c0fd3"
      },
      "execution_count": 27,
      "outputs": [
        {
          "output_type": "execute_result",
          "data": {
            "text/plain": [
              "[16, 56, 76, 91, 92, 68, 44, 94, 10, 20]"
            ]
          },
          "metadata": {},
          "execution_count": 27
        }
      ]
    },
    {
      "cell_type": "markdown",
      "source": [
        "### 11.5. Min e Max"
      ],
      "metadata": {
        "id": "-XUI5unetnB3"
      }
    },
    {
      "cell_type": "markdown",
      "source": [
        "Funções para retornar os valores mínimo e máximo de uma lista"
      ],
      "metadata": {
        "id": "SHgBnxZxtrr9"
      }
    },
    {
      "cell_type": "code",
      "source": [
        "min(listrand)"
      ],
      "metadata": {
        "colab": {
          "base_uri": "https://localhost:8080/"
        },
        "id": "lnmeFBeMtr12",
        "outputId": "5df40e9c-3790-4399-fe25-b7192511b436"
      },
      "execution_count": 29,
      "outputs": [
        {
          "output_type": "execute_result",
          "data": {
            "text/plain": [
              "10"
            ]
          },
          "metadata": {},
          "execution_count": 29
        }
      ]
    },
    {
      "cell_type": "code",
      "source": [
        "max(listrand)"
      ],
      "metadata": {
        "colab": {
          "base_uri": "https://localhost:8080/"
        },
        "id": "3aHEbaU3tsXb",
        "outputId": "8e161e9c-5453-42d3-d013-dee3260a23e6"
      },
      "execution_count": 30,
      "outputs": [
        {
          "output_type": "execute_result",
          "data": {
            "text/plain": [
              "94"
            ]
          },
          "metadata": {},
          "execution_count": 30
        }
      ]
    },
    {
      "cell_type": "markdown",
      "source": [
        "### 11.6. Input"
      ],
      "metadata": {
        "id": "0O-pNzNct5jX"
      }
    },
    {
      "cell_type": "markdown",
      "source": [
        "Função que permite que o usuário inpute algum valor de acordo com o que é pedido por um texto e armazene isso na\n",
        "memória de uma variável"
      ],
      "metadata": {
        "id": "6zhlZnbTt8AF"
      }
    },
    {
      "cell_type": "code",
      "source": [
        "acao = input('Por favor insira a ação que deseja comprar: ')"
      ],
      "metadata": {
        "colab": {
          "base_uri": "https://localhost:8080/"
        },
        "id": "Fe2u0ccUt-UC",
        "outputId": "3b43877a-87a7-49af-af2f-ba573bc16c30"
      },
      "execution_count": 34,
      "outputs": [
        {
          "name": "stdout",
          "output_type": "stream",
          "text": [
            "Por favor insira a ação que deseja comprar: MGLU3\n"
          ]
        }
      ]
    },
    {
      "cell_type": "code",
      "source": [
        "acao"
      ],
      "metadata": {
        "colab": {
          "base_uri": "https://localhost:8080/",
          "height": 36
        },
        "id": "pq3QWZg7uDmt",
        "outputId": "b8b82375-0725-48a9-aecf-1ce0661cbf6c"
      },
      "execution_count": 35,
      "outputs": [
        {
          "output_type": "execute_result",
          "data": {
            "text/plain": [
              "'MGLU3'"
            ],
            "application/vnd.google.colaboratory.intrinsic+json": {
              "type": "string"
            }
          },
          "metadata": {},
          "execution_count": 35
        }
      ]
    },
    {
      "cell_type": "code",
      "source": [
        "print(f'O cliente deseja comprar o papel {acao} ')"
      ],
      "metadata": {
        "colab": {
          "base_uri": "https://localhost:8080/"
        },
        "id": "Ih_hHmPpuEAm",
        "outputId": "0a6b4cf4-ef6a-44ae-b0c7-201a63b3b929"
      },
      "execution_count": 36,
      "outputs": [
        {
          "output_type": "stream",
          "name": "stdout",
          "text": [
            "O cliente deseja comprar o papel MGLU3 \n"
          ]
        }
      ]
    },
    {
      "cell_type": "markdown",
      "source": [
        "## 12. List Compreenhension (Compreensão de lista)"
      ],
      "metadata": {
        "id": "e91bRTPduERl"
      }
    },
    {
      "cell_type": "markdown",
      "source": [
        "Forma de executar loops com uma estrutura de código mais resumida do que os \"for\" tradicionais"
      ],
      "metadata": {
        "id": "3fRAPaw1uEct"
      }
    },
    {
      "cell_type": "code",
      "source": [
        "acao = 'MGLU3'"
      ],
      "metadata": {
        "id": "1DT2WyK3upkW"
      },
      "execution_count": 51,
      "outputs": []
    },
    {
      "cell_type": "markdown",
      "source": [
        "Imagine que precisamos realizar a tarefa de transformar cada caractere na string acima em um item separado dentro de uma\n",
        "nova lista.\n"
      ],
      "metadata": {
        "id": "XZK6deo2uslG"
      }
    },
    {
      "cell_type": "markdown",
      "source": [
        "Como faríamos isso com nosso conhecimento em Python até agora?"
      ],
      "metadata": {
        "id": "XdBksrTfu1AP"
      }
    },
    {
      "cell_type": "markdown",
      "source": [
        "**Exemplo 01**"
      ],
      "metadata": {
        "id": "EMpfDuJOu30j"
      }
    },
    {
      "cell_type": "markdown",
      "source": [
        "Na forma tradicional usando \"for\", faríamos assim:"
      ],
      "metadata": {
        "id": "w_CASmfNu6zQ"
      }
    },
    {
      "cell_type": "code",
      "source": [
        "listacarac = []"
      ],
      "metadata": {
        "id": "YZmKSeJGu9Qw"
      },
      "execution_count": 52,
      "outputs": []
    },
    {
      "cell_type": "code",
      "source": [
        "for i in acao:\n",
        "  listacarac.append(i)"
      ],
      "metadata": {
        "id": "cxTAC755vF-V"
      },
      "execution_count": 53,
      "outputs": []
    },
    {
      "cell_type": "code",
      "source": [
        "listacarac"
      ],
      "metadata": {
        "colab": {
          "base_uri": "https://localhost:8080/"
        },
        "id": "NLbgUF0ZvMFd",
        "outputId": "93d8fb4c-340b-4b5a-aa75-3678e3d0018e"
      },
      "execution_count": 54,
      "outputs": [
        {
          "output_type": "execute_result",
          "data": {
            "text/plain": [
              "['M', 'G', 'L', 'U', '3']"
            ]
          },
          "metadata": {},
          "execution_count": 54
        }
      ]
    },
    {
      "cell_type": "code",
      "source": [
        "# Podemos usar o indexing para retornar algum caractere específico\n",
        "\n",
        "listacarac[1]"
      ],
      "metadata": {
        "colab": {
          "base_uri": "https://localhost:8080/",
          "height": 36
        },
        "id": "o1aBKuFCvfHx",
        "outputId": "b2ca2863-49cd-4e2c-dea9-43ec8545daf1"
      },
      "execution_count": 55,
      "outputs": [
        {
          "output_type": "execute_result",
          "data": {
            "text/plain": [
              "'G'"
            ],
            "application/vnd.google.colaboratory.intrinsic+json": {
              "type": "string"
            }
          },
          "metadata": {},
          "execution_count": 55
        }
      ]
    },
    {
      "cell_type": "markdown",
      "source": [
        "E como fazer isso utilizando a compreensão de lista?"
      ],
      "metadata": {
        "id": "LvE5NHDhwSHo"
      }
    },
    {
      "cell_type": "code",
      "source": [
        "# Perceba que o comando ficou bem mais simples\n",
        "\n",
        "[letra for letra in acao]"
      ],
      "metadata": {
        "colab": {
          "base_uri": "https://localhost:8080/"
        },
        "id": "sGH5L59pvq1x",
        "outputId": "29c7b7e7-f0b8-4bf0-843e-3e79952f6a0e"
      },
      "execution_count": 56,
      "outputs": [
        {
          "output_type": "execute_result",
          "data": {
            "text/plain": [
              "['M', 'G', 'L', 'U', '3']"
            ]
          },
          "metadata": {},
          "execution_count": 56
        }
      ]
    },
    {
      "cell_type": "markdown",
      "source": [
        "O output da compreensão de lista é uma nova lista"
      ],
      "metadata": {
        "id": "1Vd1dlNWwYD8"
      }
    },
    {
      "cell_type": "markdown",
      "source": [
        "**Exemplo 02**\n",
        "\n",
        "Imagine que você recebeu uma série de tickers que vieram incompletos. Antes de realizar sua rotina, precisa adicionar um\n",
        "número '3' aos nomes dos papéis. Como você faria?"
      ],
      "metadata": {
        "id": "uvDVAsUMvkH8"
      }
    },
    {
      "cell_type": "code",
      "source": [
        ""
      ],
      "metadata": {
        "id": "ZDijFub4wegx"
      },
      "execution_count": null,
      "outputs": []
    }
  ]
}