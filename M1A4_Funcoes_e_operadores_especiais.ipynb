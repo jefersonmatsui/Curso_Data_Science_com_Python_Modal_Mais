{
  "nbformat": 4,
  "nbformat_minor": 0,
  "metadata": {
    "colab": {
      "name": "M1A4_Funcoes_e_operadores_especiais.ipynb",
      "provenance": [],
      "authorship_tag": "ABX9TyNwtlywdZOHx6JJ/q+WJQrI",
      "include_colab_link": true
    },
    "kernelspec": {
      "name": "python3",
      "display_name": "Python 3"
    },
    "language_info": {
      "name": "python"
    }
  },
  "cells": [
    {
      "cell_type": "markdown",
      "metadata": {
        "id": "view-in-github",
        "colab_type": "text"
      },
      "source": [
        "<a href=\"https://colab.research.google.com/github/jefersonmatsui/Data_Science_com_Python_Modal_Mais/blob/main/M1A4_Funcoes_e_operadores_especiais.ipynb\" target=\"_parent\"><img src=\"https://colab.research.google.com/assets/colab-badge.svg\" alt=\"Open In Colab\"/></a>"
      ]
    },
    {
      "cell_type": "markdown",
      "source": [
        "### 11.4. Random"
      ],
      "metadata": {
        "id": "e4LzjPbVPegh"
      }
    },
    {
      "cell_type": "markdown",
      "source": [
        "Este operador pode ser utilizado para obter números aleatórios de acordo com alguma condição pré-determinada"
      ],
      "metadata": {
        "id": "tfkuMbReq9Yk"
      }
    },
    {
      "cell_type": "code",
      "source": [
        "from random import randint, shuffle"
      ],
      "metadata": {
        "id": "i2EgensCrB2D"
      },
      "execution_count": 2,
      "outputs": []
    },
    {
      "cell_type": "markdown",
      "source": [
        "A função randint() retorna um número aleatório dentro de um intervalo específico"
      ],
      "metadata": {
        "id": "DHdPO2VKrCXC"
      }
    },
    {
      "cell_type": "code",
      "source": [
        "randint(0, 100)"
      ],
      "metadata": {
        "colab": {
          "base_uri": "https://localhost:8080/"
        },
        "id": "zCCnQMj_rFKv",
        "outputId": "6863298a-6dca-4c42-ee6e-36686f37bca3"
      },
      "execution_count": 3,
      "outputs": [
        {
          "output_type": "execute_result",
          "data": {
            "text/plain": [
              "25"
            ]
          },
          "metadata": {},
          "execution_count": 3
        }
      ]
    },
    {
      "cell_type": "code",
      "source": [
        "randint(0, 10)"
      ],
      "metadata": {
        "colab": {
          "base_uri": "https://localhost:8080/"
        },
        "id": "bq8_DlrirdPK",
        "outputId": "6ab93da6-0556-42aa-eeea-69f74ec1f985"
      },
      "execution_count": 4,
      "outputs": [
        {
          "output_type": "execute_result",
          "data": {
            "text/plain": [
              "1"
            ]
          },
          "metadata": {},
          "execution_count": 4
        }
      ]
    },
    {
      "cell_type": "code",
      "source": [
        "# Vamos gerar uma lista com 10 números aleatórios que sejam entre 10 e 100\n",
        "\n",
        "listrand = []\n",
        "for n in range(0, 10): \n",
        "  listrand.append(randint(10, 100))"
      ],
      "metadata": {
        "id": "O-iKfRbLrFyE"
      },
      "execution_count": 5,
      "outputs": []
    },
    {
      "cell_type": "code",
      "source": [
        "listrand"
      ],
      "metadata": {
        "colab": {
          "base_uri": "https://localhost:8080/"
        },
        "id": "NH9AgCBBsrnB",
        "outputId": "640e0905-8fda-4778-d746-416e48370b07"
      },
      "execution_count": 6,
      "outputs": [
        {
          "output_type": "execute_result",
          "data": {
            "text/plain": [
              "[34, 77, 35, 64, 33, 95, 21, 60, 94, 61]"
            ]
          },
          "metadata": {},
          "execution_count": 6
        }
      ]
    },
    {
      "cell_type": "code",
      "source": [
        "listrand.sort()"
      ],
      "metadata": {
        "id": "tUBhPHFxs-pf"
      },
      "execution_count": 7,
      "outputs": []
    },
    {
      "cell_type": "code",
      "source": [
        "listrand"
      ],
      "metadata": {
        "colab": {
          "base_uri": "https://localhost:8080/"
        },
        "id": "O6rbGz7-tDto",
        "outputId": "644b8fc5-5b99-4087-d8cd-bc917bd13a2b"
      },
      "execution_count": 8,
      "outputs": [
        {
          "output_type": "execute_result",
          "data": {
            "text/plain": [
              "[21, 33, 34, 35, 60, 61, 64, 77, 94, 95]"
            ]
          },
          "metadata": {},
          "execution_count": 8
        }
      ]
    },
    {
      "cell_type": "code",
      "source": [
        "listrand.reverse()"
      ],
      "metadata": {
        "id": "iEyfw9HftGTI"
      },
      "execution_count": 9,
      "outputs": []
    },
    {
      "cell_type": "code",
      "source": [
        "listrand"
      ],
      "metadata": {
        "colab": {
          "base_uri": "https://localhost:8080/"
        },
        "id": "JuWOQLEvtJpL",
        "outputId": "9b3da5a9-5fc9-412d-8315-eb9ac494d5f6"
      },
      "execution_count": 10,
      "outputs": [
        {
          "output_type": "execute_result",
          "data": {
            "text/plain": [
              "[95, 94, 77, 64, 61, 60, 35, 34, 33, 21]"
            ]
          },
          "metadata": {},
          "execution_count": 10
        }
      ]
    },
    {
      "cell_type": "code",
      "source": [
        "shuffle(listrand)"
      ],
      "metadata": {
        "id": "wl6e4i9utLNu"
      },
      "execution_count": 11,
      "outputs": []
    },
    {
      "cell_type": "code",
      "source": [
        "listrand"
      ],
      "metadata": {
        "colab": {
          "base_uri": "https://localhost:8080/"
        },
        "id": "Wp7tUUDHtRCO",
        "outputId": "5000e650-ab61-440e-b059-237bca7cff65"
      },
      "execution_count": 12,
      "outputs": [
        {
          "output_type": "execute_result",
          "data": {
            "text/plain": [
              "[64, 34, 35, 77, 61, 33, 21, 94, 60, 95]"
            ]
          },
          "metadata": {},
          "execution_count": 12
        }
      ]
    },
    {
      "cell_type": "markdown",
      "source": [
        "### 11.5. Min e Max"
      ],
      "metadata": {
        "id": "-XUI5unetnB3"
      }
    },
    {
      "cell_type": "markdown",
      "source": [
        "Funções para retornar os valores mínimo e máximo de uma lista"
      ],
      "metadata": {
        "id": "SHgBnxZxtrr9"
      }
    },
    {
      "cell_type": "code",
      "source": [
        "min(listrand)"
      ],
      "metadata": {
        "colab": {
          "base_uri": "https://localhost:8080/"
        },
        "id": "lnmeFBeMtr12",
        "outputId": "232ffe4b-f7fa-4bb9-c576-93b247bd9500"
      },
      "execution_count": 13,
      "outputs": [
        {
          "output_type": "execute_result",
          "data": {
            "text/plain": [
              "21"
            ]
          },
          "metadata": {},
          "execution_count": 13
        }
      ]
    },
    {
      "cell_type": "code",
      "source": [
        "max(listrand)"
      ],
      "metadata": {
        "colab": {
          "base_uri": "https://localhost:8080/"
        },
        "id": "3aHEbaU3tsXb",
        "outputId": "38ac782c-0a6f-44ba-80a5-1b4f6c979f20"
      },
      "execution_count": 14,
      "outputs": [
        {
          "output_type": "execute_result",
          "data": {
            "text/plain": [
              "95"
            ]
          },
          "metadata": {},
          "execution_count": 14
        }
      ]
    },
    {
      "cell_type": "markdown",
      "source": [
        "### 11.6. Input"
      ],
      "metadata": {
        "id": "0O-pNzNct5jX"
      }
    },
    {
      "cell_type": "markdown",
      "source": [
        "Função que permite que o usuário inpute algum valor de acordo com o que é pedido por um texto e armazene isso na\n",
        "memória de uma variável"
      ],
      "metadata": {
        "id": "6zhlZnbTt8AF"
      }
    },
    {
      "cell_type": "code",
      "source": [
        "acao = input('Por favor insira a ação que deseja comprar: ')"
      ],
      "metadata": {
        "colab": {
          "base_uri": "https://localhost:8080/"
        },
        "id": "Fe2u0ccUt-UC",
        "outputId": "8abdb286-d659-4ed2-ceeb-77db076c9690"
      },
      "execution_count": 15,
      "outputs": [
        {
          "name": "stdout",
          "output_type": "stream",
          "text": [
            "Por favor insira a ação que deseja comprar: MFGLI\n"
          ]
        }
      ]
    },
    {
      "cell_type": "code",
      "source": [
        "acao"
      ],
      "metadata": {
        "colab": {
          "base_uri": "https://localhost:8080/",
          "height": 35
        },
        "id": "pq3QWZg7uDmt",
        "outputId": "0d1a8049-a8d4-4903-f44f-4e66c9881822"
      },
      "execution_count": 16,
      "outputs": [
        {
          "output_type": "execute_result",
          "data": {
            "text/plain": [
              "'MFGLI'"
            ],
            "application/vnd.google.colaboratory.intrinsic+json": {
              "type": "string"
            }
          },
          "metadata": {},
          "execution_count": 16
        }
      ]
    },
    {
      "cell_type": "code",
      "source": [
        "print(f'O cliente deseja comprar o papel {acao} ')"
      ],
      "metadata": {
        "colab": {
          "base_uri": "https://localhost:8080/"
        },
        "id": "Ih_hHmPpuEAm",
        "outputId": "8878e733-86f5-4983-d89f-e23114bb697d"
      },
      "execution_count": 17,
      "outputs": [
        {
          "output_type": "stream",
          "name": "stdout",
          "text": [
            "O cliente deseja comprar o papel MFGLI \n"
          ]
        }
      ]
    },
    {
      "cell_type": "markdown",
      "source": [
        "## 12. List Compreenhension (Compreensão de lista)"
      ],
      "metadata": {
        "id": "e91bRTPduERl"
      }
    },
    {
      "cell_type": "markdown",
      "source": [
        "Forma de executar loops com uma estrutura de código mais resumida do que os \"for\" tradicionais"
      ],
      "metadata": {
        "id": "3fRAPaw1uEct"
      }
    },
    {
      "cell_type": "code",
      "source": [
        "acao = 'MGLU3'"
      ],
      "metadata": {
        "id": "1DT2WyK3upkW"
      },
      "execution_count": 18,
      "outputs": []
    },
    {
      "cell_type": "markdown",
      "source": [
        "Imagine que precisamos realizar a tarefa de transformar cada caractere na string acima em um item separado dentro de uma\n",
        "nova lista.\n"
      ],
      "metadata": {
        "id": "XZK6deo2uslG"
      }
    },
    {
      "cell_type": "markdown",
      "source": [
        "Como faríamos isso com nosso conhecimento em Python até agora?"
      ],
      "metadata": {
        "id": "XdBksrTfu1AP"
      }
    },
    {
      "cell_type": "markdown",
      "source": [
        "**Exemplo 01**"
      ],
      "metadata": {
        "id": "EMpfDuJOu30j"
      }
    },
    {
      "cell_type": "markdown",
      "source": [
        "Na forma tradicional usando \"for\", faríamos assim:"
      ],
      "metadata": {
        "id": "w_CASmfNu6zQ"
      }
    },
    {
      "cell_type": "code",
      "source": [
        "listacarac = []"
      ],
      "metadata": {
        "id": "YZmKSeJGu9Qw"
      },
      "execution_count": 19,
      "outputs": []
    },
    {
      "cell_type": "code",
      "source": [
        "for i in acao:\n",
        "  listacarac.append(i)"
      ],
      "metadata": {
        "id": "cxTAC755vF-V"
      },
      "execution_count": 20,
      "outputs": []
    },
    {
      "cell_type": "code",
      "source": [
        "listacarac"
      ],
      "metadata": {
        "colab": {
          "base_uri": "https://localhost:8080/"
        },
        "id": "NLbgUF0ZvMFd",
        "outputId": "25d8f4db-4f38-4af3-f80b-044e5d96b485"
      },
      "execution_count": 21,
      "outputs": [
        {
          "output_type": "execute_result",
          "data": {
            "text/plain": [
              "['M', 'G', 'L', 'U', '3']"
            ]
          },
          "metadata": {},
          "execution_count": 21
        }
      ]
    },
    {
      "cell_type": "code",
      "source": [
        "# Podemos usar o indexing para retornar algum caractere específico\n",
        "\n",
        "listacarac[1]"
      ],
      "metadata": {
        "colab": {
          "base_uri": "https://localhost:8080/",
          "height": 35
        },
        "id": "o1aBKuFCvfHx",
        "outputId": "24e9ce26-ea52-46d5-ea92-fea90d938a6c"
      },
      "execution_count": 22,
      "outputs": [
        {
          "output_type": "execute_result",
          "data": {
            "text/plain": [
              "'G'"
            ],
            "application/vnd.google.colaboratory.intrinsic+json": {
              "type": "string"
            }
          },
          "metadata": {},
          "execution_count": 22
        }
      ]
    },
    {
      "cell_type": "markdown",
      "source": [
        "E como fazer isso utilizando a compreensão de lista?"
      ],
      "metadata": {
        "id": "LvE5NHDhwSHo"
      }
    },
    {
      "cell_type": "code",
      "source": [
        "# Perceba que o comando ficou bem mais simples\n",
        "\n",
        "[letra for letra in acao]"
      ],
      "metadata": {
        "colab": {
          "base_uri": "https://localhost:8080/"
        },
        "id": "sGH5L59pvq1x",
        "outputId": "a6b50a2b-5da9-4b6f-ee48-1c6c91ebfb78"
      },
      "execution_count": 23,
      "outputs": [
        {
          "output_type": "execute_result",
          "data": {
            "text/plain": [
              "['M', 'G', 'L', 'U', '3']"
            ]
          },
          "metadata": {},
          "execution_count": 23
        }
      ]
    },
    {
      "cell_type": "markdown",
      "source": [
        "O output da compreensão de lista é uma nova lista"
      ],
      "metadata": {
        "id": "1Vd1dlNWwYD8"
      }
    },
    {
      "cell_type": "markdown",
      "source": [
        "**Exemplo 02**\n",
        "\n",
        "Imagine que você recebeu uma série de tickers que vieram incompletos. Antes de realizar sua rotina, precisa adicionar um\n",
        "número '3' aos nomes dos papéis. Como você faria?"
      ],
      "metadata": {
        "id": "uvDVAsUMvkH8"
      }
    },
    {
      "cell_type": "code",
      "source": [
        "ativos = ['MGLU', 'VALE', 'WEGE', 'LREN']"
      ],
      "metadata": {
        "id": "ZDijFub4wegx"
      },
      "execution_count": 24,
      "outputs": []
    },
    {
      "cell_type": "code",
      "source": [
        "# Criamos uma lista vazia que será populada com os novos nomes dos ativos\n",
        "novos_ativos = []\n",
        "\n",
        "# Para cada ativo, vamos adicionar o caractere '3' no final\n",
        "for letra in ativos:\n",
        "  novos_ativos.append(letra + '3')"
      ],
      "metadata": {
        "id": "cz5i-bBMPted"
      },
      "execution_count": 26,
      "outputs": []
    },
    {
      "cell_type": "code",
      "source": [
        "novos_ativos"
      ],
      "metadata": {
        "colab": {
          "base_uri": "https://localhost:8080/"
        },
        "id": "5TlKVoDgQbND",
        "outputId": "a7515f60-d382-4873-84ad-97384c0e1ef7"
      },
      "execution_count": 27,
      "outputs": [
        {
          "output_type": "execute_result",
          "data": {
            "text/plain": [
              "['MGLU3', 'VALE3', 'WEGE3', 'LREN3']"
            ]
          },
          "metadata": {},
          "execution_count": 27
        }
      ]
    },
    {
      "cell_type": "markdown",
      "source": [
        "Podemos realizar essa tarefa com uma compreensão de lista de uma forma mais rápida."
      ],
      "metadata": {
        "id": "xuBwWUSzRc6I"
      }
    },
    {
      "cell_type": "code",
      "source": [
        "[letra + '3' for letra in ativos]"
      ],
      "metadata": {
        "colab": {
          "base_uri": "https://localhost:8080/"
        },
        "id": "ONdCaP6lRftw",
        "outputId": "b8c26dc7-b7bf-4eb8-e77a-4a884f636dbc"
      },
      "execution_count": 28,
      "outputs": [
        {
          "output_type": "execute_result",
          "data": {
            "text/plain": [
              "['MGLU3', 'VALE3', 'WEGE3', 'LREN3']"
            ]
          },
          "metadata": {},
          "execution_count": 28
        }
      ]
    },
    {
      "cell_type": "markdown",
      "source": [
        "**Exemplo 03**\n",
        "\n",
        "Imagine que quiséssemos elevar todos os números de 0 a 10 ao quadrado.\n",
        "\n",
        "\n",
        "Da forma tradicional, faríamos:"
      ],
      "metadata": {
        "id": "nESPUkqaRqlI"
      }
    },
    {
      "cell_type": "code",
      "source": [
        "list_num = []\n",
        "\n",
        "for num in range(0,11):\n",
        "  list_num.append(num**2)"
      ],
      "metadata": {
        "id": "_xaOLk1SR_83"
      },
      "execution_count": 29,
      "outputs": []
    },
    {
      "cell_type": "code",
      "source": [
        "# Resultado\n",
        "list_num"
      ],
      "metadata": {
        "colab": {
          "base_uri": "https://localhost:8080/"
        },
        "id": "xJVJdbBCSJYS",
        "outputId": "043e24e2-0cea-47ca-a026-95736dfa287c"
      },
      "execution_count": 30,
      "outputs": [
        {
          "output_type": "execute_result",
          "data": {
            "text/plain": [
              "[0, 1, 4, 9, 16, 25, 36, 49, 64, 81, 100]"
            ]
          },
          "metadata": {},
          "execution_count": 30
        }
      ]
    },
    {
      "cell_type": "markdown",
      "source": [
        "Com a compreensão de lista, podemos fazer"
      ],
      "metadata": {
        "id": "zXXiHdRkSMUH"
      }
    },
    {
      "cell_type": "code",
      "source": [
        "[num**2 for num in range(0,11)]"
      ],
      "metadata": {
        "colab": {
          "base_uri": "https://localhost:8080/"
        },
        "id": "ETyr5gPqSOEu",
        "outputId": "c0989b02-b1db-42d8-98e9-32240f1cfe7a"
      },
      "execution_count": 31,
      "outputs": [
        {
          "output_type": "execute_result",
          "data": {
            "text/plain": [
              "[0, 1, 4, 9, 16, 25, 36, 49, 64, 81, 100]"
            ]
          },
          "metadata": {},
          "execution_count": 31
        }
      ]
    },
    {
      "cell_type": "markdown",
      "source": [
        "## 13. Funções e métodos"
      ],
      "metadata": {
        "id": "uwQfrFpxSoI7"
      }
    },
    {
      "cell_type": "markdown",
      "source": [
        "## 13.1. Funções"
      ],
      "metadata": {
        "id": "LpeL6Zm4XWnX"
      }
    },
    {
      "cell_type": "markdown",
      "source": [
        "Uma função é um comando capaz de realizar uma tarefa, de acordo com critérios que determinamos.\n",
        "\n",
        "A função só é executada de fato quando é chamada, e executa atividades que foram especificadas pelo usuário.\n",
        "\n",
        "Por exemplo: abaixo estamos criando uma função chamada \"tempo_hoje\", que é executada quando chamada. Seu propósito\n",
        "é imprimir a mensagem \"Hoje faz sol\" quando chamada."
      ],
      "metadata": {
        "id": "kjy_lrFmStJs"
      }
    },
    {
      "cell_type": "code",
      "source": [
        "def tempo_hoje():\n",
        "  print('Hoje faz sol')"
      ],
      "metadata": {
        "id": "v0-0Hy3zSzp-"
      },
      "execution_count": 32,
      "outputs": []
    },
    {
      "cell_type": "code",
      "source": [
        "tempo_hoje()"
      ],
      "metadata": {
        "colab": {
          "base_uri": "https://localhost:8080/"
        },
        "id": "psK2s74NUFP9",
        "outputId": "e10c4f6d-0af2-4f33-c53d-294a90baf24d"
      },
      "execution_count": 33,
      "outputs": [
        {
          "output_type": "stream",
          "name": "stdout",
          "text": [
            "Hoje faz sol\n"
          ]
        }
      ]
    },
    {
      "cell_type": "markdown",
      "source": [
        "Vamos criar agora uma nova função que vai retornar a soma de dois números, sendo estes determinados pelo usuário."
      ],
      "metadata": {
        "id": "Zy5sv6qvUfTN"
      }
    },
    {
      "cell_type": "code",
      "source": [
        "# Perceba que a função abaixo recebe dois arguentos: num1 e num2. A função vai então somar num1 e num2 e reto\n",
        "\n",
        "def soma_numeros(num1, num2):\n",
        "  soma = num1 + num2\n",
        "  return soma   "
      ],
      "metadata": {
        "id": "1cF1TfiNUgCa"
      },
      "execution_count": 35,
      "outputs": []
    },
    {
      "cell_type": "markdown",
      "source": [
        "Vamos passar nessa função os números 2 e 3"
      ],
      "metadata": {
        "id": "qrhlhuDkUnrS"
      }
    },
    {
      "cell_type": "code",
      "source": [
        "soma_numeros(2, 3)"
      ],
      "metadata": {
        "colab": {
          "base_uri": "https://localhost:8080/"
        },
        "id": "MR11zF71U0sq",
        "outputId": "b3264a40-2995-4c36-e9a9-1c40875466d7"
      },
      "execution_count": 37,
      "outputs": [
        {
          "output_type": "execute_result",
          "data": {
            "text/plain": [
              "5"
            ]
          },
          "metadata": {},
          "execution_count": 37
        }
      ]
    },
    {
      "cell_type": "code",
      "source": [
        "novo_objeto = soma_numeros(1000, 3050)"
      ],
      "metadata": {
        "id": "vRLHhWrgU8np"
      },
      "execution_count": 38,
      "outputs": []
    },
    {
      "cell_type": "code",
      "source": [
        "novo_objeto"
      ],
      "metadata": {
        "colab": {
          "base_uri": "https://localhost:8080/"
        },
        "id": "Pp05bFndU_OS",
        "outputId": "2d03df94-3767-4d17-dc81-cf7dad334467"
      },
      "execution_count": 39,
      "outputs": [
        {
          "output_type": "execute_result",
          "data": {
            "text/plain": [
              "4050"
            ]
          },
          "metadata": {},
          "execution_count": 39
        }
      ]
    },
    {
      "cell_type": "markdown",
      "source": [
        "Vamos criar agora uma nova função chamada \"preco\" que basicamente retorna a cotação de um papel, de acordo com o que\n",
        "for especificado pelo usuário."
      ],
      "metadata": {
        "id": "d_kSzLJmVBY6"
      }
    },
    {
      "cell_type": "code",
      "source": [
        "def preco(acao):\n",
        "  if (acao == 'PETR4'):\n",
        "    print('O preço agora é R$ 30,89')\n",
        "  elif (acao == 'VALE3'):\n",
        "    print('O preço agora é R$ 112')\n",
        "  elif (acao == 'WEGE3'):\n",
        "    print('O preço agora é R$ 32')\n",
        "  elif (acao == 'MGLU3'):\n",
        "    print('O preço agora é R$ 6,79')\n",
        "  else:\n",
        "    print('Papel desconhecido')"
      ],
      "metadata": {
        "id": "7469TDCSVDyq"
      },
      "execution_count": 40,
      "outputs": []
    },
    {
      "cell_type": "code",
      "source": [
        "preco('PETR4')"
      ],
      "metadata": {
        "colab": {
          "base_uri": "https://localhost:8080/"
        },
        "id": "y1HMt7uPVYBp",
        "outputId": "18035816-ae12-4924-8054-25933aed4323"
      },
      "execution_count": 41,
      "outputs": [
        {
          "output_type": "stream",
          "name": "stdout",
          "text": [
            "O preço agora é R$ 30,89\n"
          ]
        }
      ]
    },
    {
      "cell_type": "code",
      "source": [
        "preco('MGLU3')"
      ],
      "metadata": {
        "colab": {
          "base_uri": "https://localhost:8080/"
        },
        "id": "eR6id7BjWfre",
        "outputId": "4c9da914-427a-4869-fa5d-a7d8f0f98656"
      },
      "execution_count": 42,
      "outputs": [
        {
          "output_type": "stream",
          "name": "stdout",
          "text": [
            "O preço agora é R$ 6,79\n"
          ]
        }
      ]
    },
    {
      "cell_type": "markdown",
      "source": [
        "Criando Docstring da função\n",
        "\n",
        "O que é?\n",
        "\n",
        "\"Docstring\" é a documentação da função, ou seja, a mensagem que aparece quando o usuário consulta a ajuda da função."
      ],
      "metadata": {
        "id": "KsBBaSevWhIW"
      }
    },
    {
      "cell_type": "code",
      "source": [
        "def preco(acao):\n",
        "\n",
        "  ''' ESSA FUNÇÃO DEVE SER UTILIZADA PARA RETORNAR A COTAÇÃO EM TEMPO REAL DE UM PAPEL '''\n",
        "\n",
        "  if (acao == 'PETR4'):\n",
        "    print('O preço agora é R$ 30,89')\n",
        "  elif (acao == 'VALE3'):\n",
        "    print('O preço agora é R$ 112')\n",
        "  elif (acao == 'WEGE3'):\n",
        "    print('O preço agora é R$ 32')\n",
        "  elif (acao == 'MGLU3'):\n",
        "    print('O preço agora é R$ 24,59')\n",
        "  else:\n",
        "    print('Papel desconhecido')"
      ],
      "metadata": {
        "id": "9_UUXsM6WmO-"
      },
      "execution_count": 44,
      "outputs": []
    },
    {
      "cell_type": "code",
      "source": [
        "preco()"
      ],
      "metadata": {
        "id": "hbfM4ImgXeNv"
      },
      "execution_count": 45,
      "outputs": []
    },
    {
      "cell_type": "markdown",
      "source": [
        "### 13.2. Métodos"
      ],
      "metadata": {
        "id": "TqBFK--FW_KV"
      }
    },
    {
      "cell_type": "markdown",
      "source": [
        "Métodos são funções aplicáveis apenas a determinados tipos de objetos. Todos os métodos são funções, mas nem todas as\n",
        "funções são métodos. Os métodos são executados ao fim dos objetos e separados com um ponto."
      ],
      "metadata": {
        "id": "UTIVYYw7XLwf"
      }
    },
    {
      "cell_type": "code",
      "source": [
        "numeros = [1, 2, 4, 6, 10]"
      ],
      "metadata": {
        "id": "F1fN7j-NXbEG"
      },
      "execution_count": 46,
      "outputs": []
    },
    {
      "cell_type": "markdown",
      "source": [
        "Perceba que a função append() abaixo é um método."
      ],
      "metadata": {
        "id": "l_6rL5nKXnA5"
      }
    },
    {
      "cell_type": "code",
      "source": [
        "numeros.append(5)"
      ],
      "metadata": {
        "id": "D7nUl_tnXpXs"
      },
      "execution_count": 47,
      "outputs": []
    },
    {
      "cell_type": "code",
      "source": [
        "numeros"
      ],
      "metadata": {
        "colab": {
          "base_uri": "https://localhost:8080/"
        },
        "id": "ONMlYjR1XrFc",
        "outputId": "8e371c08-4f5e-4aa1-a27a-70597690c6a7"
      },
      "execution_count": 48,
      "outputs": [
        {
          "output_type": "execute_result",
          "data": {
            "text/plain": [
              "[1, 2, 4, 6, 10, 5]"
            ]
          },
          "metadata": {},
          "execution_count": 48
        }
      ]
    },
    {
      "cell_type": "markdown",
      "source": [
        "## 14. Funçoes embutidas"
      ],
      "metadata": {
        "id": "LHI3v56XZkiJ"
      }
    },
    {
      "cell_type": "markdown",
      "source": [
        "Também conhecidas como \"built-in functions\" são funções nativas do Python que não necessitam de nenhuma biblioteca\n",
        "para sua execução."
      ],
      "metadata": {
        "id": "DHI0S-khZqqE"
      }
    },
    {
      "cell_type": "markdown",
      "source": [
        "### 14.1. Map"
      ],
      "metadata": {
        "id": "RIPQGU9KZsSZ"
      }
    },
    {
      "cell_type": "markdown",
      "source": [
        "A função map() aplica um comando (função) a vários elementos de uma lista, de uma vez.\n",
        "\n",
        "Confira alguns exemplos:"
      ],
      "metadata": {
        "id": "lJmMnZrTZvVr"
      }
    },
    {
      "cell_type": "code",
      "source": [
        "def potencia(num, pot=2):\n",
        "  return num**pot"
      ],
      "metadata": {
        "id": "CDvMX6gtZ0Bp"
      },
      "execution_count": 49,
      "outputs": []
    },
    {
      "cell_type": "code",
      "source": [
        "potencia(3)"
      ],
      "metadata": {
        "colab": {
          "base_uri": "https://localhost:8080/"
        },
        "id": "eruMYAINZ68h",
        "outputId": "9d537235-ddf1-4f34-e2b7-e2456f0a4219"
      },
      "execution_count": 50,
      "outputs": [
        {
          "output_type": "execute_result",
          "data": {
            "text/plain": [
              "9"
            ]
          },
          "metadata": {},
          "execution_count": 50
        }
      ]
    },
    {
      "cell_type": "code",
      "source": [
        "potencia(3,4)"
      ],
      "metadata": {
        "colab": {
          "base_uri": "https://localhost:8080/"
        },
        "id": "FZroz5FnZ9EZ",
        "outputId": "fb7a45a2-967a-4331-8ead-590227949d0b"
      },
      "execution_count": 51,
      "outputs": [
        {
          "output_type": "execute_result",
          "data": {
            "text/plain": [
              "81"
            ]
          },
          "metadata": {},
          "execution_count": 51
        }
      ]
    },
    {
      "cell_type": "code",
      "source": [
        "lista_numeros = [1, 2, 3, 4, 5]"
      ],
      "metadata": {
        "id": "RNbRUFx5aOt2"
      },
      "execution_count": 52,
      "outputs": []
    },
    {
      "cell_type": "code",
      "source": [
        "list(map(potencia, lista_numeros))"
      ],
      "metadata": {
        "colab": {
          "base_uri": "https://localhost:8080/"
        },
        "id": "NttjQREZaNVQ",
        "outputId": "6e020aef-fdec-42fb-e44a-80c2434a038e"
      },
      "execution_count": 53,
      "outputs": [
        {
          "output_type": "execute_result",
          "data": {
            "text/plain": [
              "[1, 4, 9, 16, 25]"
            ]
          },
          "metadata": {},
          "execution_count": 53
        }
      ]
    },
    {
      "cell_type": "markdown",
      "source": [
        "### 14.2. Filter"
      ],
      "metadata": {
        "id": "u8cFvm8NadoN"
      }
    },
    {
      "cell_type": "markdown",
      "source": [
        "De forma análoga, a função \"filter\" aplica um filtro a vários elementos de uma lista de uma só vez."
      ],
      "metadata": {
        "id": "7a4QSxdmahvH"
      }
    },
    {
      "cell_type": "code",
      "source": [
        "# Vamos criar uma função que retorna uma condição lógica, dizendo se um número é par (True) ou não (False)\n",
        "\n",
        "def checar_par(num):\n",
        "  return num%2 == 0"
      ],
      "metadata": {
        "id": "Sbu0YoD7aiWn"
      },
      "execution_count": 54,
      "outputs": []
    },
    {
      "cell_type": "code",
      "source": [
        "checar_par(2)"
      ],
      "metadata": {
        "colab": {
          "base_uri": "https://localhost:8080/"
        },
        "id": "y8pANxxRau7H",
        "outputId": "faa1878f-e0b8-4395-de4e-d9eef95d9c67"
      },
      "execution_count": 55,
      "outputs": [
        {
          "output_type": "execute_result",
          "data": {
            "text/plain": [
              "True"
            ]
          },
          "metadata": {},
          "execution_count": 55
        }
      ]
    },
    {
      "cell_type": "code",
      "source": [
        "checar_par(9)"
      ],
      "metadata": {
        "colab": {
          "base_uri": "https://localhost:8080/"
        },
        "id": "4pUqc-hHax7P",
        "outputId": "dee54a4b-82c8-4b91-fc08-533c549f07b2"
      },
      "execution_count": 56,
      "outputs": [
        {
          "output_type": "execute_result",
          "data": {
            "text/plain": [
              "False"
            ]
          },
          "metadata": {},
          "execution_count": 56
        }
      ]
    },
    {
      "cell_type": "markdown",
      "source": [
        "Se aplicarmos essa função à lista criada no item anterior, ela vai trazer apenas os números que são pares."
      ],
      "metadata": {
        "id": "wCa9pKPhbGNq"
      }
    },
    {
      "cell_type": "code",
      "source": [
        "list(filter(checar_par, lista_numeros))"
      ],
      "metadata": {
        "colab": {
          "base_uri": "https://localhost:8080/"
        },
        "id": "apsQRlXJbISv",
        "outputId": "5c2bec2e-da10-4acb-f282-b2ba3a8a0299"
      },
      "execution_count": 57,
      "outputs": [
        {
          "output_type": "execute_result",
          "data": {
            "text/plain": [
              "[2, 4]"
            ]
          },
          "metadata": {},
          "execution_count": 57
        }
      ]
    },
    {
      "cell_type": "markdown",
      "source": [
        " ## 15. Funções anônimas: lambda"
      ],
      "metadata": {
        "id": "L81QwvzJczpR"
      }
    },
    {
      "cell_type": "markdown",
      "source": [
        "São funções que não precisam de definição forma (explícita) podendo ser chamadas em apenas uma linha.\n",
        "\n",
        "Suponha que queremos criar uma função que eleva os números ao quadrado:"
      ],
      "metadata": {
        "id": "JNNMXUcPc4_z"
      }
    },
    {
      "cell_type": "code",
      "source": [
        "def quadrado(num):\n",
        "  return num**2"
      ],
      "metadata": {
        "id": "eq7LjhcodAcL"
      },
      "execution_count": 60,
      "outputs": []
    },
    {
      "cell_type": "code",
      "source": [
        "quadrado(5)"
      ],
      "metadata": {
        "colab": {
          "base_uri": "https://localhost:8080/"
        },
        "id": "Ha3QuBHKdBNb",
        "outputId": "3d37f640-f2f8-4568-bb77-aa4b5e26af5e"
      },
      "execution_count": 61,
      "outputs": [
        {
          "output_type": "execute_result",
          "data": {
            "text/plain": [
              "25"
            ]
          },
          "metadata": {},
          "execution_count": 61
        }
      ]
    },
    {
      "cell_type": "markdown",
      "source": [
        "Com o comando lambda, não precisamos dar um nome a essa função nem defini-la, basta especificar qual a tarefa que\n",
        "precisamos executar"
      ],
      "metadata": {
        "id": "PLPjMK28dFCE"
      }
    },
    {
      "cell_type": "code",
      "source": [
        "lambda num: num**2"
      ],
      "metadata": {
        "colab": {
          "base_uri": "https://localhost:8080/"
        },
        "id": "SCXxwMSMdGub",
        "outputId": "4160c6ce-b80c-418e-a1a2-f10a5ca0bd44"
      },
      "execution_count": 62,
      "outputs": [
        {
          "output_type": "execute_result",
          "data": {
            "text/plain": [
              "<function __main__.<lambda>>"
            ]
          },
          "metadata": {},
          "execution_count": 62
        }
      ]
    },
    {
      "cell_type": "markdown",
      "source": [
        "Caso seja do nosso interesse, podemos criar uma variável que recebe a operação realizada pela função lambda."
      ],
      "metadata": {
        "id": "foaD_gV1dK2L"
      }
    },
    {
      "cell_type": "code",
      "source": [
        "quadrado_lambda = lambda num: num**2"
      ],
      "metadata": {
        "id": "qldSOYcEdM7s"
      },
      "execution_count": 63,
      "outputs": []
    },
    {
      "cell_type": "code",
      "source": [
        "quadrado_lambda(5)"
      ],
      "metadata": {
        "colab": {
          "base_uri": "https://localhost:8080/"
        },
        "id": "ln55NvyOdOlE",
        "outputId": "785488fa-1261-4708-aab7-996452da6e40"
      },
      "execution_count": 64,
      "outputs": [
        {
          "output_type": "execute_result",
          "data": {
            "text/plain": [
              "25"
            ]
          },
          "metadata": {},
          "execution_count": 64
        }
      ]
    },
    {
      "cell_type": "markdown",
      "source": [
        "Podemos ir ainda mais longe, aplicando essas funções a vários elementos de uma lista, com as funções map e filter"
      ],
      "metadata": {
        "id": "-25vx-dAdSPc"
      }
    },
    {
      "cell_type": "code",
      "source": [
        "list(map(lambda num: num**2, lista_numeros))"
      ],
      "metadata": {
        "colab": {
          "base_uri": "https://localhost:8080/"
        },
        "id": "dJDlP4vOdTuA",
        "outputId": "5cd9d12e-2db0-4f3e-dc59-004ef3671fbb"
      },
      "execution_count": 65,
      "outputs": [
        {
          "output_type": "execute_result",
          "data": {
            "text/plain": [
              "[1, 4, 9, 16, 25]"
            ]
          },
          "metadata": {},
          "execution_count": 65
        }
      ]
    },
    {
      "cell_type": "code",
      "source": [
        "list(filter(lambda num: num%2 ==0, lista_numeros))"
      ],
      "metadata": {
        "colab": {
          "base_uri": "https://localhost:8080/"
        },
        "id": "b-x8COHLdV30",
        "outputId": "8404170a-eb41-4e17-c3b2-2d927e5b0e8c"
      },
      "execution_count": 66,
      "outputs": [
        {
          "output_type": "execute_result",
          "data": {
            "text/plain": [
              "[2, 4]"
            ]
          },
          "metadata": {},
          "execution_count": 66
        }
      ]
    },
    {
      "cell_type": "markdown",
      "source": [
        "## 16. Escopo das váriaveis"
      ],
      "metadata": {
        "id": "LgZ0-lsLdos7"
      }
    },
    {
      "cell_type": "markdown",
      "source": [
        "Podemos entender o escopo como a \"área de atuação\" de uma variável."
      ],
      "metadata": {
        "id": "0ZuUZiWXdr7d"
      }
    },
    {
      "cell_type": "code",
      "source": [
        "# Escopo global\n",
        "\n",
        "x = 25"
      ],
      "metadata": {
        "id": "hDeu9CN_dtd0"
      },
      "execution_count": 67,
      "outputs": []
    },
    {
      "cell_type": "code",
      "source": [
        "def printer():\n",
        "  x = 50\n",
        "  return x"
      ],
      "metadata": {
        "id": "OIY7-5s4dxI6"
      },
      "execution_count": 74,
      "outputs": []
    },
    {
      "cell_type": "code",
      "source": [
        "x"
      ],
      "metadata": {
        "colab": {
          "base_uri": "https://localhost:8080/"
        },
        "id": "RLmKQ0D6d2bq",
        "outputId": "64a6e097-69d8-419c-fa08-bda8d45618da"
      },
      "execution_count": 68,
      "outputs": [
        {
          "output_type": "execute_result",
          "data": {
            "text/plain": [
              "25"
            ]
          },
          "metadata": {},
          "execution_count": 68
        }
      ]
    },
    {
      "cell_type": "code",
      "source": [
        "printer()"
      ],
      "metadata": {
        "colab": {
          "base_uri": "https://localhost:8080/"
        },
        "id": "StdYSbF4d391",
        "outputId": "02c945e4-a376-4f8c-9cd4-28fba01863c1"
      },
      "execution_count": 75,
      "outputs": [
        {
          "output_type": "execute_result",
          "data": {
            "text/plain": [
              "50"
            ]
          },
          "metadata": {},
          "execution_count": 75
        }
      ]
    },
    {
      "cell_type": "markdown",
      "source": [
        "## 17. Args"
      ],
      "metadata": {
        "id": "CnVkqmH5ean9"
      }
    },
    {
      "cell_type": "markdown",
      "source": [
        "Imagine que criamos uma função nova e especificamos a quantidade de argumentos que precisam ser passados nessa\n",
        "função:"
      ],
      "metadata": {
        "id": "xy3Kk5eoecsp"
      }
    },
    {
      "cell_type": "code",
      "source": [
        "# Neste caso estamos criando uma função que recebe três argumentos: a, b e c\n",
        "\n",
        "def soma_varios(a,b,c):\n",
        "  soma = sum((a,b,c))\n",
        "  return soma"
      ],
      "metadata": {
        "id": "4ZNDxvPpefDB"
      },
      "execution_count": 77,
      "outputs": []
    },
    {
      "cell_type": "code",
      "source": [
        "soma_varios(1, 2, 3)"
      ],
      "metadata": {
        "colab": {
          "base_uri": "https://localhost:8080/"
        },
        "id": "CGs9QMrTeozp",
        "outputId": "1e2f9746-f709-414a-9785-06de3b7d8f5b"
      },
      "execution_count": 78,
      "outputs": [
        {
          "output_type": "execute_result",
          "data": {
            "text/plain": [
              "6"
            ]
          },
          "metadata": {},
          "execution_count": 78
        }
      ]
    },
    {
      "cell_type": "code",
      "source": [
        "# Com 5 argumentos\n",
        "\n",
        "def soma_varios(a,b,c,d,e):\n",
        " soma = sum((a,b,c,d,e))\n",
        " return soma"
      ],
      "metadata": {
        "id": "aOAYkiTee6Rw"
      },
      "execution_count": 79,
      "outputs": []
    },
    {
      "cell_type": "code",
      "source": [
        "soma_varios(1,2,3,4,5)"
      ],
      "metadata": {
        "colab": {
          "base_uri": "https://localhost:8080/"
        },
        "id": "9q7KT7aMfAqp",
        "outputId": "3f90e4c9-ea47-4bb0-e3fb-ec26994886c0"
      },
      "execution_count": 80,
      "outputs": [
        {
          "output_type": "execute_result",
          "data": {
            "text/plain": [
              "15"
            ]
          },
          "metadata": {},
          "execution_count": 80
        }
      ]
    },
    {
      "cell_type": "code",
      "source": [
        "# E num caso de ter N argumentos (número indefinido), como seria?\n",
        "# Graças ao argumento *args, podemos dar a opção da função receber inúmeros argumentos\n",
        "\n",
        "def soma_varios(*args):\n",
        " soma = sum(args)\n",
        " return soma"
      ],
      "metadata": {
        "id": "0qXr5gWYfBSq"
      },
      "execution_count": 81,
      "outputs": []
    },
    {
      "cell_type": "code",
      "source": [
        "soma_varios(1)"
      ],
      "metadata": {
        "colab": {
          "base_uri": "https://localhost:8080/"
        },
        "id": "uZXomEyUfFSp",
        "outputId": "1084522c-1014-4255-ceb0-a1e2a3c0fa86"
      },
      "execution_count": 82,
      "outputs": [
        {
          "output_type": "execute_result",
          "data": {
            "text/plain": [
              "1"
            ]
          },
          "metadata": {},
          "execution_count": 82
        }
      ]
    },
    {
      "cell_type": "code",
      "source": [
        "soma_varios(1,2,3)"
      ],
      "metadata": {
        "colab": {
          "base_uri": "https://localhost:8080/"
        },
        "id": "wC08DXpdfJpP",
        "outputId": "b101e0dc-f656-4b8a-a0e1-70265f2d4cdc"
      },
      "execution_count": 83,
      "outputs": [
        {
          "output_type": "execute_result",
          "data": {
            "text/plain": [
              "6"
            ]
          },
          "metadata": {},
          "execution_count": 83
        }
      ]
    },
    {
      "cell_type": "code",
      "source": [
        "soma_varios(1,2,3,4,5,6,7,8,9)"
      ],
      "metadata": {
        "colab": {
          "base_uri": "https://localhost:8080/"
        },
        "id": "QBlVlbuNfM5X",
        "outputId": "b4241027-1292-4573-f4d8-0ba442c2cce0"
      },
      "execution_count": 84,
      "outputs": [
        {
          "output_type": "execute_result",
          "data": {
            "text/plain": [
              "45"
            ]
          },
          "metadata": {},
          "execution_count": 84
        }
      ]
    },
    {
      "cell_type": "markdown",
      "source": [
        "## 18.Kwargs"
      ],
      "metadata": {
        "id": "_jRtXgn8fS5x"
      }
    },
    {
      "cell_type": "markdown",
      "source": [
        "De forma análoga ao *args, o **kwargs torna a função capaz de receber argumentos que tem um nome"
      ],
      "metadata": {
        "id": "sKZeneeefVt_"
      }
    },
    {
      "cell_type": "code",
      "source": [
        "# No caso abaixo, o nome do argumento é 'acao'\n",
        "def compra_de_acoes(**kwargs):\n",
        "  if 'acao' in kwargs:\n",
        "    print('A ação comprada foi ', kwargs['acao'])\n",
        "  else:\n",
        "    print('O cliente não investe em ações')"
      ],
      "metadata": {
        "id": "gedZMhrLfX0Y"
      },
      "execution_count": 86,
      "outputs": []
    },
    {
      "cell_type": "code",
      "source": [
        "compra_de_acoes(acao = 'PETR4')"
      ],
      "metadata": {
        "colab": {
          "base_uri": "https://localhost:8080/"
        },
        "id": "xfZOd9KJfYhY",
        "outputId": "7ad50cc3-ee61-4361-f7f9-8de396f1c5c6"
      },
      "execution_count": 87,
      "outputs": [
        {
          "output_type": "stream",
          "name": "stdout",
          "text": [
            "A ação comprada foi  PETR4\n"
          ]
        }
      ]
    },
    {
      "cell_type": "code",
      "source": [
        "compra_de_acoes()"
      ],
      "metadata": {
        "colab": {
          "base_uri": "https://localhost:8080/"
        },
        "id": "BQifp895fY3I",
        "outputId": "9eb329c3-1cd1-4fef-aa91-36923a5df878"
      },
      "execution_count": 88,
      "outputs": [
        {
          "output_type": "stream",
          "name": "stdout",
          "text": [
            "O cliente não investe em ações\n"
          ]
        }
      ]
    },
    {
      "cell_type": "code",
      "source": [
        "# No caso abaixo, temos dois argumentos do tipo kwargs que pedem um nome: 'acao' e 'lote'\n",
        "\n",
        "def montagem_posicao(*args,**kwargs):\n",
        "  if 'acao' and 'lote' in kwargs:\n",
        "    print('O cliente montou uma posição de ', ' e '.join(kwargs['acao']))\n",
        "    print('Ele comprou ', ' e '.join(args), 'papéis, respectivamente')\n",
        "    print('Todas elas foram compradas no lote', kwargs['lote'])\n"
      ],
      "metadata": {
        "id": "-krLMxovfoMf"
      },
      "execution_count": 89,
      "outputs": []
    },
    {
      "cell_type": "code",
      "source": [
        "montagem_posicao('100', '200', acao = ('PETR4', 'VALE3'), lote = 'inteiro')"
      ],
      "metadata": {
        "colab": {
          "base_uri": "https://localhost:8080/"
        },
        "id": "0CtUPhANfyCH",
        "outputId": "5273d028-c720-45fb-e08a-f642b1591b7a"
      },
      "execution_count": 90,
      "outputs": [
        {
          "output_type": "stream",
          "name": "stdout",
          "text": [
            "O cliente montou uma posição de  PETR4 e VALE3\n",
            "Ele comprou  100 e 200 papéis, respectivamente\n",
            "Todas elas foram compradas no lote inteiro\n"
          ]
        }
      ]
    }
  ]
}