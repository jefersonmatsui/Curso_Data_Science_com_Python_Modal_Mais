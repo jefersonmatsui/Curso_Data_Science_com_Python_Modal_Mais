{
  "nbformat": 4,
  "nbformat_minor": 0,
  "metadata": {
    "colab": {
      "name": "M1A3_Declaracao_condicionais_e_loops.ipynb",
      "provenance": [],
      "authorship_tag": "ABX9TyOzgHe3liWDRbh+l/Y6q1W4",
      "include_colab_link": true
    },
    "kernelspec": {
      "name": "python3",
      "display_name": "Python 3"
    },
    "language_info": {
      "name": "python"
    }
  },
  "cells": [
    {
      "cell_type": "markdown",
      "metadata": {
        "id": "view-in-github",
        "colab_type": "text"
      },
      "source": [
        "<a href=\"https://colab.research.google.com/github/jefersonmatsui/Data_Science_com_Python_Modal_Mais/blob/main/M1A3_Declaracao_condicionais_e_loops.ipynb\" target=\"_parent\"><img src=\"https://colab.research.google.com/assets/colab-badge.svg\" alt=\"Open In Colab\"/></a>"
      ]
    },
    {
      "cell_type": "markdown",
      "source": [
        "## 9. Declarações condicionais"
      ],
      "metadata": {
        "id": "eIKQ6318mKE5"
      }
    },
    {
      "cell_type": "markdown",
      "source": [
        "Em linguagens de programação, frequentemente devemos criar estruturas e comandos para atuar de acordo com condições específicas, ou seja, apenas se alguma condição for satisfeita."
      ],
      "metadata": {
        "id": "fB7QmI3cnRCT"
      }
    },
    {
      "cell_type": "code",
      "source": [
        "# Exemplo: Determinar o preço atual de um ativo e o seu preeço alvo de compra\n",
        "\n",
        "precoazul = 35.28\n",
        "precoalvo = 30"
      ],
      "metadata": {
        "id": "lTuR9A0lmymo"
      },
      "execution_count": 6,
      "outputs": []
    },
    {
      "cell_type": "code",
      "source": [
        "# comando 'if' (\"se\", em português), estabelecendo uma declaração condicional. Importante destacar a indentação das declarações\n",
        "# elif é uma contração do else if\n",
        "\n",
        "if precoazul < 30:\n",
        "  print('Compre, preço muito descontado!')\n",
        "elif precoazul < 33:\n",
        "  print('Ainda em tendência de queda, espere um pouco mais!')\n",
        "elif precoazul <= 36:\n",
        "  print('Iniciou tendência de queda, espere cair até 30')\n",
        "else:\n",
        "  print('Espere!')"
      ],
      "metadata": {
        "colab": {
          "base_uri": "https://localhost:8080/"
        },
        "id": "w8-A3s8snL-F",
        "outputId": "ae824d57-78c4-4328-c97a-3a55fc60bf9e"
      },
      "execution_count": 8,
      "outputs": [
        {
          "output_type": "stream",
          "name": "stdout",
          "text": [
            "Iniciou tendência de queda, espere cair até 30\n"
          ]
        }
      ]
    },
    {
      "cell_type": "code",
      "source": [
        "precoweg = 19"
      ],
      "metadata": {
        "id": "1hLtyURPn3fX"
      },
      "execution_count": 9,
      "outputs": []
    },
    {
      "cell_type": "code",
      "source": [
        "precoalvo = 33"
      ],
      "metadata": {
        "id": "Fgia2vG8ql6N"
      },
      "execution_count": 10,
      "outputs": []
    },
    {
      "cell_type": "code",
      "source": [
        "# Ressaltando a estrutura da declaração condicional 'if' seguindo da condição ':' no fim\n",
        "# Na linha seguinte, indentação e comando caso a condição seja verdadeira\n",
        "\n",
        "if precoweg > precoalvo:\n",
        "  print('Espere')\n",
        "else:\n",
        "  print('Compre!')"
      ],
      "metadata": {
        "colab": {
          "base_uri": "https://localhost:8080/"
        },
        "id": "kpLfyBwcqodN",
        "outputId": "ac1893a6-a964-4474-b898-a3e33620318e"
      },
      "execution_count": 13,
      "outputs": [
        {
          "output_type": "stream",
          "name": "stdout",
          "text": [
            "Compre!\n"
          ]
        }
      ]
    },
    {
      "cell_type": "code",
      "source": [
        "# Importante observar que as condições vão sendo checadas pela ordem em que foram declaradas.\n",
        "# Assim que uma delas é satisfeita, as demais não são executadas mais\n",
        "\n",
        "if precoweg < 25:\n",
        "  print('Compre, preço muito descontado!')\n",
        "elif precoweg < 30:\n",
        "  print('Ainda em tendência de queda, espere um pouco mais!')\n",
        "elif precoweg <= 32:\n",
        "  print('Iniciou tedência de queda, espere cair até 25')\n",
        "else:\n",
        "  print('Espere!')"
      ],
      "metadata": {
        "colab": {
          "base_uri": "https://localhost:8080/"
        },
        "id": "G1pobBg6qzib",
        "outputId": "381ca3dd-168a-47d3-db14-2c8a1ddb3f55"
      },
      "execution_count": 15,
      "outputs": [
        {
          "output_type": "stream",
          "name": "stdout",
          "text": [
            "Compre, preço muito descontado!\n"
          ]
        }
      ]
    },
    {
      "cell_type": "code",
      "source": [
        "#Trocando a ordem das declarações. Note que assim que atendeu a primeira, as demais são ignoradas\n",
        "\n",
        "if precoweg < 30:\n",
        "  print('Ainda em tendência de queda, espere um pouco mais!') \n",
        "elif precoweg < 25:\n",
        "  print('Compre, preço muito descontado!')\n",
        "elif precoweg <= 32:\n",
        "  print('Iniciou tedência de queda, espere cair até 25')\n",
        "else:\n",
        "  print('Espere!')"
      ],
      "metadata": {
        "colab": {
          "base_uri": "https://localhost:8080/"
        },
        "id": "9I6ul1x0sW5T",
        "outputId": "34c83b9b-2eb0-4769-d815-b8deed0731ae"
      },
      "execution_count": 16,
      "outputs": [
        {
          "output_type": "stream",
          "name": "stdout",
          "text": [
            "Ainda em tendência de queda, espere um pouco mais!\n"
          ]
        }
      ]
    },
    {
      "cell_type": "markdown",
      "source": [
        "## 10. Estruturas de repetição"
      ],
      "metadata": {
        "id": "o_NGge_-s2Jz"
      }
    },
    {
      "cell_type": "markdown",
      "source": [
        "Além das estruturas (ou declarações) condicionais, as estruturas de repetição são muito importantes na sintaxe de qualquer linguaguem de programação. Imagine que você queira automatizar uma tarefa, informando que ela deve ocoorer por determinada vezes ou até que ooutra condição seja estabelecida"
      ],
      "metadata": {
        "id": "1gWdnGqbs5HX"
      }
    },
    {
      "cell_type": "markdown",
      "source": [
        "### 10.1. For"
      ],
      "metadata": {
        "id": "Z1V83Uy6tQFW"
      }
    },
    {
      "cell_type": "code",
      "source": [
        "lista = ['João', 'José', 'André', 'Marcos']"
      ],
      "metadata": {
        "id": "Ufu0XusstTYA"
      },
      "execution_count": 22,
      "outputs": []
    },
    {
      "cell_type": "code",
      "source": [
        "# Para cada item dentro da lista , imprima o item. Essa automação também é conhecida como loop\n",
        "\n",
        "for nome in lista:\n",
        "  print(nome)"
      ],
      "metadata": {
        "colab": {
          "base_uri": "https://localhost:8080/"
        },
        "id": "ZMCblBIStf3m",
        "outputId": "75ea6461-93cd-4440-d7bc-6ea232d20374"
      },
      "execution_count": 23,
      "outputs": [
        {
          "output_type": "stream",
          "name": "stdout",
          "text": [
            "João\n",
            "José\n",
            "André\n",
            "Marcos\n"
          ]
        }
      ]
    },
    {
      "cell_type": "code",
      "source": [
        "# embora tenha usado a palavra 'nome', o Python compreende que estou determinando elementos/item=ns de uma lista. Assim, poderia utilizar qualquer 'nome' para descrever esses itens\n",
        "\n",
        "for proprietarioautomovel in lista:\n",
        "  print(proprietarioautomovel)"
      ],
      "metadata": {
        "colab": {
          "base_uri": "https://localhost:8080/"
        },
        "id": "kNSpN8Dbthn3",
        "outputId": "55406c6f-83aa-468e-accf-c4c65877fde3"
      },
      "execution_count": 24,
      "outputs": [
        {
          "output_type": "stream",
          "name": "stdout",
          "text": [
            "João\n",
            "José\n",
            "André\n",
            "Marcos\n"
          ]
        }
      ]
    },
    {
      "cell_type": "code",
      "source": [
        "listaativos = ['PETR4.SA', 'WEGE3.SA', 'MGLU3.SA', 'LREN3.SA', 'RENT3.SA', 'VALE3.SA']"
      ],
      "metadata": {
        "id": "m9jzze1LukCe"
      },
      "execution_count": 25,
      "outputs": []
    },
    {
      "cell_type": "code",
      "source": [
        "listaativos"
      ],
      "metadata": {
        "colab": {
          "base_uri": "https://localhost:8080/"
        },
        "id": "FT8XdVy-6zpp",
        "outputId": "5a6203a3-9691-4155-8696-b8498e2744a8"
      },
      "execution_count": 26,
      "outputs": [
        {
          "output_type": "execute_result",
          "data": {
            "text/plain": [
              "['PETR4.SA', 'WEGE3.SA', 'MGLU3.SA', 'LREN3.SA', 'RENT3.SA', 'VALE3.SA']"
            ]
          },
          "metadata": {},
          "execution_count": 26
        }
      ]
    },
    {
      "cell_type": "code",
      "source": [
        "for acoes in listaativos:\n",
        "  print(acoes, 'é um ativo da B3')"
      ],
      "metadata": {
        "colab": {
          "base_uri": "https://localhost:8080/"
        },
        "id": "OLji0DOr7e5L",
        "outputId": "8b2ba316-f35c-40e5-a5ed-96475004699a"
      },
      "execution_count": 27,
      "outputs": [
        {
          "output_type": "stream",
          "name": "stdout",
          "text": [
            "PETR4.SA é um ativo da B3\n",
            "WEGE3.SA é um ativo da B3\n",
            "MGLU3.SA é um ativo da B3\n",
            "LREN3.SA é um ativo da B3\n",
            "RENT3.SA é um ativo da B3\n",
            "VALE3.SA é um ativo da B3\n"
          ]
        }
      ]
    },
    {
      "cell_type": "code",
      "source": [
        "# Automação usando a função break para interromper o loop assim que uma condição for stisfeita (integrando 'for' e 'if')\n",
        "# atenção à identação correta\n",
        "\n",
        "for acoes in listaativos:\n",
        "  print(acoes, 'é um ativo da B3')\n",
        "  if acoes == 'LREN3.SA':\n",
        "    break"
      ],
      "metadata": {
        "colab": {
          "base_uri": "https://localhost:8080/"
        },
        "id": "KUptkvxf69aO",
        "outputId": "36b20613-17c0-4653-89dd-932648c48f91"
      },
      "execution_count": 31,
      "outputs": [
        {
          "output_type": "stream",
          "name": "stdout",
          "text": [
            "PETR4.SA é um ativo da B3\n",
            "WEGE3.SA é um ativo da B3\n",
            "MGLU3.SA é um ativo da B3\n",
            "LREN3.SA é um ativo da B3\n"
          ]
        }
      ]
    },
    {
      "cell_type": "code",
      "source": [
        "for acoes in listaativos:\n",
        "  print(acoes, 'é um ativo da B3')\n",
        "  if acoes == 'WEGE3.SA':\n",
        "    break"
      ],
      "metadata": {
        "colab": {
          "base_uri": "https://localhost:8080/"
        },
        "id": "6ZFpH9zf9M-g",
        "outputId": "0d63c91e-f7d0-4b3a-e249-84ea9d51d41d"
      },
      "execution_count": 30,
      "outputs": [
        {
          "output_type": "stream",
          "name": "stdout",
          "text": [
            "PETR4.SA é um ativo da B3\n",
            "WEGE3.SA é um ativo da B3\n"
          ]
        }
      ]
    },
    {
      "cell_type": "code",
      "source": [
        "precos = {'PETR4': 30, 'VALE3': 102, 'WEGE3': 34}"
      ],
      "metadata": {
        "id": "baSGGatB9boZ"
      },
      "execution_count": 32,
      "outputs": []
    },
    {
      "cell_type": "markdown",
      "source": [
        ""
      ],
      "metadata": {
        "id": "KrnKxCMrBfd2"
      }
    },
    {
      "cell_type": "code",
      "source": [
        "len(precos)"
      ],
      "metadata": {
        "colab": {
          "base_uri": "https://localhost:8080/"
        },
        "id": "wkJh82tz9dOg",
        "outputId": "67355474-84c3-49cf-f2f4-89d9e1732804"
      },
      "execution_count": 34,
      "outputs": [
        {
          "output_type": "execute_result",
          "data": {
            "text/plain": [
              "3"
            ]
          },
          "metadata": {},
          "execution_count": 34
        }
      ]
    },
    {
      "cell_type": "code",
      "source": [
        "for i in precos:\n",
        "  print(list(precos.keys()), ' está com o preço de', list(precos.values()), ' neste momento')"
      ],
      "metadata": {
        "colab": {
          "base_uri": "https://localhost:8080/"
        },
        "id": "86oze1EM-Ki2",
        "outputId": "b5098d11-22e3-4ed6-e017-1ac830f6b28b"
      },
      "execution_count": 43,
      "outputs": [
        {
          "output_type": "stream",
          "name": "stdout",
          "text": [
            "['PETR4', 'VALE3', 'WEGE3']  está com o preço de [30, 102, 34]  neste momento\n",
            "['PETR4', 'VALE3', 'WEGE3']  está com o preço de [30, 102, 34]  neste momento\n",
            "['PETR4', 'VALE3', 'WEGE3']  está com o preço de [30, 102, 34]  neste momento\n"
          ]
        }
      ]
    },
    {
      "cell_type": "code",
      "source": [
        "for i in range(0, len(precos)):\n",
        "  print(list(precos.keys())[i], 'está com o preço de', list(precos.values())[i], 'neste momento')"
      ],
      "metadata": {
        "colab": {
          "base_uri": "https://localhost:8080/"
        },
        "id": "RMBm4eU0-Kal",
        "outputId": "5070c67e-6e1e-470d-d494-19c809a1c334"
      },
      "execution_count": 47,
      "outputs": [
        {
          "output_type": "stream",
          "name": "stdout",
          "text": [
            "PETR4 está com o preço de 30 neste momento\n",
            "VALE3 está com o preço de 102 neste momento\n",
            "WEGE3 está com o preço de 34 neste momento\n"
          ]
        }
      ]
    },
    {
      "cell_type": "markdown",
      "source": [
        "## 10.2. While"
      ],
      "metadata": {
        "id": "0aQYTVht-KPm"
      }
    },
    {
      "cell_type": "markdown",
      "source": [
        "A estrutura do 'while' (enquanto, em português) se refere a outtra repetição (loop) que ocorrerá enquanto a condição for verdadeira. Poderia ser pensada de uma maneira análoga ao uso de 'for' e 'if' integrados."
      ],
      "metadata": {
        "id": "8r-eOpQ6-JiW"
      }
    },
    {
      "cell_type": "code",
      "source": [
        "precoweg = 30"
      ],
      "metadata": {
        "id": "_fxNeDMo-Ii_"
      },
      "execution_count": 64,
      "outputs": []
    },
    {
      "cell_type": "code",
      "source": [
        "while precoweg < 39:\n",
        "  print('Ainda não atingiu o preço alvo, espere. O preço atual é: ', round(precoweg,2))\n",
        "  precoweg = precoweg*1.01\n",
        "else:\n",
        "  print('Preço alvo atingido! Hora de vender! Preço da venda: ', round(precoweg,2))"
      ],
      "metadata": {
        "colab": {
          "base_uri": "https://localhost:8080/"
        },
        "id": "D2qfF_iIDbwV",
        "outputId": "a758bbd1-16fb-4dc0-a092-0c508ad47ddf"
      },
      "execution_count": 65,
      "outputs": [
        {
          "output_type": "stream",
          "name": "stdout",
          "text": [
            "Ainda não atingiu o preço alvo, espere. O preço atual é:  30\n",
            "Ainda não atingiu o preço alvo, espere. O preço atual é:  30.3\n",
            "Ainda não atingiu o preço alvo, espere. O preço atual é:  30.6\n",
            "Ainda não atingiu o preço alvo, espere. O preço atual é:  30.91\n",
            "Ainda não atingiu o preço alvo, espere. O preço atual é:  31.22\n",
            "Ainda não atingiu o preço alvo, espere. O preço atual é:  31.53\n",
            "Ainda não atingiu o preço alvo, espere. O preço atual é:  31.85\n",
            "Ainda não atingiu o preço alvo, espere. O preço atual é:  32.16\n",
            "Ainda não atingiu o preço alvo, espere. O preço atual é:  32.49\n",
            "Ainda não atingiu o preço alvo, espere. O preço atual é:  32.81\n",
            "Ainda não atingiu o preço alvo, espere. O preço atual é:  33.14\n",
            "Ainda não atingiu o preço alvo, espere. O preço atual é:  33.47\n",
            "Ainda não atingiu o preço alvo, espere. O preço atual é:  33.8\n",
            "Ainda não atingiu o preço alvo, espere. O preço atual é:  34.14\n",
            "Ainda não atingiu o preço alvo, espere. O preço atual é:  34.48\n",
            "Ainda não atingiu o preço alvo, espere. O preço atual é:  34.83\n",
            "Ainda não atingiu o preço alvo, espere. O preço atual é:  35.18\n",
            "Ainda não atingiu o preço alvo, espere. O preço atual é:  35.53\n",
            "Ainda não atingiu o preço alvo, espere. O preço atual é:  35.88\n",
            "Ainda não atingiu o preço alvo, espere. O preço atual é:  36.24\n",
            "Ainda não atingiu o preço alvo, espere. O preço atual é:  36.61\n",
            "Ainda não atingiu o preço alvo, espere. O preço atual é:  36.97\n",
            "Ainda não atingiu o preço alvo, espere. O preço atual é:  37.34\n",
            "Ainda não atingiu o preço alvo, espere. O preço atual é:  37.71\n",
            "Ainda não atingiu o preço alvo, espere. O preço atual é:  38.09\n",
            "Ainda não atingiu o preço alvo, espere. O preço atual é:  38.47\n",
            "Ainda não atingiu o preço alvo, espere. O preço atual é:  38.86\n",
            "Preço alvo atingido! Hora de vender! Preço da venda:  39.25\n"
          ]
        }
      ]
    },
    {
      "cell_type": "code",
      "source": [
        "# Outro exemplo de uso do 'while', Imagine que tem disponível 10000 reais para investir. A cada operação, será computado o valor alocado nesta operação (chameremos de 'investimentounitario) e o total já investido (chamaremos de 'investimentototal')\n",
        "# A função 'input' interage com o usuário, recebendo um objeto (numérico, string, ...) e armazenado em uma variável\n",
        "\n",
        "investimentounitario = 0\n",
        "investimentototal = 0"
      ],
      "metadata": {
        "id": "RAyxYa3HGkbb"
      },
      "execution_count": 77,
      "outputs": []
    },
    {
      "cell_type": "code",
      "source": [
        "while investimentototal < 10000:\n",
        "  investimentounitario = int(input('Digite o valor investido na operação: R$'))\n",
        "  investimentototal = investimentototal + investimentounitario\n",
        "else:\n",
        "  print('Limite total previsto para investir foi atingido!')\n",
        "  print('Você excedeu R$', investimentototal-10000), ' do valor previsto'\n",
        "print('Você investiu o total de R$', investimentototal)"
      ],
      "metadata": {
        "colab": {
          "base_uri": "https://localhost:8080/"
        },
        "id": "IBMA6XlVI0R_",
        "outputId": "de4493c8-3041-415b-8c1e-a1ec97f09df9"
      },
      "execution_count": 78,
      "outputs": [
        {
          "output_type": "stream",
          "name": "stdout",
          "text": [
            "Digite o valor investido na operação: R$10000\n",
            "Limite total previsto para investir foi atingido!\n",
            "Você excedeu R$ 0\n",
            "Você investiu o total de R$ 10000\n"
          ]
        }
      ]
    },
    {
      "cell_type": "markdown",
      "source": [
        "# 11. Alguns Operadores"
      ],
      "metadata": {
        "id": "nSJWgAEVO5yt"
      }
    },
    {
      "cell_type": "markdown",
      "source": [
        "Alguns operadores são muito utéis para execução de estuturas condicionais e de repetição. Dentre eles:"
      ],
      "metadata": {
        "id": "9eDLLOnYPAYI"
      }
    },
    {
      "cell_type": "markdown",
      "source": [
        "## 11.1. Range"
      ],
      "metadata": {
        "id": "F_2wtkZIPLAe"
      }
    },
    {
      "cell_type": "code",
      "source": [
        "# Intevalo entre 0 (inclusivo) e 11 (exclusivo)\n",
        "# output não lista todos os números. reduzindo gastos com memória\n",
        "\n",
        "range(0, 11)"
      ],
      "metadata": {
        "colab": {
          "base_uri": "https://localhost:8080/"
        },
        "id": "_fACh8RRPOpl",
        "outputId": "b7f973f6-e252-4de6-810e-229ebeed8746"
      },
      "execution_count": 79,
      "outputs": [
        {
          "output_type": "execute_result",
          "data": {
            "text/plain": [
              "range(0, 11)"
            ]
          },
          "metadata": {},
          "execution_count": 79
        }
      ]
    },
    {
      "cell_type": "code",
      "source": [
        "# Neste caso, listará todos os elementos\n",
        "\n",
        "list(range(0, 11))"
      ],
      "metadata": {
        "colab": {
          "base_uri": "https://localhost:8080/"
        },
        "id": "Mm9ElCuJPbZW",
        "outputId": "85e1e795-98ad-4ca5-abe1-bb76133d6eae"
      },
      "execution_count": 80,
      "outputs": [
        {
          "output_type": "execute_result",
          "data": {
            "text/plain": [
              "[0, 1, 2, 3, 4, 5, 6, 7, 8, 9, 10]"
            ]
          },
          "metadata": {},
          "execution_count": 80
        }
      ]
    },
    {
      "cell_type": "code",
      "source": [
        "# Compreende todo o intervalo sequencial\n",
        "\n",
        "for i in range(0, 11):\n",
        "  print(i)"
      ],
      "metadata": {
        "colab": {
          "base_uri": "https://localhost:8080/"
        },
        "id": "O16Q4aioRc9S",
        "outputId": "249de689-73b1-418d-9b0f-5ba2e0bcd390"
      },
      "execution_count": 83,
      "outputs": [
        {
          "output_type": "stream",
          "name": "stdout",
          "text": [
            "0\n",
            "1\n",
            "2\n",
            "3\n",
            "4\n",
            "5\n",
            "6\n",
            "7\n",
            "8\n",
            "9\n",
            "10\n"
          ]
        }
      ]
    },
    {
      "cell_type": "code",
      "source": [
        "# Também pode ser usado especificamente um intevalo entre os números dentro do intervalo estabelecido, similar ao slicing\n",
        "\n",
        "for i in range(0, 11, 2):\n",
        "  print(i)"
      ],
      "metadata": {
        "colab": {
          "base_uri": "https://localhost:8080/"
        },
        "id": "VQeSZZ8uRn6B",
        "outputId": "3cd0e19a-3c5d-4cd2-ba4e-64a4babb7357"
      },
      "execution_count": 85,
      "outputs": [
        {
          "output_type": "stream",
          "name": "stdout",
          "text": [
            "0\n",
            "2\n",
            "4\n",
            "6\n",
            "8\n",
            "10\n"
          ]
        }
      ]
    },
    {
      "cell_type": "markdown",
      "source": [
        "## 11.2. Enumerate"
      ],
      "metadata": {
        "id": "D5OgrJx-SClT"
      }
    },
    {
      "cell_type": "markdown",
      "source": [
        "Função que transforma uma coleção de dados (lista, tupla, string) em um objeto enumerado de cada item da coleção"
      ],
      "metadata": {
        "id": "SnbpAL_GXc1m"
      }
    },
    {
      "cell_type": "code",
      "source": [
        "listaativos = ['PETR4.SA', 'WEGE3.SA', 'MGLU3.SA', 'LREN3.SA', 'RENT3.SA', 'VALE3.SA']"
      ],
      "metadata": {
        "id": "ACj0LhSVSGl_"
      },
      "execution_count": 87,
      "outputs": []
    },
    {
      "cell_type": "code",
      "source": [
        "enumerate(listaativos)"
      ],
      "metadata": {
        "colab": {
          "base_uri": "https://localhost:8080/"
        },
        "id": "_2gGvWQOSUsi",
        "outputId": "07340b07-8243-45a2-d269-62b5f32375d0"
      },
      "execution_count": 88,
      "outputs": [
        {
          "output_type": "execute_result",
          "data": {
            "text/plain": [
              "<enumerate at 0x7fef7b1bf320>"
            ]
          },
          "metadata": {},
          "execution_count": 88
        }
      ]
    },
    {
      "cell_type": "code",
      "source": [
        "# Nesse caso, irá enumerar todos os elementos\n",
        "\n",
        "list(enumerate(listaativos))"
      ],
      "metadata": {
        "colab": {
          "base_uri": "https://localhost:8080/"
        },
        "id": "Lt8wJzO7SZaY",
        "outputId": "a82d6d68-edcb-425e-eff3-3f81e64ff3e8"
      },
      "execution_count": 89,
      "outputs": [
        {
          "output_type": "execute_result",
          "data": {
            "text/plain": [
              "[(0, 'PETR4.SA'),\n",
              " (1, 'WEGE3.SA'),\n",
              " (2, 'MGLU3.SA'),\n",
              " (3, 'LREN3.SA'),\n",
              " (4, 'RENT3.SA'),\n",
              " (5, 'VALE3.SA')]"
            ]
          },
          "metadata": {},
          "execution_count": 89
        }
      ]
    },
    {
      "cell_type": "code",
      "source": [
        "# POdemos começar a enumeração a partir de outro número que não o 0 (zero)\n",
        "\n",
        "list(enumerate(listaativos, 3))"
      ],
      "metadata": {
        "colab": {
          "base_uri": "https://localhost:8080/"
        },
        "id": "SfEWcLdUScgX",
        "outputId": "5c03a013-1b60-4625-d691-09b6172a7b60"
      },
      "execution_count": 90,
      "outputs": [
        {
          "output_type": "execute_result",
          "data": {
            "text/plain": [
              "[(3, 'PETR4.SA'),\n",
              " (4, 'WEGE3.SA'),\n",
              " (5, 'MGLU3.SA'),\n",
              " (6, 'LREN3.SA'),\n",
              " (7, 'RENT3.SA'),\n",
              " (8, 'VALE3.SA')]"
            ]
          },
          "metadata": {},
          "execution_count": 90
        }
      ]
    },
    {
      "cell_type": "code",
      "source": [
        "acao = 'PETR4'"
      ],
      "metadata": {
        "id": "6urWz6w_TRBH"
      },
      "execution_count": 91,
      "outputs": []
    },
    {
      "cell_type": "code",
      "source": [
        "list(enumerate(acao))"
      ],
      "metadata": {
        "colab": {
          "base_uri": "https://localhost:8080/"
        },
        "id": "AqYNAsZLTZud",
        "outputId": "444e1207-b5bd-478d-d392-e5b5b5650009"
      },
      "execution_count": 92,
      "outputs": [
        {
          "output_type": "execute_result",
          "data": {
            "text/plain": [
              "[(0, 'P'), (1, 'E'), (2, 'T'), (3, 'R'), (4, '4')]"
            ]
          },
          "metadata": {},
          "execution_count": 92
        }
      ]
    },
    {
      "cell_type": "code",
      "source": [
        "for i, j in enumerate(acao):\n",
        "  print('No índice', i, 'o caractere é', j)"
      ],
      "metadata": {
        "colab": {
          "base_uri": "https://localhost:8080/"
        },
        "id": "4YghV0PgTlX3",
        "outputId": "74f0d601-9492-4616-ed97-e842f7306309"
      },
      "execution_count": 95,
      "outputs": [
        {
          "output_type": "stream",
          "name": "stdout",
          "text": [
            "No índice 0 o caractere é P\n",
            "No índice 1 o caractere é E\n",
            "No índice 2 o caractere é T\n",
            "No índice 3 o caractere é R\n",
            "No índice 4 o caractere é 4\n"
          ]
        }
      ]
    },
    {
      "cell_type": "code",
      "source": [
        "# Note que neste caso, o enumerate fez a mesma função da estrutura 'for' a seguir\n",
        "\n",
        "count = 0\n",
        "\n",
        "for i in acao:\n",
        "  print('No índice', count, 'o caractere é', i)\n",
        "  count += 1"
      ],
      "metadata": {
        "colab": {
          "base_uri": "https://localhost:8080/"
        },
        "id": "gVR7TvWKUpkE",
        "outputId": "4aa7c978-2df5-4df0-f6e2-84d4dc2b0c80"
      },
      "execution_count": 98,
      "outputs": [
        {
          "output_type": "stream",
          "name": "stdout",
          "text": [
            "No índice 0 o caractere é P\n",
            "No índice 1 o caractere é E\n",
            "No índice 2 o caractere é T\n",
            "No índice 3 o caractere é R\n",
            "No índice 4 o caractere é 4\n"
          ]
        }
      ]
    },
    {
      "cell_type": "markdown",
      "source": [
        "## 11.3. Zip & in"
      ],
      "metadata": {
        "id": "87lczjDOVOGj"
      }
    },
    {
      "cell_type": "markdown",
      "source": [
        "A função 'ZIP' consegue executar interações entre listas. O operador 'in' (dentro/pertencente, em português) permite a leitura sequencial de objetos 'zip' (assim como de listas), fundamental nas estruturas 'for'"
      ],
      "metadata": {
        "id": "53YNk1OpXvfX"
      }
    },
    {
      "cell_type": "code",
      "source": [
        "acoes = ['PETR4', 'WEGE3', 'MGLU3', 'JHSF3', 'GOAU4']\n",
        "setores = ['Petróleo', 'Motores', 'Varejo', 'Construção', 'Metalurgia']"
      ],
      "metadata": {
        "id": "lzexfyupYI5e"
      },
      "execution_count": 99,
      "outputs": []
    },
    {
      "cell_type": "code",
      "source": [
        "# Criar uma relação entre as duas listas acima. Output reduzido assim como os anteriores range e enumerate\n",
        "\n",
        "zip(acoes, setores)"
      ],
      "metadata": {
        "colab": {
          "base_uri": "https://localhost:8080/"
        },
        "id": "C8qLxjf3YYH7",
        "outputId": "0ba7dd8e-3c20-4c8d-dc53-d8624eb9dadc"
      },
      "execution_count": 100,
      "outputs": [
        {
          "output_type": "execute_result",
          "data": {
            "text/plain": [
              "<zip at 0x7fef7995ec80>"
            ]
          },
          "metadata": {},
          "execution_count": 100
        }
      ]
    },
    {
      "cell_type": "code",
      "source": [
        "# Note que é uma lista de tuplas\n",
        "\n",
        "list(zip(acoes, setores))"
      ],
      "metadata": {
        "colab": {
          "base_uri": "https://localhost:8080/"
        },
        "id": "eBOeKikSYiwV",
        "outputId": "2f1cd961-b4cd-4e02-c173-8d240e6b4e07"
      },
      "execution_count": 101,
      "outputs": [
        {
          "output_type": "execute_result",
          "data": {
            "text/plain": [
              "[('PETR4', 'Petróleo'),\n",
              " ('WEGE3', 'Motores'),\n",
              " ('MGLU3', 'Varejo'),\n",
              " ('JHSF3', 'Construção'),\n",
              " ('GOAU4', 'Metalurgia')]"
            ]
          },
          "metadata": {},
          "execution_count": 101
        }
      ]
    },
    {
      "cell_type": "code",
      "source": [
        "# Leitura sequencial do zip usando o in\n",
        "\n",
        "for acao, setor in list(zip(acoes, setores)):\n",
        "  print('O papel', acao, 'pertence ao setor', setor)"
      ],
      "metadata": {
        "colab": {
          "base_uri": "https://localhost:8080/"
        },
        "id": "dtU1mT68Yqvg",
        "outputId": "42436766-5e8c-48d2-e15d-6722c5989917"
      },
      "execution_count": 104,
      "outputs": [
        {
          "output_type": "stream",
          "name": "stdout",
          "text": [
            "O papel PETR4 pertence ao setor Petróleo\n",
            "O papel WEGE3 pertence ao setor Motores\n",
            "O papel MGLU3 pertence ao setor Varejo\n",
            "O papel JHSF3 pertence ao setor Construção\n",
            "O papel GOAU4 pertence ao setor Metalurgia\n"
          ]
        }
      ]
    },
    {
      "cell_type": "code",
      "source": [
        "# Mostrando o operador f'', que será útil no exemplo seguinte\n",
        "# Esse operador admite que usemos variáveis dentro das aspas, desde que essas variáveis estejam por sua vez d\n",
        "# de chaves, como no exemplo abaixo\n",
        "\n",
        "papel = 'PETR3'\n",
        "setor = 'Petróleo'"
      ],
      "metadata": {
        "id": "i_7Ws7hpZGHX"
      },
      "execution_count": 106,
      "outputs": []
    },
    {
      "cell_type": "code",
      "source": [
        "f'A {papel} está no setor de {setor}'"
      ],
      "metadata": {
        "colab": {
          "base_uri": "https://localhost:8080/",
          "height": 36
        },
        "id": "fGPCEU_YZSBq",
        "outputId": "1f9c2459-aee2-45f2-f8a9-b43c2ad1edee"
      },
      "execution_count": 107,
      "outputs": [
        {
          "output_type": "execute_result",
          "data": {
            "text/plain": [
              "'A PETR3 está no setor de Petróleo'"
            ],
            "application/vnd.google.colaboratory.intrinsic+json": {
              "type": "string"
            }
          },
          "metadata": {},
          "execution_count": 107
        }
      ]
    },
    {
      "cell_type": "code",
      "source": [
        "# Uma outra forma de escrever o mesmo loop acima, desta dez usando o operador f''\n",
        "\n",
        "for acao, setor in list(zip(acoes, setores)):\n",
        "  print(f'O papel {acao} pertence ao setor {setor}') "
      ],
      "metadata": {
        "colab": {
          "base_uri": "https://localhost:8080/"
        },
        "id": "Bh7PiWyXZfo8",
        "outputId": "82c0d481-da74-4ad1-eaa2-12fa3e2d6a41"
      },
      "execution_count": 108,
      "outputs": [
        {
          "output_type": "stream",
          "name": "stdout",
          "text": [
            "O papel PETR4 pertence ao setor Petróleo\n",
            "O papel WEGE3 pertence ao setor Motores\n",
            "O papel MGLU3 pertence ao setor Varejo\n",
            "O papel JHSF3 pertence ao setor Construção\n",
            "O papel GOAU4 pertence ao setor Metalurgia\n"
          ]
        }
      ]
    },
    {
      "cell_type": "code",
      "source": [
        "# Além de leitura sequencial, o in pode ser usado como operador lógico\n",
        "\n",
        "'VIVA3' in acoes"
      ],
      "metadata": {
        "colab": {
          "base_uri": "https://localhost:8080/"
        },
        "id": "VdpNKUT9ZzrX",
        "outputId": "deaafe86-3324-4cd4-e852-3216b0a53cc4"
      },
      "execution_count": 111,
      "outputs": [
        {
          "output_type": "execute_result",
          "data": {
            "text/plain": [
              "False"
            ]
          },
          "metadata": {},
          "execution_count": 111
        }
      ]
    },
    {
      "cell_type": "code",
      "source": [
        "'WEGE3' in acoes"
      ],
      "metadata": {
        "colab": {
          "base_uri": "https://localhost:8080/"
        },
        "id": "rUmuyOJ0Z3gc",
        "outputId": "972dad7f-9f7e-4c79-fb5f-cf1485d45766"
      },
      "execution_count": 110,
      "outputs": [
        {
          "output_type": "execute_result",
          "data": {
            "text/plain": [
              "True"
            ]
          },
          "metadata": {},
          "execution_count": 110
        }
      ]
    }
  ]
}