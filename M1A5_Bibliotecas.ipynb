{
  "nbformat": 4,
  "nbformat_minor": 0,
  "metadata": {
    "colab": {
      "name": "M1A5_Bibliotecas.ipynb",
      "provenance": [],
      "authorship_tag": "ABX9TyOQsKSrI51G44i2dtXaHjIe",
      "include_colab_link": true
    },
    "kernelspec": {
      "name": "python3",
      "display_name": "Python 3"
    },
    "language_info": {
      "name": "python"
    }
  },
  "cells": [
    {
      "cell_type": "markdown",
      "metadata": {
        "id": "view-in-github",
        "colab_type": "text"
      },
      "source": [
        "<a href=\"https://colab.research.google.com/github/jefersonmatsui/Data_Science_com_Python_Modal_Mais/blob/main/M1A5_Bibliotecas.ipynb\" target=\"_parent\"><img src=\"https://colab.research.google.com/assets/colab-badge.svg\" alt=\"Open In Colab\"/></a>"
      ]
    },
    {
      "cell_type": "markdown",
      "source": [
        "## 19. Trabalhando com bibliotecas"
      ],
      "metadata": {
        "id": "UArtj0Tz9NWe"
      }
    },
    {
      "cell_type": "markdown",
      "source": [
        "1. O que são bibliotecas\n",
        "2. Importância de se utilizar bibliotecas"
      ],
      "metadata": {
        "id": "20jNhOKw_YPS"
      }
    },
    {
      "cell_type": "markdown",
      "source": [
        "### 19.1. Importando as bibliotecas"
      ],
      "metadata": {
        "id": "75LQq0TM_bjW"
      }
    },
    {
      "cell_type": "markdown",
      "source": [
        "Nessa seção, vamos estudar as duas bibliotecas mais importantes do Python: pandas e numpy"
      ],
      "metadata": {
        "id": "q124MQSx_nm2"
      }
    },
    {
      "cell_type": "code",
      "source": [
        "import numpy as np\n",
        "import pandas as pd"
      ],
      "metadata": {
        "id": "W6CYHu1g_qKI"
      },
      "execution_count": 1,
      "outputs": []
    },
    {
      "cell_type": "markdown",
      "source": [
        "### 19.2. Numpy"
      ],
      "metadata": {
        "id": "7qM0-Pgx_2Z_"
      }
    },
    {
      "cell_type": "markdown",
      "source": [
        "O principal tipo de objeto que criamos com a numpy é o 'array'\n",
        "\n",
        "Para criar arrays, temos diversas funções diferentes, cada um servido a um propósito específico\n",
        "\n",
        "Por exemplo, podemos criar arrays que contém apenas zeros"
      ],
      "metadata": {
        "id": "1zVNbbrd_6DF"
      }
    },
    {
      "cell_type": "code",
      "source": [
        "a = np.zeros(3)"
      ],
      "metadata": {
        "id": "enKrlK8W_95W"
      },
      "execution_count": 2,
      "outputs": []
    },
    {
      "cell_type": "code",
      "source": [
        "a"
      ],
      "metadata": {
        "colab": {
          "base_uri": "https://localhost:8080/"
        },
        "id": "a-gkX5e3BjrK",
        "outputId": "25ba6a7d-d48e-4562-977d-abfe0352af1a"
      },
      "execution_count": 3,
      "outputs": [
        {
          "output_type": "execute_result",
          "data": {
            "text/plain": [
              "array([0., 0., 0.])"
            ]
          },
          "metadata": {},
          "execution_count": 3
        }
      ]
    },
    {
      "cell_type": "code",
      "source": [
        "# O atributo .shape retorna as dimensões do array\n",
        "\n",
        "a.shape"
      ],
      "metadata": {
        "colab": {
          "base_uri": "https://localhost:8080/"
        },
        "id": "PCw3UvY9BkY6",
        "outputId": "1f097ce7-941a-4ce0-a658-cd5d6cfe4ca7"
      },
      "execution_count": 4,
      "outputs": [
        {
          "output_type": "execute_result",
          "data": {
            "text/plain": [
              "(3,)"
            ]
          },
          "metadata": {},
          "execution_count": 4
        }
      ]
    },
    {
      "cell_type": "code",
      "source": [
        "# As dimensões são manipuláveis. Logo, podemos especificar o número de linhas e colunas:\n",
        "\n",
        "a.shape = (3, 1)"
      ],
      "metadata": {
        "id": "vbBGSykiBnpK"
      },
      "execution_count": 5,
      "outputs": []
    },
    {
      "cell_type": "code",
      "source": [
        "a.shape"
      ],
      "metadata": {
        "colab": {
          "base_uri": "https://localhost:8080/"
        },
        "id": "lhOGcTY4Bsga",
        "outputId": "007294d4-c525-44ce-e141-1e6593673ce1"
      },
      "execution_count": 6,
      "outputs": [
        {
          "output_type": "execute_result",
          "data": {
            "text/plain": [
              "(3, 1)"
            ]
          },
          "metadata": {},
          "execution_count": 6
        }
      ]
    },
    {
      "cell_type": "code",
      "source": [
        "a"
      ],
      "metadata": {
        "colab": {
          "base_uri": "https://localhost:8080/"
        },
        "id": "eiQw4qilBvI6",
        "outputId": "8207987a-313f-4e2b-81c2-a032e79653e3"
      },
      "execution_count": 7,
      "outputs": [
        {
          "output_type": "execute_result",
          "data": {
            "text/plain": [
              "array([[0.],\n",
              "       [0.],\n",
              "       [0.]])"
            ]
          },
          "metadata": {},
          "execution_count": 7
        }
      ]
    },
    {
      "cell_type": "markdown",
      "source": [
        "Vamos criar um array contendo apenas '1'"
      ],
      "metadata": {
        "id": "RSQU5QtWBw01"
      }
    },
    {
      "cell_type": "code",
      "source": [
        "b = np.ones(10)"
      ],
      "metadata": {
        "id": "6-eoLUjnB0DZ"
      },
      "execution_count": 10,
      "outputs": []
    },
    {
      "cell_type": "code",
      "source": [
        "b"
      ],
      "metadata": {
        "colab": {
          "base_uri": "https://localhost:8080/"
        },
        "id": "NOKqK7Y7B0O8",
        "outputId": "5b7cc281-e428-4d13-cd4c-c71d682dbea6"
      },
      "execution_count": 11,
      "outputs": [
        {
          "output_type": "execute_result",
          "data": {
            "text/plain": [
              "array([1., 1., 1., 1., 1., 1., 1., 1., 1., 1.])"
            ]
          },
          "metadata": {},
          "execution_count": 11
        }
      ]
    },
    {
      "cell_type": "code",
      "source": [
        "# Array vazio\n",
        "\n",
        "c = np.empty(4)"
      ],
      "metadata": {
        "id": "ubGLcmr2B2D1"
      },
      "execution_count": 12,
      "outputs": []
    },
    {
      "cell_type": "code",
      "source": [
        "# veja que mesmo sendo próximo a 'vazio', os elementos da lista são não-nulos\n",
        "\n",
        "c"
      ],
      "metadata": {
        "colab": {
          "base_uri": "https://localhost:8080/"
        },
        "id": "uNlI782-B2RR",
        "outputId": "ba0093d1-8960-445d-9a47-3a660ea955b6"
      },
      "execution_count": 13,
      "outputs": [
        {
          "output_type": "execute_result",
          "data": {
            "text/plain": [
              "array([5.e-324, 5.e-324, 5.e-324, 0.e+000])"
            ]
          },
          "metadata": {},
          "execution_count": 13
        }
      ]
    },
    {
      "cell_type": "code",
      "source": [
        "# Podemos criar um array determinando início, fim e número de componentes\n",
        "\n",
        "d = np.linspace(3, 15, 10)"
      ],
      "metadata": {
        "id": "bR5YTd6xB8PK"
      },
      "execution_count": 14,
      "outputs": []
    },
    {
      "cell_type": "code",
      "source": [
        "d"
      ],
      "metadata": {
        "colab": {
          "base_uri": "https://localhost:8080/"
        },
        "id": "95yXXuWpZ-HK",
        "outputId": "fd5171ff-8e80-44ad-c99e-8390b551f08d"
      },
      "execution_count": 15,
      "outputs": [
        {
          "output_type": "execute_result",
          "data": {
            "text/plain": [
              "array([ 3.        ,  4.33333333,  5.66666667,  7.        ,  8.33333333,\n",
              "        9.66666667, 11.        , 12.33333333, 13.66666667, 15.        ])"
            ]
          },
          "metadata": {},
          "execution_count": 15
        }
      ]
    },
    {
      "cell_type": "code",
      "source": [
        "# Podemos especificar manualmente os elementos do array\n",
        "\n",
        "e = np.array(10)"
      ],
      "metadata": {
        "id": "Al0My8aHaBQs"
      },
      "execution_count": 18,
      "outputs": []
    },
    {
      "cell_type": "code",
      "source": [
        "e"
      ],
      "metadata": {
        "colab": {
          "base_uri": "https://localhost:8080/"
        },
        "id": "ba-Hip0OaDXf",
        "outputId": "94fece11-f311-45f3-fd64-0a94ee384cb2"
      },
      "execution_count": 17,
      "outputs": [
        {
          "output_type": "execute_result",
          "data": {
            "text/plain": [
              "array(10)"
            ]
          },
          "metadata": {},
          "execution_count": 17
        }
      ]
    },
    {
      "cell_type": "code",
      "source": [
        "f = np.array([1,2,3,4,5])"
      ],
      "metadata": {
        "id": "nd1fXGDWB-jx"
      },
      "execution_count": 19,
      "outputs": []
    },
    {
      "cell_type": "code",
      "source": [
        "f"
      ],
      "metadata": {
        "colab": {
          "base_uri": "https://localhost:8080/"
        },
        "id": "hRFKMmYBaWs5",
        "outputId": "90a3a010-62b0-4382-94d9-efe14dae5e13"
      },
      "execution_count": 20,
      "outputs": [
        {
          "output_type": "execute_result",
          "data": {
            "text/plain": [
              "array([1, 2, 3, 4, 5])"
            ]
          },
          "metadata": {},
          "execution_count": 20
        }
      ]
    },
    {
      "cell_type": "code",
      "source": [
        "# Uma lista pode virar um array!\n",
        "\n",
        "lista = [4,5,6,7,8,9]"
      ],
      "metadata": {
        "id": "CoLrD08waXrg"
      },
      "execution_count": 21,
      "outputs": []
    },
    {
      "cell_type": "code",
      "source": [
        "g = np.array(lista)"
      ],
      "metadata": {
        "id": "NW8D3YzUacuo"
      },
      "execution_count": 22,
      "outputs": []
    },
    {
      "cell_type": "code",
      "source": [
        "g"
      ],
      "metadata": {
        "colab": {
          "base_uri": "https://localhost:8080/"
        },
        "id": "LPnx5ldFafeA",
        "outputId": "03ad83d3-30fb-4c4f-c1a5-98451eefd465"
      },
      "execution_count": 23,
      "outputs": [
        {
          "output_type": "execute_result",
          "data": {
            "text/plain": [
              "array([4, 5, 6, 7, 8, 9])"
            ]
          },
          "metadata": {},
          "execution_count": 23
        }
      ]
    },
    {
      "cell_type": "code",
      "source": [
        "type(g)"
      ],
      "metadata": {
        "colab": {
          "base_uri": "https://localhost:8080/"
        },
        "id": "ajtX6mhAagCR",
        "outputId": "3f4b0db4-777f-4735-b494-1e2183733ab7"
      },
      "execution_count": 24,
      "outputs": [
        {
          "output_type": "execute_result",
          "data": {
            "text/plain": [
              "numpy.ndarray"
            ]
          },
          "metadata": {},
          "execution_count": 24
        }
      ]
    },
    {
      "cell_type": "code",
      "source": [
        "lista_listas = [[1, 2, 3, 4, 5], [4, 5, 6, 7, 8]]"
      ],
      "metadata": {
        "id": "34NwyP0gaiDx"
      },
      "execution_count": 25,
      "outputs": []
    },
    {
      "cell_type": "code",
      "source": [
        "# Podemos usar mais de uma lista na construção do array:\n",
        "\n",
        "h = np.array([lista_listas])"
      ],
      "metadata": {
        "id": "WTDjzUaia0UP"
      },
      "execution_count": 27,
      "outputs": []
    },
    {
      "cell_type": "code",
      "source": [
        "h"
      ],
      "metadata": {
        "colab": {
          "base_uri": "https://localhost:8080/"
        },
        "id": "-9EdgKvMa4Pn",
        "outputId": "1e34e573-ee1f-4b1c-a869-57ef72592c8a"
      },
      "execution_count": 28,
      "outputs": [
        {
          "output_type": "execute_result",
          "data": {
            "text/plain": [
              "array([[[1, 2, 3, 4, 5],\n",
              "        [4, 5, 6, 7, 8]]])"
            ]
          },
          "metadata": {},
          "execution_count": 28
        }
      ]
    },
    {
      "cell_type": "code",
      "source": [
        "np.random.seed(0)"
      ],
      "metadata": {
        "id": "D4KZSDfhbHbf"
      },
      "execution_count": 29,
      "outputs": []
    },
    {
      "cell_type": "code",
      "source": [
        "i = np.random.randint(10, size = 6)"
      ],
      "metadata": {
        "id": "f7AwjOWKbM0X"
      },
      "execution_count": 32,
      "outputs": []
    },
    {
      "cell_type": "code",
      "source": [
        "i"
      ],
      "metadata": {
        "colab": {
          "base_uri": "https://localhost:8080/"
        },
        "id": "S-5f2CltbTCH",
        "outputId": "96c9e0cf-a111-43ff-b567-4709d81c92ed"
      },
      "execution_count": 33,
      "outputs": [
        {
          "output_type": "execute_result",
          "data": {
            "text/plain": [
              "array([3, 5, 2, 4, 7, 6])"
            ]
          },
          "metadata": {},
          "execution_count": 33
        }
      ]
    },
    {
      "cell_type": "markdown",
      "source": [
        "Podemos realizar indexação e slicing nos arrays:"
      ],
      "metadata": {
        "id": "zLlQFU4abnle"
      }
    },
    {
      "cell_type": "code",
      "source": [
        "i[0]"
      ],
      "metadata": {
        "colab": {
          "base_uri": "https://localhost:8080/"
        },
        "id": "aBYbZ0L0bpy3",
        "outputId": "dc989e40-99aa-42fe-dcee-add870de5e83"
      },
      "execution_count": 38,
      "outputs": [
        {
          "output_type": "execute_result",
          "data": {
            "text/plain": [
              "3"
            ]
          },
          "metadata": {},
          "execution_count": 38
        }
      ]
    },
    {
      "cell_type": "code",
      "source": [
        "i[3]"
      ],
      "metadata": {
        "colab": {
          "base_uri": "https://localhost:8080/"
        },
        "id": "8nm5NQ3-bszG",
        "outputId": "6d938b19-c7f6-43e2-ff57-7d00d81c5b84"
      },
      "execution_count": 39,
      "outputs": [
        {
          "output_type": "execute_result",
          "data": {
            "text/plain": [
              "4"
            ]
          },
          "metadata": {},
          "execution_count": 39
        }
      ]
    },
    {
      "cell_type": "code",
      "source": [
        "i[-1]"
      ],
      "metadata": {
        "colab": {
          "base_uri": "https://localhost:8080/"
        },
        "id": "QzKyg7hfbug-",
        "outputId": "1847f9ea-3044-4c82-a030-29e9d16505d6"
      },
      "execution_count": 40,
      "outputs": [
        {
          "output_type": "execute_result",
          "data": {
            "text/plain": [
              "6"
            ]
          },
          "metadata": {},
          "execution_count": 40
        }
      ]
    },
    {
      "cell_type": "markdown",
      "source": [
        "Muito parecido com listas\n",
        "\n",
        "Operações matemáticas"
      ],
      "metadata": {
        "id": "eTfQV4qhbyTe"
      }
    },
    {
      "cell_type": "code",
      "source": [
        "a = np.array([10,20,100,200,500])\n",
        "b = np.array([3,4,5,6,7])\n",
        "np.add(a, b)"
      ],
      "metadata": {
        "colab": {
          "base_uri": "https://localhost:8080/"
        },
        "id": "HYcTNuQFb1Y1",
        "outputId": "c3f4813a-d19c-4717-c940-1488819974ed"
      },
      "execution_count": 42,
      "outputs": [
        {
          "output_type": "execute_result",
          "data": {
            "text/plain": [
              "array([ 13,  24, 105, 206, 507])"
            ]
          },
          "metadata": {},
          "execution_count": 42
        }
      ]
    },
    {
      "cell_type": "code",
      "source": [
        "a + b"
      ],
      "metadata": {
        "colab": {
          "base_uri": "https://localhost:8080/"
        },
        "id": "GO_TCdtXcwUU",
        "outputId": "cb4309c6-622b-4eae-e94f-ee3f52bb8393"
      },
      "execution_count": 44,
      "outputs": [
        {
          "output_type": "execute_result",
          "data": {
            "text/plain": [
              "array([ 13,  24, 105, 206, 507])"
            ]
          },
          "metadata": {},
          "execution_count": 44
        }
      ]
    },
    {
      "cell_type": "code",
      "source": [
        "np.subtract(a, b)"
      ],
      "metadata": {
        "colab": {
          "base_uri": "https://localhost:8080/"
        },
        "id": "Zwhi_3Pnc1LE",
        "outputId": "0ae5e83e-1a89-42f9-b79d-28f04872b383"
      },
      "execution_count": 45,
      "outputs": [
        {
          "output_type": "execute_result",
          "data": {
            "text/plain": [
              "array([  7,  16,  95, 194, 493])"
            ]
          },
          "metadata": {},
          "execution_count": 45
        }
      ]
    },
    {
      "cell_type": "code",
      "source": [
        "a - b"
      ],
      "metadata": {
        "colab": {
          "base_uri": "https://localhost:8080/"
        },
        "id": "x47YFjEUc6nc",
        "outputId": "7445d165-ab2c-495e-d001-fbb210b17727"
      },
      "execution_count": 46,
      "outputs": [
        {
          "output_type": "execute_result",
          "data": {
            "text/plain": [
              "array([  7,  16,  95, 194, 493])"
            ]
          },
          "metadata": {},
          "execution_count": 46
        }
      ]
    },
    {
      "cell_type": "code",
      "source": [
        "np.multiply(a, b)"
      ],
      "metadata": {
        "colab": {
          "base_uri": "https://localhost:8080/"
        },
        "id": "D5APMJX4c8TE",
        "outputId": "5dbc68a0-773a-4394-d001-9ffa74939fe8"
      },
      "execution_count": 47,
      "outputs": [
        {
          "output_type": "execute_result",
          "data": {
            "text/plain": [
              "array([  30,   80,  500, 1200, 3500])"
            ]
          },
          "metadata": {},
          "execution_count": 47
        }
      ]
    },
    {
      "cell_type": "code",
      "source": [
        "a * b"
      ],
      "metadata": {
        "colab": {
          "base_uri": "https://localhost:8080/"
        },
        "id": "T7sHYSF1c_lE",
        "outputId": "375f392f-125a-46ba-a8c2-d472d523df0c"
      },
      "execution_count": 48,
      "outputs": [
        {
          "output_type": "execute_result",
          "data": {
            "text/plain": [
              "array([  30,   80,  500, 1200, 3500])"
            ]
          },
          "metadata": {},
          "execution_count": 48
        }
      ]
    },
    {
      "cell_type": "code",
      "source": [
        "np.divide(a,b)"
      ],
      "metadata": {
        "colab": {
          "base_uri": "https://localhost:8080/"
        },
        "id": "FIMBo55HdAWf",
        "outputId": "753437f1-21aa-4d8e-88ae-349b22db23d2"
      },
      "execution_count": 49,
      "outputs": [
        {
          "output_type": "execute_result",
          "data": {
            "text/plain": [
              "array([ 3.33333333,  5.        , 20.        , 33.33333333, 71.42857143])"
            ]
          },
          "metadata": {},
          "execution_count": 49
        }
      ]
    },
    {
      "cell_type": "code",
      "source": [
        "a/b"
      ],
      "metadata": {
        "colab": {
          "base_uri": "https://localhost:8080/"
        },
        "id": "GotmleM2dCUV",
        "outputId": "ca68bbf5-3979-42cb-8e95-db44e02c1fec"
      },
      "execution_count": 50,
      "outputs": [
        {
          "output_type": "execute_result",
          "data": {
            "text/plain": [
              "array([ 3.33333333,  5.        , 20.        , 33.33333333, 71.42857143])"
            ]
          },
          "metadata": {},
          "execution_count": 50
        }
      ]
    },
    {
      "cell_type": "markdown",
      "source": [
        "### 19.3. Pandas"
      ],
      "metadata": {
        "id": "qJL07URweoxp"
      }
    },
    {
      "cell_type": "markdown",
      "source": [
        "Mostrar aqui como baixar os dados de WEGE3 do Yahoo Finance\n",
        "\n",
        "Temos um arquivo .csv que foi disponibilizado junto com o material do curso"
      ],
      "metadata": {
        "id": "rvlxw5hEerh7"
      }
    },
    {
      "cell_type": "code",
      "source": [
        "dados = pd.read_csv('WEGE3.SA.csv')"
      ],
      "metadata": {
        "id": "BEZpOk6vexXA"
      },
      "execution_count": 52,
      "outputs": []
    },
    {
      "cell_type": "markdown",
      "source": [
        "Com o atributo shape podemos verificar as dimensões"
      ],
      "metadata": {
        "id": "7AYVbLlofENA"
      }
    },
    {
      "cell_type": "code",
      "source": [
        "dados.shape"
      ],
      "metadata": {
        "colab": {
          "base_uri": "https://localhost:8080/"
        },
        "id": "Zwhn4-YRfEuz",
        "outputId": "fc326227-fe55-4c75-d3bd-d6ec4044be95"
      },
      "execution_count": 53,
      "outputs": [
        {
          "output_type": "execute_result",
          "data": {
            "text/plain": [
              "(993, 7)"
            ]
          },
          "metadata": {},
          "execution_count": 53
        }
      ]
    },
    {
      "cell_type": "markdown",
      "source": [
        "Com o atributo dtypes podemos verificar o tipo das variáveis"
      ],
      "metadata": {
        "id": "kV4NM_SzfHZL"
      }
    },
    {
      "cell_type": "code",
      "source": [
        "dados.dtypes"
      ],
      "metadata": {
        "colab": {
          "base_uri": "https://localhost:8080/"
        },
        "id": "_hfCYDOofKew",
        "outputId": "b81624d1-58d8-4d2b-f250-39a03de3bfc4"
      },
      "execution_count": 54,
      "outputs": [
        {
          "output_type": "execute_result",
          "data": {
            "text/plain": [
              "Date          object\n",
              "Open         float64\n",
              "High         float64\n",
              "Low          float64\n",
              "Close        float64\n",
              "Adj Close    float64\n",
              "Volume       float64\n",
              "dtype: object"
            ]
          },
          "metadata": {},
          "execution_count": 54
        }
      ]
    },
    {
      "cell_type": "code",
      "source": [
        "# Tipo do objeto dados\n",
        "\n",
        "type(dados)"
      ],
      "metadata": {
        "colab": {
          "base_uri": "https://localhost:8080/"
        },
        "id": "naZF7I4DfM9Y",
        "outputId": "50351af9-f33a-42db-ed00-fceba53be6a4"
      },
      "execution_count": 56,
      "outputs": [
        {
          "output_type": "execute_result",
          "data": {
            "text/plain": [
              "pandas.core.frame.DataFrame"
            ]
          },
          "metadata": {},
          "execution_count": 56
        }
      ]
    },
    {
      "cell_type": "code",
      "source": [
        "# O método head() permite ver as 5 primeiras linhas\n",
        "\n",
        "dados.head()"
      ],
      "metadata": {
        "colab": {
          "base_uri": "https://localhost:8080/",
          "height": 206
        },
        "id": "XrD-CIgpfcAO",
        "outputId": "63ddc669-e24b-4357-dfa1-ea92f617bdc8"
      },
      "execution_count": 57,
      "outputs": [
        {
          "output_type": "execute_result",
          "data": {
            "text/plain": [
              "         Date      Open      High       Low     Close  Adj Close     Volume\n",
              "0  2017-07-24  7.392307  7.473076  7.261538  7.426923   7.051007  2638220.0\n",
              "1  2017-07-25  7.476923  7.476923  7.307692  7.369230   6.996235  2505880.0\n",
              "2  2017-07-26  7.323076  7.442307  7.276923  7.326923   6.956069  2112240.0\n",
              "3  2017-07-27  7.388461  7.419230  7.223076  7.269230   6.901296  1910480.0\n",
              "4  2017-07-28  7.261538  7.296153  7.165384  7.200000   6.835570  2866760.0"
            ],
            "text/html": [
              "\n",
              "  <div id=\"df-d481daf6-855e-44e2-9ae8-cfee255eefc4\">\n",
              "    <div class=\"colab-df-container\">\n",
              "      <div>\n",
              "<style scoped>\n",
              "    .dataframe tbody tr th:only-of-type {\n",
              "        vertical-align: middle;\n",
              "    }\n",
              "\n",
              "    .dataframe tbody tr th {\n",
              "        vertical-align: top;\n",
              "    }\n",
              "\n",
              "    .dataframe thead th {\n",
              "        text-align: right;\n",
              "    }\n",
              "</style>\n",
              "<table border=\"1\" class=\"dataframe\">\n",
              "  <thead>\n",
              "    <tr style=\"text-align: right;\">\n",
              "      <th></th>\n",
              "      <th>Date</th>\n",
              "      <th>Open</th>\n",
              "      <th>High</th>\n",
              "      <th>Low</th>\n",
              "      <th>Close</th>\n",
              "      <th>Adj Close</th>\n",
              "      <th>Volume</th>\n",
              "    </tr>\n",
              "  </thead>\n",
              "  <tbody>\n",
              "    <tr>\n",
              "      <th>0</th>\n",
              "      <td>2017-07-24</td>\n",
              "      <td>7.392307</td>\n",
              "      <td>7.473076</td>\n",
              "      <td>7.261538</td>\n",
              "      <td>7.426923</td>\n",
              "      <td>7.051007</td>\n",
              "      <td>2638220.0</td>\n",
              "    </tr>\n",
              "    <tr>\n",
              "      <th>1</th>\n",
              "      <td>2017-07-25</td>\n",
              "      <td>7.476923</td>\n",
              "      <td>7.476923</td>\n",
              "      <td>7.307692</td>\n",
              "      <td>7.369230</td>\n",
              "      <td>6.996235</td>\n",
              "      <td>2505880.0</td>\n",
              "    </tr>\n",
              "    <tr>\n",
              "      <th>2</th>\n",
              "      <td>2017-07-26</td>\n",
              "      <td>7.323076</td>\n",
              "      <td>7.442307</td>\n",
              "      <td>7.276923</td>\n",
              "      <td>7.326923</td>\n",
              "      <td>6.956069</td>\n",
              "      <td>2112240.0</td>\n",
              "    </tr>\n",
              "    <tr>\n",
              "      <th>3</th>\n",
              "      <td>2017-07-27</td>\n",
              "      <td>7.388461</td>\n",
              "      <td>7.419230</td>\n",
              "      <td>7.223076</td>\n",
              "      <td>7.269230</td>\n",
              "      <td>6.901296</td>\n",
              "      <td>1910480.0</td>\n",
              "    </tr>\n",
              "    <tr>\n",
              "      <th>4</th>\n",
              "      <td>2017-07-28</td>\n",
              "      <td>7.261538</td>\n",
              "      <td>7.296153</td>\n",
              "      <td>7.165384</td>\n",
              "      <td>7.200000</td>\n",
              "      <td>6.835570</td>\n",
              "      <td>2866760.0</td>\n",
              "    </tr>\n",
              "  </tbody>\n",
              "</table>\n",
              "</div>\n",
              "      <button class=\"colab-df-convert\" onclick=\"convertToInteractive('df-d481daf6-855e-44e2-9ae8-cfee255eefc4')\"\n",
              "              title=\"Convert this dataframe to an interactive table.\"\n",
              "              style=\"display:none;\">\n",
              "        \n",
              "  <svg xmlns=\"http://www.w3.org/2000/svg\" height=\"24px\"viewBox=\"0 0 24 24\"\n",
              "       width=\"24px\">\n",
              "    <path d=\"M0 0h24v24H0V0z\" fill=\"none\"/>\n",
              "    <path d=\"M18.56 5.44l.94 2.06.94-2.06 2.06-.94-2.06-.94-.94-2.06-.94 2.06-2.06.94zm-11 1L8.5 8.5l.94-2.06 2.06-.94-2.06-.94L8.5 2.5l-.94 2.06-2.06.94zm10 10l.94 2.06.94-2.06 2.06-.94-2.06-.94-.94-2.06-.94 2.06-2.06.94z\"/><path d=\"M17.41 7.96l-1.37-1.37c-.4-.4-.92-.59-1.43-.59-.52 0-1.04.2-1.43.59L10.3 9.45l-7.72 7.72c-.78.78-.78 2.05 0 2.83L4 21.41c.39.39.9.59 1.41.59.51 0 1.02-.2 1.41-.59l7.78-7.78 2.81-2.81c.8-.78.8-2.07 0-2.86zM5.41 20L4 18.59l7.72-7.72 1.47 1.35L5.41 20z\"/>\n",
              "  </svg>\n",
              "      </button>\n",
              "      \n",
              "  <style>\n",
              "    .colab-df-container {\n",
              "      display:flex;\n",
              "      flex-wrap:wrap;\n",
              "      gap: 12px;\n",
              "    }\n",
              "\n",
              "    .colab-df-convert {\n",
              "      background-color: #E8F0FE;\n",
              "      border: none;\n",
              "      border-radius: 50%;\n",
              "      cursor: pointer;\n",
              "      display: none;\n",
              "      fill: #1967D2;\n",
              "      height: 32px;\n",
              "      padding: 0 0 0 0;\n",
              "      width: 32px;\n",
              "    }\n",
              "\n",
              "    .colab-df-convert:hover {\n",
              "      background-color: #E2EBFA;\n",
              "      box-shadow: 0px 1px 2px rgba(60, 64, 67, 0.3), 0px 1px 3px 1px rgba(60, 64, 67, 0.15);\n",
              "      fill: #174EA6;\n",
              "    }\n",
              "\n",
              "    [theme=dark] .colab-df-convert {\n",
              "      background-color: #3B4455;\n",
              "      fill: #D2E3FC;\n",
              "    }\n",
              "\n",
              "    [theme=dark] .colab-df-convert:hover {\n",
              "      background-color: #434B5C;\n",
              "      box-shadow: 0px 1px 3px 1px rgba(0, 0, 0, 0.15);\n",
              "      filter: drop-shadow(0px 1px 2px rgba(0, 0, 0, 0.3));\n",
              "      fill: #FFFFFF;\n",
              "    }\n",
              "  </style>\n",
              "\n",
              "      <script>\n",
              "        const buttonEl =\n",
              "          document.querySelector('#df-d481daf6-855e-44e2-9ae8-cfee255eefc4 button.colab-df-convert');\n",
              "        buttonEl.style.display =\n",
              "          google.colab.kernel.accessAllowed ? 'block' : 'none';\n",
              "\n",
              "        async function convertToInteractive(key) {\n",
              "          const element = document.querySelector('#df-d481daf6-855e-44e2-9ae8-cfee255eefc4');\n",
              "          const dataTable =\n",
              "            await google.colab.kernel.invokeFunction('convertToInteractive',\n",
              "                                                     [key], {});\n",
              "          if (!dataTable) return;\n",
              "\n",
              "          const docLinkHtml = 'Like what you see? Visit the ' +\n",
              "            '<a target=\"_blank\" href=https://colab.research.google.com/notebooks/data_table.ipynb>data table notebook</a>'\n",
              "            + ' to learn more about interactive tables.';\n",
              "          element.innerHTML = '';\n",
              "          dataTable['output_type'] = 'display_data';\n",
              "          await google.colab.output.renderOutput(dataTable, element);\n",
              "          const docLink = document.createElement('div');\n",
              "          docLink.innerHTML = docLinkHtml;\n",
              "          element.appendChild(docLink);\n",
              "        }\n",
              "      </script>\n",
              "    </div>\n",
              "  </div>\n",
              "  "
            ]
          },
          "metadata": {},
          "execution_count": 57
        }
      ]
    },
    {
      "cell_type": "code",
      "source": [
        "# O método tail() permite ver as 5 últimas linhas\n",
        "\n",
        "dados.tail()"
      ],
      "metadata": {
        "colab": {
          "base_uri": "https://localhost:8080/",
          "height": 206
        },
        "id": "aVlha0Y2fieL",
        "outputId": "6d8e3d26-5b10-470c-f833-4c3c385dc4d3"
      },
      "execution_count": 58,
      "outputs": [
        {
          "output_type": "execute_result",
          "data": {
            "text/plain": [
              "           Date       Open       High        Low      Close  Adj Close  \\\n",
              "988  2021-07-15  35.000000  35.590000  34.900002  34.919998  34.919998   \n",
              "989  2021-07-16  35.040001  35.259998  34.209999  34.290001  34.290001   \n",
              "990  2021-07-19  34.000000  34.369999  33.599998  34.180000  34.180000   \n",
              "991  2021-07-20  34.049999  34.830002  33.869999  34.549999  34.549999   \n",
              "992  2021-07-21  34.750000  34.970001  34.099998  34.450001  34.450001   \n",
              "\n",
              "        Volume  \n",
              "988  4807000.0  \n",
              "989  5380000.0  \n",
              "990  4756600.0  \n",
              "991  4042300.0  \n",
              "992  4315700.0  "
            ],
            "text/html": [
              "\n",
              "  <div id=\"df-5c015cf3-e3ac-4341-a9db-e54d14a7fa26\">\n",
              "    <div class=\"colab-df-container\">\n",
              "      <div>\n",
              "<style scoped>\n",
              "    .dataframe tbody tr th:only-of-type {\n",
              "        vertical-align: middle;\n",
              "    }\n",
              "\n",
              "    .dataframe tbody tr th {\n",
              "        vertical-align: top;\n",
              "    }\n",
              "\n",
              "    .dataframe thead th {\n",
              "        text-align: right;\n",
              "    }\n",
              "</style>\n",
              "<table border=\"1\" class=\"dataframe\">\n",
              "  <thead>\n",
              "    <tr style=\"text-align: right;\">\n",
              "      <th></th>\n",
              "      <th>Date</th>\n",
              "      <th>Open</th>\n",
              "      <th>High</th>\n",
              "      <th>Low</th>\n",
              "      <th>Close</th>\n",
              "      <th>Adj Close</th>\n",
              "      <th>Volume</th>\n",
              "    </tr>\n",
              "  </thead>\n",
              "  <tbody>\n",
              "    <tr>\n",
              "      <th>988</th>\n",
              "      <td>2021-07-15</td>\n",
              "      <td>35.000000</td>\n",
              "      <td>35.590000</td>\n",
              "      <td>34.900002</td>\n",
              "      <td>34.919998</td>\n",
              "      <td>34.919998</td>\n",
              "      <td>4807000.0</td>\n",
              "    </tr>\n",
              "    <tr>\n",
              "      <th>989</th>\n",
              "      <td>2021-07-16</td>\n",
              "      <td>35.040001</td>\n",
              "      <td>35.259998</td>\n",
              "      <td>34.209999</td>\n",
              "      <td>34.290001</td>\n",
              "      <td>34.290001</td>\n",
              "      <td>5380000.0</td>\n",
              "    </tr>\n",
              "    <tr>\n",
              "      <th>990</th>\n",
              "      <td>2021-07-19</td>\n",
              "      <td>34.000000</td>\n",
              "      <td>34.369999</td>\n",
              "      <td>33.599998</td>\n",
              "      <td>34.180000</td>\n",
              "      <td>34.180000</td>\n",
              "      <td>4756600.0</td>\n",
              "    </tr>\n",
              "    <tr>\n",
              "      <th>991</th>\n",
              "      <td>2021-07-20</td>\n",
              "      <td>34.049999</td>\n",
              "      <td>34.830002</td>\n",
              "      <td>33.869999</td>\n",
              "      <td>34.549999</td>\n",
              "      <td>34.549999</td>\n",
              "      <td>4042300.0</td>\n",
              "    </tr>\n",
              "    <tr>\n",
              "      <th>992</th>\n",
              "      <td>2021-07-21</td>\n",
              "      <td>34.750000</td>\n",
              "      <td>34.970001</td>\n",
              "      <td>34.099998</td>\n",
              "      <td>34.450001</td>\n",
              "      <td>34.450001</td>\n",
              "      <td>4315700.0</td>\n",
              "    </tr>\n",
              "  </tbody>\n",
              "</table>\n",
              "</div>\n",
              "      <button class=\"colab-df-convert\" onclick=\"convertToInteractive('df-5c015cf3-e3ac-4341-a9db-e54d14a7fa26')\"\n",
              "              title=\"Convert this dataframe to an interactive table.\"\n",
              "              style=\"display:none;\">\n",
              "        \n",
              "  <svg xmlns=\"http://www.w3.org/2000/svg\" height=\"24px\"viewBox=\"0 0 24 24\"\n",
              "       width=\"24px\">\n",
              "    <path d=\"M0 0h24v24H0V0z\" fill=\"none\"/>\n",
              "    <path d=\"M18.56 5.44l.94 2.06.94-2.06 2.06-.94-2.06-.94-.94-2.06-.94 2.06-2.06.94zm-11 1L8.5 8.5l.94-2.06 2.06-.94-2.06-.94L8.5 2.5l-.94 2.06-2.06.94zm10 10l.94 2.06.94-2.06 2.06-.94-2.06-.94-.94-2.06-.94 2.06-2.06.94z\"/><path d=\"M17.41 7.96l-1.37-1.37c-.4-.4-.92-.59-1.43-.59-.52 0-1.04.2-1.43.59L10.3 9.45l-7.72 7.72c-.78.78-.78 2.05 0 2.83L4 21.41c.39.39.9.59 1.41.59.51 0 1.02-.2 1.41-.59l7.78-7.78 2.81-2.81c.8-.78.8-2.07 0-2.86zM5.41 20L4 18.59l7.72-7.72 1.47 1.35L5.41 20z\"/>\n",
              "  </svg>\n",
              "      </button>\n",
              "      \n",
              "  <style>\n",
              "    .colab-df-container {\n",
              "      display:flex;\n",
              "      flex-wrap:wrap;\n",
              "      gap: 12px;\n",
              "    }\n",
              "\n",
              "    .colab-df-convert {\n",
              "      background-color: #E8F0FE;\n",
              "      border: none;\n",
              "      border-radius: 50%;\n",
              "      cursor: pointer;\n",
              "      display: none;\n",
              "      fill: #1967D2;\n",
              "      height: 32px;\n",
              "      padding: 0 0 0 0;\n",
              "      width: 32px;\n",
              "    }\n",
              "\n",
              "    .colab-df-convert:hover {\n",
              "      background-color: #E2EBFA;\n",
              "      box-shadow: 0px 1px 2px rgba(60, 64, 67, 0.3), 0px 1px 3px 1px rgba(60, 64, 67, 0.15);\n",
              "      fill: #174EA6;\n",
              "    }\n",
              "\n",
              "    [theme=dark] .colab-df-convert {\n",
              "      background-color: #3B4455;\n",
              "      fill: #D2E3FC;\n",
              "    }\n",
              "\n",
              "    [theme=dark] .colab-df-convert:hover {\n",
              "      background-color: #434B5C;\n",
              "      box-shadow: 0px 1px 3px 1px rgba(0, 0, 0, 0.15);\n",
              "      filter: drop-shadow(0px 1px 2px rgba(0, 0, 0, 0.3));\n",
              "      fill: #FFFFFF;\n",
              "    }\n",
              "  </style>\n",
              "\n",
              "      <script>\n",
              "        const buttonEl =\n",
              "          document.querySelector('#df-5c015cf3-e3ac-4341-a9db-e54d14a7fa26 button.colab-df-convert');\n",
              "        buttonEl.style.display =\n",
              "          google.colab.kernel.accessAllowed ? 'block' : 'none';\n",
              "\n",
              "        async function convertToInteractive(key) {\n",
              "          const element = document.querySelector('#df-5c015cf3-e3ac-4341-a9db-e54d14a7fa26');\n",
              "          const dataTable =\n",
              "            await google.colab.kernel.invokeFunction('convertToInteractive',\n",
              "                                                     [key], {});\n",
              "          if (!dataTable) return;\n",
              "\n",
              "          const docLinkHtml = 'Like what you see? Visit the ' +\n",
              "            '<a target=\"_blank\" href=https://colab.research.google.com/notebooks/data_table.ipynb>data table notebook</a>'\n",
              "            + ' to learn more about interactive tables.';\n",
              "          element.innerHTML = '';\n",
              "          dataTable['output_type'] = 'display_data';\n",
              "          await google.colab.output.renderOutput(dataTable, element);\n",
              "          const docLink = document.createElement('div');\n",
              "          docLink.innerHTML = docLinkHtml;\n",
              "          element.appendChild(docLink);\n",
              "        }\n",
              "      </script>\n",
              "    </div>\n",
              "  </div>\n",
              "  "
            ]
          },
          "metadata": {},
          "execution_count": 58
        }
      ]
    },
    {
      "cell_type": "code",
      "source": [
        "# Usamos o comando .loc para filtrar pelo index\n",
        "\n",
        "dados.loc[0]"
      ],
      "metadata": {
        "colab": {
          "base_uri": "https://localhost:8080/"
        },
        "id": "WlAOh_OdfhGF",
        "outputId": "ea5054b6-b659-4e18-ded4-f9dfe1bd0df7"
      },
      "execution_count": 60,
      "outputs": [
        {
          "output_type": "execute_result",
          "data": {
            "text/plain": [
              "Date         2017-07-24\n",
              "Open           7.392307\n",
              "High           7.473076\n",
              "Low            7.261538\n",
              "Close          7.426923\n",
              "Adj Close      7.051007\n",
              "Volume        2638220.0\n",
              "Name: 0, dtype: object"
            ]
          },
          "metadata": {},
          "execution_count": 60
        }
      ]
    },
    {
      "cell_type": "code",
      "source": [
        "dados.iloc[0]"
      ],
      "metadata": {
        "colab": {
          "base_uri": "https://localhost:8080/"
        },
        "id": "V83CIBhAfvAk",
        "outputId": "d8df0ca7-57cb-468e-9ec0-d6d33c39bab1"
      },
      "execution_count": 61,
      "outputs": [
        {
          "output_type": "execute_result",
          "data": {
            "text/plain": [
              "Date         2017-07-24\n",
              "Open           7.392307\n",
              "High           7.473076\n",
              "Low            7.261538\n",
              "Close          7.426923\n",
              "Adj Close      7.051007\n",
              "Volume        2638220.0\n",
              "Name: 0, dtype: object"
            ]
          },
          "metadata": {},
          "execution_count": 61
        }
      ]
    },
    {
      "cell_type": "code",
      "source": [
        "# Além de filtrar uma linha, podemos filtrar células\n",
        "\n",
        "dados.iloc[0,0]"
      ],
      "metadata": {
        "colab": {
          "base_uri": "https://localhost:8080/",
          "height": 35
        },
        "id": "iFEtRRCdfw6Y",
        "outputId": "ba265cbc-03d8-4a31-e422-5f4c9217522b"
      },
      "execution_count": 62,
      "outputs": [
        {
          "output_type": "execute_result",
          "data": {
            "text/plain": [
              "'2017-07-24'"
            ],
            "application/vnd.google.colaboratory.intrinsic+json": {
              "type": "string"
            }
          },
          "metadata": {},
          "execution_count": 62
        }
      ]
    },
    {
      "cell_type": "code",
      "source": [
        "# Ou podemos filtrar colunas de nome específico\n",
        "\n",
        "dados['Open']"
      ],
      "metadata": {
        "colab": {
          "base_uri": "https://localhost:8080/"
        },
        "id": "7zHamzTqgHx0",
        "outputId": "089b7766-e3c6-4a94-e52d-63761fff24fe"
      },
      "execution_count": 63,
      "outputs": [
        {
          "output_type": "execute_result",
          "data": {
            "text/plain": [
              "0       7.392307\n",
              "1       7.476923\n",
              "2       7.323076\n",
              "3       7.388461\n",
              "4       7.261538\n",
              "         ...    \n",
              "988    35.000000\n",
              "989    35.040001\n",
              "990    34.000000\n",
              "991    34.049999\n",
              "992    34.750000\n",
              "Name: Open, Length: 993, dtype: float64"
            ]
          },
          "metadata": {},
          "execution_count": 63
        }
      ]
    },
    {
      "cell_type": "code",
      "source": [
        "# Podemos plotar apenas uma coluna\n",
        "\n",
        "dados['Close'].plot()"
      ],
      "metadata": {
        "colab": {
          "base_uri": "https://localhost:8080/",
          "height": 282
        },
        "id": "qTUsVfMpgUaO",
        "outputId": "6004f22a-a290-48ce-d4a4-5101299dba8e"
      },
      "execution_count": 64,
      "outputs": [
        {
          "output_type": "execute_result",
          "data": {
            "text/plain": [
              "<matplotlib.axes._subplots.AxesSubplot at 0x7f378a052e90>"
            ]
          },
          "metadata": {},
          "execution_count": 64
        },
        {
          "output_type": "display_data",
          "data": {
            "text/plain": [
              "<Figure size 432x288 with 1 Axes>"
            ],
            "image/png": "[encoded data removed]"
          },
          "metadata": {
            "needs_background": "light"
          }
        }
      ]
    },
    {
      "cell_type": "code",
      "source": [
        "dados.Close.plot()"
      ],
      "metadata": {
        "colab": {
          "base_uri": "https://localhost:8080/",
          "height": 282
        },
        "id": "CUeODztSgYLe",
        "outputId": "62318552-48b0-4749-f580-efd5f38af470"
      },
      "execution_count": 65,
      "outputs": [
        {
          "output_type": "execute_result",
          "data": {
            "text/plain": [
              "<matplotlib.axes._subplots.AxesSubplot at 0x7f3789f31050>"
            ]
          },
          "metadata": {},
          "execution_count": 65
        },
        {
          "output_type": "display_data",
          "data": {
            "text/plain": [
              "<Figure size 432x288 with 1 Axes>"
            ],
            "image/png": "[encoded data removed]"
          },
          "metadata": {
            "needs_background": "light"
          }
        }
      ]
    },
    {
      "cell_type": "code",
      "source": [
        "# Podemos plotar um segmento de uma coluna. No exemplo abaixo, estamos plotando da linha 0 até a 500.\n",
        "\n",
        "dados.iloc[0:500].Close.plot()"
      ],
      "metadata": {
        "colab": {
          "base_uri": "https://localhost:8080/",
          "height": 283
        },
        "id": "DQADjRb2hON0",
        "outputId": "c54b774f-6880-42d6-bd2e-2cb2ab312bf7"
      },
      "execution_count": 66,
      "outputs": [
        {
          "output_type": "execute_result",
          "data": {
            "text/plain": [
              "<matplotlib.axes._subplots.AxesSubplot at 0x7f3789ab83d0>"
            ]
          },
          "metadata": {},
          "execution_count": 66
        },
        {
          "output_type": "display_data",
          "data": {
            "text/plain": [
              "<Figure size 432x288 with 1 Axes>"
            ],
            "image/png": "[encoded data removed]"
          },
          "metadata": {
            "needs_background": "light"
          }
        }
      ]
    },
    {
      "cell_type": "code",
      "source": [
        "# Abaixo, estamos passando os valores da coluna 'Date' para o índice,\n",
        "# de tal forma que o índice do dataframe se torne a própria data\n",
        "\n",
        "dados.index = dados.Date"
      ],
      "metadata": {
        "id": "9LM2rKOJhUBx"
      },
      "execution_count": 68,
      "outputs": []
    },
    {
      "cell_type": "code",
      "source": [
        "dados.head()"
      ],
      "metadata": {
        "colab": {
          "base_uri": "https://localhost:8080/",
          "height": 237
        },
        "id": "aOIUxryLhoyr",
        "outputId": "c3c4b34e-3f53-44fc-95ec-9afc4436e632"
      },
      "execution_count": 69,
      "outputs": [
        {
          "output_type": "execute_result",
          "data": {
            "text/plain": [
              "                  Date      Open      High       Low     Close  Adj Close  \\\n",
              "Date                                                                        \n",
              "2017-07-24  2017-07-24  7.392307  7.473076  7.261538  7.426923   7.051007   \n",
              "2017-07-25  2017-07-25  7.476923  7.476923  7.307692  7.369230   6.996235   \n",
              "2017-07-26  2017-07-26  7.323076  7.442307  7.276923  7.326923   6.956069   \n",
              "2017-07-27  2017-07-27  7.388461  7.419230  7.223076  7.269230   6.901296   \n",
              "2017-07-28  2017-07-28  7.261538  7.296153  7.165384  7.200000   6.835570   \n",
              "\n",
              "               Volume  \n",
              "Date                   \n",
              "2017-07-24  2638220.0  \n",
              "2017-07-25  2505880.0  \n",
              "2017-07-26  2112240.0  \n",
              "2017-07-27  1910480.0  \n",
              "2017-07-28  2866760.0  "
            ],
            "text/html": [
              "\n",
              "  <div id=\"df-5f047d3c-bd30-4002-8416-243b3fb72fa2\">\n",
              "    <div class=\"colab-df-container\">\n",
              "      <div>\n",
              "<style scoped>\n",
              "    .dataframe tbody tr th:only-of-type {\n",
              "        vertical-align: middle;\n",
              "    }\n",
              "\n",
              "    .dataframe tbody tr th {\n",
              "        vertical-align: top;\n",
              "    }\n",
              "\n",
              "    .dataframe thead th {\n",
              "        text-align: right;\n",
              "    }\n",
              "</style>\n",
              "<table border=\"1\" class=\"dataframe\">\n",
              "  <thead>\n",
              "    <tr style=\"text-align: right;\">\n",
              "      <th></th>\n",
              "      <th>Date</th>\n",
              "      <th>Open</th>\n",
              "      <th>High</th>\n",
              "      <th>Low</th>\n",
              "      <th>Close</th>\n",
              "      <th>Adj Close</th>\n",
              "      <th>Volume</th>\n",
              "    </tr>\n",
              "    <tr>\n",
              "      <th>Date</th>\n",
              "      <th></th>\n",
              "      <th></th>\n",
              "      <th></th>\n",
              "      <th></th>\n",
              "      <th></th>\n",
              "      <th></th>\n",
              "      <th></th>\n",
              "    </tr>\n",
              "  </thead>\n",
              "  <tbody>\n",
              "    <tr>\n",
              "      <th>2017-07-24</th>\n",
              "      <td>2017-07-24</td>\n",
              "      <td>7.392307</td>\n",
              "      <td>7.473076</td>\n",
              "      <td>7.261538</td>\n",
              "      <td>7.426923</td>\n",
              "      <td>7.051007</td>\n",
              "      <td>2638220.0</td>\n",
              "    </tr>\n",
              "    <tr>\n",
              "      <th>2017-07-25</th>\n",
              "      <td>2017-07-25</td>\n",
              "      <td>7.476923</td>\n",
              "      <td>7.476923</td>\n",
              "      <td>7.307692</td>\n",
              "      <td>7.369230</td>\n",
              "      <td>6.996235</td>\n",
              "      <td>2505880.0</td>\n",
              "    </tr>\n",
              "    <tr>\n",
              "      <th>2017-07-26</th>\n",
              "      <td>2017-07-26</td>\n",
              "      <td>7.323076</td>\n",
              "      <td>7.442307</td>\n",
              "      <td>7.276923</td>\n",
              "      <td>7.326923</td>\n",
              "      <td>6.956069</td>\n",
              "      <td>2112240.0</td>\n",
              "    </tr>\n",
              "    <tr>\n",
              "      <th>2017-07-27</th>\n",
              "      <td>2017-07-27</td>\n",
              "      <td>7.388461</td>\n",
              "      <td>7.419230</td>\n",
              "      <td>7.223076</td>\n",
              "      <td>7.269230</td>\n",
              "      <td>6.901296</td>\n",
              "      <td>1910480.0</td>\n",
              "    </tr>\n",
              "    <tr>\n",
              "      <th>2017-07-28</th>\n",
              "      <td>2017-07-28</td>\n",
              "      <td>7.261538</td>\n",
              "      <td>7.296153</td>\n",
              "      <td>7.165384</td>\n",
              "      <td>7.200000</td>\n",
              "      <td>6.835570</td>\n",
              "      <td>2866760.0</td>\n",
              "    </tr>\n",
              "  </tbody>\n",
              "</table>\n",
              "</div>\n",
              "      <button class=\"colab-df-convert\" onclick=\"convertToInteractive('df-5f047d3c-bd30-4002-8416-243b3fb72fa2')\"\n",
              "              title=\"Convert this dataframe to an interactive table.\"\n",
              "              style=\"display:none;\">\n",
              "        \n",
              "  <svg xmlns=\"http://www.w3.org/2000/svg\" height=\"24px\"viewBox=\"0 0 24 24\"\n",
              "       width=\"24px\">\n",
              "    <path d=\"M0 0h24v24H0V0z\" fill=\"none\"/>\n",
              "    <path d=\"M18.56 5.44l.94 2.06.94-2.06 2.06-.94-2.06-.94-.94-2.06-.94 2.06-2.06.94zm-11 1L8.5 8.5l.94-2.06 2.06-.94-2.06-.94L8.5 2.5l-.94 2.06-2.06.94zm10 10l.94 2.06.94-2.06 2.06-.94-2.06-.94-.94-2.06-.94 2.06-2.06.94z\"/><path d=\"M17.41 7.96l-1.37-1.37c-.4-.4-.92-.59-1.43-.59-.52 0-1.04.2-1.43.59L10.3 9.45l-7.72 7.72c-.78.78-.78 2.05 0 2.83L4 21.41c.39.39.9.59 1.41.59.51 0 1.02-.2 1.41-.59l7.78-7.78 2.81-2.81c.8-.78.8-2.07 0-2.86zM5.41 20L4 18.59l7.72-7.72 1.47 1.35L5.41 20z\"/>\n",
              "  </svg>\n",
              "      </button>\n",
              "      \n",
              "  <style>\n",
              "    .colab-df-container {\n",
              "      display:flex;\n",
              "      flex-wrap:wrap;\n",
              "      gap: 12px;\n",
              "    }\n",
              "\n",
              "    .colab-df-convert {\n",
              "      background-color: #E8F0FE;\n",
              "      border: none;\n",
              "      border-radius: 50%;\n",
              "      cursor: pointer;\n",
              "      display: none;\n",
              "      fill: #1967D2;\n",
              "      height: 32px;\n",
              "      padding: 0 0 0 0;\n",
              "      width: 32px;\n",
              "    }\n",
              "\n",
              "    .colab-df-convert:hover {\n",
              "      background-color: #E2EBFA;\n",
              "      box-shadow: 0px 1px 2px rgba(60, 64, 67, 0.3), 0px 1px 3px 1px rgba(60, 64, 67, 0.15);\n",
              "      fill: #174EA6;\n",
              "    }\n",
              "\n",
              "    [theme=dark] .colab-df-convert {\n",
              "      background-color: #3B4455;\n",
              "      fill: #D2E3FC;\n",
              "    }\n",
              "\n",
              "    [theme=dark] .colab-df-convert:hover {\n",
              "      background-color: #434B5C;\n",
              "      box-shadow: 0px 1px 3px 1px rgba(0, 0, 0, 0.15);\n",
              "      filter: drop-shadow(0px 1px 2px rgba(0, 0, 0, 0.3));\n",
              "      fill: #FFFFFF;\n",
              "    }\n",
              "  </style>\n",
              "\n",
              "      <script>\n",
              "        const buttonEl =\n",
              "          document.querySelector('#df-5f047d3c-bd30-4002-8416-243b3fb72fa2 button.colab-df-convert');\n",
              "        buttonEl.style.display =\n",
              "          google.colab.kernel.accessAllowed ? 'block' : 'none';\n",
              "\n",
              "        async function convertToInteractive(key) {\n",
              "          const element = document.querySelector('#df-5f047d3c-bd30-4002-8416-243b3fb72fa2');\n",
              "          const dataTable =\n",
              "            await google.colab.kernel.invokeFunction('convertToInteractive',\n",
              "                                                     [key], {});\n",
              "          if (!dataTable) return;\n",
              "\n",
              "          const docLinkHtml = 'Like what you see? Visit the ' +\n",
              "            '<a target=\"_blank\" href=https://colab.research.google.com/notebooks/data_table.ipynb>data table notebook</a>'\n",
              "            + ' to learn more about interactive tables.';\n",
              "          element.innerHTML = '';\n",
              "          dataTable['output_type'] = 'display_data';\n",
              "          await google.colab.output.renderOutput(dataTable, element);\n",
              "          const docLink = document.createElement('div');\n",
              "          docLink.innerHTML = docLinkHtml;\n",
              "          element.appendChild(docLink);\n",
              "        }\n",
              "      </script>\n",
              "    </div>\n",
              "  </div>\n",
              "  "
            ]
          },
          "metadata": {},
          "execution_count": 69
        }
      ]
    },
    {
      "cell_type": "code",
      "source": [
        "# Isso nos permite agora filtrar linhas de acordo com uma data específica\n",
        "\n",
        "dados.loc['2017-07-24']"
      ],
      "metadata": {
        "colab": {
          "base_uri": "https://localhost:8080/"
        },
        "id": "1dTe1pG2hr8x",
        "outputId": "15c78095-ff3d-421c-ca4e-b67471b8560e"
      },
      "execution_count": 70,
      "outputs": [
        {
          "output_type": "execute_result",
          "data": {
            "text/plain": [
              "Date         2017-07-24\n",
              "Open           7.392307\n",
              "High           7.473076\n",
              "Low            7.261538\n",
              "Close          7.426923\n",
              "Adj Close      7.051007\n",
              "Volume        2638220.0\n",
              "Name: 2017-07-24, dtype: object"
            ]
          },
          "metadata": {},
          "execution_count": 70
        }
      ]
    },
    {
      "cell_type": "code",
      "source": [
        "import os"
      ],
      "metadata": {
        "id": "8igs5H0zhuqM"
      },
      "execution_count": 71,
      "outputs": []
    },
    {
      "cell_type": "code",
      "source": [
        "os. getcwd()"
      ],
      "metadata": {
        "colab": {
          "base_uri": "https://localhost:8080/",
          "height": 35
        },
        "id": "__2GW1IBhwgD",
        "outputId": "0502d090-514d-43aa-d6f3-9f0f89883e7d"
      },
      "execution_count": 72,
      "outputs": [
        {
          "output_type": "execute_result",
          "data": {
            "text/plain": [
              "'/content'"
            ],
            "application/vnd.google.colaboratory.intrinsic+json": {
              "type": "string"
            }
          },
          "metadata": {},
          "execution_count": 72
        }
      ]
    },
    {
      "cell_type": "code",
      "source": [
        "# Caso você estivesse trabalhando com o Jupyter, ou algum outro IDE na sua máquina\n",
        "os.chdir('/tmp')"
      ],
      "metadata": {
        "id": "Vo1Yvo97h2ub"
      },
      "execution_count": 73,
      "outputs": []
    },
    {
      "cell_type": "code",
      "source": [
        "dados.rename(columns={'Date': 'Data', 'Adj Close': 'WEGE3'}, inplace=True)"
      ],
      "metadata": {
        "id": "LEGLxktyh-CK"
      },
      "execution_count": 74,
      "outputs": []
    },
    {
      "cell_type": "code",
      "source": [
        "dados.head()"
      ],
      "metadata": {
        "colab": {
          "base_uri": "https://localhost:8080/",
          "height": 237
        },
        "id": "8t6boWJqiMTy",
        "outputId": "3f2dc91f-a76f-445a-f62e-46b62e614e59"
      },
      "execution_count": 75,
      "outputs": [
        {
          "output_type": "execute_result",
          "data": {
            "text/plain": [
              "                  Data      Open      High       Low     Close     WEGE3  \\\n",
              "Date                                                                       \n",
              "2017-07-24  2017-07-24  7.392307  7.473076  7.261538  7.426923  7.051007   \n",
              "2017-07-25  2017-07-25  7.476923  7.476923  7.307692  7.369230  6.996235   \n",
              "2017-07-26  2017-07-26  7.323076  7.442307  7.276923  7.326923  6.956069   \n",
              "2017-07-27  2017-07-27  7.388461  7.419230  7.223076  7.269230  6.901296   \n",
              "2017-07-28  2017-07-28  7.261538  7.296153  7.165384  7.200000  6.835570   \n",
              "\n",
              "               Volume  \n",
              "Date                   \n",
              "2017-07-24  2638220.0  \n",
              "2017-07-25  2505880.0  \n",
              "2017-07-26  2112240.0  \n",
              "2017-07-27  1910480.0  \n",
              "2017-07-28  2866760.0  "
            ],
            "text/html": [
              "\n",
              "  <div id=\"df-f5bfa8f6-a5c9-45d1-91a1-baa373bead7c\">\n",
              "    <div class=\"colab-df-container\">\n",
              "      <div>\n",
              "<style scoped>\n",
              "    .dataframe tbody tr th:only-of-type {\n",
              "        vertical-align: middle;\n",
              "    }\n",
              "\n",
              "    .dataframe tbody tr th {\n",
              "        vertical-align: top;\n",
              "    }\n",
              "\n",
              "    .dataframe thead th {\n",
              "        text-align: right;\n",
              "    }\n",
              "</style>\n",
              "<table border=\"1\" class=\"dataframe\">\n",
              "  <thead>\n",
              "    <tr style=\"text-align: right;\">\n",
              "      <th></th>\n",
              "      <th>Data</th>\n",
              "      <th>Open</th>\n",
              "      <th>High</th>\n",
              "      <th>Low</th>\n",
              "      <th>Close</th>\n",
              "      <th>WEGE3</th>\n",
              "      <th>Volume</th>\n",
              "    </tr>\n",
              "    <tr>\n",
              "      <th>Date</th>\n",
              "      <th></th>\n",
              "      <th></th>\n",
              "      <th></th>\n",
              "      <th></th>\n",
              "      <th></th>\n",
              "      <th></th>\n",
              "      <th></th>\n",
              "    </tr>\n",
              "  </thead>\n",
              "  <tbody>\n",
              "    <tr>\n",
              "      <th>2017-07-24</th>\n",
              "      <td>2017-07-24</td>\n",
              "      <td>7.392307</td>\n",
              "      <td>7.473076</td>\n",
              "      <td>7.261538</td>\n",
              "      <td>7.426923</td>\n",
              "      <td>7.051007</td>\n",
              "      <td>2638220.0</td>\n",
              "    </tr>\n",
              "    <tr>\n",
              "      <th>2017-07-25</th>\n",
              "      <td>2017-07-25</td>\n",
              "      <td>7.476923</td>\n",
              "      <td>7.476923</td>\n",
              "      <td>7.307692</td>\n",
              "      <td>7.369230</td>\n",
              "      <td>6.996235</td>\n",
              "      <td>2505880.0</td>\n",
              "    </tr>\n",
              "    <tr>\n",
              "      <th>2017-07-26</th>\n",
              "      <td>2017-07-26</td>\n",
              "      <td>7.323076</td>\n",
              "      <td>7.442307</td>\n",
              "      <td>7.276923</td>\n",
              "      <td>7.326923</td>\n",
              "      <td>6.956069</td>\n",
              "      <td>2112240.0</td>\n",
              "    </tr>\n",
              "    <tr>\n",
              "      <th>2017-07-27</th>\n",
              "      <td>2017-07-27</td>\n",
              "      <td>7.388461</td>\n",
              "      <td>7.419230</td>\n",
              "      <td>7.223076</td>\n",
              "      <td>7.269230</td>\n",
              "      <td>6.901296</td>\n",
              "      <td>1910480.0</td>\n",
              "    </tr>\n",
              "    <tr>\n",
              "      <th>2017-07-28</th>\n",
              "      <td>2017-07-28</td>\n",
              "      <td>7.261538</td>\n",
              "      <td>7.296153</td>\n",
              "      <td>7.165384</td>\n",
              "      <td>7.200000</td>\n",
              "      <td>6.835570</td>\n",
              "      <td>2866760.0</td>\n",
              "    </tr>\n",
              "  </tbody>\n",
              "</table>\n",
              "</div>\n",
              "      <button class=\"colab-df-convert\" onclick=\"convertToInteractive('df-f5bfa8f6-a5c9-45d1-91a1-baa373bead7c')\"\n",
              "              title=\"Convert this dataframe to an interactive table.\"\n",
              "              style=\"display:none;\">\n",
              "        \n",
              "  <svg xmlns=\"http://www.w3.org/2000/svg\" height=\"24px\"viewBox=\"0 0 24 24\"\n",
              "       width=\"24px\">\n",
              "    <path d=\"M0 0h24v24H0V0z\" fill=\"none\"/>\n",
              "    <path d=\"M18.56 5.44l.94 2.06.94-2.06 2.06-.94-2.06-.94-.94-2.06-.94 2.06-2.06.94zm-11 1L8.5 8.5l.94-2.06 2.06-.94-2.06-.94L8.5 2.5l-.94 2.06-2.06.94zm10 10l.94 2.06.94-2.06 2.06-.94-2.06-.94-.94-2.06-.94 2.06-2.06.94z\"/><path d=\"M17.41 7.96l-1.37-1.37c-.4-.4-.92-.59-1.43-.59-.52 0-1.04.2-1.43.59L10.3 9.45l-7.72 7.72c-.78.78-.78 2.05 0 2.83L4 21.41c.39.39.9.59 1.41.59.51 0 1.02-.2 1.41-.59l7.78-7.78 2.81-2.81c.8-.78.8-2.07 0-2.86zM5.41 20L4 18.59l7.72-7.72 1.47 1.35L5.41 20z\"/>\n",
              "  </svg>\n",
              "      </button>\n",
              "      \n",
              "  <style>\n",
              "    .colab-df-container {\n",
              "      display:flex;\n",
              "      flex-wrap:wrap;\n",
              "      gap: 12px;\n",
              "    }\n",
              "\n",
              "    .colab-df-convert {\n",
              "      background-color: #E8F0FE;\n",
              "      border: none;\n",
              "      border-radius: 50%;\n",
              "      cursor: pointer;\n",
              "      display: none;\n",
              "      fill: #1967D2;\n",
              "      height: 32px;\n",
              "      padding: 0 0 0 0;\n",
              "      width: 32px;\n",
              "    }\n",
              "\n",
              "    .colab-df-convert:hover {\n",
              "      background-color: #E2EBFA;\n",
              "      box-shadow: 0px 1px 2px rgba(60, 64, 67, 0.3), 0px 1px 3px 1px rgba(60, 64, 67, 0.15);\n",
              "      fill: #174EA6;\n",
              "    }\n",
              "\n",
              "    [theme=dark] .colab-df-convert {\n",
              "      background-color: #3B4455;\n",
              "      fill: #D2E3FC;\n",
              "    }\n",
              "\n",
              "    [theme=dark] .colab-df-convert:hover {\n",
              "      background-color: #434B5C;\n",
              "      box-shadow: 0px 1px 3px 1px rgba(0, 0, 0, 0.15);\n",
              "      filter: drop-shadow(0px 1px 2px rgba(0, 0, 0, 0.3));\n",
              "      fill: #FFFFFF;\n",
              "    }\n",
              "  </style>\n",
              "\n",
              "      <script>\n",
              "        const buttonEl =\n",
              "          document.querySelector('#df-f5bfa8f6-a5c9-45d1-91a1-baa373bead7c button.colab-df-convert');\n",
              "        buttonEl.style.display =\n",
              "          google.colab.kernel.accessAllowed ? 'block' : 'none';\n",
              "\n",
              "        async function convertToInteractive(key) {\n",
              "          const element = document.querySelector('#df-f5bfa8f6-a5c9-45d1-91a1-baa373bead7c');\n",
              "          const dataTable =\n",
              "            await google.colab.kernel.invokeFunction('convertToInteractive',\n",
              "                                                     [key], {});\n",
              "          if (!dataTable) return;\n",
              "\n",
              "          const docLinkHtml = 'Like what you see? Visit the ' +\n",
              "            '<a target=\"_blank\" href=https://colab.research.google.com/notebooks/data_table.ipynb>data table notebook</a>'\n",
              "            + ' to learn more about interactive tables.';\n",
              "          element.innerHTML = '';\n",
              "          dataTable['output_type'] = 'display_data';\n",
              "          await google.colab.output.renderOutput(dataTable, element);\n",
              "          const docLink = document.createElement('div');\n",
              "          docLink.innerHTML = docLinkHtml;\n",
              "          element.appendChild(docLink);\n",
              "        }\n",
              "      </script>\n",
              "    </div>\n",
              "  </div>\n",
              "  "
            ]
          },
          "metadata": {},
          "execution_count": 75
        }
      ]
    },
    {
      "cell_type": "code",
      "source": [
        "# Removendo colunas\n",
        "\n",
        "dados.drop(['Data', 'Volume'], axis = 1, inplace = True)"
      ],
      "metadata": {
        "id": "m3_8-FyviPOa"
      },
      "execution_count": 76,
      "outputs": []
    },
    {
      "cell_type": "code",
      "source": [
        "dados.head()"
      ],
      "metadata": {
        "colab": {
          "base_uri": "https://localhost:8080/",
          "height": 237
        },
        "id": "daSYf8ciiSUi",
        "outputId": "f92c360b-fc36-4b7f-8e5a-045c2946b26f"
      },
      "execution_count": 77,
      "outputs": [
        {
          "output_type": "execute_result",
          "data": {
            "text/plain": [
              "                Open      High       Low     Close     WEGE3\n",
              "Date                                                        \n",
              "2017-07-24  7.392307  7.473076  7.261538  7.426923  7.051007\n",
              "2017-07-25  7.476923  7.476923  7.307692  7.369230  6.996235\n",
              "2017-07-26  7.323076  7.442307  7.276923  7.326923  6.956069\n",
              "2017-07-27  7.388461  7.419230  7.223076  7.269230  6.901296\n",
              "2017-07-28  7.261538  7.296153  7.165384  7.200000  6.835570"
            ],
            "text/html": [
              "\n",
              "  <div id=\"df-b987e029-305b-46a2-9dc1-6069572462d1\">\n",
              "    <div class=\"colab-df-container\">\n",
              "      <div>\n",
              "<style scoped>\n",
              "    .dataframe tbody tr th:only-of-type {\n",
              "        vertical-align: middle;\n",
              "    }\n",
              "\n",
              "    .dataframe tbody tr th {\n",
              "        vertical-align: top;\n",
              "    }\n",
              "\n",
              "    .dataframe thead th {\n",
              "        text-align: right;\n",
              "    }\n",
              "</style>\n",
              "<table border=\"1\" class=\"dataframe\">\n",
              "  <thead>\n",
              "    <tr style=\"text-align: right;\">\n",
              "      <th></th>\n",
              "      <th>Open</th>\n",
              "      <th>High</th>\n",
              "      <th>Low</th>\n",
              "      <th>Close</th>\n",
              "      <th>WEGE3</th>\n",
              "    </tr>\n",
              "    <tr>\n",
              "      <th>Date</th>\n",
              "      <th></th>\n",
              "      <th></th>\n",
              "      <th></th>\n",
              "      <th></th>\n",
              "      <th></th>\n",
              "    </tr>\n",
              "  </thead>\n",
              "  <tbody>\n",
              "    <tr>\n",
              "      <th>2017-07-24</th>\n",
              "      <td>7.392307</td>\n",
              "      <td>7.473076</td>\n",
              "      <td>7.261538</td>\n",
              "      <td>7.426923</td>\n",
              "      <td>7.051007</td>\n",
              "    </tr>\n",
              "    <tr>\n",
              "      <th>2017-07-25</th>\n",
              "      <td>7.476923</td>\n",
              "      <td>7.476923</td>\n",
              "      <td>7.307692</td>\n",
              "      <td>7.369230</td>\n",
              "      <td>6.996235</td>\n",
              "    </tr>\n",
              "    <tr>\n",
              "      <th>2017-07-26</th>\n",
              "      <td>7.323076</td>\n",
              "      <td>7.442307</td>\n",
              "      <td>7.276923</td>\n",
              "      <td>7.326923</td>\n",
              "      <td>6.956069</td>\n",
              "    </tr>\n",
              "    <tr>\n",
              "      <th>2017-07-27</th>\n",
              "      <td>7.388461</td>\n",
              "      <td>7.419230</td>\n",
              "      <td>7.223076</td>\n",
              "      <td>7.269230</td>\n",
              "      <td>6.901296</td>\n",
              "    </tr>\n",
              "    <tr>\n",
              "      <th>2017-07-28</th>\n",
              "      <td>7.261538</td>\n",
              "      <td>7.296153</td>\n",
              "      <td>7.165384</td>\n",
              "      <td>7.200000</td>\n",
              "      <td>6.835570</td>\n",
              "    </tr>\n",
              "  </tbody>\n",
              "</table>\n",
              "</div>\n",
              "      <button class=\"colab-df-convert\" onclick=\"convertToInteractive('df-b987e029-305b-46a2-9dc1-6069572462d1')\"\n",
              "              title=\"Convert this dataframe to an interactive table.\"\n",
              "              style=\"display:none;\">\n",
              "        \n",
              "  <svg xmlns=\"http://www.w3.org/2000/svg\" height=\"24px\"viewBox=\"0 0 24 24\"\n",
              "       width=\"24px\">\n",
              "    <path d=\"M0 0h24v24H0V0z\" fill=\"none\"/>\n",
              "    <path d=\"M18.56 5.44l.94 2.06.94-2.06 2.06-.94-2.06-.94-.94-2.06-.94 2.06-2.06.94zm-11 1L8.5 8.5l.94-2.06 2.06-.94-2.06-.94L8.5 2.5l-.94 2.06-2.06.94zm10 10l.94 2.06.94-2.06 2.06-.94-2.06-.94-.94-2.06-.94 2.06-2.06.94z\"/><path d=\"M17.41 7.96l-1.37-1.37c-.4-.4-.92-.59-1.43-.59-.52 0-1.04.2-1.43.59L10.3 9.45l-7.72 7.72c-.78.78-.78 2.05 0 2.83L4 21.41c.39.39.9.59 1.41.59.51 0 1.02-.2 1.41-.59l7.78-7.78 2.81-2.81c.8-.78.8-2.07 0-2.86zM5.41 20L4 18.59l7.72-7.72 1.47 1.35L5.41 20z\"/>\n",
              "  </svg>\n",
              "      </button>\n",
              "      \n",
              "  <style>\n",
              "    .colab-df-container {\n",
              "      display:flex;\n",
              "      flex-wrap:wrap;\n",
              "      gap: 12px;\n",
              "    }\n",
              "\n",
              "    .colab-df-convert {\n",
              "      background-color: #E8F0FE;\n",
              "      border: none;\n",
              "      border-radius: 50%;\n",
              "      cursor: pointer;\n",
              "      display: none;\n",
              "      fill: #1967D2;\n",
              "      height: 32px;\n",
              "      padding: 0 0 0 0;\n",
              "      width: 32px;\n",
              "    }\n",
              "\n",
              "    .colab-df-convert:hover {\n",
              "      background-color: #E2EBFA;\n",
              "      box-shadow: 0px 1px 2px rgba(60, 64, 67, 0.3), 0px 1px 3px 1px rgba(60, 64, 67, 0.15);\n",
              "      fill: #174EA6;\n",
              "    }\n",
              "\n",
              "    [theme=dark] .colab-df-convert {\n",
              "      background-color: #3B4455;\n",
              "      fill: #D2E3FC;\n",
              "    }\n",
              "\n",
              "    [theme=dark] .colab-df-convert:hover {\n",
              "      background-color: #434B5C;\n",
              "      box-shadow: 0px 1px 3px 1px rgba(0, 0, 0, 0.15);\n",
              "      filter: drop-shadow(0px 1px 2px rgba(0, 0, 0, 0.3));\n",
              "      fill: #FFFFFF;\n",
              "    }\n",
              "  </style>\n",
              "\n",
              "      <script>\n",
              "        const buttonEl =\n",
              "          document.querySelector('#df-b987e029-305b-46a2-9dc1-6069572462d1 button.colab-df-convert');\n",
              "        buttonEl.style.display =\n",
              "          google.colab.kernel.accessAllowed ? 'block' : 'none';\n",
              "\n",
              "        async function convertToInteractive(key) {\n",
              "          const element = document.querySelector('#df-b987e029-305b-46a2-9dc1-6069572462d1');\n",
              "          const dataTable =\n",
              "            await google.colab.kernel.invokeFunction('convertToInteractive',\n",
              "                                                     [key], {});\n",
              "          if (!dataTable) return;\n",
              "\n",
              "          const docLinkHtml = 'Like what you see? Visit the ' +\n",
              "            '<a target=\"_blank\" href=https://colab.research.google.com/notebooks/data_table.ipynb>data table notebook</a>'\n",
              "            + ' to learn more about interactive tables.';\n",
              "          element.innerHTML = '';\n",
              "          dataTable['output_type'] = 'display_data';\n",
              "          await google.colab.output.renderOutput(dataTable, element);\n",
              "          const docLink = document.createElement('div');\n",
              "          docLink.innerHTML = docLinkHtml;\n",
              "          element.appendChild(docLink);\n",
              "        }\n",
              "      </script>\n",
              "    </div>\n",
              "  </div>\n",
              "  "
            ]
          },
          "metadata": {},
          "execution_count": 77
        }
      ]
    },
    {
      "cell_type": "code",
      "source": [
        "# Plotando todas as colunas\n",
        "\n",
        "dados.plot()"
      ],
      "metadata": {
        "colab": {
          "base_uri": "https://localhost:8080/",
          "height": 296
        },
        "id": "8Sz2kZ9-iUbC",
        "outputId": "8ebd9e48-0952-4f27-cd5f-3ec12e8e25e7"
      },
      "execution_count": 79,
      "outputs": [
        {
          "output_type": "execute_result",
          "data": {
            "text/plain": [
              "<matplotlib.axes._subplots.AxesSubplot at 0x7f378992c110>"
            ]
          },
          "metadata": {},
          "execution_count": 79
        },
        {
          "output_type": "display_data",
          "data": {
            "text/plain": [
              "<Figure size 432x288 with 1 Axes>"
            ],
            "image/png": "[encoded data removed]"
          },
          "metadata": {
            "needs_background": "light"
          }
        }
      ]
    },
    {
      "cell_type": "markdown",
      "source": [
        "Quantas linhas e colunas tem o dataframe?"
      ],
      "metadata": {
        "id": "EAwlY3Ilihex"
      }
    },
    {
      "cell_type": "code",
      "source": [
        "dados.shape"
      ],
      "metadata": {
        "colab": {
          "base_uri": "https://localhost:8080/"
        },
        "id": "XR9hiAjEiiZi",
        "outputId": "f083a4c3-768b-41da-d3db-62f354c97cf4"
      },
      "execution_count": 80,
      "outputs": [
        {
          "output_type": "execute_result",
          "data": {
            "text/plain": [
              "(993, 5)"
            ]
          },
          "metadata": {},
          "execution_count": 80
        }
      ]
    },
    {
      "cell_type": "markdown",
      "source": [
        "Filtrando apenas algumas linhas específicas"
      ],
      "metadata": {
        "id": "A0isydceikH9"
      }
    },
    {
      "cell_type": "code",
      "source": [
        "dados.iloc[943:994].plot();"
      ],
      "metadata": {
        "colab": {
          "base_uri": "https://localhost:8080/",
          "height": 279
        },
        "id": "3pmYmR3pimHh",
        "outputId": "b7329e99-c931-4a35-b743-09a8b8ae00c3"
      },
      "execution_count": 81,
      "outputs": [
        {
          "output_type": "display_data",
          "data": {
            "text/plain": [
              "<Figure size 432x288 with 1 Axes>"
            ],
            "image/png": "[encoded data removed]"
          },
          "metadata": {
            "needs_background": "light"
          }
        }
      ]
    },
    {
      "cell_type": "markdown",
      "source": [
        "Aumentando o tamanho do gráfico"
      ],
      "metadata": {
        "id": "cubTs8_1iqba"
      }
    },
    {
      "cell_type": "code",
      "source": [
        "dados.iloc[943:994].plot(figsize = (10,10));"
      ],
      "metadata": {
        "colab": {
          "base_uri": "https://localhost:8080/",
          "height": 606
        },
        "id": "bxE7mAB6irQj",
        "outputId": "0c04ee75-b049-48cd-f061-b917e4147363"
      },
      "execution_count": 82,
      "outputs": [
        {
          "output_type": "display_data",
          "data": {
            "text/plain": [
              "<Figure size 720x720 with 1 Axes>"
            ],
            "image/png": "[encoded data removed]"
          },
          "metadata": {
            "needs_background": "light"
          }
        }
      ]
    }
  ]
}