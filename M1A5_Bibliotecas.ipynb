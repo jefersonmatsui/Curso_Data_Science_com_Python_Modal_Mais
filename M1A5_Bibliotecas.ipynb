{
  "nbformat": 4,
  "nbformat_minor": 0,
  "metadata": {
    "colab": {
      "name": "M1A5_Bibliotecas.ipynb",
      "provenance": [],
      "authorship_tag": "ABX9TyPat7FW3sX7GDNLyc7BLXN0",
      "include_colab_link": true
    },
    "kernelspec": {
      "name": "python3",
      "display_name": "Python 3"
    },
    "language_info": {
      "name": "python"
    }
  },
  "cells": [
    {
      "cell_type": "markdown",
      "metadata": {
        "id": "view-in-github",
        "colab_type": "text"
      },
      "source": [
        "<a href=\"https://colab.research.google.com/github/jefersonmatsui/Data_Science_com_Python_Modal_Mais/blob/main/M1A5_Bibliotecas.ipynb\" target=\"_parent\"><img src=\"https://colab.research.google.com/assets/colab-badge.svg\" alt=\"Open In Colab\"/></a>"
      ]
    },
    {
      "cell_type": "markdown",
      "source": [
        "## 19. Trabalhando com bibliotecas"
      ],
      "metadata": {
        "id": "UArtj0Tz9NWe"
      }
    },
    {
      "cell_type": "markdown",
      "source": [
        "1. O que são bibliotecas\n",
        "2. Importância de se utilizar bibliotecas"
      ],
      "metadata": {
        "id": "20jNhOKw_YPS"
      }
    },
    {
      "cell_type": "markdown",
      "source": [
        "### 19.1. Importando as bibliotecas"
      ],
      "metadata": {
        "id": "75LQq0TM_bjW"
      }
    },
    {
      "cell_type": "markdown",
      "source": [
        "Nessa seção, vamos estudar as duas bibliotecas mais importantes do Python: pandas e numpy"
      ],
      "metadata": {
        "id": "q124MQSx_nm2"
      }
    },
    {
      "cell_type": "code",
      "source": [
        "import numpy as np\n",
        "import pandas as pd"
      ],
      "metadata": {
        "id": "W6CYHu1g_qKI"
      },
      "execution_count": 1,
      "outputs": []
    },
    {
      "cell_type": "markdown",
      "source": [
        "### 19.2. Numpy"
      ],
      "metadata": {
        "id": "7qM0-Pgx_2Z_"
      }
    },
    {
      "cell_type": "markdown",
      "source": [
        "O principal tipo de objeto que criamos com a numpy é o 'array'\n",
        "\n",
        "Para criar arrays, temos diversas funções diferentes, cada um servido a um propósito específico\n",
        "\n",
        "Por exemplo, podemos criar arrays que contém apenas zeros"
      ],
      "metadata": {
        "id": "1zVNbbrd_6DF"
      }
    },
    {
      "cell_type": "code",
      "source": [
        ""
      ],
      "metadata": {
        "id": "enKrlK8W_95W"
      },
      "execution_count": null,
      "outputs": []
    },
    {
      "cell_type": "code",
      "source": [
        ""
      ],
      "metadata": {
        "id": "a-gkX5e3BjrK"
      },
      "execution_count": null,
      "outputs": []
    },
    {
      "cell_type": "code",
      "source": [
        "# O atributo .shape retorna as dimensões do array\n",
        "\n"
      ],
      "metadata": {
        "id": "PCw3UvY9BkY6"
      },
      "execution_count": null,
      "outputs": []
    },
    {
      "cell_type": "code",
      "source": [
        "# As dimensões são manipuláveis. Logo, podemos especificar o número de linhas e colunas:\n",
        "\n"
      ],
      "metadata": {
        "id": "vbBGSykiBnpK"
      },
      "execution_count": null,
      "outputs": []
    },
    {
      "cell_type": "code",
      "source": [
        ""
      ],
      "metadata": {
        "id": "lhOGcTY4Bsga"
      },
      "execution_count": null,
      "outputs": []
    },
    {
      "cell_type": "code",
      "source": [
        ""
      ],
      "metadata": {
        "id": "eiQw4qilBvI6"
      },
      "execution_count": null,
      "outputs": []
    },
    {
      "cell_type": "markdown",
      "source": [
        "Vamos criar um array contendo apenas '1'"
      ],
      "metadata": {
        "id": "RSQU5QtWBw01"
      }
    },
    {
      "cell_type": "code",
      "source": [
        ""
      ],
      "metadata": {
        "id": "6-eoLUjnB0DZ"
      },
      "execution_count": null,
      "outputs": []
    },
    {
      "cell_type": "code",
      "source": [
        ""
      ],
      "metadata": {
        "id": "NOKqK7Y7B0O8"
      },
      "execution_count": null,
      "outputs": []
    },
    {
      "cell_type": "code",
      "source": [
        "# Array vazio\n",
        "\n"
      ],
      "metadata": {
        "id": "ubGLcmr2B2D1"
      },
      "execution_count": null,
      "outputs": []
    },
    {
      "cell_type": "code",
      "source": [
        "# veja que mesmo sendo próximo a 'vazio', os elementos da lista são não-nulos\n",
        "\n"
      ],
      "metadata": {
        "id": "uNlI782-B2RR"
      },
      "execution_count": null,
      "outputs": []
    },
    {
      "cell_type": "code",
      "source": [
        "# Podemos criar um array determinando início, fim e número de componentes\n",
        "\n"
      ],
      "metadata": {
        "id": "bR5YTd6xB8PK"
      },
      "execution_count": null,
      "outputs": []
    },
    {
      "cell_type": "code",
      "source": [
        ""
      ],
      "metadata": {
        "id": "nd1fXGDWB-jx"
      },
      "execution_count": null,
      "outputs": []
    }
  ]
}