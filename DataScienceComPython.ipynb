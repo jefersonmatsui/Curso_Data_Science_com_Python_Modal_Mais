{
  "nbformat": 4,
  "nbformat_minor": 0,
  "metadata": {
    "colab": {
      "name": "DataScienceComPython.ipynb",
      "provenance": [],
      "authorship_tag": "ABX9TyOQBVjcrE5dPsgZm2zonmrA",
      "include_colab_link": true
    },
    "kernelspec": {
      "name": "python3",
      "display_name": "Python 3"
    },
    "language_info": {
      "name": "python"
    }
  },
  "cells": [
    {
      "cell_type": "markdown",
      "metadata": {
        "id": "view-in-github",
        "colab_type": "text"
      },
      "source": [
        "<a href=\"https://colab.research.google.com/github/jefersonmatsui/Data_Science_com_Python_Modal_Mais/blob/main/DataScienceComPython.ipynb\" target=\"_parent\"><img src=\"https://colab.research.google.com/assets/colab-badge.svg\" alt=\"Open In Colab\"/></a>"
      ]
    },
    {
      "cell_type": "markdown",
      "source": [
        "# Data Science com Python\n"
      ],
      "metadata": {
        "id": "YgdRGlQnW58n"
      }
    },
    {
      "cell_type": "markdown",
      "source": [
        "<center><img src = \"https://upload.wikimedia.org/wikipedia/commons/1/1f/Python_logo_01.svg\" width = \"100\n",
        "\">"
      ],
      "metadata": {
        "id": "2iAGrPMsXAP_"
      }
    },
    {
      "cell_type": "markdown",
      "source": [
        "## 0. Hello World!"
      ],
      "metadata": {
        "id": "X61QfNLmXFbQ"
      }
    },
    {
      "cell_type": "markdown",
      "source": [
        "Tradiconalmente, o ensino da programação inicia-se com o comando clássico \"Hello World!\""
      ],
      "metadata": {
        "id": "hBvgX9vNXKWL"
      }
    },
    {
      "cell_type": "code",
      "execution_count": 1,
      "metadata": {
        "colab": {
          "base_uri": "https://localhost:8080/"
        },
        "id": "j842SpvRWN2-",
        "outputId": "208ea65a-f9e0-453d-90c0-b315478166c7"
      },
      "outputs": [
        {
          "output_type": "stream",
          "name": "stdout",
          "text": [
            "Hello World!\n"
          ]
        }
      ],
      "source": [
        "# Usando a função 'print' para imprimir na tela a mensagem entre aspas\n",
        "print('Hello World!')"
      ]
    },
    {
      "cell_type": "code",
      "source": [
        "print('Olá, meu nome é Jeferson!')"
      ],
      "metadata": {
        "colab": {
          "base_uri": "https://localhost:8080/"
        },
        "id": "S2HkUbwCXn0j",
        "outputId": "ece9c6f9-4405-4ab5-bf57-4d9a4a7f4ea0"
      },
      "execution_count": 2,
      "outputs": [
        {
          "output_type": "stream",
          "name": "stdout",
          "text": [
            "Olá, meu nome é Jeferson!\n"
          ]
        }
      ]
    },
    {
      "cell_type": "markdown",
      "source": [
        "## 1. Variáveis vs Objetos"
      ],
      "metadata": {
        "id": "CzybVRXEXtn2"
      }
    },
    {
      "cell_type": "code",
      "source": [
        "# Objeto\n",
        "5"
      ],
      "metadata": {
        "colab": {
          "base_uri": "https://localhost:8080/"
        },
        "id": "NJlOnIrRX0YK",
        "outputId": "bd88a744-3399-427c-9ec6-46e498bc52f7"
      },
      "execution_count": 3,
      "outputs": [
        {
          "output_type": "execute_result",
          "data": {
            "text/plain": [
              "5"
            ]
          },
          "metadata": {},
          "execution_count": 3
        }
      ]
    },
    {
      "cell_type": "code",
      "source": [
        "# Variável apontando para o objeto\n",
        "a = 5"
      ],
      "metadata": {
        "id": "shJq2EDqYJiJ"
      },
      "execution_count": 4,
      "outputs": []
    },
    {
      "cell_type": "code",
      "source": [
        "a\n"
      ],
      "metadata": {
        "colab": {
          "base_uri": "https://localhost:8080/"
        },
        "id": "1A8HKUx5YP1A",
        "outputId": "7a9d7aa4-0fbd-42a6-e154-dcb2088c41ad"
      },
      "execution_count": 5,
      "outputs": [
        {
          "output_type": "execute_result",
          "data": {
            "text/plain": [
              "5"
            ]
          },
          "metadata": {},
          "execution_count": 5
        }
      ]
    },
    {
      "cell_type": "markdown",
      "source": [
        "### 1.1 Tipos de váriaveis\n",
        "\n",
        "*   integer (int): 2\n",
        "*   float (float): 1.45\n",
        "*   string (str): 'PETR4'\n",
        "*   boolean (bool): True ou False"
      ],
      "metadata": {
        "id": "TV_h8s89YagD"
      }
    },
    {
      "cell_type": "code",
      "source": [
        "b = 5.5"
      ],
      "metadata": {
        "id": "Hl5iXrAyZaAP"
      },
      "execution_count": 6,
      "outputs": []
    },
    {
      "cell_type": "code",
      "source": [
        "b"
      ],
      "metadata": {
        "colab": {
          "base_uri": "https://localhost:8080/"
        },
        "id": "DNIAeF7ZZbSP",
        "outputId": "f0900969-38f8-429c-d0d3-f25e42855b5c"
      },
      "execution_count": 7,
      "outputs": [
        {
          "output_type": "execute_result",
          "data": {
            "text/plain": [
              "5.5"
            ]
          },
          "metadata": {},
          "execution_count": 7
        }
      ]
    },
    {
      "cell_type": "code",
      "source": [
        "print(b)"
      ],
      "metadata": {
        "colab": {
          "base_uri": "https://localhost:8080/"
        },
        "id": "zLP8-wPUZdz2",
        "outputId": "a7cadc67-bf00-4803-9394-d14119afa98f"
      },
      "execution_count": 8,
      "outputs": [
        {
          "output_type": "stream",
          "name": "stdout",
          "text": [
            "5.5\n"
          ]
        }
      ]
    },
    {
      "cell_type": "code",
      "source": [
        "a + b"
      ],
      "metadata": {
        "colab": {
          "base_uri": "https://localhost:8080/"
        },
        "id": "oxQZa-jHZfmm",
        "outputId": "1e169b3c-7648-4fe2-945c-98cda95502dd"
      },
      "execution_count": 9,
      "outputs": [
        {
          "output_type": "execute_result",
          "data": {
            "text/plain": [
              "10.5"
            ]
          },
          "metadata": {},
          "execution_count": 9
        }
      ]
    },
    {
      "cell_type": "code",
      "source": [
        "type(a)"
      ],
      "metadata": {
        "colab": {
          "base_uri": "https://localhost:8080/"
        },
        "id": "C6HX3E2kZnJH",
        "outputId": "0b2e40fb-4295-4f8d-e4eb-6dfca2822ead"
      },
      "execution_count": 10,
      "outputs": [
        {
          "output_type": "execute_result",
          "data": {
            "text/plain": [
              "int"
            ]
          },
          "metadata": {},
          "execution_count": 10
        }
      ]
    },
    {
      "cell_type": "code",
      "source": [
        "type(b)"
      ],
      "metadata": {
        "colab": {
          "base_uri": "https://localhost:8080/"
        },
        "id": "OQnVK-qnZrpF",
        "outputId": "4b592ad5-a7b8-46ed-bc82-c8de709dc5ce"
      },
      "execution_count": 11,
      "outputs": [
        {
          "output_type": "execute_result",
          "data": {
            "text/plain": [
              "float"
            ]
          },
          "metadata": {},
          "execution_count": 11
        }
      ]
    },
    {
      "cell_type": "code",
      "source": [
        "ativo = 'WEGE3'"
      ],
      "metadata": {
        "id": "FCys1M_DZtJt"
      },
      "execution_count": 16,
      "outputs": []
    },
    {
      "cell_type": "code",
      "source": [
        "print(ativo)"
      ],
      "metadata": {
        "colab": {
          "base_uri": "https://localhost:8080/"
        },
        "id": "6FuW6xP_Z8ef",
        "outputId": "53a3e7b3-d7a0-4399-b1ac-dd6784c9bfae"
      },
      "execution_count": 17,
      "outputs": [
        {
          "output_type": "stream",
          "name": "stdout",
          "text": [
            "WEGE3\n"
          ]
        }
      ]
    },
    {
      "cell_type": "code",
      "source": [
        "type(ativo)"
      ],
      "metadata": {
        "colab": {
          "base_uri": "https://localhost:8080/"
        },
        "id": "cRqZCdcyaKee",
        "outputId": "0bf1b042-a287-4209-9619-4bc7c1146775"
      },
      "execution_count": 18,
      "outputs": [
        {
          "output_type": "execute_result",
          "data": {
            "text/plain": [
              "str"
            ]
          },
          "metadata": {},
          "execution_count": 18
        }
      ]
    },
    {
      "cell_type": "code",
      "source": [
        "b == a"
      ],
      "metadata": {
        "colab": {
          "base_uri": "https://localhost:8080/"
        },
        "id": "5HWieqLtaOMN",
        "outputId": "f03d9eb1-0b3f-449c-aa5a-ed08eddbaede"
      },
      "execution_count": 19,
      "outputs": [
        {
          "output_type": "execute_result",
          "data": {
            "text/plain": [
              "False"
            ]
          },
          "metadata": {},
          "execution_count": 19
        }
      ]
    },
    {
      "cell_type": "code",
      "source": [
        "a = b"
      ],
      "metadata": {
        "id": "JgLyoEBnaU61"
      },
      "execution_count": 20,
      "outputs": []
    },
    {
      "cell_type": "code",
      "source": [
        "b == a"
      ],
      "metadata": {
        "colab": {
          "base_uri": "https://localhost:8080/"
        },
        "id": "rBuK5H_NabP9",
        "outputId": "69662890-ae9e-4597-d639-480c583af2d4"
      },
      "execution_count": 21,
      "outputs": [
        {
          "output_type": "execute_result",
          "data": {
            "text/plain": [
              "True"
            ]
          },
          "metadata": {},
          "execution_count": 21
        }
      ]
    },
    {
      "cell_type": "code",
      "source": [
        "c = a == b"
      ],
      "metadata": {
        "id": "UNM_P1LEacYl"
      },
      "execution_count": 22,
      "outputs": []
    },
    {
      "cell_type": "code",
      "source": [
        "c"
      ],
      "metadata": {
        "colab": {
          "base_uri": "https://localhost:8080/"
        },
        "id": "dXVUmTbeajbz",
        "outputId": "03e67985-6a86-46bd-dcf7-17de69f29489"
      },
      "execution_count": 23,
      "outputs": [
        {
          "output_type": "execute_result",
          "data": {
            "text/plain": [
              "True"
            ]
          },
          "metadata": {},
          "execution_count": 23
        }
      ]
    },
    {
      "cell_type": "code",
      "source": [
        ""
      ],
      "metadata": {
        "id": "29pMo6PUakom"
      },
      "execution_count": null,
      "outputs": []
    },
    {
      "cell_type": "markdown",
      "source": [
        "## 2. Operadores aritméticos\n"
      ],
      "metadata": {
        "id": "yGciSaoyavLC"
      }
    },
    {
      "cell_type": "markdown",
      "source": [
        "\n",
        "\n",
        "*   Soma (+)\n",
        "*   Subtração (-)\n",
        "*   Multiplicação (*)\n",
        "*   Divisão (/)\n",
        "*   Divisão parte inteira (//)\n",
        "*   Resto da divisão (%)\n",
        "*   Potência(**)\n",
        "\n",
        "\n",
        "\n"
      ],
      "metadata": {
        "id": "TjHM9lxya7A8"
      }
    },
    {
      "cell_type": "code",
      "source": [
        "# Soma\n",
        "d = a + b\n",
        "print(d)"
      ],
      "metadata": {
        "colab": {
          "base_uri": "https://localhost:8080/"
        },
        "id": "va5AIbvia2T1",
        "outputId": "9e095ff1-6795-4510-a1cb-a4accbc80fc1"
      },
      "execution_count": 25,
      "outputs": [
        {
          "output_type": "stream",
          "name": "stdout",
          "text": [
            "11.0\n"
          ]
        }
      ]
    },
    {
      "cell_type": "code",
      "source": [
        "# Soma\n",
        "e = d + a + b + d + d\n",
        "print(e)"
      ],
      "metadata": {
        "colab": {
          "base_uri": "https://localhost:8080/"
        },
        "id": "254o9dSSbiNK",
        "outputId": "a9100ecc-6a9d-4d96-f598-ae72de9a5a02"
      },
      "execution_count": 26,
      "outputs": [
        {
          "output_type": "stream",
          "name": "stdout",
          "text": [
            "44.0\n"
          ]
        }
      ]
    },
    {
      "cell_type": "code",
      "source": [
        "# Subtração\n",
        "a - b"
      ],
      "metadata": {
        "colab": {
          "base_uri": "https://localhost:8080/"
        },
        "id": "tNvVaMneb5Zq",
        "outputId": "15547f2c-7611-4f35-cf0b-39e5513e94aa"
      },
      "execution_count": 27,
      "outputs": [
        {
          "output_type": "execute_result",
          "data": {
            "text/plain": [
              "0.0"
            ]
          },
          "metadata": {},
          "execution_count": 27
        }
      ]
    },
    {
      "cell_type": "code",
      "source": [
        "# Subtração\n",
        "e - d"
      ],
      "metadata": {
        "colab": {
          "base_uri": "https://localhost:8080/"
        },
        "id": "PoAbfN1McCtp",
        "outputId": "7624576f-4664-44f4-8dd9-6525df3c28e7"
      },
      "execution_count": 28,
      "outputs": [
        {
          "output_type": "execute_result",
          "data": {
            "text/plain": [
              "33.0"
            ]
          },
          "metadata": {},
          "execution_count": 28
        }
      ]
    },
    {
      "cell_type": "code",
      "source": [
        "# Multiplicação\n",
        "a * b"
      ],
      "metadata": {
        "colab": {
          "base_uri": "https://localhost:8080/"
        },
        "id": "ahXMTzWFcGd-",
        "outputId": "de83eb49-0f67-4f14-b889-4716453bbb99"
      },
      "execution_count": 29,
      "outputs": [
        {
          "output_type": "execute_result",
          "data": {
            "text/plain": [
              "30.25"
            ]
          },
          "metadata": {},
          "execution_count": 29
        }
      ]
    },
    {
      "cell_type": "code",
      "source": [
        "# Multiplicação\n",
        "\n",
        "f = 10\n",
        "e*f"
      ],
      "metadata": {
        "colab": {
          "base_uri": "https://localhost:8080/"
        },
        "id": "XUmBeNiGcLVq",
        "outputId": "44a0aad2-b31b-44bf-ce65-f4ec130e98b3"
      },
      "execution_count": 31,
      "outputs": [
        {
          "output_type": "execute_result",
          "data": {
            "text/plain": [
              "440.0"
            ]
          },
          "metadata": {},
          "execution_count": 31
        }
      ]
    },
    {
      "cell_type": "markdown",
      "source": [
        "### Exemplo:\n",
        "### Qual o tamanho da minha posição em PETR4 dados o número de papéis que comprei e a cotação atual?"
      ],
      "metadata": {
        "id": "l20WM3cpcL_D"
      }
    },
    {
      "cell_type": "code",
      "source": [
        "cotacao = 33.32\n",
        "papeis = 100\n",
        "\n",
        "patrimonio = cotacao * papeis\n",
        "print(patrimonio)"
      ],
      "metadata": {
        "colab": {
          "base_uri": "https://localhost:8080/"
        },
        "id": "CNFoKYs2cqTw",
        "outputId": "41011152-27b5-4190-cc66-d62b7fc1a396"
      },
      "execution_count": 32,
      "outputs": [
        {
          "output_type": "stream",
          "name": "stdout",
          "text": [
            "3332.0\n"
          ]
        }
      ]
    },
    {
      "cell_type": "code",
      "source": [
        ""
      ],
      "metadata": {
        "id": "1iQCIURpcz0i"
      },
      "execution_count": null,
      "outputs": []
    }
  ]
}