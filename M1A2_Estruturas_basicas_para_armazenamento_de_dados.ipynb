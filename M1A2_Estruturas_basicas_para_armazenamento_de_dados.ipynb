{
  "nbformat": 4,
  "nbformat_minor": 0,
  "metadata": {
    "colab": {
      "name": "M1A2_Estruturas_basicas_para_armazenamento_de_dados.ipynb",
      "provenance": [],
      "authorship_tag": "ABX9TyOdfADVy4fhvs9m0fv1FI7q",
      "include_colab_link": true
    },
    "kernelspec": {
      "name": "python3",
      "display_name": "Python 3"
    },
    "language_info": {
      "name": "python"
    }
  },
  "cells": [
    {
      "cell_type": "markdown",
      "metadata": {
        "id": "view-in-github",
        "colab_type": "text"
      },
      "source": [
        "<a href=\"https://colab.research.google.com/github/jefersonmatsui/Data_Science_com_Python_Modal_Mais/blob/main/M1A2_Estruturas_basicas_para_armazenamento_de_dados.ipynb\" target=\"_parent\"><img src=\"https://colab.research.google.com/assets/colab-badge.svg\" alt=\"Open In Colab\"/></a>"
      ]
    },
    {
      "cell_type": "markdown",
      "source": [
        "## 4. Strings"
      ],
      "metadata": {
        "id": "J90hAuZmbxtN"
      }
    },
    {
      "cell_type": "code",
      "source": [
        "acao = 'PETR4'"
      ],
      "metadata": {
        "id": "L_A18QYyx9lO"
      },
      "execution_count": 1,
      "outputs": []
    },
    {
      "cell_type": "code",
      "source": [
        "type(acao)"
      ],
      "metadata": {
        "colab": {
          "base_uri": "https://localhost:8080/"
        },
        "id": "MVlVA8PoyCSD",
        "outputId": "84a11e57-3323-4e5a-ccb0-86cac6f908d9"
      },
      "execution_count": 2,
      "outputs": [
        {
          "output_type": "execute_result",
          "data": {
            "text/plain": [
              "str"
            ]
          },
          "metadata": {},
          "execution_count": 2
        }
      ]
    },
    {
      "cell_type": "markdown",
      "source": [
        ""
      ],
      "metadata": {
        "id": "JBXc_TLsk4ki"
      }
    },
    {
      "cell_type": "markdown",
      "source": [
        "### 4.1. Indexação e 'slicing' (fatiamento)"
      ],
      "metadata": {
        "id": "k3Adi1OD-5kb"
      }
    },
    {
      "cell_type": "code",
      "source": [
        "# Suponha que você viu a seguinte manchete:\n",
        "\n",
        "manchete = 'PETR4 vai aumentar o preço da gasolina'"
      ],
      "metadata": {
        "id": "e2ONaFu-_CkJ"
      },
      "execution_count": 3,
      "outputs": []
    },
    {
      "cell_type": "code",
      "source": [
        "print(manchete)"
      ],
      "metadata": {
        "colab": {
          "base_uri": "https://localhost:8080/"
        },
        "id": "nBCX2tJa_HUU",
        "outputId": "7da2511d-2e6a-41f9-b803-626b9ebac933"
      },
      "execution_count": 4,
      "outputs": [
        {
          "output_type": "stream",
          "name": "stdout",
          "text": [
            "PETR4 vai aumentar o preço da gasolina\n"
          ]
        }
      ]
    },
    {
      "cell_type": "code",
      "source": [
        "# Tipo\n",
        "type(manchete)"
      ],
      "metadata": {
        "colab": {
          "base_uri": "https://localhost:8080/"
        },
        "id": "YzZrbXnrCZLP",
        "outputId": "9dc70002-6e4b-4fee-9e48-1beaf0b3ae61"
      },
      "execution_count": 5,
      "outputs": [
        {
          "output_type": "execute_result",
          "data": {
            "text/plain": [
              "str"
            ]
          },
          "metadata": {},
          "execution_count": 5
        }
      ]
    },
    {
      "cell_type": "code",
      "source": [
        "# Comprimento (length) do objeto, neste caso o número de caracteres [começando do zero]\n",
        "len(manchete)"
      ],
      "metadata": {
        "colab": {
          "base_uri": "https://localhost:8080/"
        },
        "id": "0rNgMfi_CjI3",
        "outputId": "a3400b83-2d8f-46e7-bd57-8aa860406432"
      },
      "execution_count": 6,
      "outputs": [
        {
          "output_type": "execute_result",
          "data": {
            "text/plain": [
              "38"
            ]
          },
          "metadata": {},
          "execution_count": 6
        }
      ]
    },
    {
      "cell_type": "code",
      "source": [
        "manchete[0]"
      ],
      "metadata": {
        "colab": {
          "base_uri": "https://localhost:8080/",
          "height": 35
        },
        "id": "Ipqm9G_dClBy",
        "outputId": "881ff802-4a08-4513-fd4c-fa3b85947b35"
      },
      "execution_count": 7,
      "outputs": [
        {
          "output_type": "execute_result",
          "data": {
            "text/plain": [
              "'P'"
            ],
            "application/vnd.google.colaboratory.intrinsic+json": {
              "type": "string"
            }
          },
          "metadata": {},
          "execution_count": 7
        }
      ]
    },
    {
      "cell_type": "code",
      "source": [
        "manchete[1]"
      ],
      "metadata": {
        "colab": {
          "base_uri": "https://localhost:8080/",
          "height": 35
        },
        "id": "4iqzBnSdliUh",
        "outputId": "2e31a0bf-51f6-416d-822a-0b1029a42613"
      },
      "execution_count": 8,
      "outputs": [
        {
          "output_type": "execute_result",
          "data": {
            "text/plain": [
              "'E'"
            ],
            "application/vnd.google.colaboratory.intrinsic+json": {
              "type": "string"
            }
          },
          "metadata": {},
          "execution_count": 8
        }
      ]
    },
    {
      "cell_type": "code",
      "source": [
        "manchete[4]"
      ],
      "metadata": {
        "colab": {
          "base_uri": "https://localhost:8080/",
          "height": 35
        },
        "id": "qkfb1ytLlqDZ",
        "outputId": "c25354a5-1764-4601-958d-0e294d8a06cd"
      },
      "execution_count": 9,
      "outputs": [
        {
          "output_type": "execute_result",
          "data": {
            "text/plain": [
              "'4'"
            ],
            "application/vnd.google.colaboratory.intrinsic+json": {
              "type": "string"
            }
          },
          "metadata": {},
          "execution_count": 9
        }
      ]
    },
    {
      "cell_type": "code",
      "source": [
        "manchete[5]"
      ],
      "metadata": {
        "id": "Hie-zcsaJ0Jm",
        "colab": {
          "base_uri": "https://localhost:8080/",
          "height": 35
        },
        "outputId": "cc94cd6b-dc39-4ec4-e848-430579466ed1"
      },
      "execution_count": 10,
      "outputs": [
        {
          "output_type": "execute_result",
          "data": {
            "text/plain": [
              "' '"
            ],
            "application/vnd.google.colaboratory.intrinsic+json": {
              "type": "string"
            }
          },
          "metadata": {},
          "execution_count": 10
        }
      ]
    },
    {
      "cell_type": "code",
      "source": [
        "manchete[0:4]"
      ],
      "metadata": {
        "colab": {
          "base_uri": "https://localhost:8080/",
          "height": 35
        },
        "id": "Q7i0BiA1mKDD",
        "outputId": "0a18857f-89b7-473d-bc07-af79c8b63d1c"
      },
      "execution_count": 11,
      "outputs": [
        {
          "output_type": "execute_result",
          "data": {
            "text/plain": [
              "'PETR'"
            ],
            "application/vnd.google.colaboratory.intrinsic+json": {
              "type": "string"
            }
          },
          "metadata": {},
          "execution_count": 11
        }
      ]
    },
    {
      "cell_type": "code",
      "source": [
        "manchete[0:6]"
      ],
      "metadata": {
        "colab": {
          "base_uri": "https://localhost:8080/",
          "height": 35
        },
        "id": "h01PAQLAWGrA",
        "outputId": "aac53f16-62d7-493f-bfb7-acce869b8394"
      },
      "execution_count": 12,
      "outputs": [
        {
          "output_type": "execute_result",
          "data": {
            "text/plain": [
              "'PETR4 '"
            ],
            "application/vnd.google.colaboratory.intrinsic+json": {
              "type": "string"
            }
          },
          "metadata": {},
          "execution_count": 12
        }
      ]
    },
    {
      "cell_type": "code",
      "source": [
        "acao = manchete[0:5]"
      ],
      "metadata": {
        "id": "2XarHN0RWMYq"
      },
      "execution_count": 13,
      "outputs": []
    },
    {
      "cell_type": "code",
      "source": [
        "acao"
      ],
      "metadata": {
        "colab": {
          "base_uri": "https://localhost:8080/",
          "height": 35
        },
        "id": "PenNP2MAWQhS",
        "outputId": "767a3a99-2869-4322-d695-11a74737a41f"
      },
      "execution_count": 14,
      "outputs": [
        {
          "output_type": "execute_result",
          "data": {
            "text/plain": [
              "'PETR4'"
            ],
            "application/vnd.google.colaboratory.intrinsic+json": {
              "type": "string"
            }
          },
          "metadata": {},
          "execution_count": 14
        }
      ]
    },
    {
      "cell_type": "code",
      "source": [
        "# Do caractere 5 até o final\n",
        "\n",
        "manchete[5:]"
      ],
      "metadata": {
        "colab": {
          "base_uri": "https://localhost:8080/",
          "height": 35
        },
        "id": "g_jAXH6ZWbBy",
        "outputId": "7ec847ad-4bbc-4ab0-9552-65c9c6c87d95"
      },
      "execution_count": 15,
      "outputs": [
        {
          "output_type": "execute_result",
          "data": {
            "text/plain": [
              "' vai aumentar o preço da gasolina'"
            ],
            "application/vnd.google.colaboratory.intrinsic+json": {
              "type": "string"
            }
          },
          "metadata": {},
          "execution_count": 15
        }
      ]
    },
    {
      "cell_type": "code",
      "source": [
        "# Do início até o caractere 10 (sem retornar o 10)\n",
        "\n",
        "manchete[:10]"
      ],
      "metadata": {
        "colab": {
          "base_uri": "https://localhost:8080/",
          "height": 35
        },
        "id": "ythyqFKbWi_h",
        "outputId": "63635f8c-f23d-480c-a57c-d6f3d21e0ec8"
      },
      "execution_count": 16,
      "outputs": [
        {
          "output_type": "execute_result",
          "data": {
            "text/plain": [
              "'PETR4 vai '"
            ],
            "application/vnd.google.colaboratory.intrinsic+json": {
              "type": "string"
            }
          },
          "metadata": {},
          "execution_count": 16
        }
      ]
    },
    {
      "cell_type": "code",
      "source": [
        "# Do início até o fim\n",
        "\n",
        "manchete[:]"
      ],
      "metadata": {
        "colab": {
          "base_uri": "https://localhost:8080/",
          "height": 35
        },
        "id": "Bd3mFLAnWzyS",
        "outputId": "224d460b-dff3-4fb9-a6fd-044a38813580"
      },
      "execution_count": 17,
      "outputs": [
        {
          "output_type": "execute_result",
          "data": {
            "text/plain": [
              "'PETR4 vai aumentar o preço da gasolina'"
            ],
            "application/vnd.google.colaboratory.intrinsic+json": {
              "type": "string"
            }
          },
          "metadata": {},
          "execution_count": 17
        }
      ]
    },
    {
      "cell_type": "code",
      "source": [
        "# A operação de indexing (indexação) também pode começar 'de trás para frente'. Basta utilizar índices negativos.\n",
        "\n",
        "manchete[:-1]"
      ],
      "metadata": {
        "colab": {
          "base_uri": "https://localhost:8080/",
          "height": 35
        },
        "id": "K2pG_wR1XHiZ",
        "outputId": "95890775-0a2d-4dcb-de84-e6b929772848"
      },
      "execution_count": 18,
      "outputs": [
        {
          "output_type": "execute_result",
          "data": {
            "text/plain": [
              "'PETR4 vai aumentar o preço da gasolin'"
            ],
            "application/vnd.google.colaboratory.intrinsic+json": {
              "type": "string"
            }
          },
          "metadata": {},
          "execution_count": 18
        }
      ]
    },
    {
      "cell_type": "code",
      "source": [
        "manchete[:-8]"
      ],
      "metadata": {
        "colab": {
          "base_uri": "https://localhost:8080/",
          "height": 35
        },
        "id": "pAQtVdlQXiJx",
        "outputId": "a1070c8a-d869-4da4-8714-a6ec76577501"
      },
      "execution_count": 19,
      "outputs": [
        {
          "output_type": "execute_result",
          "data": {
            "text/plain": [
              "'PETR4 vai aumentar o preço da '"
            ],
            "application/vnd.google.colaboratory.intrinsic+json": {
              "type": "string"
            }
          },
          "metadata": {},
          "execution_count": 19
        }
      ]
    },
    {
      "cell_type": "code",
      "source": [
        "manchete[5:-8]"
      ],
      "metadata": {
        "colab": {
          "base_uri": "https://localhost:8080/",
          "height": 35
        },
        "id": "mqo7-_1bXwZv",
        "outputId": "9ab5af70-0250-4f18-f5c2-749798692bc6"
      },
      "execution_count": 20,
      "outputs": [
        {
          "output_type": "execute_result",
          "data": {
            "text/plain": [
              "' vai aumentar o preço da '"
            ],
            "application/vnd.google.colaboratory.intrinsic+json": {
              "type": "string"
            }
          },
          "metadata": {},
          "execution_count": 20
        }
      ]
    },
    {
      "cell_type": "markdown",
      "source": [
        "Agora, temos um segundo ':'\n",
        "Ele indica de quantos em quantos caracteres devemos percorrer o intervalo"
      ],
      "metadata": {
        "id": "G2SA10n5c28q"
      }
    },
    {
      "cell_type": "code",
      "source": [
        "# Neste caso, percorremos todo o intervalo, mas indo de -1 em -1 (ou seja, de trás para frente)\n",
        "\n",
        "manchete[::-1]"
      ],
      "metadata": {
        "colab": {
          "base_uri": "https://localhost:8080/",
          "height": 35
        },
        "id": "4Z8cxdZlYqoo",
        "outputId": "86fa0d38-28f8-4319-f210-0d578039ab92"
      },
      "execution_count": 21,
      "outputs": [
        {
          "output_type": "execute_result",
          "data": {
            "text/plain": [
              "'anilosag ad oçerp o ratnemua iav 4RTEP'"
            ],
            "application/vnd.google.colaboratory.intrinsic+json": {
              "type": "string"
            }
          },
          "metadata": {},
          "execution_count": 21
        }
      ]
    },
    {
      "cell_type": "code",
      "source": [
        "manchete[::1]"
      ],
      "metadata": {
        "colab": {
          "base_uri": "https://localhost:8080/",
          "height": 35
        },
        "id": "q-XyR45baU-j",
        "outputId": "faa670b7-d60c-4342-bf9d-7bcd1a0f8422"
      },
      "execution_count": 22,
      "outputs": [
        {
          "output_type": "execute_result",
          "data": {
            "text/plain": [
              "'PETR4 vai aumentar o preço da gasolina'"
            ],
            "application/vnd.google.colaboratory.intrinsic+json": {
              "type": "string"
            }
          },
          "metadata": {},
          "execution_count": 22
        }
      ]
    },
    {
      "cell_type": "code",
      "source": [
        "manchete[::3]"
      ],
      "metadata": {
        "colab": {
          "base_uri": "https://localhost:8080/",
          "height": 35
        },
        "id": "cYx9LM3OatKz",
        "outputId": "cc269153-9afe-47d2-ef17-efb44646b5f1"
      },
      "execution_count": 24,
      "outputs": [
        {
          "output_type": "execute_result",
          "data": {
            "text/plain": [
              "'PRv mt pçdgon'"
            ],
            "application/vnd.google.colaboratory.intrinsic+json": {
              "type": "string"
            }
          },
          "metadata": {},
          "execution_count": 24
        }
      ]
    },
    {
      "cell_type": "code",
      "source": [
        "acao[::-1]"
      ],
      "metadata": {
        "colab": {
          "base_uri": "https://localhost:8080/",
          "height": 35
        },
        "id": "De6WQKpJa0kq",
        "outputId": "89e18aee-7fc9-4e37-904e-4acd3f0ae2c4"
      },
      "execution_count": 25,
      "outputs": [
        {
          "output_type": "execute_result",
          "data": {
            "text/plain": [
              "'4RTEP'"
            ],
            "application/vnd.google.colaboratory.intrinsic+json": {
              "type": "string"
            }
          },
          "metadata": {},
          "execution_count": 25
        }
      ]
    },
    {
      "cell_type": "code",
      "source": [
        "manchete[5::-1]"
      ],
      "metadata": {
        "colab": {
          "base_uri": "https://localhost:8080/",
          "height": 35
        },
        "id": "wCeCyLRxbPmt",
        "outputId": "d2fb95ae-049d-47c4-b5a1-f17011fc7c48"
      },
      "execution_count": 26,
      "outputs": [
        {
          "output_type": "execute_result",
          "data": {
            "text/plain": [
              "' 4RTEP'"
            ],
            "application/vnd.google.colaboratory.intrinsic+json": {
              "type": "string"
            }
          },
          "metadata": {},
          "execution_count": 26
        }
      ]
    },
    {
      "cell_type": "markdown",
      "source": [
        "string[a:b:c]\n",
        "\n",
        "Uma forma de defirnirmos as notações strings[a:b:c] seria algo como: Execute um comando de fatiamento da string em intervalos de 'c', a partir de 'a' (incluso) até b(não incluso). Se 'c' for negativo, contamos de trás para frente. Quando 'c' não está presente no código, o padrão é 1(i.e., fatiar de 1 em 1 caractere). Se 'a' está presente, então você começa o mais distante possível na direção que você está contando (i.e., se 'c' é positivo, começa no primeiro caractere. Se 'c' é negativo, começa no último caractere). Se 'b' não está presente, então você termina o mais distante possível na direção que está contando (i.e., se 'c' é positivo, termina no último caractere. Se 'c' é negativo, termina no primeiro caractere). \n",
        "\n"
      ],
      "metadata": {
        "id": "m7NoIqEAbipS"
      }
    },
    {
      "cell_type": "markdown",
      "source": [
        "## 4.2. Propriedades das strings"
      ],
      "metadata": {
        "id": "M53l7rymeW1v"
      }
    },
    {
      "cell_type": "markdown",
      "source": [
        "* Imutabilidade\n",
        "* Adição\n",
        "* Modificação de upper e lower case"
      ],
      "metadata": {
        "id": "S3WFDRnRecko"
      }
    },
    {
      "cell_type": "code",
      "source": [
        "manchete"
      ],
      "metadata": {
        "colab": {
          "base_uri": "https://localhost:8080/",
          "height": 35
        },
        "id": "60A-zjHeeqKL",
        "outputId": "25326f5c-e893-4aa2-aa96-1a77e5813776"
      },
      "execution_count": 29,
      "outputs": [
        {
          "output_type": "execute_result",
          "data": {
            "text/plain": [
              "'PETR4 vai aumentar o preço da gasolina'"
            ],
            "application/vnd.google.colaboratory.intrinsic+json": {
              "type": "string"
            }
          },
          "metadata": {},
          "execution_count": 29
        }
      ]
    },
    {
      "cell_type": "code",
      "source": [
        "manchete[4:5]"
      ],
      "metadata": {
        "colab": {
          "base_uri": "https://localhost:8080/",
          "height": 35
        },
        "id": "8wYaldCrepfn",
        "outputId": "0b41f96a-b543-4d98-cbf8-92cbc4c25e1d"
      },
      "execution_count": 30,
      "outputs": [
        {
          "output_type": "execute_result",
          "data": {
            "text/plain": [
              "'4'"
            ],
            "application/vnd.google.colaboratory.intrinsic+json": {
              "type": "string"
            }
          },
          "metadata": {},
          "execution_count": 30
        }
      ]
    },
    {
      "cell_type": "code",
      "source": [
        "# Output é um erro, já que a string é imutável, ou se ja, não consigo substituir o '4' pelo '3' no 'PETR4\n",
        "manchete[4:3] = 3"
      ],
      "metadata": {
        "colab": {
          "base_uri": "https://localhost:8080/",
          "height": 200
        },
        "id": "kqyyyIeIexw4",
        "outputId": "6a65330e-65e2-4086-8e7f-2c1341c1ed7f"
      },
      "execution_count": 32,
      "outputs": [
        {
          "output_type": "error",
          "ename": "TypeError",
          "evalue": "ignored",
          "traceback": [
            "\u001b[0;31m---------------------------------------------------------------------------\u001b[0m",
            "\u001b[0;31mTypeError\u001b[0m                                 Traceback (most recent call last)",
            "\u001b[0;32m<ipython-input-32-a6a9bf57d582>\u001b[0m in \u001b[0;36m<module>\u001b[0;34m()\u001b[0m\n\u001b[1;32m      1\u001b[0m \u001b[0;31m# Output é um erro, já que a string é imutável, ou se ja, não consigo substituir o '4' pelo '3' no 'PETR4\u001b[0m\u001b[0;34m\u001b[0m\u001b[0;34m\u001b[0m\u001b[0;34m\u001b[0m\u001b[0m\n\u001b[0;32m----> 2\u001b[0;31m \u001b[0mmanchete\u001b[0m\u001b[0;34m[\u001b[0m\u001b[0;36m4\u001b[0m\u001b[0;34m:\u001b[0m\u001b[0;36m3\u001b[0m\u001b[0;34m]\u001b[0m \u001b[0;34m=\u001b[0m \u001b[0;36m3\u001b[0m\u001b[0;34m\u001b[0m\u001b[0;34m\u001b[0m\u001b[0m\n\u001b[0m",
            "\u001b[0;31mTypeError\u001b[0m: 'str' object does not support item assignment"
          ]
        }
      ]
    },
    {
      "cell_type": "code",
      "source": [
        "# Da mesma forma, não conseguimos substituir mais de uma caractere na string\n",
        "manchete[0:5] = 'VALE3'"
      ],
      "metadata": {
        "colab": {
          "base_uri": "https://localhost:8080/",
          "height": 165
        },
        "id": "vI-GmMUUfpD0",
        "outputId": "42f51c5c-312e-4b4b-ae4d-f257e2cb2929"
      },
      "execution_count": 35,
      "outputs": [
        {
          "output_type": "error",
          "ename": "TypeError",
          "evalue": "ignored",
          "traceback": [
            "\u001b[0;31m---------------------------------------------------------------------------\u001b[0m",
            "\u001b[0;31mTypeError\u001b[0m                                 Traceback (most recent call last)",
            "\u001b[0;32m<ipython-input-35-d59cd3e532ac>\u001b[0m in \u001b[0;36m<module>\u001b[0;34m()\u001b[0m\n\u001b[0;32m----> 1\u001b[0;31m \u001b[0mmanchete\u001b[0m\u001b[0;34m[\u001b[0m\u001b[0;36m0\u001b[0m\u001b[0;34m:\u001b[0m\u001b[0;36m5\u001b[0m\u001b[0;34m]\u001b[0m \u001b[0;34m=\u001b[0m \u001b[0;34m'VALE3'\u001b[0m\u001b[0;34m\u001b[0m\u001b[0;34m\u001b[0m\u001b[0m\n\u001b[0m",
            "\u001b[0;31mTypeError\u001b[0m: 'str' object does not support item assignment"
          ]
        }
      ]
    },
    {
      "cell_type": "code",
      "source": [
        "# Adição de strings (concatenação)\n",
        "\n",
        "manchete + ' por causa da alta do petróleo'"
      ],
      "metadata": {
        "colab": {
          "base_uri": "https://localhost:8080/",
          "height": 35
        },
        "id": "foCSiBJGgCGg",
        "outputId": "b1353243-cc09-4618-fe59-99987ce596fe"
      },
      "execution_count": 37,
      "outputs": [
        {
          "output_type": "execute_result",
          "data": {
            "text/plain": [
              "'PETR4 vai aumentar o preço da gasolina por causa da alta do petróleo'"
            ],
            "application/vnd.google.colaboratory.intrinsic+json": {
              "type": "string"
            }
          },
          "metadata": {},
          "execution_count": 37
        }
      ]
    },
    {
      "cell_type": "code",
      "source": [
        "complemento = ' por causa da alta do petróleo'"
      ],
      "metadata": {
        "id": "upiFln8GfwPh"
      },
      "execution_count": 43,
      "outputs": []
    },
    {
      "cell_type": "code",
      "source": [
        "frasecompleta = manchete + complemento"
      ],
      "metadata": {
        "id": "l4unSDLtgeBH"
      },
      "execution_count": 44,
      "outputs": []
    },
    {
      "cell_type": "code",
      "source": [
        "frasecompleta"
      ],
      "metadata": {
        "colab": {
          "base_uri": "https://localhost:8080/",
          "height": 35
        },
        "id": "Q1gJvVh_guCM",
        "outputId": "e5d6c454-89b9-4d80-b419-3ff446cfb1d8"
      },
      "execution_count": 45,
      "outputs": [
        {
          "output_type": "execute_result",
          "data": {
            "text/plain": [
              "'PETR4 vai aumentar o preço da gasolina por causa da alta do petróleo'"
            ],
            "application/vnd.google.colaboratory.intrinsic+json": {
              "type": "string"
            }
          },
          "metadata": {},
          "execution_count": 45
        }
      ]
    },
    {
      "cell_type": "code",
      "source": [
        "# método lower: modifica todos caracteres para minúsculos\n",
        "\n",
        "frasecompleta.lower()"
      ],
      "metadata": {
        "colab": {
          "base_uri": "https://localhost:8080/",
          "height": 35
        },
        "id": "JkmhBT3pgySf",
        "outputId": "a4ca1876-517f-4879-9d1b-224a4b053e67"
      },
      "execution_count": 50,
      "outputs": [
        {
          "output_type": "execute_result",
          "data": {
            "text/plain": [
              "'petr4 vai aumentar o preço da gasolina por causa da alta do petróleo'"
            ],
            "application/vnd.google.colaboratory.intrinsic+json": {
              "type": "string"
            }
          },
          "metadata": {},
          "execution_count": 50
        }
      ]
    },
    {
      "cell_type": "code",
      "source": [
        "# método upper: modifica todos caracteres para maiúsculos\n",
        "\n",
        "frasecompleta.upper()"
      ],
      "metadata": {
        "colab": {
          "base_uri": "https://localhost:8080/",
          "height": 35
        },
        "id": "HhAAesXRg_P-",
        "outputId": "31a1ebed-a5c3-45bd-e91a-29b71d336673"
      },
      "execution_count": 48,
      "outputs": [
        {
          "output_type": "execute_result",
          "data": {
            "text/plain": [
              "'PETR4 VAI AUMENTAR O PREÇO DA GASOLINA POR CAUSA DA ALTA DO PETRÓLEO'"
            ],
            "application/vnd.google.colaboratory.intrinsic+json": {
              "type": "string"
            }
          },
          "metadata": {},
          "execution_count": 48
        }
      ]
    },
    {
      "cell_type": "markdown",
      "source": [
        "Separar as palavras dentro de uma string com o método 'SPLIT'"
      ],
      "metadata": {
        "id": "D3HPQCnNhOnK"
      }
    },
    {
      "cell_type": "code",
      "source": [
        "fraseseparada = frasecompleta.split()"
      ],
      "metadata": {
        "id": "kApzN1bVhu5W"
      },
      "execution_count": 52,
      "outputs": []
    },
    {
      "cell_type": "code",
      "source": [
        "fraseseparada"
      ],
      "metadata": {
        "colab": {
          "base_uri": "https://localhost:8080/"
        },
        "id": "AO7OehiQiBk3",
        "outputId": "02e2d44c-6f29-4c02-f33d-48fa97fb8411"
      },
      "execution_count": 53,
      "outputs": [
        {
          "output_type": "execute_result",
          "data": {
            "text/plain": [
              "['PETR4',\n",
              " 'vai',\n",
              " 'aumentar',\n",
              " 'o',\n",
              " 'preço',\n",
              " 'da',\n",
              " 'gasolina',\n",
              " 'por',\n",
              " 'causa',\n",
              " 'da',\n",
              " 'alta',\n",
              " 'do',\n",
              " 'petróleo']"
            ]
          },
          "metadata": {},
          "execution_count": 53
        }
      ]
    },
    {
      "cell_type": "code",
      "source": [
        "frasecompleta.split('a')"
      ],
      "metadata": {
        "colab": {
          "base_uri": "https://localhost:8080/"
        },
        "id": "vV8-TWBWiDnG",
        "outputId": "64f3d256-d01d-4c6f-85c3-08de992265da"
      },
      "execution_count": 64,
      "outputs": [
        {
          "output_type": "execute_result",
          "data": {
            "text/plain": [
              "['PETR4 v',\n",
              " 'i ',\n",
              " 'ument',\n",
              " 'r o preço d',\n",
              " ' g',\n",
              " 'solin',\n",
              " ' por c',\n",
              " 'us',\n",
              " ' d',\n",
              " ' ',\n",
              " 'lt',\n",
              " ' do petróleo']"
            ]
          },
          "metadata": {},
          "execution_count": 64
        }
      ]
    },
    {
      "cell_type": "code",
      "source": [
        "# Primeira palavra\n",
        "fraseseparada[0]"
      ],
      "metadata": {
        "colab": {
          "base_uri": "https://localhost:8080/",
          "height": 35
        },
        "id": "LzwXzFjqi4wb",
        "outputId": "b0c1d0f6-1176-431c-9b77-8ec8918f9ffd"
      },
      "execution_count": 60,
      "outputs": [
        {
          "output_type": "execute_result",
          "data": {
            "text/plain": [
              "'PETR4'"
            ],
            "application/vnd.google.colaboratory.intrinsic+json": {
              "type": "string"
            }
          },
          "metadata": {},
          "execution_count": 60
        }
      ]
    },
    {
      "cell_type": "code",
      "source": [
        "# Última palavra\n",
        "fraseseparada[-1]"
      ],
      "metadata": {
        "colab": {
          "base_uri": "https://localhost:8080/",
          "height": 35
        },
        "id": "36c48YkVi96r",
        "outputId": "455262d2-d822-4af1-9d3e-c264b739efbe"
      },
      "execution_count": 62,
      "outputs": [
        {
          "output_type": "execute_result",
          "data": {
            "text/plain": [
              "'petróleo'"
            ],
            "application/vnd.google.colaboratory.intrinsic+json": {
              "type": "string"
            }
          },
          "metadata": {},
          "execution_count": 62
        }
      ]
    },
    {
      "cell_type": "markdown",
      "source": [
        "## 5. Listas"
      ],
      "metadata": {
        "id": "u6AdQ2RjjIJl"
      }
    },
    {
      "cell_type": "code",
      "source": [
        "# Listas são marcadas pelos colchetes e permitem a alocação de itens (ou elementos) repetidos\n",
        "# Estão entre os objetos mais fáceis de manipulação pois aceitam substituições, adições, repetições\n",
        "\n",
        "nomes = ['André', 'João', 'José']"
      ],
      "metadata": {
        "id": "VFRLC7BBvimi"
      },
      "execution_count": 70,
      "outputs": []
    },
    {
      "cell_type": "code",
      "source": [
        "nomes"
      ],
      "metadata": {
        "colab": {
          "base_uri": "https://localhost:8080/"
        },
        "id": "JBZMeOE1viGa",
        "outputId": "e27d8aa8-9730-47d3-c2a8-f380625751ae"
      },
      "execution_count": 67,
      "outputs": [
        {
          "output_type": "execute_result",
          "data": {
            "text/plain": [
              "['André', 'João', 'José']"
            ]
          },
          "metadata": {},
          "execution_count": 67
        }
      ]
    },
    {
      "cell_type": "code",
      "source": [
        "type(nomes)"
      ],
      "metadata": {
        "colab": {
          "base_uri": "https://localhost:8080/"
        },
        "id": "7YhGrVWdvxB5",
        "outputId": "85c5cdd5-b98a-4a90-eac6-99a8ba496c32"
      },
      "execution_count": 69,
      "outputs": [
        {
          "output_type": "execute_result",
          "data": {
            "text/plain": [
              "list"
            ]
          },
          "metadata": {},
          "execution_count": 69
        }
      ]
    },
    {
      "cell_type": "code",
      "source": [
        "# Permitem misturar strings com números\n",
        "\n",
        "listamisturada = ['André', 'João', 'José', 30, 29, 28]"
      ],
      "metadata": {
        "id": "Ijan_eoDzxzj"
      },
      "execution_count": 71,
      "outputs": []
    },
    {
      "cell_type": "code",
      "source": [
        "listamisturada"
      ],
      "metadata": {
        "colab": {
          "base_uri": "https://localhost:8080/"
        },
        "id": "To4stWoN5opb",
        "outputId": "f79adfad-da96-4107-895b-2a6d2cf3e789"
      },
      "execution_count": 72,
      "outputs": [
        {
          "output_type": "execute_result",
          "data": {
            "text/plain": [
              "['André', 'João', 'José', 30, 29, 28]"
            ]
          },
          "metadata": {},
          "execution_count": 72
        }
      ]
    },
    {
      "cell_type": "code",
      "source": [
        "type(listamisturada)"
      ],
      "metadata": {
        "colab": {
          "base_uri": "https://localhost:8080/"
        },
        "id": "0RDjJWsi5r4O",
        "outputId": "6554edf4-454a-448a-f67b-c85fefe48d1a"
      },
      "execution_count": 73,
      "outputs": [
        {
          "output_type": "execute_result",
          "data": {
            "text/plain": [
              "list"
            ]
          },
          "metadata": {},
          "execution_count": 73
        }
      ]
    },
    {
      "cell_type": "code",
      "source": [
        "listamisturada[3]"
      ],
      "metadata": {
        "colab": {
          "base_uri": "https://localhost:8080/"
        },
        "id": "gjaTWY-j5wCP",
        "outputId": "7ebe863b-cfbf-4dfb-a58c-e19529351434"
      },
      "execution_count": 74,
      "outputs": [
        {
          "output_type": "execute_result",
          "data": {
            "text/plain": [
              "30"
            ]
          },
          "metadata": {},
          "execution_count": 74
        }
      ]
    },
    {
      "cell_type": "code",
      "source": [
        "# Listas seguem o mesmo padrão de idexação e slicing. Cada elemento é separado por ',' (vírgula)\n",
        "\n",
        "type(listamisturada[0])"
      ],
      "metadata": {
        "colab": {
          "base_uri": "https://localhost:8080/"
        },
        "id": "gL4EGI2Z5zYQ",
        "outputId": "70cae0c8-01d3-48a1-fdb6-4dede9af02c6"
      },
      "execution_count": 75,
      "outputs": [
        {
          "output_type": "execute_result",
          "data": {
            "text/plain": [
              "str"
            ]
          },
          "metadata": {},
          "execution_count": 75
        }
      ]
    },
    {
      "cell_type": "code",
      "source": [
        "# Note que o elemento de índice '3' (30) é um número inteiro\n",
        "\n",
        "type(listamisturada[3])"
      ],
      "metadata": {
        "colab": {
          "base_uri": "https://localhost:8080/"
        },
        "id": "DXsPfJY053dO",
        "outputId": "97f5b3f6-87b2-4516-dc57-42f92356ddc2"
      },
      "execution_count": 76,
      "outputs": [
        {
          "output_type": "execute_result",
          "data": {
            "text/plain": [
              "int"
            ]
          },
          "metadata": {},
          "execution_count": 76
        }
      ]
    },
    {
      "cell_type": "code",
      "source": [
        "# Conseguimos criar novas strings resultantes de operações com outras strings, inclusive procedentes de listas\n",
        "\n",
        "'Os aprovados foram ' + nomes[0] + ' e ' + nomes[2]"
      ],
      "metadata": {
        "colab": {
          "base_uri": "https://localhost:8080/",
          "height": 35
        },
        "id": "VyRc1KJs59P-",
        "outputId": "f988c92a-6e67-4366-824e-5ae2b6d80f8d"
      },
      "execution_count": 80,
      "outputs": [
        {
          "output_type": "execute_result",
          "data": {
            "text/plain": [
              "'Os aprovados foram André e José'"
            ],
            "application/vnd.google.colaboratory.intrinsic+json": {
              "type": "string"
            }
          },
          "metadata": {},
          "execution_count": 80
        }
      ]
    },
    {
      "cell_type": "code",
      "source": [
        "# Nesse caso. embora sejam números, então entre aspas e portanto, são lidos como strings\n",
        "\n",
        "lista = ['28', '29', '30']"
      ],
      "metadata": {
        "id": "VQd2Uwjf6_dP"
      },
      "execution_count": 84,
      "outputs": []
    },
    {
      "cell_type": "code",
      "source": [
        "lista[0]"
      ],
      "metadata": {
        "colab": {
          "base_uri": "https://localhost:8080/",
          "height": 35
        },
        "id": "VSBZJChX8Evk",
        "outputId": "5994dfa2-f0cb-4d44-f3b5-5fa27a019572"
      },
      "execution_count": 85,
      "outputs": [
        {
          "output_type": "execute_result",
          "data": {
            "text/plain": [
              "'28'"
            ],
            "application/vnd.google.colaboratory.intrinsic+json": {
              "type": "string"
            }
          },
          "metadata": {},
          "execution_count": 85
        }
      ]
    },
    {
      "cell_type": "code",
      "source": [
        "type(lista[0])"
      ],
      "metadata": {
        "colab": {
          "base_uri": "https://localhost:8080/"
        },
        "id": "EgLa00pP8JAj",
        "outputId": "fae6d87d-a5f4-4720-b6f0-7b0aebd15191"
      },
      "execution_count": 86,
      "outputs": [
        {
          "output_type": "execute_result",
          "data": {
            "text/plain": [
              "str"
            ]
          },
          "metadata": {},
          "execution_count": 86
        }
      ]
    },
    {
      "cell_type": "code",
      "source": [
        "' A minha idade é ' + lista[0]"
      ],
      "metadata": {
        "colab": {
          "base_uri": "https://localhost:8080/",
          "height": 35
        },
        "id": "-gQ3QQQn7BcE",
        "outputId": "1c13afdd-a2af-4763-c794-9a77a00721c8"
      },
      "execution_count": 87,
      "outputs": [
        {
          "output_type": "execute_result",
          "data": {
            "text/plain": [
              "' A minha idade é 28'"
            ],
            "application/vnd.google.colaboratory.intrinsic+json": {
              "type": "string"
            }
          },
          "metadata": {},
          "execution_count": 87
        }
      ]
    },
    {
      "cell_type": "code",
      "source": [
        "lista[2]"
      ],
      "metadata": {
        "colab": {
          "base_uri": "https://localhost:8080/",
          "height": 35
        },
        "id": "ntb0EPyu8QUy",
        "outputId": "16dfcdfb-a2a8-42be-ae58-d45ef4852aea"
      },
      "execution_count": 88,
      "outputs": [
        {
          "output_type": "execute_result",
          "data": {
            "text/plain": [
              "'30'"
            ],
            "application/vnd.google.colaboratory.intrinsic+json": {
              "type": "string"
            }
          },
          "metadata": {},
          "execution_count": 88
        }
      ]
    },
    {
      "cell_type": "code",
      "source": [
        "# As listas são mutáveis, ao contrário das strings\n",
        "\n",
        "lista[2] = '31'"
      ],
      "metadata": {
        "id": "B2xQInbT8SIM"
      },
      "execution_count": 89,
      "outputs": []
    },
    {
      "cell_type": "code",
      "source": [
        "lista"
      ],
      "metadata": {
        "colab": {
          "base_uri": "https://localhost:8080/"
        },
        "id": "1O9bcSNX8ZkS",
        "outputId": "14a36257-0cd1-4704-f896-8837fc6875d5"
      },
      "execution_count": 90,
      "outputs": [
        {
          "output_type": "execute_result",
          "data": {
            "text/plain": [
              "['28', '29', '31']"
            ]
          },
          "metadata": {},
          "execution_count": 90
        }
      ]
    },
    {
      "cell_type": "code",
      "source": [
        "# Também são aditivas\n",
        "\n",
        "novalista = nomes + lista"
      ],
      "metadata": {
        "id": "6cW6JFbU_tya"
      },
      "execution_count": 92,
      "outputs": []
    },
    {
      "cell_type": "code",
      "source": [
        "novalista"
      ],
      "metadata": {
        "colab": {
          "base_uri": "https://localhost:8080/"
        },
        "id": "e5T0QmH7AIyC",
        "outputId": "abd4ac8a-73a0-46b2-e736-3d82f578d276"
      },
      "execution_count": 93,
      "outputs": [
        {
          "output_type": "execute_result",
          "data": {
            "text/plain": [
              "['André', 'João', 'José', '28', '29', '31']"
            ]
          },
          "metadata": {},
          "execution_count": 93
        }
      ]
    },
    {
      "cell_type": "code",
      "source": [
        "# Repetir a lista 2 vezes\n",
        "\n",
        "novalista * 2"
      ],
      "metadata": {
        "colab": {
          "base_uri": "https://localhost:8080/"
        },
        "id": "DJJKDu0BALMy",
        "outputId": "7def5026-b8df-4e6b-8309-ef226b063dd3"
      },
      "execution_count": 95,
      "outputs": [
        {
          "output_type": "execute_result",
          "data": {
            "text/plain": [
              "['André',\n",
              " 'João',\n",
              " 'José',\n",
              " '28',\n",
              " '29',\n",
              " '31',\n",
              " 'André',\n",
              " 'João',\n",
              " 'José',\n",
              " '28',\n",
              " '29',\n",
              " '31']"
            ]
          },
          "metadata": {},
          "execution_count": 95
        }
      ]
    },
    {
      "cell_type": "code",
      "source": [
        "# adicionar um novo elemento à lista. Método 'append'\n",
        "# note que estou incluindo um item númerico (integer)\n",
        "\n",
        "\n",
        "lista.append(30)"
      ],
      "metadata": {
        "colab": {
          "base_uri": "https://localhost:8080/",
          "height": 35
        },
        "id": "aOKf2iYBATSE",
        "outputId": "4870edaf-e464-42c7-bf8c-bd922bb2c335"
      },
      "execution_count": 107,
      "outputs": [
        {
          "output_type": "execute_result",
          "data": {
            "text/plain": [
              "'30'"
            ],
            "application/vnd.google.colaboratory.intrinsic+json": {
              "type": "string"
            }
          },
          "metadata": {},
          "execution_count": 107
        }
      ]
    },
    {
      "cell_type": "code",
      "source": [
        "lista\n"
      ],
      "metadata": {
        "colab": {
          "base_uri": "https://localhost:8080/"
        },
        "id": "DkLOXGHPAuRZ",
        "outputId": "4fb7be0d-d428-4f16-ce20-5614fa19a56b"
      },
      "execution_count": 108,
      "outputs": [
        {
          "output_type": "execute_result",
          "data": {
            "text/plain": [
              "['28', '29', '31', 30]"
            ]
          },
          "metadata": {},
          "execution_count": 108
        }
      ]
    },
    {
      "cell_type": "code",
      "source": [
        "type(lista[3])"
      ],
      "metadata": {
        "colab": {
          "base_uri": "https://localhost:8080/"
        },
        "id": "K3io6UcYA9mK",
        "outputId": "1ecf7883-975c-467f-8d5d-fd53505df3d4"
      },
      "execution_count": 109,
      "outputs": [
        {
          "output_type": "execute_result",
          "data": {
            "text/plain": [
              "int"
            ]
          },
          "metadata": {},
          "execution_count": 109
        }
      ]
    },
    {
      "cell_type": "code",
      "source": [
        "# Método 'pop' remove o último item\n",
        "\n",
        "lista.pop()"
      ],
      "metadata": {
        "colab": {
          "base_uri": "https://localhost:8080/"
        },
        "id": "c8MGK5jPBRnQ",
        "outputId": "e987f955-1a8b-4af3-b6b8-8f954991325b"
      },
      "execution_count": 111,
      "outputs": [
        {
          "output_type": "execute_result",
          "data": {
            "text/plain": [
              "30"
            ]
          },
          "metadata": {},
          "execution_count": 111
        }
      ]
    },
    {
      "cell_type": "code",
      "source": [
        "lista"
      ],
      "metadata": {
        "colab": {
          "base_uri": "https://localhost:8080/"
        },
        "id": "U289FesiBhsb",
        "outputId": "2bf6440a-32b0-4423-8708-21848f92ccc7"
      },
      "execution_count": 112,
      "outputs": [
        {
          "output_type": "execute_result",
          "data": {
            "text/plain": [
              "['28', '29', '31']"
            ]
          },
          "metadata": {},
          "execution_count": 112
        }
      ]
    },
    {
      "cell_type": "code",
      "source": [
        "lista.pop()"
      ],
      "metadata": {
        "colab": {
          "base_uri": "https://localhost:8080/",
          "height": 35
        },
        "id": "VKE-hsYnBj7H",
        "outputId": "bfbe9ee7-93fd-4d6e-b81d-99d8a5435272"
      },
      "execution_count": 113,
      "outputs": [
        {
          "output_type": "execute_result",
          "data": {
            "text/plain": [
              "'31'"
            ],
            "application/vnd.google.colaboratory.intrinsic+json": {
              "type": "string"
            }
          },
          "metadata": {},
          "execution_count": 113
        }
      ]
    },
    {
      "cell_type": "code",
      "source": [
        "lista"
      ],
      "metadata": {
        "colab": {
          "base_uri": "https://localhost:8080/"
        },
        "id": "BQpUnVYzBnGH",
        "outputId": "e8cf3661-d6e2-478c-9ca3-b4717d564294"
      },
      "execution_count": 115,
      "outputs": [
        {
          "output_type": "execute_result",
          "data": {
            "text/plain": [
              "['28', '29']"
            ]
          },
          "metadata": {},
          "execution_count": 115
        }
      ]
    },
    {
      "cell_type": "code",
      "source": [
        ""
      ],
      "metadata": {
        "id": "3yK-KKaKBpV4"
      },
      "execution_count": null,
      "outputs": []
    }
  ]
}