{
  "nbformat": 4,
  "nbformat_minor": 0,
  "metadata": {
    "colab": {
      "name": "M1A2_Estruturas_basicas_para_armazenamento_de_dados.ipynb",
      "provenance": [],
      "authorship_tag": "ABX9TyMEUiUVUipNpxpMDcyqBQsm",
      "include_colab_link": true
    },
    "kernelspec": {
      "name": "python3",
      "display_name": "Python 3"
    },
    "language_info": {
      "name": "python"
    }
  },
  "cells": [
    {
      "cell_type": "markdown",
      "metadata": {
        "id": "view-in-github",
        "colab_type": "text"
      },
      "source": [
        "<a href=\"https://colab.research.google.com/github/jefersonmatsui/Data_Science_com_Python_Modal_Mais/blob/main/M1A2_Estruturas_basicas_para_armazenamento_de_dados.ipynb\" target=\"_parent\"><img src=\"https://colab.research.google.com/assets/colab-badge.svg\" alt=\"Open In Colab\"/></a>"
      ]
    },
    {
      "cell_type": "markdown",
      "source": [
        "## 4. Strings"
      ],
      "metadata": {
        "id": "J90hAuZmbxtN"
      }
    },
    {
      "cell_type": "code",
      "source": [
        "acao = 'PETR4'"
      ],
      "metadata": {
        "id": "L_A18QYyx9lO"
      },
      "execution_count": 1,
      "outputs": []
    },
    {
      "cell_type": "code",
      "source": [
        "type(acao)"
      ],
      "metadata": {
        "colab": {
          "base_uri": "https://localhost:8080/"
        },
        "id": "MVlVA8PoyCSD",
        "outputId": "84a11e57-3323-4e5a-ccb0-86cac6f908d9"
      },
      "execution_count": 2,
      "outputs": [
        {
          "output_type": "execute_result",
          "data": {
            "text/plain": [
              "str"
            ]
          },
          "metadata": {},
          "execution_count": 2
        }
      ]
    },
    {
      "cell_type": "markdown",
      "source": [
        ""
      ],
      "metadata": {
        "id": "JBXc_TLsk4ki"
      }
    },
    {
      "cell_type": "markdown",
      "source": [
        "## 4.1. Indexação e 'slicing' (fatiamento)"
      ],
      "metadata": {
        "id": "k3Adi1OD-5kb"
      }
    },
    {
      "cell_type": "code",
      "source": [
        "# Suponha que você viu a seguinte manchete:\n",
        "\n",
        "manchete = 'PETR4 vai aumentar o preço da gasolina'"
      ],
      "metadata": {
        "id": "e2ONaFu-_CkJ"
      },
      "execution_count": 3,
      "outputs": []
    },
    {
      "cell_type": "code",
      "source": [
        "print(manchete)"
      ],
      "metadata": {
        "colab": {
          "base_uri": "https://localhost:8080/"
        },
        "id": "nBCX2tJa_HUU",
        "outputId": "7da2511d-2e6a-41f9-b803-626b9ebac933"
      },
      "execution_count": 4,
      "outputs": [
        {
          "output_type": "stream",
          "name": "stdout",
          "text": [
            "PETR4 vai aumentar o preço da gasolina\n"
          ]
        }
      ]
    },
    {
      "cell_type": "code",
      "source": [
        "# Tipo\n",
        "type(manchete)"
      ],
      "metadata": {
        "colab": {
          "base_uri": "https://localhost:8080/"
        },
        "id": "YzZrbXnrCZLP",
        "outputId": "9dc70002-6e4b-4fee-9e48-1beaf0b3ae61"
      },
      "execution_count": 5,
      "outputs": [
        {
          "output_type": "execute_result",
          "data": {
            "text/plain": [
              "str"
            ]
          },
          "metadata": {},
          "execution_count": 5
        }
      ]
    },
    {
      "cell_type": "code",
      "source": [
        "# Comprimento (length) do objeto, neste caso o número de caracteres [começando do zero]\n",
        "len(manchete)"
      ],
      "metadata": {
        "colab": {
          "base_uri": "https://localhost:8080/"
        },
        "id": "0rNgMfi_CjI3",
        "outputId": "a3400b83-2d8f-46e7-bd57-8aa860406432"
      },
      "execution_count": 6,
      "outputs": [
        {
          "output_type": "execute_result",
          "data": {
            "text/plain": [
              "38"
            ]
          },
          "metadata": {},
          "execution_count": 6
        }
      ]
    },
    {
      "cell_type": "code",
      "source": [
        "manchete[0]"
      ],
      "metadata": {
        "colab": {
          "base_uri": "https://localhost:8080/",
          "height": 35
        },
        "id": "Ipqm9G_dClBy",
        "outputId": "881ff802-4a08-4513-fd4c-fa3b85947b35"
      },
      "execution_count": 7,
      "outputs": [
        {
          "output_type": "execute_result",
          "data": {
            "text/plain": [
              "'P'"
            ],
            "application/vnd.google.colaboratory.intrinsic+json": {
              "type": "string"
            }
          },
          "metadata": {},
          "execution_count": 7
        }
      ]
    },
    {
      "cell_type": "code",
      "source": [
        "manchete[1]"
      ],
      "metadata": {
        "colab": {
          "base_uri": "https://localhost:8080/",
          "height": 35
        },
        "id": "4iqzBnSdliUh",
        "outputId": "2e31a0bf-51f6-416d-822a-0b1029a42613"
      },
      "execution_count": 8,
      "outputs": [
        {
          "output_type": "execute_result",
          "data": {
            "text/plain": [
              "'E'"
            ],
            "application/vnd.google.colaboratory.intrinsic+json": {
              "type": "string"
            }
          },
          "metadata": {},
          "execution_count": 8
        }
      ]
    },
    {
      "cell_type": "code",
      "source": [
        "manchete[4]"
      ],
      "metadata": {
        "colab": {
          "base_uri": "https://localhost:8080/",
          "height": 35
        },
        "id": "qkfb1ytLlqDZ",
        "outputId": "c25354a5-1764-4601-958d-0e294d8a06cd"
      },
      "execution_count": 9,
      "outputs": [
        {
          "output_type": "execute_result",
          "data": {
            "text/plain": [
              "'4'"
            ],
            "application/vnd.google.colaboratory.intrinsic+json": {
              "type": "string"
            }
          },
          "metadata": {},
          "execution_count": 9
        }
      ]
    },
    {
      "cell_type": "code",
      "source": [
        "manchete[5]"
      ],
      "metadata": {
        "id": "Hie-zcsaJ0Jm",
        "colab": {
          "base_uri": "https://localhost:8080/",
          "height": 35
        },
        "outputId": "cc94cd6b-dc39-4ec4-e848-430579466ed1"
      },
      "execution_count": 10,
      "outputs": [
        {
          "output_type": "execute_result",
          "data": {
            "text/plain": [
              "' '"
            ],
            "application/vnd.google.colaboratory.intrinsic+json": {
              "type": "string"
            }
          },
          "metadata": {},
          "execution_count": 10
        }
      ]
    },
    {
      "cell_type": "code",
      "source": [
        "manchete[0:4]"
      ],
      "metadata": {
        "colab": {
          "base_uri": "https://localhost:8080/",
          "height": 35
        },
        "id": "Q7i0BiA1mKDD",
        "outputId": "0a18857f-89b7-473d-bc07-af79c8b63d1c"
      },
      "execution_count": 11,
      "outputs": [
        {
          "output_type": "execute_result",
          "data": {
            "text/plain": [
              "'PETR'"
            ],
            "application/vnd.google.colaboratory.intrinsic+json": {
              "type": "string"
            }
          },
          "metadata": {},
          "execution_count": 11
        }
      ]
    },
    {
      "cell_type": "code",
      "source": [
        "manchete[0:6]"
      ],
      "metadata": {
        "colab": {
          "base_uri": "https://localhost:8080/",
          "height": 35
        },
        "id": "h01PAQLAWGrA",
        "outputId": "aac53f16-62d7-493f-bfb7-acce869b8394"
      },
      "execution_count": 12,
      "outputs": [
        {
          "output_type": "execute_result",
          "data": {
            "text/plain": [
              "'PETR4 '"
            ],
            "application/vnd.google.colaboratory.intrinsic+json": {
              "type": "string"
            }
          },
          "metadata": {},
          "execution_count": 12
        }
      ]
    },
    {
      "cell_type": "code",
      "source": [
        "acao = manchete[0:5]"
      ],
      "metadata": {
        "id": "2XarHN0RWMYq"
      },
      "execution_count": 13,
      "outputs": []
    },
    {
      "cell_type": "code",
      "source": [
        "acao"
      ],
      "metadata": {
        "colab": {
          "base_uri": "https://localhost:8080/",
          "height": 35
        },
        "id": "PenNP2MAWQhS",
        "outputId": "767a3a99-2869-4322-d695-11a74737a41f"
      },
      "execution_count": 14,
      "outputs": [
        {
          "output_type": "execute_result",
          "data": {
            "text/plain": [
              "'PETR4'"
            ],
            "application/vnd.google.colaboratory.intrinsic+json": {
              "type": "string"
            }
          },
          "metadata": {},
          "execution_count": 14
        }
      ]
    },
    {
      "cell_type": "code",
      "source": [
        "# Do caractere 5 até o final\n",
        "\n",
        "manchete[5:]"
      ],
      "metadata": {
        "colab": {
          "base_uri": "https://localhost:8080/",
          "height": 35
        },
        "id": "g_jAXH6ZWbBy",
        "outputId": "7ec847ad-4bbc-4ab0-9552-65c9c6c87d95"
      },
      "execution_count": 15,
      "outputs": [
        {
          "output_type": "execute_result",
          "data": {
            "text/plain": [
              "' vai aumentar o preço da gasolina'"
            ],
            "application/vnd.google.colaboratory.intrinsic+json": {
              "type": "string"
            }
          },
          "metadata": {},
          "execution_count": 15
        }
      ]
    },
    {
      "cell_type": "code",
      "source": [
        "# Do início até o caractere 10 (sem retornar o 10)\n",
        "\n",
        "manchete[:10]"
      ],
      "metadata": {
        "colab": {
          "base_uri": "https://localhost:8080/",
          "height": 35
        },
        "id": "ythyqFKbWi_h",
        "outputId": "63635f8c-f23d-480c-a57c-d6f3d21e0ec8"
      },
      "execution_count": 16,
      "outputs": [
        {
          "output_type": "execute_result",
          "data": {
            "text/plain": [
              "'PETR4 vai '"
            ],
            "application/vnd.google.colaboratory.intrinsic+json": {
              "type": "string"
            }
          },
          "metadata": {},
          "execution_count": 16
        }
      ]
    },
    {
      "cell_type": "code",
      "source": [
        "# Do início até o fim\n",
        "\n",
        "manchete[:]"
      ],
      "metadata": {
        "colab": {
          "base_uri": "https://localhost:8080/",
          "height": 35
        },
        "id": "Bd3mFLAnWzyS",
        "outputId": "224d460b-dff3-4fb9-a6fd-044a38813580"
      },
      "execution_count": 17,
      "outputs": [
        {
          "output_type": "execute_result",
          "data": {
            "text/plain": [
              "'PETR4 vai aumentar o preço da gasolina'"
            ],
            "application/vnd.google.colaboratory.intrinsic+json": {
              "type": "string"
            }
          },
          "metadata": {},
          "execution_count": 17
        }
      ]
    },
    {
      "cell_type": "code",
      "source": [
        "# A operação de indexing (indexação) também pode começar 'de trás para frente'. Basta utilizar índices negativos.\n",
        "\n",
        "manchete[:-1]"
      ],
      "metadata": {
        "colab": {
          "base_uri": "https://localhost:8080/",
          "height": 35
        },
        "id": "K2pG_wR1XHiZ",
        "outputId": "95890775-0a2d-4dcb-de84-e6b929772848"
      },
      "execution_count": 18,
      "outputs": [
        {
          "output_type": "execute_result",
          "data": {
            "text/plain": [
              "'PETR4 vai aumentar o preço da gasolin'"
            ],
            "application/vnd.google.colaboratory.intrinsic+json": {
              "type": "string"
            }
          },
          "metadata": {},
          "execution_count": 18
        }
      ]
    },
    {
      "cell_type": "code",
      "source": [
        "manchete[:-8]"
      ],
      "metadata": {
        "colab": {
          "base_uri": "https://localhost:8080/",
          "height": 35
        },
        "id": "pAQtVdlQXiJx",
        "outputId": "a1070c8a-d869-4da4-8714-a6ec76577501"
      },
      "execution_count": 19,
      "outputs": [
        {
          "output_type": "execute_result",
          "data": {
            "text/plain": [
              "'PETR4 vai aumentar o preço da '"
            ],
            "application/vnd.google.colaboratory.intrinsic+json": {
              "type": "string"
            }
          },
          "metadata": {},
          "execution_count": 19
        }
      ]
    },
    {
      "cell_type": "code",
      "source": [
        "manchete[5:-8]"
      ],
      "metadata": {
        "colab": {
          "base_uri": "https://localhost:8080/",
          "height": 35
        },
        "id": "mqo7-_1bXwZv",
        "outputId": "9ab5af70-0250-4f18-f5c2-749798692bc6"
      },
      "execution_count": 20,
      "outputs": [
        {
          "output_type": "execute_result",
          "data": {
            "text/plain": [
              "' vai aumentar o preço da '"
            ],
            "application/vnd.google.colaboratory.intrinsic+json": {
              "type": "string"
            }
          },
          "metadata": {},
          "execution_count": 20
        }
      ]
    },
    {
      "cell_type": "markdown",
      "source": [
        "Agora, temos um segundo ':'\n",
        "Ele indica de quantos em quantos caracteres devemos percorrer o intervalo"
      ],
      "metadata": {
        "id": "G2SA10n5c28q"
      }
    },
    {
      "cell_type": "code",
      "source": [
        "# Neste caso, percorremos todo o intervalo, mas indo de -1 em -1 (ou seja, de trás para frente)\n",
        "\n",
        "manchete[::-1]"
      ],
      "metadata": {
        "colab": {
          "base_uri": "https://localhost:8080/",
          "height": 35
        },
        "id": "4Z8cxdZlYqoo",
        "outputId": "86fa0d38-28f8-4319-f210-0d578039ab92"
      },
      "execution_count": 21,
      "outputs": [
        {
          "output_type": "execute_result",
          "data": {
            "text/plain": [
              "'anilosag ad oçerp o ratnemua iav 4RTEP'"
            ],
            "application/vnd.google.colaboratory.intrinsic+json": {
              "type": "string"
            }
          },
          "metadata": {},
          "execution_count": 21
        }
      ]
    },
    {
      "cell_type": "code",
      "source": [
        "manchete[::1]"
      ],
      "metadata": {
        "colab": {
          "base_uri": "https://localhost:8080/",
          "height": 35
        },
        "id": "q-XyR45baU-j",
        "outputId": "faa670b7-d60c-4342-bf9d-7bcd1a0f8422"
      },
      "execution_count": 22,
      "outputs": [
        {
          "output_type": "execute_result",
          "data": {
            "text/plain": [
              "'PETR4 vai aumentar o preço da gasolina'"
            ],
            "application/vnd.google.colaboratory.intrinsic+json": {
              "type": "string"
            }
          },
          "metadata": {},
          "execution_count": 22
        }
      ]
    },
    {
      "cell_type": "code",
      "source": [
        "manchete[::3]"
      ],
      "metadata": {
        "colab": {
          "base_uri": "https://localhost:8080/",
          "height": 35
        },
        "id": "cYx9LM3OatKz",
        "outputId": "cc269153-9afe-47d2-ef17-efb44646b5f1"
      },
      "execution_count": 24,
      "outputs": [
        {
          "output_type": "execute_result",
          "data": {
            "text/plain": [
              "'PRv mt pçdgon'"
            ],
            "application/vnd.google.colaboratory.intrinsic+json": {
              "type": "string"
            }
          },
          "metadata": {},
          "execution_count": 24
        }
      ]
    },
    {
      "cell_type": "code",
      "source": [
        "acao[::-1]"
      ],
      "metadata": {
        "colab": {
          "base_uri": "https://localhost:8080/",
          "height": 35
        },
        "id": "De6WQKpJa0kq",
        "outputId": "89e18aee-7fc9-4e37-904e-4acd3f0ae2c4"
      },
      "execution_count": 25,
      "outputs": [
        {
          "output_type": "execute_result",
          "data": {
            "text/plain": [
              "'4RTEP'"
            ],
            "application/vnd.google.colaboratory.intrinsic+json": {
              "type": "string"
            }
          },
          "metadata": {},
          "execution_count": 25
        }
      ]
    },
    {
      "cell_type": "code",
      "source": [
        "manchete[5::-1]"
      ],
      "metadata": {
        "colab": {
          "base_uri": "https://localhost:8080/",
          "height": 35
        },
        "id": "wCeCyLRxbPmt",
        "outputId": "d2fb95ae-049d-47c4-b5a1-f17011fc7c48"
      },
      "execution_count": 26,
      "outputs": [
        {
          "output_type": "execute_result",
          "data": {
            "text/plain": [
              "' 4RTEP'"
            ],
            "application/vnd.google.colaboratory.intrinsic+json": {
              "type": "string"
            }
          },
          "metadata": {},
          "execution_count": 26
        }
      ]
    },
    {
      "cell_type": "markdown",
      "source": [
        "string[a:b:c]\n",
        "\n",
        "Uma forma de defirnirmos as notações strings[a:b:c] seria algo como: Execute um comando de fatiamento da string em intervalos de 'c', a partir de 'a' (incluso) até b(não incluso). Se 'c' for negativo, contamos de trás para frente. Quando 'c' não está presente no código, o padrão é 1(i.e., fatiar de 1 em 1 caractere). Se 'a' está presente, então você começa o mais distante possível na direção que você está contando (i.e., se 'c' é positivo, começa no primeiro caractere. Se 'c' é negativo, começa no último caractere). Se 'b' não está presente, então você termina o mais distante possível na direção que está contando (i.e., se 'c' é positivo, termina no último caractere. Se 'c' é negativo, termina no primeiro caractere). \n",
        "\n"
      ],
      "metadata": {
        "id": "m7NoIqEAbipS"
      }
    },
    {
      "cell_type": "markdown",
      "source": [
        "## 4.2. Propriedades das strings"
      ],
      "metadata": {
        "id": "M53l7rymeW1v"
      }
    },
    {
      "cell_type": "markdown",
      "source": [
        "* Imutabilidade\n",
        "* Adição\n",
        "* Modificação de upper e lower case"
      ],
      "metadata": {
        "id": "S3WFDRnRecko"
      }
    },
    {
      "cell_type": "code",
      "source": [
        "manchete"
      ],
      "metadata": {
        "colab": {
          "base_uri": "https://localhost:8080/",
          "height": 35
        },
        "id": "60A-zjHeeqKL",
        "outputId": "25326f5c-e893-4aa2-aa96-1a77e5813776"
      },
      "execution_count": 29,
      "outputs": [
        {
          "output_type": "execute_result",
          "data": {
            "text/plain": [
              "'PETR4 vai aumentar o preço da gasolina'"
            ],
            "application/vnd.google.colaboratory.intrinsic+json": {
              "type": "string"
            }
          },
          "metadata": {},
          "execution_count": 29
        }
      ]
    },
    {
      "cell_type": "code",
      "source": [
        "manchete[4:5]"
      ],
      "metadata": {
        "colab": {
          "base_uri": "https://localhost:8080/",
          "height": 35
        },
        "id": "8wYaldCrepfn",
        "outputId": "0b41f96a-b543-4d98-cbf8-92cbc4c25e1d"
      },
      "execution_count": 30,
      "outputs": [
        {
          "output_type": "execute_result",
          "data": {
            "text/plain": [
              "'4'"
            ],
            "application/vnd.google.colaboratory.intrinsic+json": {
              "type": "string"
            }
          },
          "metadata": {},
          "execution_count": 30
        }
      ]
    },
    {
      "cell_type": "code",
      "source": [
        "# Output é um erro, já que a string é imutável, ou se ja, não consigo substituir o '4' pelo '3' no 'PETR4\n",
        "manchete[4:3] = 3"
      ],
      "metadata": {
        "colab": {
          "base_uri": "https://localhost:8080/",
          "height": 200
        },
        "id": "kqyyyIeIexw4",
        "outputId": "6a65330e-65e2-4086-8e7f-2c1341c1ed7f"
      },
      "execution_count": 32,
      "outputs": [
        {
          "output_type": "error",
          "ename": "TypeError",
          "evalue": "ignored",
          "traceback": [
            "\u001b[0;31m---------------------------------------------------------------------------\u001b[0m",
            "\u001b[0;31mTypeError\u001b[0m                                 Traceback (most recent call last)",
            "\u001b[0;32m<ipython-input-32-a6a9bf57d582>\u001b[0m in \u001b[0;36m<module>\u001b[0;34m()\u001b[0m\n\u001b[1;32m      1\u001b[0m \u001b[0;31m# Output é um erro, já que a string é imutável, ou se ja, não consigo substituir o '4' pelo '3' no 'PETR4\u001b[0m\u001b[0;34m\u001b[0m\u001b[0;34m\u001b[0m\u001b[0;34m\u001b[0m\u001b[0m\n\u001b[0;32m----> 2\u001b[0;31m \u001b[0mmanchete\u001b[0m\u001b[0;34m[\u001b[0m\u001b[0;36m4\u001b[0m\u001b[0;34m:\u001b[0m\u001b[0;36m3\u001b[0m\u001b[0;34m]\u001b[0m \u001b[0;34m=\u001b[0m \u001b[0;36m3\u001b[0m\u001b[0;34m\u001b[0m\u001b[0;34m\u001b[0m\u001b[0m\n\u001b[0m",
            "\u001b[0;31mTypeError\u001b[0m: 'str' object does not support item assignment"
          ]
        }
      ]
    },
    {
      "cell_type": "code",
      "source": [
        "# Da mesma forma, não conseguimos substituir mais de uma caractere na string\n",
        "manchete[0:5] = 'VALE3'"
      ],
      "metadata": {
        "colab": {
          "base_uri": "https://localhost:8080/",
          "height": 165
        },
        "id": "vI-GmMUUfpD0",
        "outputId": "42f51c5c-312e-4b4b-ae4d-f257e2cb2929"
      },
      "execution_count": 35,
      "outputs": [
        {
          "output_type": "error",
          "ename": "TypeError",
          "evalue": "ignored",
          "traceback": [
            "\u001b[0;31m---------------------------------------------------------------------------\u001b[0m",
            "\u001b[0;31mTypeError\u001b[0m                                 Traceback (most recent call last)",
            "\u001b[0;32m<ipython-input-35-d59cd3e532ac>\u001b[0m in \u001b[0;36m<module>\u001b[0;34m()\u001b[0m\n\u001b[0;32m----> 1\u001b[0;31m \u001b[0mmanchete\u001b[0m\u001b[0;34m[\u001b[0m\u001b[0;36m0\u001b[0m\u001b[0;34m:\u001b[0m\u001b[0;36m5\u001b[0m\u001b[0;34m]\u001b[0m \u001b[0;34m=\u001b[0m \u001b[0;34m'VALE3'\u001b[0m\u001b[0;34m\u001b[0m\u001b[0;34m\u001b[0m\u001b[0m\n\u001b[0m",
            "\u001b[0;31mTypeError\u001b[0m: 'str' object does not support item assignment"
          ]
        }
      ]
    },
    {
      "cell_type": "code",
      "source": [
        "# Adição de strings (concatenação)\n",
        "\n",
        "manchete + ' por causa da alta do petróleo'"
      ],
      "metadata": {
        "colab": {
          "base_uri": "https://localhost:8080/",
          "height": 35
        },
        "id": "foCSiBJGgCGg",
        "outputId": "b1353243-cc09-4618-fe59-99987ce596fe"
      },
      "execution_count": 37,
      "outputs": [
        {
          "output_type": "execute_result",
          "data": {
            "text/plain": [
              "'PETR4 vai aumentar o preço da gasolina por causa da alta do petróleo'"
            ],
            "application/vnd.google.colaboratory.intrinsic+json": {
              "type": "string"
            }
          },
          "metadata": {},
          "execution_count": 37
        }
      ]
    },
    {
      "cell_type": "code",
      "source": [
        "complemento = ' por causa da alta do petróleo'"
      ],
      "metadata": {
        "id": "upiFln8GfwPh"
      },
      "execution_count": 43,
      "outputs": []
    },
    {
      "cell_type": "code",
      "source": [
        "frasecompleta = manchete + complemento"
      ],
      "metadata": {
        "id": "l4unSDLtgeBH"
      },
      "execution_count": 44,
      "outputs": []
    },
    {
      "cell_type": "code",
      "source": [
        "frasecompleta"
      ],
      "metadata": {
        "colab": {
          "base_uri": "https://localhost:8080/",
          "height": 35
        },
        "id": "Q1gJvVh_guCM",
        "outputId": "e5d6c454-89b9-4d80-b419-3ff446cfb1d8"
      },
      "execution_count": 45,
      "outputs": [
        {
          "output_type": "execute_result",
          "data": {
            "text/plain": [
              "'PETR4 vai aumentar o preço da gasolina por causa da alta do petróleo'"
            ],
            "application/vnd.google.colaboratory.intrinsic+json": {
              "type": "string"
            }
          },
          "metadata": {},
          "execution_count": 45
        }
      ]
    },
    {
      "cell_type": "code",
      "source": [
        "# método lower: modifica todos caracteres para minúsculos\n",
        "\n",
        "frasecompleta.lower()"
      ],
      "metadata": {
        "colab": {
          "base_uri": "https://localhost:8080/",
          "height": 35
        },
        "id": "JkmhBT3pgySf",
        "outputId": "a4ca1876-517f-4879-9d1b-224a4b053e67"
      },
      "execution_count": 50,
      "outputs": [
        {
          "output_type": "execute_result",
          "data": {
            "text/plain": [
              "'petr4 vai aumentar o preço da gasolina por causa da alta do petróleo'"
            ],
            "application/vnd.google.colaboratory.intrinsic+json": {
              "type": "string"
            }
          },
          "metadata": {},
          "execution_count": 50
        }
      ]
    },
    {
      "cell_type": "code",
      "source": [
        "# método upper: modifica todos caracteres para maiúsculos\n",
        "\n",
        "frasecompleta.upper()"
      ],
      "metadata": {
        "colab": {
          "base_uri": "https://localhost:8080/",
          "height": 35
        },
        "id": "HhAAesXRg_P-",
        "outputId": "31a1ebed-a5c3-45bd-e91a-29b71d336673"
      },
      "execution_count": 48,
      "outputs": [
        {
          "output_type": "execute_result",
          "data": {
            "text/plain": [
              "'PETR4 VAI AUMENTAR O PREÇO DA GASOLINA POR CAUSA DA ALTA DO PETRÓLEO'"
            ],
            "application/vnd.google.colaboratory.intrinsic+json": {
              "type": "string"
            }
          },
          "metadata": {},
          "execution_count": 48
        }
      ]
    },
    {
      "cell_type": "markdown",
      "source": [
        "Separar as palavras dentro de uma string com o método 'SPLIT'"
      ],
      "metadata": {
        "id": "D3HPQCnNhOnK"
      }
    },
    {
      "cell_type": "code",
      "source": [
        "fraseseparada = frasecompleta.split()"
      ],
      "metadata": {
        "id": "kApzN1bVhu5W"
      },
      "execution_count": 52,
      "outputs": []
    },
    {
      "cell_type": "code",
      "source": [
        "fraseseparada"
      ],
      "metadata": {
        "colab": {
          "base_uri": "https://localhost:8080/"
        },
        "id": "AO7OehiQiBk3",
        "outputId": "02e2d44c-6f29-4c02-f33d-48fa97fb8411"
      },
      "execution_count": 53,
      "outputs": [
        {
          "output_type": "execute_result",
          "data": {
            "text/plain": [
              "['PETR4',\n",
              " 'vai',\n",
              " 'aumentar',\n",
              " 'o',\n",
              " 'preço',\n",
              " 'da',\n",
              " 'gasolina',\n",
              " 'por',\n",
              " 'causa',\n",
              " 'da',\n",
              " 'alta',\n",
              " 'do',\n",
              " 'petróleo']"
            ]
          },
          "metadata": {},
          "execution_count": 53
        }
      ]
    },
    {
      "cell_type": "code",
      "source": [
        "frasecompleta.split('a')"
      ],
      "metadata": {
        "colab": {
          "base_uri": "https://localhost:8080/"
        },
        "id": "vV8-TWBWiDnG",
        "outputId": "64f3d256-d01d-4c6f-85c3-08de992265da"
      },
      "execution_count": 64,
      "outputs": [
        {
          "output_type": "execute_result",
          "data": {
            "text/plain": [
              "['PETR4 v',\n",
              " 'i ',\n",
              " 'ument',\n",
              " 'r o preço d',\n",
              " ' g',\n",
              " 'solin',\n",
              " ' por c',\n",
              " 'us',\n",
              " ' d',\n",
              " ' ',\n",
              " 'lt',\n",
              " ' do petróleo']"
            ]
          },
          "metadata": {},
          "execution_count": 64
        }
      ]
    },
    {
      "cell_type": "code",
      "source": [
        "# Primeira palavra\n",
        "fraseseparada[0]"
      ],
      "metadata": {
        "colab": {
          "base_uri": "https://localhost:8080/",
          "height": 35
        },
        "id": "LzwXzFjqi4wb",
        "outputId": "b0c1d0f6-1176-431c-9b77-8ec8918f9ffd"
      },
      "execution_count": 60,
      "outputs": [
        {
          "output_type": "execute_result",
          "data": {
            "text/plain": [
              "'PETR4'"
            ],
            "application/vnd.google.colaboratory.intrinsic+json": {
              "type": "string"
            }
          },
          "metadata": {},
          "execution_count": 60
        }
      ]
    },
    {
      "cell_type": "code",
      "source": [
        "# Última palavra\n",
        "fraseseparada[-1]"
      ],
      "metadata": {
        "colab": {
          "base_uri": "https://localhost:8080/",
          "height": 35
        },
        "id": "36c48YkVi96r",
        "outputId": "455262d2-d822-4af1-9d3e-c264b739efbe"
      },
      "execution_count": 62,
      "outputs": [
        {
          "output_type": "execute_result",
          "data": {
            "text/plain": [
              "'petróleo'"
            ],
            "application/vnd.google.colaboratory.intrinsic+json": {
              "type": "string"
            }
          },
          "metadata": {},
          "execution_count": 62
        }
      ]
    },
    {
      "cell_type": "markdown",
      "source": [
        "## 5. Listas"
      ],
      "metadata": {
        "id": "u6AdQ2RjjIJl"
      }
    },
    {
      "cell_type": "code",
      "source": [
        "# Listas são marcadas pelos colchetes e permitem a alocação de itens (ou elementos) repetidos\n",
        "# Estão entre os objetos mais fáceis de manipulação pois aceitam substituições, adições, repetições\n",
        "\n",
        "nomes = ['André', 'João', 'José']"
      ],
      "metadata": {
        "id": "VFRLC7BBvimi"
      },
      "execution_count": 70,
      "outputs": []
    },
    {
      "cell_type": "code",
      "source": [
        "nomes"
      ],
      "metadata": {
        "colab": {
          "base_uri": "https://localhost:8080/"
        },
        "id": "JBZMeOE1viGa",
        "outputId": "e27d8aa8-9730-47d3-c2a8-f380625751ae"
      },
      "execution_count": 67,
      "outputs": [
        {
          "output_type": "execute_result",
          "data": {
            "text/plain": [
              "['André', 'João', 'José']"
            ]
          },
          "metadata": {},
          "execution_count": 67
        }
      ]
    },
    {
      "cell_type": "code",
      "source": [
        "type(nomes)"
      ],
      "metadata": {
        "colab": {
          "base_uri": "https://localhost:8080/"
        },
        "id": "7YhGrVWdvxB5",
        "outputId": "85c5cdd5-b98a-4a90-eac6-99a8ba496c32"
      },
      "execution_count": 69,
      "outputs": [
        {
          "output_type": "execute_result",
          "data": {
            "text/plain": [
              "list"
            ]
          },
          "metadata": {},
          "execution_count": 69
        }
      ]
    },
    {
      "cell_type": "code",
      "source": [
        "# Permitem misturar strings com números\n",
        "\n",
        "listamisturada = ['André', 'João', 'José', 30, 29, 28]"
      ],
      "metadata": {
        "id": "Ijan_eoDzxzj"
      },
      "execution_count": 71,
      "outputs": []
    },
    {
      "cell_type": "code",
      "source": [
        "listamisturada"
      ],
      "metadata": {
        "colab": {
          "base_uri": "https://localhost:8080/"
        },
        "id": "To4stWoN5opb",
        "outputId": "f79adfad-da96-4107-895b-2a6d2cf3e789"
      },
      "execution_count": 72,
      "outputs": [
        {
          "output_type": "execute_result",
          "data": {
            "text/plain": [
              "['André', 'João', 'José', 30, 29, 28]"
            ]
          },
          "metadata": {},
          "execution_count": 72
        }
      ]
    },
    {
      "cell_type": "code",
      "source": [
        "type(listamisturada)"
      ],
      "metadata": {
        "colab": {
          "base_uri": "https://localhost:8080/"
        },
        "id": "0RDjJWsi5r4O",
        "outputId": "6554edf4-454a-448a-f67b-c85fefe48d1a"
      },
      "execution_count": 73,
      "outputs": [
        {
          "output_type": "execute_result",
          "data": {
            "text/plain": [
              "list"
            ]
          },
          "metadata": {},
          "execution_count": 73
        }
      ]
    },
    {
      "cell_type": "code",
      "source": [
        "listamisturada[3]"
      ],
      "metadata": {
        "colab": {
          "base_uri": "https://localhost:8080/"
        },
        "id": "gjaTWY-j5wCP",
        "outputId": "7ebe863b-cfbf-4dfb-a58c-e19529351434"
      },
      "execution_count": 74,
      "outputs": [
        {
          "output_type": "execute_result",
          "data": {
            "text/plain": [
              "30"
            ]
          },
          "metadata": {},
          "execution_count": 74
        }
      ]
    },
    {
      "cell_type": "code",
      "source": [
        "# Listas seguem o mesmo padrão de idexação e slicing. Cada elemento é separado por ',' (vírgula)\n",
        "\n",
        "type(listamisturada[0])"
      ],
      "metadata": {
        "colab": {
          "base_uri": "https://localhost:8080/"
        },
        "id": "gL4EGI2Z5zYQ",
        "outputId": "70cae0c8-01d3-48a1-fdb6-4dede9af02c6"
      },
      "execution_count": 75,
      "outputs": [
        {
          "output_type": "execute_result",
          "data": {
            "text/plain": [
              "str"
            ]
          },
          "metadata": {},
          "execution_count": 75
        }
      ]
    },
    {
      "cell_type": "code",
      "source": [
        "# Note que o elemento de índice '3' (30) é um número inteiro\n",
        "\n",
        "type(listamisturada[3])"
      ],
      "metadata": {
        "colab": {
          "base_uri": "https://localhost:8080/"
        },
        "id": "DXsPfJY053dO",
        "outputId": "97f5b3f6-87b2-4516-dc57-42f92356ddc2"
      },
      "execution_count": 76,
      "outputs": [
        {
          "output_type": "execute_result",
          "data": {
            "text/plain": [
              "int"
            ]
          },
          "metadata": {},
          "execution_count": 76
        }
      ]
    },
    {
      "cell_type": "code",
      "source": [
        "# Conseguimos criar novas strings resultantes de operações com outras strings, inclusive procedentes de listas\n",
        "\n",
        "'Os aprovados foram ' + nomes[0] + ' e ' + nomes[2]"
      ],
      "metadata": {
        "colab": {
          "base_uri": "https://localhost:8080/",
          "height": 35
        },
        "id": "VyRc1KJs59P-",
        "outputId": "f988c92a-6e67-4366-824e-5ae2b6d80f8d"
      },
      "execution_count": 80,
      "outputs": [
        {
          "output_type": "execute_result",
          "data": {
            "text/plain": [
              "'Os aprovados foram André e José'"
            ],
            "application/vnd.google.colaboratory.intrinsic+json": {
              "type": "string"
            }
          },
          "metadata": {},
          "execution_count": 80
        }
      ]
    },
    {
      "cell_type": "code",
      "source": [
        "# Nesse caso. embora sejam números, então entre aspas e portanto, são lidos como strings\n",
        "\n",
        "lista = ['28', '29', '30']"
      ],
      "metadata": {
        "id": "VQd2Uwjf6_dP"
      },
      "execution_count": 84,
      "outputs": []
    },
    {
      "cell_type": "code",
      "source": [
        "lista[0]"
      ],
      "metadata": {
        "colab": {
          "base_uri": "https://localhost:8080/",
          "height": 35
        },
        "id": "VSBZJChX8Evk",
        "outputId": "5994dfa2-f0cb-4d44-f3b5-5fa27a019572"
      },
      "execution_count": 85,
      "outputs": [
        {
          "output_type": "execute_result",
          "data": {
            "text/plain": [
              "'28'"
            ],
            "application/vnd.google.colaboratory.intrinsic+json": {
              "type": "string"
            }
          },
          "metadata": {},
          "execution_count": 85
        }
      ]
    },
    {
      "cell_type": "code",
      "source": [
        "type(lista[0])"
      ],
      "metadata": {
        "colab": {
          "base_uri": "https://localhost:8080/"
        },
        "id": "EgLa00pP8JAj",
        "outputId": "fae6d87d-a5f4-4720-b6f0-7b0aebd15191"
      },
      "execution_count": 86,
      "outputs": [
        {
          "output_type": "execute_result",
          "data": {
            "text/plain": [
              "str"
            ]
          },
          "metadata": {},
          "execution_count": 86
        }
      ]
    },
    {
      "cell_type": "code",
      "source": [
        "' A minha idade é ' + lista[0]"
      ],
      "metadata": {
        "colab": {
          "base_uri": "https://localhost:8080/",
          "height": 35
        },
        "id": "-gQ3QQQn7BcE",
        "outputId": "1c13afdd-a2af-4763-c794-9a77a00721c8"
      },
      "execution_count": 87,
      "outputs": [
        {
          "output_type": "execute_result",
          "data": {
            "text/plain": [
              "' A minha idade é 28'"
            ],
            "application/vnd.google.colaboratory.intrinsic+json": {
              "type": "string"
            }
          },
          "metadata": {},
          "execution_count": 87
        }
      ]
    },
    {
      "cell_type": "code",
      "source": [
        "lista[2]"
      ],
      "metadata": {
        "colab": {
          "base_uri": "https://localhost:8080/",
          "height": 35
        },
        "id": "ntb0EPyu8QUy",
        "outputId": "16dfcdfb-a2a8-42be-ae58-d45ef4852aea"
      },
      "execution_count": 88,
      "outputs": [
        {
          "output_type": "execute_result",
          "data": {
            "text/plain": [
              "'30'"
            ],
            "application/vnd.google.colaboratory.intrinsic+json": {
              "type": "string"
            }
          },
          "metadata": {},
          "execution_count": 88
        }
      ]
    },
    {
      "cell_type": "code",
      "source": [
        "# As listas são mutáveis, ao contrário das strings\n",
        "\n",
        "lista[2] = '31'"
      ],
      "metadata": {
        "id": "B2xQInbT8SIM"
      },
      "execution_count": 89,
      "outputs": []
    },
    {
      "cell_type": "code",
      "source": [
        "lista"
      ],
      "metadata": {
        "colab": {
          "base_uri": "https://localhost:8080/"
        },
        "id": "1O9bcSNX8ZkS",
        "outputId": "14a36257-0cd1-4704-f896-8837fc6875d5"
      },
      "execution_count": 90,
      "outputs": [
        {
          "output_type": "execute_result",
          "data": {
            "text/plain": [
              "['28', '29', '31']"
            ]
          },
          "metadata": {},
          "execution_count": 90
        }
      ]
    },
    {
      "cell_type": "code",
      "source": [
        "# Também são aditivas\n",
        "\n",
        "novalista = nomes + lista"
      ],
      "metadata": {
        "id": "6cW6JFbU_tya"
      },
      "execution_count": 92,
      "outputs": []
    },
    {
      "cell_type": "code",
      "source": [
        "novalista"
      ],
      "metadata": {
        "colab": {
          "base_uri": "https://localhost:8080/"
        },
        "id": "e5T0QmH7AIyC",
        "outputId": "abd4ac8a-73a0-46b2-e736-3d82f578d276"
      },
      "execution_count": 93,
      "outputs": [
        {
          "output_type": "execute_result",
          "data": {
            "text/plain": [
              "['André', 'João', 'José', '28', '29', '31']"
            ]
          },
          "metadata": {},
          "execution_count": 93
        }
      ]
    },
    {
      "cell_type": "code",
      "source": [
        "# Repetir a lista 2 vezes\n",
        "\n",
        "novalista * 2"
      ],
      "metadata": {
        "colab": {
          "base_uri": "https://localhost:8080/"
        },
        "id": "DJJKDu0BALMy",
        "outputId": "7def5026-b8df-4e6b-8309-ef226b063dd3"
      },
      "execution_count": 95,
      "outputs": [
        {
          "output_type": "execute_result",
          "data": {
            "text/plain": [
              "['André',\n",
              " 'João',\n",
              " 'José',\n",
              " '28',\n",
              " '29',\n",
              " '31',\n",
              " 'André',\n",
              " 'João',\n",
              " 'José',\n",
              " '28',\n",
              " '29',\n",
              " '31']"
            ]
          },
          "metadata": {},
          "execution_count": 95
        }
      ]
    },
    {
      "cell_type": "code",
      "source": [
        "# adicionar um novo elemento à lista. Método 'append'\n",
        "# note que estou incluindo um item númerico (integer)\n",
        "\n",
        "\n",
        "lista.append(30)"
      ],
      "metadata": {
        "colab": {
          "base_uri": "https://localhost:8080/",
          "height": 35
        },
        "id": "aOKf2iYBATSE",
        "outputId": "4870edaf-e464-42c7-bf8c-bd922bb2c335"
      },
      "execution_count": 107,
      "outputs": [
        {
          "output_type": "execute_result",
          "data": {
            "text/plain": [
              "'30'"
            ],
            "application/vnd.google.colaboratory.intrinsic+json": {
              "type": "string"
            }
          },
          "metadata": {},
          "execution_count": 107
        }
      ]
    },
    {
      "cell_type": "code",
      "source": [
        "lista\n"
      ],
      "metadata": {
        "colab": {
          "base_uri": "https://localhost:8080/"
        },
        "id": "DkLOXGHPAuRZ",
        "outputId": "4fb7be0d-d428-4f16-ce20-5614fa19a56b"
      },
      "execution_count": 108,
      "outputs": [
        {
          "output_type": "execute_result",
          "data": {
            "text/plain": [
              "['28', '29', '31', 30]"
            ]
          },
          "metadata": {},
          "execution_count": 108
        }
      ]
    },
    {
      "cell_type": "code",
      "source": [
        "type(lista[3])"
      ],
      "metadata": {
        "colab": {
          "base_uri": "https://localhost:8080/"
        },
        "id": "K3io6UcYA9mK",
        "outputId": "1ecf7883-975c-467f-8d5d-fd53505df3d4"
      },
      "execution_count": 109,
      "outputs": [
        {
          "output_type": "execute_result",
          "data": {
            "text/plain": [
              "int"
            ]
          },
          "metadata": {},
          "execution_count": 109
        }
      ]
    },
    {
      "cell_type": "code",
      "source": [
        "# Método 'pop' remove o último item\n",
        "\n",
        "lista.pop()"
      ],
      "metadata": {
        "colab": {
          "base_uri": "https://localhost:8080/"
        },
        "id": "c8MGK5jPBRnQ",
        "outputId": "e987f955-1a8b-4af3-b6b8-8f954991325b"
      },
      "execution_count": 111,
      "outputs": [
        {
          "output_type": "execute_result",
          "data": {
            "text/plain": [
              "30"
            ]
          },
          "metadata": {},
          "execution_count": 111
        }
      ]
    },
    {
      "cell_type": "code",
      "source": [
        "lista"
      ],
      "metadata": {
        "colab": {
          "base_uri": "https://localhost:8080/"
        },
        "id": "U289FesiBhsb",
        "outputId": "2bf6440a-32b0-4423-8708-21848f92ccc7"
      },
      "execution_count": 112,
      "outputs": [
        {
          "output_type": "execute_result",
          "data": {
            "text/plain": [
              "['28', '29', '31']"
            ]
          },
          "metadata": {},
          "execution_count": 112
        }
      ]
    },
    {
      "cell_type": "code",
      "source": [
        "lista.pop()"
      ],
      "metadata": {
        "colab": {
          "base_uri": "https://localhost:8080/",
          "height": 35
        },
        "id": "VKE-hsYnBj7H",
        "outputId": "bfbe9ee7-93fd-4d6e-b81d-99d8a5435272"
      },
      "execution_count": 113,
      "outputs": [
        {
          "output_type": "execute_result",
          "data": {
            "text/plain": [
              "'31'"
            ],
            "application/vnd.google.colaboratory.intrinsic+json": {
              "type": "string"
            }
          },
          "metadata": {},
          "execution_count": 113
        }
      ]
    },
    {
      "cell_type": "code",
      "source": [
        "lista"
      ],
      "metadata": {
        "colab": {
          "base_uri": "https://localhost:8080/"
        },
        "id": "BQpUnVYzBnGH",
        "outputId": "e8cf3661-d6e2-478c-9ca3-b4717d564294"
      },
      "execution_count": 115,
      "outputs": [
        {
          "output_type": "execute_result",
          "data": {
            "text/plain": [
              "['28', '29']"
            ]
          },
          "metadata": {},
          "execution_count": 115
        }
      ]
    },
    {
      "cell_type": "code",
      "source": [
        "# Lista apenas com itens númericos\n",
        "\n",
        "idade = [4, 54, 65, 34, 29, 78, 38]"
      ],
      "metadata": {
        "id": "3yK-KKaKBpV4"
      },
      "execution_count": 116,
      "outputs": []
    },
    {
      "cell_type": "code",
      "source": [
        "# Método 'sort' para classificar por ordem crescente ( no caso de strings será por ordem alfabética)\n",
        "\n",
        "idade.sort()"
      ],
      "metadata": {
        "id": "SmsiSFCcC6VT"
      },
      "execution_count": 117,
      "outputs": []
    },
    {
      "cell_type": "code",
      "source": [
        "idade"
      ],
      "metadata": {
        "colab": {
          "base_uri": "https://localhost:8080/"
        },
        "id": "VQTJ92EFDFnR",
        "outputId": "4dbdb0e7-7d74-4371-a6be-4bb676dce987"
      },
      "execution_count": 118,
      "outputs": [
        {
          "output_type": "execute_result",
          "data": {
            "text/plain": [
              "[4, 29, 34, 38, 54, 65, 78]"
            ]
          },
          "metadata": {},
          "execution_count": 118
        }
      ]
    },
    {
      "cell_type": "code",
      "source": [
        "# Método 'reverse' para classificar por ordem decrescente (ordem alfabética invertida)\n",
        "\n",
        "idade.reverse()"
      ],
      "metadata": {
        "id": "ApcsCak_DUS9"
      },
      "execution_count": 119,
      "outputs": []
    },
    {
      "cell_type": "code",
      "source": [
        "idade"
      ],
      "metadata": {
        "colab": {
          "base_uri": "https://localhost:8080/"
        },
        "id": "b20rGPJYDjgM",
        "outputId": "3ac0c09f-8a68-499f-f93c-85cea33486fb"
      },
      "execution_count": 120,
      "outputs": [
        {
          "output_type": "execute_result",
          "data": {
            "text/plain": [
              "[78, 65, 54, 38, 34, 29, 4]"
            ]
          },
          "metadata": {},
          "execution_count": 120
        }
      ]
    },
    {
      "cell_type": "code",
      "source": [
        "# Criar 3 listas\n",
        "\n",
        "lista1 = [0, 1, 2]\n",
        "lista2 = [4, 5, 6]\n",
        "lista3 = [7, 8, 9]\n"
      ],
      "metadata": {
        "id": "1ebBsaG3GEzA"
      },
      "execution_count": 121,
      "outputs": []
    },
    {
      "cell_type": "code",
      "source": [
        "# unir as três listas em uma lista só (lista de listas)\n",
        "\n",
        "matriz = [lista1, lista2, lista3]"
      ],
      "metadata": {
        "id": "_Wyee-1HGSGT"
      },
      "execution_count": 123,
      "outputs": []
    },
    {
      "cell_type": "code",
      "source": [
        "matriz"
      ],
      "metadata": {
        "colab": {
          "base_uri": "https://localhost:8080/"
        },
        "id": "DZk6xaWCGdCt",
        "outputId": "44ab1de0-58c7-4785-d006-dcb6e8de3248"
      },
      "execution_count": 124,
      "outputs": [
        {
          "output_type": "execute_result",
          "data": {
            "text/plain": [
              "[[0, 1, 2], [4, 5, 6], [7, 8, 9]]"
            ]
          },
          "metadata": {},
          "execution_count": 124
        }
      ]
    },
    {
      "cell_type": "code",
      "source": [
        "matriz[1]"
      ],
      "metadata": {
        "colab": {
          "base_uri": "https://localhost:8080/"
        },
        "id": "I6O7HArhGgjj",
        "outputId": "4e876f8f-3777-4037-e616-7d902c05b0ca"
      },
      "execution_count": 125,
      "outputs": [
        {
          "output_type": "execute_result",
          "data": {
            "text/plain": [
              "[4, 5, 6]"
            ]
          },
          "metadata": {},
          "execution_count": 125
        }
      ]
    },
    {
      "cell_type": "code",
      "source": [
        "matriz[0]"
      ],
      "metadata": {
        "colab": {
          "base_uri": "https://localhost:8080/"
        },
        "id": "rqr1O1Z4Gh7N",
        "outputId": "8cfd303d-d695-46cc-b06b-5f1840e1c13f"
      },
      "execution_count": 126,
      "outputs": [
        {
          "output_type": "execute_result",
          "data": {
            "text/plain": [
              "[0, 1, 2]"
            ]
          },
          "metadata": {},
          "execution_count": 126
        }
      ]
    },
    {
      "cell_type": "code",
      "source": [
        "# Acessar a lista indexada como 1 (segunda lista) e seu item 0 (primeiro item)\n",
        "\n",
        "matriz[1][0]"
      ],
      "metadata": {
        "colab": {
          "base_uri": "https://localhost:8080/"
        },
        "id": "Eb0gPUk5GkO2",
        "outputId": "58c6949c-4ef2-4888-857f-8d176c6f1b87"
      },
      "execution_count": 128,
      "outputs": [
        {
          "output_type": "execute_result",
          "data": {
            "text/plain": [
              "4"
            ]
          },
          "metadata": {},
          "execution_count": 128
        }
      ]
    },
    {
      "cell_type": "code",
      "source": [
        "# Primeira lista e primeiro elemento\n",
        "\n",
        "matriz[0][0]"
      ],
      "metadata": {
        "colab": {
          "base_uri": "https://localhost:8080/"
        },
        "id": "CNdHszSxHD8F",
        "outputId": "848645c8-595e-4338-dbd2-44c3312b4505"
      },
      "execution_count": 129,
      "outputs": [
        {
          "output_type": "execute_result",
          "data": {
            "text/plain": [
              "0"
            ]
          },
          "metadata": {},
          "execution_count": 129
        }
      ]
    },
    {
      "cell_type": "markdown",
      "source": [
        "## 6. Dicionários"
      ],
      "metadata": {
        "id": "fNNkS718HbLj"
      }
    },
    {
      "cell_type": "markdown",
      "source": [
        "OS dicionários representam uma estrutura de dados masi complexos que as listas, capazes de realcionar pares de dados (um dado que pode representar outro dado). Ao invés de colchetes, como as listas, são definidos pelas chaves. Em outras linguagens, poderia ser relaionado às 'arrays associativas'. A estrutua básica dos dicionários é {key: value}"
      ],
      "metadata": {
        "id": "vM6A5mYWPXKi"
      }
    },
    {
      "cell_type": "code",
      "source": [
        "precos = {'PETR4': 30, 'VALE3': 102, 'WEGE3': 34}"
      ],
      "metadata": {
        "id": "dTOks88sHhna"
      },
      "execution_count": 162,
      "outputs": []
    },
    {
      "cell_type": "code",
      "source": [
        "precos"
      ],
      "metadata": {
        "colab": {
          "base_uri": "https://localhost:8080/"
        },
        "id": "4yQ9QiI8O5_e",
        "outputId": "47b97542-bee3-417b-e43f-b55493694f44"
      },
      "execution_count": 163,
      "outputs": [
        {
          "output_type": "execute_result",
          "data": {
            "text/plain": [
              "{'PETR4': 30, 'VALE3': 102, 'WEGE3': 34}"
            ]
          },
          "metadata": {},
          "execution_count": 163
        }
      ]
    },
    {
      "cell_type": "code",
      "source": [
        "type(precos)"
      ],
      "metadata": {
        "colab": {
          "base_uri": "https://localhost:8080/"
        },
        "id": "lxRl7eZxO7we",
        "outputId": "4cb67b60-a981-4ef7-f955-0b2fd75e543b"
      },
      "execution_count": 164,
      "outputs": [
        {
          "output_type": "execute_result",
          "data": {
            "text/plain": [
              "dict"
            ]
          },
          "metadata": {},
          "execution_count": 164
        }
      ]
    },
    {
      "cell_type": "code",
      "source": [
        "# Lista apenas as chaves (keys) do dicionário\n",
        "\n",
        "precos.keys()"
      ],
      "metadata": {
        "colab": {
          "base_uri": "https://localhost:8080/"
        },
        "id": "ZD6hyB6uO_fO",
        "outputId": "7cc119a0-460c-4e88-9501-ab512ce427e8"
      },
      "execution_count": 165,
      "outputs": [
        {
          "output_type": "execute_result",
          "data": {
            "text/plain": [
              "dict_keys(['PETR4', 'VALE3', 'WEGE3'])"
            ]
          },
          "metadata": {},
          "execution_count": 165
        }
      ]
    },
    {
      "cell_type": "code",
      "source": [
        "# Listas pos pares de itnes do dicionário\n",
        "\n",
        "precos.items()"
      ],
      "metadata": {
        "colab": {
          "base_uri": "https://localhost:8080/"
        },
        "id": "PlJsoqKIQVyt",
        "outputId": "d9ae4e1c-2cd8-4ed4-8b92-b0a9cb845100"
      },
      "execution_count": 166,
      "outputs": [
        {
          "output_type": "execute_result",
          "data": {
            "text/plain": [
              "dict_items([('PETR4', 30), ('VALE3', 102), ('WEGE3', 34)])"
            ]
          },
          "metadata": {},
          "execution_count": 166
        }
      ]
    },
    {
      "cell_type": "code",
      "source": [
        "# Indexação é feito pelas chaves e não pelos índices numéricos (como listas)\n",
        "\n",
        "precos['PETR4']"
      ],
      "metadata": {
        "colab": {
          "base_uri": "https://localhost:8080/"
        },
        "id": "zRJ6knisQfEq",
        "outputId": "5a180fd7-2ebe-45b1-c059-d5675d8d76ed"
      },
      "execution_count": 167,
      "outputs": [
        {
          "output_type": "execute_result",
          "data": {
            "text/plain": [
              "30"
            ]
          },
          "metadata": {},
          "execution_count": 167
        }
      ]
    },
    {
      "cell_type": "code",
      "source": [
        "precos['VALE3']"
      ],
      "metadata": {
        "colab": {
          "base_uri": "https://localhost:8080/"
        },
        "id": "5D7d1Uh4Q11q",
        "outputId": "239c9809-49b0-4518-aff4-c3ee431a3275"
      },
      "execution_count": 168,
      "outputs": [
        {
          "output_type": "execute_result",
          "data": {
            "text/plain": [
              "102"
            ]
          },
          "metadata": {},
          "execution_count": 168
        }
      ]
    },
    {
      "cell_type": "code",
      "source": [
        "# Os dicionários são bem flexíveis quanto aos 'values'. Poderia ser uam string, uma lista...\n",
        "\n",
        "precos = {'PETR4': '30', 'VALE3': [102, 103, 104, 105], 'WEGE3': 34}"
      ],
      "metadata": {
        "id": "oo3lgf3JRBT5"
      },
      "execution_count": 169,
      "outputs": []
    },
    {
      "cell_type": "code",
      "source": [
        "precos['PETR4']"
      ],
      "metadata": {
        "colab": {
          "base_uri": "https://localhost:8080/",
          "height": 0
        },
        "id": "YjpAoJuRSlxg",
        "outputId": "933d03a8-6eb5-48b1-c333-439ffa8f4739"
      },
      "execution_count": 170,
      "outputs": [
        {
          "output_type": "execute_result",
          "data": {
            "text/plain": [
              "'30'"
            ],
            "application/vnd.google.colaboratory.intrinsic+json": {
              "type": "string"
            }
          },
          "metadata": {},
          "execution_count": 170
        }
      ]
    },
    {
      "cell_type": "code",
      "source": [
        "precos['VALE3']"
      ],
      "metadata": {
        "colab": {
          "base_uri": "https://localhost:8080/"
        },
        "id": "Nyic5CMTSrXN",
        "outputId": "546a2da3-1608-4d76-d039-2445106a7450"
      },
      "execution_count": 171,
      "outputs": [
        {
          "output_type": "execute_result",
          "data": {
            "text/plain": [
              "[102, 103, 104, 105]"
            ]
          },
          "metadata": {},
          "execution_count": 171
        }
      ]
    },
    {
      "cell_type": "code",
      "source": [
        "# São Mutáveis, assim com as listas\n",
        "\n",
        "precos['WEGE3'] = 30"
      ],
      "metadata": {
        "id": "nqs72APRSvYF"
      },
      "execution_count": 172,
      "outputs": []
    },
    {
      "cell_type": "code",
      "source": [
        "precos"
      ],
      "metadata": {
        "colab": {
          "base_uri": "https://localhost:8080/"
        },
        "id": "OddFgReLS0Oe",
        "outputId": "7f14ec95-0507-4952-d8c1-9d98f70579d7"
      },
      "execution_count": 173,
      "outputs": [
        {
          "output_type": "execute_result",
          "data": {
            "text/plain": [
              "{'PETR4': '30', 'VALE3': [102, 103, 104, 105], 'WEGE3': 30}"
            ]
          },
          "metadata": {},
          "execution_count": 173
        }
      ]
    },
    {
      "cell_type": "code",
      "source": [
        "# Também permite a adição de novos itens\n",
        "\n",
        "precos['GOAU4'] = 20"
      ],
      "metadata": {
        "id": "8pniJuRvTHkG"
      },
      "execution_count": 174,
      "outputs": []
    },
    {
      "cell_type": "code",
      "source": [
        "precos"
      ],
      "metadata": {
        "colab": {
          "base_uri": "https://localhost:8080/"
        },
        "id": "1Dp7u10lTXOV",
        "outputId": "f8d03491-5c27-4bec-8d6c-8031d1668f15"
      },
      "execution_count": 175,
      "outputs": [
        {
          "output_type": "execute_result",
          "data": {
            "text/plain": [
              "{'GOAU4': 20, 'PETR4': '30', 'VALE3': [102, 103, 104, 105], 'WEGE3': 30}"
            ]
          },
          "metadata": {},
          "execution_count": 175
        }
      ]
    },
    {
      "cell_type": "markdown",
      "source": [
        "## 7.Tuplas"
      ],
      "metadata": {
        "id": "taGdGFe0Tn-_"
      }
    },
    {
      "cell_type": "markdown",
      "source": [
        "As tuplas são criadas utiliazndo parênteses. Indexação e slicingsimilares aos de strings e listas. Estão entre as estruturas de dados mais smiples (ex. são imutáveis e não permitem adições), porém com pouca flexibilidade."
      ],
      "metadata": {
        "id": "o1dNH8eMUGxr"
      }
    },
    {
      "cell_type": "code",
      "source": [
        "tupla = ()"
      ],
      "metadata": {
        "id": "IucsLwTPT8TW"
      },
      "execution_count": 177,
      "outputs": []
    },
    {
      "cell_type": "code",
      "source": [
        "tupla"
      ],
      "metadata": {
        "colab": {
          "base_uri": "https://localhost:8080/"
        },
        "id": "4TxKQ1CFUEBr",
        "outputId": "67502279-9af9-4dc2-dc0e-0cf38488cab4"
      },
      "execution_count": 178,
      "outputs": [
        {
          "output_type": "execute_result",
          "data": {
            "text/plain": [
              "()"
            ]
          },
          "metadata": {},
          "execution_count": 178
        }
      ]
    },
    {
      "cell_type": "code",
      "source": [
        "# Exemplo de uma tupla (Permite valores repetidos)\n",
        "\n",
        "tupla1 = (1,1,2,2,4,6,15)"
      ],
      "metadata": {
        "id": "tmqRd8b3Ue78"
      },
      "execution_count": 179,
      "outputs": []
    },
    {
      "cell_type": "code",
      "source": [
        "tupla1"
      ],
      "metadata": {
        "colab": {
          "base_uri": "https://localhost:8080/"
        },
        "id": "hYfeRYvlUzBc",
        "outputId": "deb0e9ce-78d7-4f3b-e70a-3b76613343bc"
      },
      "execution_count": 180,
      "outputs": [
        {
          "output_type": "execute_result",
          "data": {
            "text/plain": [
              "(1, 1, 2, 2, 4, 6, 15)"
            ]
          },
          "metadata": {},
          "execution_count": 180
        }
      ]
    },
    {
      "cell_type": "code",
      "source": [
        "type(tupla1)"
      ],
      "metadata": {
        "colab": {
          "base_uri": "https://localhost:8080/"
        },
        "id": "wyRO9u8DU07W",
        "outputId": "c10f06e1-7bf3-400c-9c3b-fa70033c25d5"
      },
      "execution_count": 181,
      "outputs": [
        {
          "output_type": "execute_result",
          "data": {
            "text/plain": [
              "tuple"
            ]
          },
          "metadata": {},
          "execution_count": 181
        }
      ]
    },
    {
      "cell_type": "code",
      "source": [
        "# Comprimento de tupla = número de itens\n",
        "\n",
        "len(tupla1)"
      ],
      "metadata": {
        "colab": {
          "base_uri": "https://localhost:8080/"
        },
        "id": "IjdmOsHzU3lH",
        "outputId": "a07b6459-1682-4790-a075-af1b7234e044"
      },
      "execution_count": 182,
      "outputs": [
        {
          "output_type": "execute_result",
          "data": {
            "text/plain": [
              "7"
            ]
          },
          "metadata": {},
          "execution_count": 182
        }
      ]
    },
    {
      "cell_type": "code",
      "source": [
        "# indexação similar a listas\n",
        "\n",
        "tupla1[2]"
      ],
      "metadata": {
        "colab": {
          "base_uri": "https://localhost:8080/"
        },
        "id": "AqqVds1VU-2h",
        "outputId": "fb7bbcc9-3594-4531-b9aa-b478d04b882a"
      },
      "execution_count": 183,
      "outputs": [
        {
          "output_type": "execute_result",
          "data": {
            "text/plain": [
              "2"
            ]
          },
          "metadata": {},
          "execution_count": 183
        }
      ]
    },
    {
      "cell_type": "code",
      "source": [
        "# Fatiamento similar às listas e strings\n",
        "\n",
        "tupla1[2:6]"
      ],
      "metadata": {
        "colab": {
          "base_uri": "https://localhost:8080/"
        },
        "id": "NRKnrjaaVC8m",
        "outputId": "a0a12dfe-5ef3-4d1e-acfa-912ee69d527a"
      },
      "execution_count": 186,
      "outputs": [
        {
          "output_type": "execute_result",
          "data": {
            "text/plain": [
              "(2, 2, 4, 6)"
            ]
          },
          "metadata": {},
          "execution_count": 186
        }
      ]
    },
    {
      "cell_type": "code",
      "source": [
        "# Tuplas possuem alguns métdos simples. como determinar o índice referente a um item específico (item repetidos retornarão o índice do primeiro item)\n",
        "\n",
        "tupla1.index(15)"
      ],
      "metadata": {
        "colab": {
          "base_uri": "https://localhost:8080/"
        },
        "id": "RKIbjg3ZVMLe",
        "outputId": "6b798fc1-9718-4706-acf9-33395b465c0f"
      },
      "execution_count": 190,
      "outputs": [
        {
          "output_type": "execute_result",
          "data": {
            "text/plain": [
              "6"
            ]
          },
          "metadata": {},
          "execution_count": 190
        }
      ]
    },
    {
      "cell_type": "code",
      "source": [
        "tupla1.index(1)"
      ],
      "metadata": {
        "colab": {
          "base_uri": "https://localhost:8080/"
        },
        "id": "4Vk7d8llVYFJ",
        "outputId": "67489b4e-64fc-4270-e1fd-3297e5cd05aa"
      },
      "execution_count": 189,
      "outputs": [
        {
          "output_type": "execute_result",
          "data": {
            "text/plain": [
              "0"
            ]
          },
          "metadata": {},
          "execution_count": 189
        }
      ]
    },
    {
      "cell_type": "code",
      "source": [
        "#  Método contagem de itens iguais\n",
        "\n",
        "tupla1.count(1)"
      ],
      "metadata": {
        "colab": {
          "base_uri": "https://localhost:8080/"
        },
        "id": "7hwSlRAwVyCU",
        "outputId": "05576f50-3584-40c8-9cf7-e079a076d16e"
      },
      "execution_count": 193,
      "outputs": [
        {
          "output_type": "execute_result",
          "data": {
            "text/plain": [
              "2"
            ]
          },
          "metadata": {},
          "execution_count": 193
        }
      ]
    },
    {
      "cell_type": "code",
      "source": [
        "# Elas são imutáveis\n",
        "\n",
        "# Este comando vai resultar em erro\n",
        "\n",
        "tupla1[0] = 3"
      ],
      "metadata": {
        "colab": {
          "base_uri": "https://localhost:8080/",
          "height": 200
        },
        "id": "YfJYbi_IWTRx",
        "outputId": "d22e658f-70ad-4f38-8d8a-bb09a73ae883"
      },
      "execution_count": 194,
      "outputs": [
        {
          "output_type": "error",
          "ename": "TypeError",
          "evalue": "ignored",
          "traceback": [
            "\u001b[0;31m---------------------------------------------------------------------------\u001b[0m",
            "\u001b[0;31mTypeError\u001b[0m                                 Traceback (most recent call last)",
            "\u001b[0;32m<ipython-input-194-691d869ebab3>\u001b[0m in \u001b[0;36m<module>\u001b[0;34m()\u001b[0m\n\u001b[1;32m      1\u001b[0m \u001b[0;31m# Elas são imutáveis\u001b[0m\u001b[0;34m\u001b[0m\u001b[0;34m\u001b[0m\u001b[0;34m\u001b[0m\u001b[0m\n\u001b[1;32m      2\u001b[0m \u001b[0;34m\u001b[0m\u001b[0m\n\u001b[0;32m----> 3\u001b[0;31m \u001b[0mtupla1\u001b[0m\u001b[0;34m[\u001b[0m\u001b[0;36m0\u001b[0m\u001b[0;34m]\u001b[0m \u001b[0;34m=\u001b[0m \u001b[0;36m3\u001b[0m\u001b[0;34m\u001b[0m\u001b[0;34m\u001b[0m\u001b[0m\n\u001b[0m",
            "\u001b[0;31mTypeError\u001b[0m: 'tuple' object does not support item assignment"
          ]
        }
      ]
    },
    {
      "cell_type": "code",
      "source": [
        "tupla1[0]"
      ],
      "metadata": {
        "colab": {
          "base_uri": "https://localhost:8080/"
        },
        "id": "elkm5NySWiCH",
        "outputId": "1fe2c1c2-8be1-46a2-9434-d7c16f99d3d4"
      },
      "execution_count": 195,
      "outputs": [
        {
          "output_type": "execute_result",
          "data": {
            "text/plain": [
              "1"
            ]
          },
          "metadata": {},
          "execution_count": 195
        }
      ]
    },
    {
      "cell_type": "markdown",
      "source": [
        "## 8. Conjuntos"
      ],
      "metadata": {
        "id": "c1SMggoLWn-2"
      }
    },
    {
      "cell_type": "markdown",
      "source": [
        "Um conjunto (set), assim como a tupla. é criado utilizando parênteses. Não exise indexação ou slicing, ou seja, não seguem uma ordem (nesse caso mais similares aos dicionários). Permitem adições mas não permitem itens repetidos."
      ],
      "metadata": {
        "id": "W18moPf1W7wS"
      }
    },
    {
      "cell_type": "code",
      "source": [
        "# Cria-se um conjunto a partir de função set()\n",
        "\n",
        "conjunto1 = set()"
      ],
      "metadata": {
        "id": "JoNy8Z9jWtxE"
      },
      "execution_count": 197,
      "outputs": []
    },
    {
      "cell_type": "code",
      "source": [
        "conjunto1"
      ],
      "metadata": {
        "colab": {
          "base_uri": "https://localhost:8080/"
        },
        "id": "u1HwdUOxWv_u",
        "outputId": "18233777-8030-4553-ce3b-fc5ec560ec89"
      },
      "execution_count": 198,
      "outputs": [
        {
          "output_type": "execute_result",
          "data": {
            "text/plain": [
              "set()"
            ]
          },
          "metadata": {},
          "execution_count": 198
        }
      ]
    },
    {
      "cell_type": "code",
      "source": [
        "type(conjunto1)"
      ],
      "metadata": {
        "colab": {
          "base_uri": "https://localhost:8080/"
        },
        "id": "MFi-4de5XptA",
        "outputId": "e4a9e1b3-bfb2-4af1-d970-23c58655bdab"
      },
      "execution_count": 199,
      "outputs": [
        {
          "output_type": "execute_result",
          "data": {
            "text/plain": [
              "set"
            ]
          },
          "metadata": {},
          "execution_count": 199
        }
      ]
    },
    {
      "cell_type": "code",
      "source": [
        "# Método add para adicionar um novo item\n",
        "\n",
        "conjunto1.add(9)"
      ],
      "metadata": {
        "id": "_KmIGZDfXrz7"
      },
      "execution_count": 202,
      "outputs": []
    },
    {
      "cell_type": "code",
      "source": [
        "conjunto1"
      ],
      "metadata": {
        "colab": {
          "base_uri": "https://localhost:8080/"
        },
        "id": "9yjo6Fg-X3wt",
        "outputId": "dfdc1fb3-6f58-48bb-b14e-499ab57f9d73"
      },
      "execution_count": 204,
      "outputs": [
        {
          "output_type": "execute_result",
          "data": {
            "text/plain": [
              "{9, 99}"
            ]
          },
          "metadata": {},
          "execution_count": 204
        }
      ]
    },
    {
      "cell_type": "code",
      "source": [
        "# Não consideram itens repetidos (pode ser usado para remover itens duplicados)\n",
        "\n",
        "# Veja que vamos adicionar o mesmo número várias vezes, mas ele os contabiliza apenas uma vez\n",
        "\n",
        "conjunto1.add(9)\n",
        "conjunto1.add(9)\n",
        "conjunto1.add(9)\n",
        "conjunto1.add(1)\n",
        "conjunto1.add(1)\n",
        "conjunto1.add(2)\n",
        "conjunto1.add('PETR4')"
      ],
      "metadata": {
        "id": "t_UfVGYOX8o2"
      },
      "execution_count": 205,
      "outputs": []
    },
    {
      "cell_type": "code",
      "source": [
        "conjunto1"
      ],
      "metadata": {
        "colab": {
          "base_uri": "https://localhost:8080/"
        },
        "id": "krTPVsDvYJYE",
        "outputId": "ce1e4bd5-4be6-4904-fdab-0e2c8a11ef1f"
      },
      "execution_count": 206,
      "outputs": [
        {
          "output_type": "execute_result",
          "data": {
            "text/plain": [
              "{1, 2, 9, 99, 'PETR4'}"
            ]
          },
          "metadata": {},
          "execution_count": 206
        }
      ]
    },
    {
      "cell_type": "code",
      "source": [
        "len(conjunto1)"
      ],
      "metadata": {
        "colab": {
          "base_uri": "https://localhost:8080/"
        },
        "id": "7Uhd-cFRYf8r",
        "outputId": "eaac26eb-62db-4bcc-8b45-440f8523daee"
      },
      "execution_count": 207,
      "outputs": [
        {
          "output_type": "execute_result",
          "data": {
            "text/plain": [
              "5"
            ]
          },
          "metadata": {},
          "execution_count": 207
        }
      ]
    },
    {
      "cell_type": "code",
      "source": [
        "# Não são indexáveis, ou seja, não seguem uma ordem como as listas ou tuplas\n",
        "\n",
        "# Portanto, este comando vai resultar em erro\n",
        "\n",
        "conjunto1[0]"
      ],
      "metadata": {
        "colab": {
          "base_uri": "https://localhost:8080/",
          "height": 200
        },
        "id": "v0YLtjmmYixj",
        "outputId": "80993491-68b7-4d3e-dd19-39828e6ad5c6"
      },
      "execution_count": 208,
      "outputs": [
        {
          "output_type": "error",
          "ename": "TypeError",
          "evalue": "ignored",
          "traceback": [
            "\u001b[0;31m---------------------------------------------------------------------------\u001b[0m",
            "\u001b[0;31mTypeError\u001b[0m                                 Traceback (most recent call last)",
            "\u001b[0;32m<ipython-input-208-e89d6ee110e5>\u001b[0m in \u001b[0;36m<module>\u001b[0;34m()\u001b[0m\n\u001b[1;32m      3\u001b[0m \u001b[0;31m# Portanto, este comando vai resultar em erro\u001b[0m\u001b[0;34m\u001b[0m\u001b[0;34m\u001b[0m\u001b[0;34m\u001b[0m\u001b[0m\n\u001b[1;32m      4\u001b[0m \u001b[0;34m\u001b[0m\u001b[0m\n\u001b[0;32m----> 5\u001b[0;31m \u001b[0mconjunto1\u001b[0m\u001b[0;34m[\u001b[0m\u001b[0;36m0\u001b[0m\u001b[0;34m]\u001b[0m\u001b[0;34m\u001b[0m\u001b[0;34m\u001b[0m\u001b[0m\n\u001b[0m",
            "\u001b[0;31mTypeError\u001b[0m: 'set' object is not subscriptable"
          ]
        }
      ]
    }
  ]
}