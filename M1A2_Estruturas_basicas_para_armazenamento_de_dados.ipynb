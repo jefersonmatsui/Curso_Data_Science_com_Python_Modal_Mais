{
  "nbformat": 4,
  "nbformat_minor": 0,
  "metadata": {
    "colab": {
      "name": "M1A2_Estruturas_basicas_para_armazenamento_de_dados.ipynb",
      "provenance": [],
      "authorship_tag": "ABX9TyPnZver+ocrSUybEHV+Uq4Q",
      "include_colab_link": true
    },
    "kernelspec": {
      "name": "python3",
      "display_name": "Python 3"
    },
    "language_info": {
      "name": "python"
    }
  },
  "cells": [
    {
      "cell_type": "markdown",
      "metadata": {
        "id": "view-in-github",
        "colab_type": "text"
      },
      "source": [
        "<a href=\"https://colab.research.google.com/github/jefersonmatsui/Data_Science_com_Python_Modal_Mais/blob/main/M1A2_Estruturas_basicas_para_armazenamento_de_dados.ipynb\" target=\"_parent\"><img src=\"https://colab.research.google.com/assets/colab-badge.svg\" alt=\"Open In Colab\"/></a>"
      ]
    },
    {
      "cell_type": "markdown",
      "source": [
        "## 4. Strings"
      ],
      "metadata": {
        "id": "J90hAuZmbxtN"
      }
    },
    {
      "cell_type": "code",
      "source": [
        "acao = 'PETR4'"
      ],
      "metadata": {
        "id": "L_A18QYyx9lO"
      },
      "execution_count": null,
      "outputs": []
    },
    {
      "cell_type": "code",
      "source": [
        "type(acao)"
      ],
      "metadata": {
        "colab": {
          "base_uri": "https://localhost:8080/"
        },
        "id": "MVlVA8PoyCSD",
        "outputId": "9d545cca-6cea-42b1-fdd8-1554cd967d66"
      },
      "execution_count": null,
      "outputs": [
        {
          "output_type": "execute_result",
          "data": {
            "text/plain": [
              "str"
            ]
          },
          "metadata": {},
          "execution_count": 2
        }
      ]
    },
    {
      "cell_type": "markdown",
      "source": [
        ""
      ],
      "metadata": {
        "id": "JBXc_TLsk4ki"
      }
    },
    {
      "cell_type": "markdown",
      "source": [
        "### 4.1. Indexação e 'slicing' (fatiamento)"
      ],
      "metadata": {
        "id": "k3Adi1OD-5kb"
      }
    },
    {
      "cell_type": "code",
      "source": [
        "# Suponha que você viu a seguinte manchete:\n",
        "\n",
        "manchete = 'PETR4 vai aumentar o preço da gasolina'"
      ],
      "metadata": {
        "id": "e2ONaFu-_CkJ"
      },
      "execution_count": null,
      "outputs": []
    },
    {
      "cell_type": "code",
      "source": [
        "print(manchete)"
      ],
      "metadata": {
        "colab": {
          "base_uri": "https://localhost:8080/"
        },
        "id": "nBCX2tJa_HUU",
        "outputId": "58b84a4b-4c20-4732-9151-093779978401"
      },
      "execution_count": null,
      "outputs": [
        {
          "output_type": "stream",
          "name": "stdout",
          "text": [
            "PETR4 vai aumentar o preço da gasolina\n"
          ]
        }
      ]
    },
    {
      "cell_type": "code",
      "source": [
        "# Tipo\n",
        "type(manchete)"
      ],
      "metadata": {
        "colab": {
          "base_uri": "https://localhost:8080/"
        },
        "id": "YzZrbXnrCZLP",
        "outputId": "57d12e01-601e-47b1-e5d9-c40abf6f2bed"
      },
      "execution_count": null,
      "outputs": [
        {
          "output_type": "execute_result",
          "data": {
            "text/plain": [
              "str"
            ]
          },
          "metadata": {},
          "execution_count": 10
        }
      ]
    },
    {
      "cell_type": "code",
      "source": [
        "# Comprimento (length) do objeto, neste caso o número de caracteres [começando do zero]\n",
        "len(manchete)"
      ],
      "metadata": {
        "colab": {
          "base_uri": "https://localhost:8080/"
        },
        "id": "0rNgMfi_CjI3",
        "outputId": "fdcc3b31-eab7-4e52-ff4c-94044a05a7b3"
      },
      "execution_count": null,
      "outputs": [
        {
          "output_type": "execute_result",
          "data": {
            "text/plain": [
              "38"
            ]
          },
          "metadata": {},
          "execution_count": 16
        }
      ]
    },
    {
      "cell_type": "code",
      "source": [
        "manchete[0]"
      ],
      "metadata": {
        "colab": {
          "base_uri": "https://localhost:8080/",
          "height": 35
        },
        "id": "Ipqm9G_dClBy",
        "outputId": "3fe3c527-89e2-4393-c2a6-043a8cd64354"
      },
      "execution_count": null,
      "outputs": [
        {
          "output_type": "execute_result",
          "data": {
            "text/plain": [
              "'P'"
            ],
            "application/vnd.google.colaboratory.intrinsic+json": {
              "type": "string"
            }
          },
          "metadata": {},
          "execution_count": 17
        }
      ]
    },
    {
      "cell_type": "code",
      "source": [
        ""
      ],
      "metadata": {
        "id": "Hie-zcsaJ0Jm"
      },
      "execution_count": null,
      "outputs": []
    }
  ]
}