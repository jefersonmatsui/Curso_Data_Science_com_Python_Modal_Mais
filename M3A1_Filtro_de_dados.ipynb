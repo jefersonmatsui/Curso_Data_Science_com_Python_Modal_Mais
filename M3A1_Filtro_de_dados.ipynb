{
  "nbformat": 4,
  "nbformat_minor": 0,
  "metadata": {
    "colab": {
      "name": "M3A1_Filtro_de_dados.ipynb",
      "provenance": [],
      "authorship_tag": "ABX9TyPzfQfEAnb6883pSrurEDB3",
      "include_colab_link": true
    },
    "kernelspec": {
      "name": "python3",
      "display_name": "Python 3"
    },
    "language_info": {
      "name": "python"
    }
  },
  "cells": [
    {
      "cell_type": "markdown",
      "metadata": {
        "id": "view-in-github",
        "colab_type": "text"
      },
      "source": [
        "<a href=\"https://colab.research.google.com/github/jefersonmatsui/Data_Science_com_Python_Modal_Mais/blob/main/M3A1_Filtro_de_dados.ipynb\" target=\"_parent\"><img src=\"https://colab.research.google.com/assets/colab-badge.svg\" alt=\"Open In Colab\"/></a>"
      ]
    },
    {
      "cell_type": "markdown",
      "source": [
        "# **Módulo 3 - Manipulação de Dados com Python**"
      ],
      "metadata": {
        "id": "juc86bbjh2LS"
      }
    },
    {
      "cell_type": "markdown",
      "source": [
        "O objetivo deste módulo é dar início ao processo de transformação e processamento de dados, para deixar no formato que precisamos antes de realizar a análise. Além disso, mostraremos como filtrar, modificar e juntar diferentes tipos de dados."
      ],
      "metadata": {
        "id": "r5qx5ECmo-rN"
      }
    },
    {
      "cell_type": "markdown",
      "source": [
        "## 1. Bibliotecas"
      ],
      "metadata": {
        "id": "Xv8re38ZqKzo"
      }
    },
    {
      "cell_type": "markdown",
      "source": [
        "Dando continuidade ao que aprendemos no módulo anterior, neste módulo continuaremos explorando todo o potencial da biblioteca pandas.\n",
        "\n",
        "Esta é a biblioteca de referência que devemos usar quando há necessidade de processamento e tratamento de dados.\n",
        "\n",
        "Além disso, vamos mostrar alguns procedimentos que podemos realizar com dados, utilizando para isso dados financeiros como exemplo."
      ],
      "metadata": {
        "id": "a6-IJ6h5qUI4"
      }
    },
    {
      "cell_type": "code",
      "source": [
        "# Execute apenas se for preciso instalar as bibliotecas\n",
        "\n",
        "!pip install pandas numpy\n",
        "!pip install datetime\n",
        "!pip install matplotlib plotly\n",
        "!pip install yfinance quandl"
      ],
      "metadata": {
        "colab": {
          "base_uri": "https://localhost:8080/"
        },
        "id": "SC-7FV2oqXh-",
        "outputId": "b3d8d84c-48b5-4337-d33b-deb04f474871"
      },
      "execution_count": 6,
      "outputs": [
        {
          "output_type": "stream",
          "name": "stdout",
          "text": [
            "Looking in indexes: https://pypi.org/simple, https://us-python.pkg.dev/colab-wheels/public/simple/\n",
            "Requirement already satisfied: pandas in /usr/local/lib/python3.7/dist-packages (1.3.5)\n",
            "Requirement already satisfied: numpy in /usr/local/lib/python3.7/dist-packages (1.21.6)\n",
            "Requirement already satisfied: python-dateutil>=2.7.3 in /usr/local/lib/python3.7/dist-packages (from pandas) (2.8.2)\n",
            "Requirement already satisfied: pytz>=2017.3 in /usr/local/lib/python3.7/dist-packages (from pandas) (2022.1)\n",
            "Requirement already satisfied: six>=1.5 in /usr/local/lib/python3.7/dist-packages (from python-dateutil>=2.7.3->pandas) (1.15.0)\n",
            "Looking in indexes: https://pypi.org/simple, https://us-python.pkg.dev/colab-wheels/public/simple/\n",
            "Requirement already satisfied: datetime in /usr/local/lib/python3.7/dist-packages (4.4)\n",
            "Requirement already satisfied: zope.interface in /usr/local/lib/python3.7/dist-packages (from datetime) (5.4.0)\n",
            "Requirement already satisfied: pytz in /usr/local/lib/python3.7/dist-packages (from datetime) (2022.1)\n",
            "Requirement already satisfied: setuptools in /usr/local/lib/python3.7/dist-packages (from zope.interface->datetime) (57.4.0)\n",
            "Looking in indexes: https://pypi.org/simple, https://us-python.pkg.dev/colab-wheels/public/simple/\n",
            "Requirement already satisfied: matplotlib in /usr/local/lib/python3.7/dist-packages (3.2.2)\n",
            "Requirement already satisfied: plotly in /usr/local/lib/python3.7/dist-packages (5.5.0)\n",
            "Requirement already satisfied: python-dateutil>=2.1 in /usr/local/lib/python3.7/dist-packages (from matplotlib) (2.8.2)\n",
            "Requirement already satisfied: pyparsing!=2.0.4,!=2.1.2,!=2.1.6,>=2.0.1 in /usr/local/lib/python3.7/dist-packages (from matplotlib) (3.0.9)\n",
            "Requirement already satisfied: kiwisolver>=1.0.1 in /usr/local/lib/python3.7/dist-packages (from matplotlib) (1.4.2)\n",
            "Requirement already satisfied: cycler>=0.10 in /usr/local/lib/python3.7/dist-packages (from matplotlib) (0.11.0)\n",
            "Requirement already satisfied: numpy>=1.11 in /usr/local/lib/python3.7/dist-packages (from matplotlib) (1.21.6)\n",
            "Requirement already satisfied: typing-extensions in /usr/local/lib/python3.7/dist-packages (from kiwisolver>=1.0.1->matplotlib) (4.2.0)\n",
            "Requirement already satisfied: six>=1.5 in /usr/local/lib/python3.7/dist-packages (from python-dateutil>=2.1->matplotlib) (1.15.0)\n",
            "Requirement already satisfied: tenacity>=6.2.0 in /usr/local/lib/python3.7/dist-packages (from plotly) (8.0.1)\n",
            "Looking in indexes: https://pypi.org/simple, https://us-python.pkg.dev/colab-wheels/public/simple/\n",
            "Requirement already satisfied: yfinance in /usr/local/lib/python3.7/dist-packages (0.1.70)\n",
            "Requirement already satisfied: quandl in /usr/local/lib/python3.7/dist-packages (3.7.0)\n",
            "Requirement already satisfied: multitasking>=0.0.7 in /usr/local/lib/python3.7/dist-packages (from yfinance) (0.0.10)\n",
            "Requirement already satisfied: pandas>=0.24.0 in /usr/local/lib/python3.7/dist-packages (from yfinance) (1.3.5)\n",
            "Requirement already satisfied: requests>=2.26 in /usr/local/lib/python3.7/dist-packages (from yfinance) (2.27.1)\n",
            "Requirement already satisfied: lxml>=4.5.1 in /usr/local/lib/python3.7/dist-packages (from yfinance) (4.9.0)\n",
            "Requirement already satisfied: numpy>=1.15 in /usr/local/lib/python3.7/dist-packages (from yfinance) (1.21.6)\n",
            "Requirement already satisfied: pytz>=2017.3 in /usr/local/lib/python3.7/dist-packages (from pandas>=0.24.0->yfinance) (2022.1)\n",
            "Requirement already satisfied: python-dateutil>=2.7.3 in /usr/local/lib/python3.7/dist-packages (from pandas>=0.24.0->yfinance) (2.8.2)\n",
            "Requirement already satisfied: six>=1.5 in /usr/local/lib/python3.7/dist-packages (from python-dateutil>=2.7.3->pandas>=0.24.0->yfinance) (1.15.0)\n",
            "Requirement already satisfied: urllib3<1.27,>=1.21.1 in /usr/local/lib/python3.7/dist-packages (from requests>=2.26->yfinance) (1.24.3)\n",
            "Requirement already satisfied: certifi>=2017.4.17 in /usr/local/lib/python3.7/dist-packages (from requests>=2.26->yfinance) (2022.5.18.1)\n",
            "Requirement already satisfied: idna<4,>=2.5 in /usr/local/lib/python3.7/dist-packages (from requests>=2.26->yfinance) (2.10)\n",
            "Requirement already satisfied: charset-normalizer~=2.0.0 in /usr/local/lib/python3.7/dist-packages (from requests>=2.26->yfinance) (2.0.12)\n",
            "Requirement already satisfied: inflection>=0.3.1 in /usr/local/lib/python3.7/dist-packages (from quandl) (0.5.1)\n",
            "Requirement already satisfied: more-itertools in /usr/local/lib/python3.7/dist-packages (from quandl) (8.13.0)\n"
          ]
        }
      ]
    },
    {
      "cell_type": "code",
      "source": [
        "# Manipulação de dados\n",
        "import pandas as pd\n",
        "import numpy as np\n",
        "\n",
        "# Visualização de dados\n",
        "import matplotlib.pyplot as plt\n",
        "import plotly.graph_objects as go\n",
        "\n",
        "# Importação de dados financeiros\n",
        "import yfinance as yf\n",
        "import quandl"
      ],
      "metadata": {
        "id": "fYEKV991qi_w"
      },
      "execution_count": 7,
      "outputs": []
    },
    {
      "cell_type": "markdown",
      "source": [
        "## 2. Criar e organizar um dataframe"
      ],
      "metadata": {
        "id": "ipVSX0WHqm4d"
      }
    },
    {
      "cell_type": "markdown",
      "source": [
        "### 2.1. Dataframe simples, uma coluna"
      ],
      "metadata": {
        "id": "XqEF1DPprh--"
      }
    },
    {
      "cell_type": "markdown",
      "source": [
        "Vamos utilizara API da Quandl (Nasdaq) que já vimos anteriormente para fazer a extração dos dados da Selic"
      ],
      "metadata": {
        "id": "0unf3qawsAO9"
      }
    },
    {
      "cell_type": "code",
      "source": [
        "# Inserir a chave de API\n",
        "\n",
        "quandl.ApiConfig.api_key = 'FCsohc761nXP2p31xyzb'"
      ],
      "metadata": {
        "id": "vmph_LMrroaU"
      },
      "execution_count": 31,
      "outputs": []
    },
    {
      "cell_type": "code",
      "source": [
        "# Os códigos referentes a cada papel / moeda / taxa de juros podem ser obtidos na busca do proprio site da Quandl\n",
        "# Nesse caso, a selic é representada por BCB/432\n",
        "\n",
        "selic = quandl.get('BCB/432', start_date = '2000-01-01', end_date = '2022-12-31');\n",
        "\n",
        "plt.figure(figsize = (10,10))\n",
        "plt.plot(selic)\n",
        "plt.show()"
      ],
      "metadata": {
        "colab": {
          "base_uri": "https://localhost:8080/",
          "height": 592
        },
        "id": "KFeBmt0isYj3",
        "outputId": "d5e9f4d4-63cf-4dc3-8707-0f8cf5f18ab4"
      },
      "execution_count": 32,
      "outputs": [
        {
          "output_type": "display_data",
          "data": {
            "text/plain": [
              "<Figure size 720x720 with 1 Axes>"
            ],
            "image/png": "[encoded data removed]"
          },
          "metadata": {
            "needs_background": "light"
          }
        }
      ]
    },
    {
      "cell_type": "code",
      "source": [
        "# Vamos inspecionar o formato dos dados\n",
        "\n",
        "selic.head()"
      ],
      "metadata": {
        "colab": {
          "base_uri": "https://localhost:8080/",
          "height": 238
        },
        "id": "CiqpJre7sq1L",
        "outputId": "a3ad5e23-142d-4af5-cf35-90a950316439"
      },
      "execution_count": 33,
      "outputs": [
        {
          "output_type": "execute_result",
          "data": {
            "text/plain": [
              "            Value\n",
              "Date             \n",
              "2000-01-01   19.0\n",
              "2000-01-02   19.0\n",
              "2000-01-03   19.0\n",
              "2000-01-04   19.0\n",
              "2000-01-05   19.0"
            ],
            "text/html": [
              "\n",
              "  <div id=\"df-c64d60c0-622f-49a6-9a38-461685014704\">\n",
              "    <div class=\"colab-df-container\">\n",
              "      <div>\n",
              "<style scoped>\n",
              "    .dataframe tbody tr th:only-of-type {\n",
              "        vertical-align: middle;\n",
              "    }\n",
              "\n",
              "    .dataframe tbody tr th {\n",
              "        vertical-align: top;\n",
              "    }\n",
              "\n",
              "    .dataframe thead th {\n",
              "        text-align: right;\n",
              "    }\n",
              "</style>\n",
              "<table border=\"1\" class=\"dataframe\">\n",
              "  <thead>\n",
              "    <tr style=\"text-align: right;\">\n",
              "      <th></th>\n",
              "      <th>Value</th>\n",
              "    </tr>\n",
              "    <tr>\n",
              "      <th>Date</th>\n",
              "      <th></th>\n",
              "    </tr>\n",
              "  </thead>\n",
              "  <tbody>\n",
              "    <tr>\n",
              "      <th>2000-01-01</th>\n",
              "      <td>19.0</td>\n",
              "    </tr>\n",
              "    <tr>\n",
              "      <th>2000-01-02</th>\n",
              "      <td>19.0</td>\n",
              "    </tr>\n",
              "    <tr>\n",
              "      <th>2000-01-03</th>\n",
              "      <td>19.0</td>\n",
              "    </tr>\n",
              "    <tr>\n",
              "      <th>2000-01-04</th>\n",
              "      <td>19.0</td>\n",
              "    </tr>\n",
              "    <tr>\n",
              "      <th>2000-01-05</th>\n",
              "      <td>19.0</td>\n",
              "    </tr>\n",
              "  </tbody>\n",
              "</table>\n",
              "</div>\n",
              "      <button class=\"colab-df-convert\" onclick=\"convertToInteractive('df-c64d60c0-622f-49a6-9a38-461685014704')\"\n",
              "              title=\"Convert this dataframe to an interactive table.\"\n",
              "              style=\"display:none;\">\n",
              "        \n",
              "  <svg xmlns=\"http://www.w3.org/2000/svg\" height=\"24px\"viewBox=\"0 0 24 24\"\n",
              "       width=\"24px\">\n",
              "    <path d=\"M0 0h24v24H0V0z\" fill=\"none\"/>\n",
              "    <path d=\"M18.56 5.44l.94 2.06.94-2.06 2.06-.94-2.06-.94-.94-2.06-.94 2.06-2.06.94zm-11 1L8.5 8.5l.94-2.06 2.06-.94-2.06-.94L8.5 2.5l-.94 2.06-2.06.94zm10 10l.94 2.06.94-2.06 2.06-.94-2.06-.94-.94-2.06-.94 2.06-2.06.94z\"/><path d=\"M17.41 7.96l-1.37-1.37c-.4-.4-.92-.59-1.43-.59-.52 0-1.04.2-1.43.59L10.3 9.45l-7.72 7.72c-.78.78-.78 2.05 0 2.83L4 21.41c.39.39.9.59 1.41.59.51 0 1.02-.2 1.41-.59l7.78-7.78 2.81-2.81c.8-.78.8-2.07 0-2.86zM5.41 20L4 18.59l7.72-7.72 1.47 1.35L5.41 20z\"/>\n",
              "  </svg>\n",
              "      </button>\n",
              "      \n",
              "  <style>\n",
              "    .colab-df-container {\n",
              "      display:flex;\n",
              "      flex-wrap:wrap;\n",
              "      gap: 12px;\n",
              "    }\n",
              "\n",
              "    .colab-df-convert {\n",
              "      background-color: #E8F0FE;\n",
              "      border: none;\n",
              "      border-radius: 50%;\n",
              "      cursor: pointer;\n",
              "      display: none;\n",
              "      fill: #1967D2;\n",
              "      height: 32px;\n",
              "      padding: 0 0 0 0;\n",
              "      width: 32px;\n",
              "    }\n",
              "\n",
              "    .colab-df-convert:hover {\n",
              "      background-color: #E2EBFA;\n",
              "      box-shadow: 0px 1px 2px rgba(60, 64, 67, 0.3), 0px 1px 3px 1px rgba(60, 64, 67, 0.15);\n",
              "      fill: #174EA6;\n",
              "    }\n",
              "\n",
              "    [theme=dark] .colab-df-convert {\n",
              "      background-color: #3B4455;\n",
              "      fill: #D2E3FC;\n",
              "    }\n",
              "\n",
              "    [theme=dark] .colab-df-convert:hover {\n",
              "      background-color: #434B5C;\n",
              "      box-shadow: 0px 1px 3px 1px rgba(0, 0, 0, 0.15);\n",
              "      filter: drop-shadow(0px 1px 2px rgba(0, 0, 0, 0.3));\n",
              "      fill: #FFFFFF;\n",
              "    }\n",
              "  </style>\n",
              "\n",
              "      <script>\n",
              "        const buttonEl =\n",
              "          document.querySelector('#df-c64d60c0-622f-49a6-9a38-461685014704 button.colab-df-convert');\n",
              "        buttonEl.style.display =\n",
              "          google.colab.kernel.accessAllowed ? 'block' : 'none';\n",
              "\n",
              "        async function convertToInteractive(key) {\n",
              "          const element = document.querySelector('#df-c64d60c0-622f-49a6-9a38-461685014704');\n",
              "          const dataTable =\n",
              "            await google.colab.kernel.invokeFunction('convertToInteractive',\n",
              "                                                     [key], {});\n",
              "          if (!dataTable) return;\n",
              "\n",
              "          const docLinkHtml = 'Like what you see? Visit the ' +\n",
              "            '<a target=\"_blank\" href=https://colab.research.google.com/notebooks/data_table.ipynb>data table notebook</a>'\n",
              "            + ' to learn more about interactive tables.';\n",
              "          element.innerHTML = '';\n",
              "          dataTable['output_type'] = 'display_data';\n",
              "          await google.colab.output.renderOutput(dataTable, element);\n",
              "          const docLink = document.createElement('div');\n",
              "          docLink.innerHTML = docLinkHtml;\n",
              "          element.appendChild(docLink);\n",
              "        }\n",
              "      </script>\n",
              "    </div>\n",
              "  </div>\n",
              "  "
            ]
          },
          "metadata": {},
          "execution_count": 33
        }
      ]
    },
    {
      "cell_type": "markdown",
      "source": [
        "Observe a estrutura do data frame acima. Perceba que ele possui apenas uma coluna e um índice (data). Data frames assim são fáceis de trabalhar pois as tarefas realizadas nele são automaticamente aplicadas a sua única coluna, portanto não é necessário mencionar o nome desta única coluna.\n",
        "\n",
        "Os dataframes lembram muito os nossos conhecidos arquivos de planilha como Excel ou Google Sheets"
      ],
      "metadata": {
        "id": "1PGz_YYpttCl"
      }
    },
    {
      "cell_type": "markdown",
      "source": [
        "### 2.2. Filtros simples"
      ],
      "metadata": {
        "id": "8pWACJKFt2TQ"
      }
    },
    {
      "cell_type": "markdown",
      "source": [
        "Imagine que você trabalha num banco e agora lhe foi dada a tarefa de selecionar um valor de Selic para um dia específico. Como você poderia fazer?\n",
        "\n",
        "É para resolver problemas assim que existem os métodos .loc e .iloc. Como eles funcionam?\n",
        "\n",
        "A ideia desses métodos é de possibilitar um filtro nos nossos dados para obter uma linha ou célula específicas."
      ],
      "metadata": {
        "id": "UioOOg4c98m8"
      }
    },
    {
      "cell_type": "markdown",
      "source": [
        "#### 2.2.1. O método .loc"
      ],
      "metadata": {
        "id": "fInXZyED-Gk2"
      }
    },
    {
      "cell_type": "markdown",
      "source": [
        "O .loc é utilizado quando o filtro deve ser feito com a métrica utilizada no índice do nosso dataframe.\n",
        "\n",
        "Por exemplo, a métrica utilizada como índice no nosso dataframe é data. Portanto, nesse caso devemos usar o .loc com a data que queremos fazer o filtro.\n",
        "\n",
        "Imagine que o seu gestor te perguntou qual era o valor da Selic no dia 26/05/21\n",
        "\n",
        "Você poderia ter feito assim:"
      ],
      "metadata": {
        "id": "W60VKOd1-MBs"
      }
    },
    {
      "cell_type": "code",
      "source": [
        "selic_filtrada = selic.loc['2021-05-26']\n",
        "selic_filtrada"
      ],
      "metadata": {
        "colab": {
          "base_uri": "https://localhost:8080/"
        },
        "id": "qefcqDX0_fpC",
        "outputId": "aef5c9fb-0f56-4905-9058-b10bf079a3eb"
      },
      "execution_count": 34,
      "outputs": [
        {
          "output_type": "execute_result",
          "data": {
            "text/plain": [
              "Value    3.5\n",
              "Name: 2021-05-26 00:00:00, dtype: float64"
            ]
          },
          "metadata": {},
          "execution_count": 34
        }
      ]
    },
    {
      "cell_type": "code",
      "source": [
        "# Para obter os dados entre duas datas específicas\n",
        "\n",
        "selic_filtrada = selic.loc['2019-03-26':'2021-05-26']\n",
        "selic_filtrada.plot()"
      ],
      "metadata": {
        "colab": {
          "base_uri": "https://localhost:8080/",
          "height": 308
        },
        "id": "DNLovNMv_2G1",
        "outputId": "ee1f315f-3b41-47a9-bbdb-7cc8d2f3be23"
      },
      "execution_count": 35,
      "outputs": [
        {
          "output_type": "execute_result",
          "data": {
            "text/plain": [
              "<matplotlib.axes._subplots.AxesSubplot at 0x7fa3a60341d0>"
            ]
          },
          "metadata": {},
          "execution_count": 35
        },
        {
          "output_type": "display_data",
          "data": {
            "text/plain": [
              "<Figure size 432x288 with 1 Axes>"
            ],
            "image/png": "[encoded data removed]"
          },
          "metadata": {
            "needs_background": "light"
          }
        }
      ]
    },
    {
      "cell_type": "code",
      "source": [
        "# Filtrando a partir de uma data específica e indo até o último dia disponível\n",
        "\n",
        "selic_filtrada = selic.loc['2019-03-26':]\n",
        "selic_filtrada.plot()"
      ],
      "metadata": {
        "colab": {
          "base_uri": "https://localhost:8080/",
          "height": 308
        },
        "id": "F-sCM4y6AFch",
        "outputId": "f945013c-af1a-41e3-c55f-540883dd5e03"
      },
      "execution_count": 36,
      "outputs": [
        {
          "output_type": "execute_result",
          "data": {
            "text/plain": [
              "<matplotlib.axes._subplots.AxesSubplot at 0x7fa3a5f65550>"
            ]
          },
          "metadata": {},
          "execution_count": 36
        },
        {
          "output_type": "display_data",
          "data": {
            "text/plain": [
              "<Figure size 432x288 with 1 Axes>"
            ],
            "image/png": "[encoded data removed]"
          },
          "metadata": {
            "needs_background": "light"
          }
        }
      ]
    },
    {
      "cell_type": "code",
      "source": [
        "# Obtendo os dados desde o início e indo até uma data limite específica, nesse caso 26/03/2017\n",
        "\n",
        "selic_filtrada = selic.loc[:'2017-03-26']\n",
        "selic_filtrada.plot()"
      ],
      "metadata": {
        "colab": {
          "base_uri": "https://localhost:8080/",
          "height": 296
        },
        "id": "lnl9ytW6AKJo",
        "outputId": "0f97e1f1-474d-455c-cdec-7780d4c5e9ac"
      },
      "execution_count": 37,
      "outputs": [
        {
          "output_type": "execute_result",
          "data": {
            "text/plain": [
              "<matplotlib.axes._subplots.AxesSubplot at 0x7fa3a5f07410>"
            ]
          },
          "metadata": {},
          "execution_count": 37
        },
        {
          "output_type": "display_data",
          "data": {
            "text/plain": [
              "<Figure size 432x288 with 1 Axes>"
            ],
            "image/png": "[encoded data removed]"
          },
          "metadata": {
            "needs_background": "light"
          }
        }
      ]
    },
    {
      "cell_type": "markdown",
      "source": [
        "#### 2.2.2. O método .iloc"
      ],
      "metadata": {
        "id": "l56ZiuVLAWgY"
      }
    },
    {
      "cell_type": "markdown",
      "source": [
        "O .iloc é utilizado quando o filtro deve ser feito com a posição da linha dentro do nosso dataframe.\n",
        "\n",
        "Por exemplo, caso você precise da linha 0 ou linha 1. Ou mesmo se precisar da linha 200 até a linha 500.\n",
        "\n",
        "Exemplos:"
      ],
      "metadata": {
        "id": "knDw5_pWAbgf"
      }
    },
    {
      "cell_type": "code",
      "source": [
        "# Obtendo a linha 0 (primeira linha, excluindo o cabeçalho)\n",
        "\n",
        "selic_filtrada = selic.iloc[0]\n",
        "selic_filtrada"
      ],
      "metadata": {
        "colab": {
          "base_uri": "https://localhost:8080/"
        },
        "id": "fufF2lVuAec8",
        "outputId": "65e96c11-eaff-47d6-cdac-240adec1b9a3"
      },
      "execution_count": 40,
      "outputs": [
        {
          "output_type": "execute_result",
          "data": {
            "text/plain": [
              "Value    19.0\n",
              "Name: 2000-01-01 00:00:00, dtype: float64"
            ]
          },
          "metadata": {},
          "execution_count": 40
        }
      ]
    },
    {
      "cell_type": "code",
      "source": [
        "# Obtendo a linha 1 (lembrar sempre da indexação iniciado em 0 em Python)\n",
        "\n",
        "selic_filtrada = selic.iloc[1]\n",
        "selic_filtrada"
      ],
      "metadata": {
        "colab": {
          "base_uri": "https://localhost:8080/"
        },
        "id": "GAM-twRlA39I",
        "outputId": "8cb16a46-6020-4174-a021-447b8259ecdf"
      },
      "execution_count": 41,
      "outputs": [
        {
          "output_type": "execute_result",
          "data": {
            "text/plain": [
              "Value    19.0\n",
              "Name: 2000-01-02 00:00:00, dtype: float64"
            ]
          },
          "metadata": {},
          "execution_count": 41
        }
      ]
    },
    {
      "cell_type": "code",
      "source": [
        "# Obtendo a linha 200\n",
        "\n",
        "selic_filtrada = selic.iloc[200]\n",
        "selic_filtrada"
      ],
      "metadata": {
        "colab": {
          "base_uri": "https://localhost:8080/"
        },
        "id": "FOawujowDvbY",
        "outputId": "64b59853-ba87-485b-e2a3-35be8913709f"
      },
      "execution_count": 42,
      "outputs": [
        {
          "output_type": "execute_result",
          "data": {
            "text/plain": [
              "Value    17.0\n",
              "Name: 2000-07-19 00:00:00, dtype: float64"
            ]
          },
          "metadata": {},
          "execution_count": 42
        }
      ]
    },
    {
      "cell_type": "code",
      "source": [
        "# Obtendo a última linha\n",
        "\n",
        "selic_filtrada = selic.iloc[-1]\n",
        "selic_filtrada"
      ],
      "metadata": {
        "colab": {
          "base_uri": "https://localhost:8080/"
        },
        "id": "pHa1sI_AD5vP",
        "outputId": "60ac6a1e-9483-43ae-efd0-ed17478de850"
      },
      "execution_count": 43,
      "outputs": [
        {
          "output_type": "execute_result",
          "data": {
            "text/plain": [
              "Value    12.75\n",
              "Name: 2022-06-06 00:00:00, dtype: float64"
            ]
          },
          "metadata": {},
          "execution_count": 43
        }
      ]
    },
    {
      "cell_type": "code",
      "source": [
        "# Obtendo da linha 20 até a linha 200 (lembrandp também da indexação, 200 não inclusiva)\n",
        "\n",
        "selic_filtrada = selic.iloc[20:200]\n",
        "selic_filtrada.plot()"
      ],
      "metadata": {
        "colab": {
          "base_uri": "https://localhost:8080/",
          "height": 308
        },
        "id": "NK9hUFT3D_uL",
        "outputId": "2e0cb855-3540-4186-84fd-e0d97af8d60f"
      },
      "execution_count": 45,
      "outputs": [
        {
          "output_type": "execute_result",
          "data": {
            "text/plain": [
              "<matplotlib.axes._subplots.AxesSubplot at 0x7fa3a5c3b290>"
            ]
          },
          "metadata": {},
          "execution_count": 45
        },
        {
          "output_type": "display_data",
          "data": {
            "text/plain": [
              "<Figure size 432x288 with 1 Axes>"
            ],
            "image/png": "[encoded data removed]"
          },
          "metadata": {
            "needs_background": "light"
          }
        }
      ]
    },
    {
      "cell_type": "code",
      "source": [
        "# Obtendo todas as linhas até a linha 100 (linha 100 não entra)\n",
        "\n",
        "selic_filtrada = selic.iloc[:100]\n",
        "selic_filtrada.plot()"
      ],
      "metadata": {
        "colab": {
          "base_uri": "https://localhost:8080/",
          "height": 308
        },
        "id": "uihWhIHZEUO7",
        "outputId": "869572ba-4987-4c1c-c06d-a42c9c00543c"
      },
      "execution_count": 47,
      "outputs": [
        {
          "output_type": "execute_result",
          "data": {
            "text/plain": [
              "<matplotlib.axes._subplots.AxesSubplot at 0x7fa3a5b6a710>"
            ]
          },
          "metadata": {},
          "execution_count": 47
        },
        {
          "output_type": "display_data",
          "data": {
            "text/plain": [
              "<Figure size 432x288 with 1 Axes>"
            ],
            "image/png": "[encoded data removed]"
          },
          "metadata": {
            "needs_background": "light"
          }
        }
      ]
    },
    {
      "cell_type": "markdown",
      "source": [
        "### 2.3. Noções importantes de dataframes"
      ],
      "metadata": {
        "id": "v4kNci5lEjkd"
      }
    },
    {
      "cell_type": "markdown",
      "source": [
        "Para demonstrar manipulações de dados em um dataframe de várias colunas, vamos extrair os dados das ações que compõem o IBOV\n",
        "\n",
        "Para saber a composição atualizada do IBOV, acesse o link: https://www.b3.com.br/pt_br/market-data-e-indices/indices/indices-amplos/indice-ibovespa-ibovespa-composicao-da-carteira.htm\n",
        "\n",
        "Nesta seção, vamos utilizar algumas bibliotecas de dados de mercado financeiro, como a yfinance, que extrai dados do Yahoo Finance\n",
        "\n",
        "Os ativos que compõem o IBOV são os seguintes:\n",
        "\n",
        "['WEGE3', 'EMBR3', 'AZUL4', 'CCRO3', 'ECOR3', 'GOLL4', 'RAIL3', 'POSI3', 'BRFS3', 'JBSS3', 'MRFG3', 'BEEF3', 'ABEV3', 'ASAI3', 'CRFB3', 'PCAR3', 'NTCO3', 'AMER3', 'SOMA3', 'LREN3', 'MGLU3', 'PETZ3', 'VIIA3', 'ALPA4', 'CYRE3', 'EZTC3', 'JHSF3', 'MRVE3', 'CVCB3', 'COGN3', 'RENT3', 'LCAM3', 'YDUQ3', 'BRML3', 'IGTI11', 'MULT3', 'BIDI11', 'BPAN4', 'BBDC3', 'BBDC4', 'BBAS3', 'BPAC11', 'ITSA4', 'ITUB4', 'SANB11', 'BBSE3', 'IRBR3', 'SULA11', 'B3SA3', 'CIEL3', 'DXCO3', 'KLBN11', 'SUZB3', 'BRAP4', 'CMIN3', 'VALE3', 'BRKM5', 'GGBR4', 'GOAU4', 'CSNA3', 'USIM5', 'RRRP3', 'CSAN3', 'PETR3', 'PETR4', 'PRIO3', 'UGPA3', 'VBBR3', 'HYPE3', 'RADL3', 'FLRY3', 'HAPV3', 'GNDI3', 'QUAL3', 'RDOR3', 'LWSA3', 'CASH3', 'TOTS3', 'VIVT3', 'TIMS3', 'SBSP3', 'CMIG4', 'CPLE6', 'CPFE3', 'ELET3', 'ELET6', 'ENBR3', 'ENGI11', 'ENEV3', 'EGIE3', 'EQTL3', 'TAEE11']\n",
        "\n",
        "Vamos transformar isso agora numa lista"
      ],
      "metadata": {
        "id": "YjFRRLpSEOMV"
      }
    },
    {
      "cell_type": "code",
      "source": [
        "tickers_IBOV = ['WEGE3', 'EMBR3', 'AZUL4', 'CCRO3', 'ECOR3', 'GOLL4', 'RAIL3', 'POSI3', 'BRFS3', 'JBSS3', 'MRFG3', 'BEEF3', 'ABEV3', 'ASAI3', 'CRFB3', 'PCAR3', 'NTCO3', 'AMER3', 'SOMA3', 'LREN3', 'MGLU3', 'PETZ3', 'VIIA3', 'ALPA4', 'CYRE3', 'EZTC3', 'JHSF3', 'MRVE3', 'CVCB3', 'COGN3', 'RENT3', 'LCAM3', 'YDUQ3', 'BRML3', 'IGTI11', 'MULT3', 'BIDI11', 'BPAN4', 'BBDC3', 'BBDC4', 'BBAS3', 'BPAC11', 'ITSA4', 'ITUB4', 'SANB11', 'BBSE3', 'IRBR3', 'SULA11', 'B3SA3', 'CIEL3', 'DXCO3', 'KLBN11', 'SUZB3', 'BRAP4', 'CMIN3', 'VALE3', 'BRKM5', 'GGBR4', 'GOAU4', 'CSNA3', 'USIM5', 'RRRP3', 'CSAN3', 'PETR3', 'PETR4', 'PRIO3', 'UGPA3', 'VBBR3', 'HYPE3', 'RADL3', 'FLRY3', 'HAPV3', 'GNDI3', 'QUAL3', 'RDOR3', 'LWSA3', 'CASH3', 'TOTS3', 'VIVT3', 'TIMS3', 'SBSP3', 'CMIG4', 'CPLE6', 'CPFE3', 'ELET3', 'ELET6', 'ENBR3', 'ENGI11', 'ENEV3', 'EGIE3', 'EQTL3', 'TAEE11']"
      ],
      "metadata": {
        "id": "V950fVt9Fa6K"
      },
      "execution_count": 48,
      "outputs": []
    },
    {
      "cell_type": "code",
      "source": [
        "# Como ordenar esses papéis em ordem alfabética?\n",
        "\n",
        "tickers_IBOV.sort()\n",
        "tickers_IBOV"
      ],
      "metadata": {
        "colab": {
          "base_uri": "https://localhost:8080/"
        },
        "id": "DDPCCsvIFrpO",
        "outputId": "285fb20d-700a-45c4-db94-8d3764113334"
      },
      "execution_count": 49,
      "outputs": [
        {
          "output_type": "execute_result",
          "data": {
            "text/plain": [
              "['ABEV3',\n",
              " 'ALPA4',\n",
              " 'AMER3',\n",
              " 'ASAI3',\n",
              " 'AZUL4',\n",
              " 'B3SA3',\n",
              " 'BBAS3',\n",
              " 'BBDC3',\n",
              " 'BBDC4',\n",
              " 'BBSE3',\n",
              " 'BEEF3',\n",
              " 'BIDI11',\n",
              " 'BPAC11',\n",
              " 'BPAN4',\n",
              " 'BRAP4',\n",
              " 'BRFS3',\n",
              " 'BRKM5',\n",
              " 'BRML3',\n",
              " 'CASH3',\n",
              " 'CCRO3',\n",
              " 'CIEL3',\n",
              " 'CMIG4',\n",
              " 'CMIN3',\n",
              " 'COGN3',\n",
              " 'CPFE3',\n",
              " 'CPLE6',\n",
              " 'CRFB3',\n",
              " 'CSAN3',\n",
              " 'CSNA3',\n",
              " 'CVCB3',\n",
              " 'CYRE3',\n",
              " 'DXCO3',\n",
              " 'ECOR3',\n",
              " 'EGIE3',\n",
              " 'ELET3',\n",
              " 'ELET6',\n",
              " 'EMBR3',\n",
              " 'ENBR3',\n",
              " 'ENEV3',\n",
              " 'ENGI11',\n",
              " 'EQTL3',\n",
              " 'EZTC3',\n",
              " 'FLRY3',\n",
              " 'GGBR4',\n",
              " 'GNDI3',\n",
              " 'GOAU4',\n",
              " 'GOLL4',\n",
              " 'HAPV3',\n",
              " 'HYPE3',\n",
              " 'IGTI11',\n",
              " 'IRBR3',\n",
              " 'ITSA4',\n",
              " 'ITUB4',\n",
              " 'JBSS3',\n",
              " 'JHSF3',\n",
              " 'KLBN11',\n",
              " 'LCAM3',\n",
              " 'LREN3',\n",
              " 'LWSA3',\n",
              " 'MGLU3',\n",
              " 'MRFG3',\n",
              " 'MRVE3',\n",
              " 'MULT3',\n",
              " 'NTCO3',\n",
              " 'PCAR3',\n",
              " 'PETR3',\n",
              " 'PETR4',\n",
              " 'PETZ3',\n",
              " 'POSI3',\n",
              " 'PRIO3',\n",
              " 'QUAL3',\n",
              " 'RADL3',\n",
              " 'RAIL3',\n",
              " 'RDOR3',\n",
              " 'RENT3',\n",
              " 'RRRP3',\n",
              " 'SANB11',\n",
              " 'SBSP3',\n",
              " 'SOMA3',\n",
              " 'SULA11',\n",
              " 'SUZB3',\n",
              " 'TAEE11',\n",
              " 'TIMS3',\n",
              " 'TOTS3',\n",
              " 'UGPA3',\n",
              " 'USIM5',\n",
              " 'VALE3',\n",
              " 'VBBR3',\n",
              " 'VIIA3',\n",
              " 'VIVT3',\n",
              " 'WEGE3',\n",
              " 'YDUQ3']"
            ]
          },
          "metadata": {},
          "execution_count": 49
        }
      ]
    },
    {
      "cell_type": "markdown",
      "source": [
        "**PONTO IMPORTANTE**\n",
        "\n",
        "As ações brasileiras no Yahoo Finance terminam com \".SA\". Isso é válido inclusive para outros papéis, como ETFs, FIIs, BDRs\n",
        "\n",
        "Como acrescentar \".SA\" ao fim do nome de um papel?\n",
        "\n",
        "Veja o raciocínio abaixo:"
      ],
      "metadata": {
        "id": "H30kZtE6F5Sb"
      }
    },
    {
      "cell_type": "code",
      "source": [
        "acao = 'PETR4'\n",
        "\n",
        "acao + \".SA\"\n",
        "\n",
        "# Observe que \"somamos\" o \".SA\" ao ticker de \"PETR4\""
      ],
      "metadata": {
        "colab": {
          "base_uri": "https://localhost:8080/",
          "height": 35
        },
        "id": "WjNxZu_xGKxT",
        "outputId": "6143adb9-e50c-486d-b7f0-c6b504c8abe6"
      },
      "execution_count": 50,
      "outputs": [
        {
          "output_type": "execute_result",
          "data": {
            "text/plain": [
              "'PETR4.SA'"
            ],
            "application/vnd.google.colaboratory.intrinsic+json": {
              "type": "string"
            }
          },
          "metadata": {},
          "execution_count": 50
        }
      ]
    },
    {
      "cell_type": "markdown",
      "source": [
        "Precisamos então criar uma estrutura que faça isso para todos os papéis de uma vez"
      ],
      "metadata": {
        "id": "gBsCRDbqGdZF"
      }
    },
    {
      "cell_type": "code",
      "source": [
        "aivos_SA = 0\n",
        "tickers_IBOV_SA = []\n",
        "\n",
        "for i in tickers_IBOV:\n",
        "  ativos_SA = (i + '.SA')\n",
        "  tickers_IBOV_SA.append(ativos_SA)\n",
        "\n",
        "tickers_IBOV_SA"
      ],
      "metadata": {
        "colab": {
          "base_uri": "https://localhost:8080/"
        },
        "id": "wLJSV31vGgox",
        "outputId": "39f123e6-4c73-421e-cbd0-5df17439735b"
      },
      "execution_count": 51,
      "outputs": [
        {
          "output_type": "execute_result",
          "data": {
            "text/plain": [
              "['ABEV3.SA',\n",
              " 'ALPA4.SA',\n",
              " 'AMER3.SA',\n",
              " 'ASAI3.SA',\n",
              " 'AZUL4.SA',\n",
              " 'B3SA3.SA',\n",
              " 'BBAS3.SA',\n",
              " 'BBDC3.SA',\n",
              " 'BBDC4.SA',\n",
              " 'BBSE3.SA',\n",
              " 'BEEF3.SA',\n",
              " 'BIDI11.SA',\n",
              " 'BPAC11.SA',\n",
              " 'BPAN4.SA',\n",
              " 'BRAP4.SA',\n",
              " 'BRFS3.SA',\n",
              " 'BRKM5.SA',\n",
              " 'BRML3.SA',\n",
              " 'CASH3.SA',\n",
              " 'CCRO3.SA',\n",
              " 'CIEL3.SA',\n",
              " 'CMIG4.SA',\n",
              " 'CMIN3.SA',\n",
              " 'COGN3.SA',\n",
              " 'CPFE3.SA',\n",
              " 'CPLE6.SA',\n",
              " 'CRFB3.SA',\n",
              " 'CSAN3.SA',\n",
              " 'CSNA3.SA',\n",
              " 'CVCB3.SA',\n",
              " 'CYRE3.SA',\n",
              " 'DXCO3.SA',\n",
              " 'ECOR3.SA',\n",
              " 'EGIE3.SA',\n",
              " 'ELET3.SA',\n",
              " 'ELET6.SA',\n",
              " 'EMBR3.SA',\n",
              " 'ENBR3.SA',\n",
              " 'ENEV3.SA',\n",
              " 'ENGI11.SA',\n",
              " 'EQTL3.SA',\n",
              " 'EZTC3.SA',\n",
              " 'FLRY3.SA',\n",
              " 'GGBR4.SA',\n",
              " 'GNDI3.SA',\n",
              " 'GOAU4.SA',\n",
              " 'GOLL4.SA',\n",
              " 'HAPV3.SA',\n",
              " 'HYPE3.SA',\n",
              " 'IGTI11.SA',\n",
              " 'IRBR3.SA',\n",
              " 'ITSA4.SA',\n",
              " 'ITUB4.SA',\n",
              " 'JBSS3.SA',\n",
              " 'JHSF3.SA',\n",
              " 'KLBN11.SA',\n",
              " 'LCAM3.SA',\n",
              " 'LREN3.SA',\n",
              " 'LWSA3.SA',\n",
              " 'MGLU3.SA',\n",
              " 'MRFG3.SA',\n",
              " 'MRVE3.SA',\n",
              " 'MULT3.SA',\n",
              " 'NTCO3.SA',\n",
              " 'PCAR3.SA',\n",
              " 'PETR3.SA',\n",
              " 'PETR4.SA',\n",
              " 'PETZ3.SA',\n",
              " 'POSI3.SA',\n",
              " 'PRIO3.SA',\n",
              " 'QUAL3.SA',\n",
              " 'RADL3.SA',\n",
              " 'RAIL3.SA',\n",
              " 'RDOR3.SA',\n",
              " 'RENT3.SA',\n",
              " 'RRRP3.SA',\n",
              " 'SANB11.SA',\n",
              " 'SBSP3.SA',\n",
              " 'SOMA3.SA',\n",
              " 'SULA11.SA',\n",
              " 'SUZB3.SA',\n",
              " 'TAEE11.SA',\n",
              " 'TIMS3.SA',\n",
              " 'TOTS3.SA',\n",
              " 'UGPA3.SA',\n",
              " 'USIM5.SA',\n",
              " 'VALE3.SA',\n",
              " 'VBBR3.SA',\n",
              " 'VIIA3.SA',\n",
              " 'VIVT3.SA',\n",
              " 'WEGE3.SA',\n",
              " 'YDUQ3.SA']"
            ]
          },
          "metadata": {},
          "execution_count": 51
        }
      ]
    },
    {
      "cell_type": "markdown",
      "source": [
        "Uma vez que temos uma lista com o nome dos tickers corrigidos para fazer a busca na yfinance (que extrai os dados da Yahoo Finance)"
      ],
      "metadata": {
        "id": "13EnGEzwHXAm"
      }
    },
    {
      "cell_type": "code",
      "source": [
        "# Extração para um ativo\n",
        "\n",
        "yf.download(\"PETR4.SA\", start='2022-02-01', end='2022-02-18', period = \"1d\")"
      ],
      "metadata": {
        "colab": {
          "base_uri": "https://localhost:8080/",
          "height": 506
        },
        "id": "Ka3HKHu2IXhO",
        "outputId": "eb6395b2-d8a2-4125-f630-9328a89c405f"
      },
      "execution_count": 52,
      "outputs": [
        {
          "output_type": "stream",
          "name": "stdout",
          "text": [
            "\r[*********************100%***********************]  1 of 1 completed\n"
          ]
        },
        {
          "output_type": "execute_result",
          "data": {
            "text/plain": [
              "                 Open       High        Low      Close  Adj Close    Volume\n",
              "Date                                                                       \n",
              "2022-02-01  32.349998  33.320000  31.950001  33.000000  27.068611  57315200\n",
              "2022-02-02  33.410000  33.490002  32.360001  32.520000  26.674887  36271700\n",
              "2022-02-03  32.349998  32.919998  31.620001  32.070000  26.305767  51087800\n",
              "2022-02-04  32.410000  33.230000  31.879999  32.630001  26.765116  59346800\n",
              "2022-02-07  32.549999  32.779999  32.130001  32.150002  26.371389  48868100\n",
              "2022-02-08  31.900000  31.950001  31.260000  31.830000  26.108906  62590000\n",
              "2022-02-09  31.740000  32.689999  31.650000  31.950001  26.207338  50960500\n",
              "2022-02-10  32.299999  32.900002  31.940001  32.439999  26.609264  49534600\n",
              "2022-02-11  32.770000  33.910000  32.630001  33.759998  27.692007  88013400\n",
              "2022-02-14  33.860001  33.939999  32.820000  33.000000  27.068611  55687000\n",
              "2022-02-15  32.660000  32.680000  31.889999  32.480000  26.642075  65689000\n",
              "2022-02-16  32.830002  33.700001  32.770000  32.930000  27.011192  65811600\n",
              "2022-02-17  32.849998  33.290001  32.549999  32.799999  26.904558  43255200"
            ],
            "text/html": [
              "\n",
              "  <div id=\"df-dc1338b2-ed57-406b-94f6-3881f93241fd\">\n",
              "    <div class=\"colab-df-container\">\n",
              "      <div>\n",
              "<style scoped>\n",
              "    .dataframe tbody tr th:only-of-type {\n",
              "        vertical-align: middle;\n",
              "    }\n",
              "\n",
              "    .dataframe tbody tr th {\n",
              "        vertical-align: top;\n",
              "    }\n",
              "\n",
              "    .dataframe thead th {\n",
              "        text-align: right;\n",
              "    }\n",
              "</style>\n",
              "<table border=\"1\" class=\"dataframe\">\n",
              "  <thead>\n",
              "    <tr style=\"text-align: right;\">\n",
              "      <th></th>\n",
              "      <th>Open</th>\n",
              "      <th>High</th>\n",
              "      <th>Low</th>\n",
              "      <th>Close</th>\n",
              "      <th>Adj Close</th>\n",
              "      <th>Volume</th>\n",
              "    </tr>\n",
              "    <tr>\n",
              "      <th>Date</th>\n",
              "      <th></th>\n",
              "      <th></th>\n",
              "      <th></th>\n",
              "      <th></th>\n",
              "      <th></th>\n",
              "      <th></th>\n",
              "    </tr>\n",
              "  </thead>\n",
              "  <tbody>\n",
              "    <tr>\n",
              "      <th>2022-02-01</th>\n",
              "      <td>32.349998</td>\n",
              "      <td>33.320000</td>\n",
              "      <td>31.950001</td>\n",
              "      <td>33.000000</td>\n",
              "      <td>27.068611</td>\n",
              "      <td>57315200</td>\n",
              "    </tr>\n",
              "    <tr>\n",
              "      <th>2022-02-02</th>\n",
              "      <td>33.410000</td>\n",
              "      <td>33.490002</td>\n",
              "      <td>32.360001</td>\n",
              "      <td>32.520000</td>\n",
              "      <td>26.674887</td>\n",
              "      <td>36271700</td>\n",
              "    </tr>\n",
              "    <tr>\n",
              "      <th>2022-02-03</th>\n",
              "      <td>32.349998</td>\n",
              "      <td>32.919998</td>\n",
              "      <td>31.620001</td>\n",
              "      <td>32.070000</td>\n",
              "      <td>26.305767</td>\n",
              "      <td>51087800</td>\n",
              "    </tr>\n",
              "    <tr>\n",
              "      <th>2022-02-04</th>\n",
              "      <td>32.410000</td>\n",
              "      <td>33.230000</td>\n",
              "      <td>31.879999</td>\n",
              "      <td>32.630001</td>\n",
              "      <td>26.765116</td>\n",
              "      <td>59346800</td>\n",
              "    </tr>\n",
              "    <tr>\n",
              "      <th>2022-02-07</th>\n",
              "      <td>32.549999</td>\n",
              "      <td>32.779999</td>\n",
              "      <td>32.130001</td>\n",
              "      <td>32.150002</td>\n",
              "      <td>26.371389</td>\n",
              "      <td>48868100</td>\n",
              "    </tr>\n",
              "    <tr>\n",
              "      <th>2022-02-08</th>\n",
              "      <td>31.900000</td>\n",
              "      <td>31.950001</td>\n",
              "      <td>31.260000</td>\n",
              "      <td>31.830000</td>\n",
              "      <td>26.108906</td>\n",
              "      <td>62590000</td>\n",
              "    </tr>\n",
              "    <tr>\n",
              "      <th>2022-02-09</th>\n",
              "      <td>31.740000</td>\n",
              "      <td>32.689999</td>\n",
              "      <td>31.650000</td>\n",
              "      <td>31.950001</td>\n",
              "      <td>26.207338</td>\n",
              "      <td>50960500</td>\n",
              "    </tr>\n",
              "    <tr>\n",
              "      <th>2022-02-10</th>\n",
              "      <td>32.299999</td>\n",
              "      <td>32.900002</td>\n",
              "      <td>31.940001</td>\n",
              "      <td>32.439999</td>\n",
              "      <td>26.609264</td>\n",
              "      <td>49534600</td>\n",
              "    </tr>\n",
              "    <tr>\n",
              "      <th>2022-02-11</th>\n",
              "      <td>32.770000</td>\n",
              "      <td>33.910000</td>\n",
              "      <td>32.630001</td>\n",
              "      <td>33.759998</td>\n",
              "      <td>27.692007</td>\n",
              "      <td>88013400</td>\n",
              "    </tr>\n",
              "    <tr>\n",
              "      <th>2022-02-14</th>\n",
              "      <td>33.860001</td>\n",
              "      <td>33.939999</td>\n",
              "      <td>32.820000</td>\n",
              "      <td>33.000000</td>\n",
              "      <td>27.068611</td>\n",
              "      <td>55687000</td>\n",
              "    </tr>\n",
              "    <tr>\n",
              "      <th>2022-02-15</th>\n",
              "      <td>32.660000</td>\n",
              "      <td>32.680000</td>\n",
              "      <td>31.889999</td>\n",
              "      <td>32.480000</td>\n",
              "      <td>26.642075</td>\n",
              "      <td>65689000</td>\n",
              "    </tr>\n",
              "    <tr>\n",
              "      <th>2022-02-16</th>\n",
              "      <td>32.830002</td>\n",
              "      <td>33.700001</td>\n",
              "      <td>32.770000</td>\n",
              "      <td>32.930000</td>\n",
              "      <td>27.011192</td>\n",
              "      <td>65811600</td>\n",
              "    </tr>\n",
              "    <tr>\n",
              "      <th>2022-02-17</th>\n",
              "      <td>32.849998</td>\n",
              "      <td>33.290001</td>\n",
              "      <td>32.549999</td>\n",
              "      <td>32.799999</td>\n",
              "      <td>26.904558</td>\n",
              "      <td>43255200</td>\n",
              "    </tr>\n",
              "  </tbody>\n",
              "</table>\n",
              "</div>\n",
              "      <button class=\"colab-df-convert\" onclick=\"convertToInteractive('df-dc1338b2-ed57-406b-94f6-3881f93241fd')\"\n",
              "              title=\"Convert this dataframe to an interactive table.\"\n",
              "              style=\"display:none;\">\n",
              "        \n",
              "  <svg xmlns=\"http://www.w3.org/2000/svg\" height=\"24px\"viewBox=\"0 0 24 24\"\n",
              "       width=\"24px\">\n",
              "    <path d=\"M0 0h24v24H0V0z\" fill=\"none\"/>\n",
              "    <path d=\"M18.56 5.44l.94 2.06.94-2.06 2.06-.94-2.06-.94-.94-2.06-.94 2.06-2.06.94zm-11 1L8.5 8.5l.94-2.06 2.06-.94-2.06-.94L8.5 2.5l-.94 2.06-2.06.94zm10 10l.94 2.06.94-2.06 2.06-.94-2.06-.94-.94-2.06-.94 2.06-2.06.94z\"/><path d=\"M17.41 7.96l-1.37-1.37c-.4-.4-.92-.59-1.43-.59-.52 0-1.04.2-1.43.59L10.3 9.45l-7.72 7.72c-.78.78-.78 2.05 0 2.83L4 21.41c.39.39.9.59 1.41.59.51 0 1.02-.2 1.41-.59l7.78-7.78 2.81-2.81c.8-.78.8-2.07 0-2.86zM5.41 20L4 18.59l7.72-7.72 1.47 1.35L5.41 20z\"/>\n",
              "  </svg>\n",
              "      </button>\n",
              "      \n",
              "  <style>\n",
              "    .colab-df-container {\n",
              "      display:flex;\n",
              "      flex-wrap:wrap;\n",
              "      gap: 12px;\n",
              "    }\n",
              "\n",
              "    .colab-df-convert {\n",
              "      background-color: #E8F0FE;\n",
              "      border: none;\n",
              "      border-radius: 50%;\n",
              "      cursor: pointer;\n",
              "      display: none;\n",
              "      fill: #1967D2;\n",
              "      height: 32px;\n",
              "      padding: 0 0 0 0;\n",
              "      width: 32px;\n",
              "    }\n",
              "\n",
              "    .colab-df-convert:hover {\n",
              "      background-color: #E2EBFA;\n",
              "      box-shadow: 0px 1px 2px rgba(60, 64, 67, 0.3), 0px 1px 3px 1px rgba(60, 64, 67, 0.15);\n",
              "      fill: #174EA6;\n",
              "    }\n",
              "\n",
              "    [theme=dark] .colab-df-convert {\n",
              "      background-color: #3B4455;\n",
              "      fill: #D2E3FC;\n",
              "    }\n",
              "\n",
              "    [theme=dark] .colab-df-convert:hover {\n",
              "      background-color: #434B5C;\n",
              "      box-shadow: 0px 1px 3px 1px rgba(0, 0, 0, 0.15);\n",
              "      filter: drop-shadow(0px 1px 2px rgba(0, 0, 0, 0.3));\n",
              "      fill: #FFFFFF;\n",
              "    }\n",
              "  </style>\n",
              "\n",
              "      <script>\n",
              "        const buttonEl =\n",
              "          document.querySelector('#df-dc1338b2-ed57-406b-94f6-3881f93241fd button.colab-df-convert');\n",
              "        buttonEl.style.display =\n",
              "          google.colab.kernel.accessAllowed ? 'block' : 'none';\n",
              "\n",
              "        async function convertToInteractive(key) {\n",
              "          const element = document.querySelector('#df-dc1338b2-ed57-406b-94f6-3881f93241fd');\n",
              "          const dataTable =\n",
              "            await google.colab.kernel.invokeFunction('convertToInteractive',\n",
              "                                                     [key], {});\n",
              "          if (!dataTable) return;\n",
              "\n",
              "          const docLinkHtml = 'Like what you see? Visit the ' +\n",
              "            '<a target=\"_blank\" href=https://colab.research.google.com/notebooks/data_table.ipynb>data table notebook</a>'\n",
              "            + ' to learn more about interactive tables.';\n",
              "          element.innerHTML = '';\n",
              "          dataTable['output_type'] = 'display_data';\n",
              "          await google.colab.output.renderOutput(dataTable, element);\n",
              "          const docLink = document.createElement('div');\n",
              "          docLink.innerHTML = docLinkHtml;\n",
              "          element.appendChild(docLink);\n",
              "        }\n",
              "      </script>\n",
              "    </div>\n",
              "  </div>\n",
              "  "
            ]
          },
          "metadata": {},
          "execution_count": 52
        }
      ]
    },
    {
      "cell_type": "markdown",
      "source": [
        "Observe a estrutura dos dados acima. Temos Abertura, Máxima, Mínima, Fechamento, Fechamento Ajustado e Volume. Podemos reproduzir a mesma estrutura caso queiramos obter dados de vários papéis ao mesmo tempo.\n"
      ],
      "metadata": {
        "id": "OTTpyLF6Ikjf"
      }
    },
    {
      "cell_type": "code",
      "source": [
        "# Na yfinance as vezes pode ocorrer erros na busca de alguns ativos (usualmente se for uma unit). Note que nesse caso houve um erro em BIDI11\n",
        "# Pode ver que é um problema pontual https://finance.yahoo.com/quote/BIDI11.SA/history?p=BIDI11.SA\n",
        "\n",
        "yf.download(tickers_IBOV_SA, start = '2022-02-01', end = '2022-02-18', period = '1d')"
      ],
      "metadata": {
        "colab": {
          "base_uri": "https://localhost:8080/",
          "height": 926
        },
        "id": "4bIEBZoLImRY",
        "outputId": "13cde5fa-345c-49d9-e601-e8bc35427e92"
      },
      "execution_count": 53,
      "outputs": [
        {
          "output_type": "stream",
          "name": "stdout",
          "text": [
            "[*********************100%***********************]  92 of 92 completed\n",
            "\n",
            "2 Failed downloads:\n",
            "- BIDI11.SA: No data found for this date range, symbol may be delisted\n",
            "- GNDI3.SA: No data found, symbol may be delisted\n"
          ]
        },
        {
          "output_type": "execute_result",
          "data": {
            "text/plain": [
              "           Adj Close                                                         \\\n",
              "            ABEV3.SA   ALPA4.SA   AMER3.SA   ASAI3.SA   AZUL4.SA   B3SA3.SA   \n",
              "Date                                                                          \n",
              "2022-02-01     14.85  27.070000  31.090000  12.478713  28.820000  14.086241   \n",
              "2022-02-02     14.52  26.420000  31.209999  12.399358  27.650000  13.957825   \n",
              "2022-02-03     14.46  25.920000  32.000000  12.399358  27.330000  13.967703   \n",
              "2022-02-04     14.41  25.830000  32.150002  12.796137  26.370001  13.957825   \n",
              "2022-02-07     14.29  25.959999  32.200001  12.667184  26.260000  13.533064   \n",
              "2022-02-08     14.16  26.440001  33.270000  12.409277  26.410000  13.384892   \n",
              "2022-02-09     14.54  26.840000  34.029999  12.508471  28.110001  13.987459   \n",
              "2022-02-10     14.75  26.600000  33.950001  12.577909  28.620001  13.928190   \n",
              "2022-02-11     14.86  27.090000  32.540001  12.240646  26.950001  13.750383   \n",
              "2022-02-14     15.06  27.299999  33.720001  12.230726  26.990000  13.947947   \n",
              "2022-02-15     15.38  28.020000  35.860001  12.081934  29.270000  14.422098   \n",
              "2022-02-16     15.08  27.090000  35.439999  12.944929  29.290001  14.412220   \n",
              "2022-02-17     14.85  26.799999  34.279999  13.143319  28.780001  14.026972   \n",
              "\n",
              "                                                        ...    Volume  \\\n",
              "             BBAS3.SA   BBDC3.SA   BBDC4.SA   BBSE3.SA  ...  TIMS3.SA   \n",
              "Date                                                    ...             \n",
              "2022-02-01  31.519228  16.986320  20.684196  22.208441  ...   8627700   \n",
              "2022-02-02  30.997290  16.703482  20.312307  21.929512  ...   3630000   \n",
              "2022-02-03  31.209932  16.938616  20.610884  22.054550  ...   6519300   \n",
              "2022-02-04  31.151939  16.974794  20.746603  21.958366  ...   3370700   \n",
              "2022-02-07  30.794315  17.001921  20.674219  23.218351  ...  10904600   \n",
              "2022-02-08  31.122942  17.065226  20.556597  23.179880  ...   6965300   \n",
              "2022-02-09  30.852308  15.563993  18.792280  23.343390  ...  29046800   \n",
              "2022-02-10  31.190599  15.690602  19.063711  23.429953  ...   8989100   \n",
              "2022-02-11  32.282806  15.853387  19.127045  22.760000  ...   7409300   \n",
              "2022-02-14  32.418121  15.970954  19.154192  23.370001  ...   6602900   \n",
              "2022-02-15  33.954937  16.151823  19.172287  23.139999  ...   4562700   \n",
              "2022-02-16  34.148251  16.287479  19.398481  23.080000  ...   4051700   \n",
              "2022-02-17  34.148251  16.124695  19.172287  23.170000  ...   3886000   \n",
              "\n",
              "                                                                       \\\n",
              "            TOTS3.SA UGPA3.SA  USIM5.SA  VALE3.SA  VBBR3.SA  VIIA3.SA   \n",
              "Date                                                                    \n",
              "2022-02-01   6024600  4031300  22618500  24131300   5671500  61176300   \n",
              "2022-02-02   4367600  5389400  13505200  17489000   3963900  51646000   \n",
              "2022-02-03   2745300  6936700  20575800  19179400   7868700  56051800   \n",
              "2022-02-04   3566100  5738300  14148800  24535400  10097900  52345500   \n",
              "2022-02-07   5266900  5707100  21626800  24915800   5616200  57982300   \n",
              "2022-02-08   3898100  6809800  14037400  26598600   4750000  40448200   \n",
              "2022-02-09   3396200  5287400  14784800  24815300   8016900  48640900   \n",
              "2022-02-10   4983300  5188100  25220700  47888900   7723700  88372900   \n",
              "2022-02-11   5154800  7125100  66203500  34555300   8110900  73340800   \n",
              "2022-02-14   4514100  4354600  23686600  22804400   7618600  56300300   \n",
              "2022-02-15   6855400  5731500  28728900  29624900  10902900  36145600   \n",
              "2022-02-16   6116000  8601000  20383200  20774700  19215900  45592600   \n",
              "2022-02-17  14125600  5515000  29080100  36259300  12474100  60121500   \n",
              "\n",
              "                                        \n",
              "           VIVT3.SA  WEGE3.SA YDUQ3.SA  \n",
              "Date                                    \n",
              "2022-02-01  1418200   4459400  4126200  \n",
              "2022-02-02  1399500   4925100  2286400  \n",
              "2022-02-03  1269200   5506300  3588300  \n",
              "2022-02-04  1246900   5170800  2392300  \n",
              "2022-02-07  1712600   5010100  6908800  \n",
              "2022-02-08  1925000   6430500  4598900  \n",
              "2022-02-09  2642500   5009700  1932100  \n",
              "2022-02-10  2213800   8569200  1533100  \n",
              "2022-02-11  1727000   9352700  1702400  \n",
              "2022-02-14  1885500  10962400  1517100  \n",
              "2022-02-15  2378200  11758400  3240500  \n",
              "2022-02-16  2220300  20714400  2096000  \n",
              "2022-02-17  1424100   8085500   945500  \n",
              "\n",
              "[13 rows x 552 columns]"
            ],
            "text/html": [
              "\n",
              "  <div id=\"df-61388f3b-c2a4-4e9b-8db8-1c5c5b527155\">\n",
              "    <div class=\"colab-df-container\">\n",
              "      <div>\n",
              "<style scoped>\n",
              "    .dataframe tbody tr th:only-of-type {\n",
              "        vertical-align: middle;\n",
              "    }\n",
              "\n",
              "    .dataframe tbody tr th {\n",
              "        vertical-align: top;\n",
              "    }\n",
              "\n",
              "    .dataframe thead tr th {\n",
              "        text-align: left;\n",
              "    }\n",
              "\n",
              "    .dataframe thead tr:last-of-type th {\n",
              "        text-align: right;\n",
              "    }\n",
              "</style>\n",
              "<table border=\"1\" class=\"dataframe\">\n",
              "  <thead>\n",
              "    <tr>\n",
              "      <th></th>\n",
              "      <th colspan=\"10\" halign=\"left\">Adj Close</th>\n",
              "      <th>...</th>\n",
              "      <th colspan=\"10\" halign=\"left\">Volume</th>\n",
              "    </tr>\n",
              "    <tr>\n",
              "      <th></th>\n",
              "      <th>ABEV3.SA</th>\n",
              "      <th>ALPA4.SA</th>\n",
              "      <th>AMER3.SA</th>\n",
              "      <th>ASAI3.SA</th>\n",
              "      <th>AZUL4.SA</th>\n",
              "      <th>B3SA3.SA</th>\n",
              "      <th>BBAS3.SA</th>\n",
              "      <th>BBDC3.SA</th>\n",
              "      <th>BBDC4.SA</th>\n",
              "      <th>BBSE3.SA</th>\n",
              "      <th>...</th>\n",
              "      <th>TIMS3.SA</th>\n",
              "      <th>TOTS3.SA</th>\n",
              "      <th>UGPA3.SA</th>\n",
              "      <th>USIM5.SA</th>\n",
              "      <th>VALE3.SA</th>\n",
              "      <th>VBBR3.SA</th>\n",
              "      <th>VIIA3.SA</th>\n",
              "      <th>VIVT3.SA</th>\n",
              "      <th>WEGE3.SA</th>\n",
              "      <th>YDUQ3.SA</th>\n",
              "    </tr>\n",
              "    <tr>\n",
              "      <th>Date</th>\n",
              "      <th></th>\n",
              "      <th></th>\n",
              "      <th></th>\n",
              "      <th></th>\n",
              "      <th></th>\n",
              "      <th></th>\n",
              "      <th></th>\n",
              "      <th></th>\n",
              "      <th></th>\n",
              "      <th></th>\n",
              "      <th></th>\n",
              "      <th></th>\n",
              "      <th></th>\n",
              "      <th></th>\n",
              "      <th></th>\n",
              "      <th></th>\n",
              "      <th></th>\n",
              "      <th></th>\n",
              "      <th></th>\n",
              "      <th></th>\n",
              "      <th></th>\n",
              "    </tr>\n",
              "  </thead>\n",
              "  <tbody>\n",
              "    <tr>\n",
              "      <th>2022-02-01</th>\n",
              "      <td>14.85</td>\n",
              "      <td>27.070000</td>\n",
              "      <td>31.090000</td>\n",
              "      <td>12.478713</td>\n",
              "      <td>28.820000</td>\n",
              "      <td>14.086241</td>\n",
              "      <td>31.519228</td>\n",
              "      <td>16.986320</td>\n",
              "      <td>20.684196</td>\n",
              "      <td>22.208441</td>\n",
              "      <td>...</td>\n",
              "      <td>8627700</td>\n",
              "      <td>6024600</td>\n",
              "      <td>4031300</td>\n",
              "      <td>22618500</td>\n",
              "      <td>24131300</td>\n",
              "      <td>5671500</td>\n",
              "      <td>61176300</td>\n",
              "      <td>1418200</td>\n",
              "      <td>4459400</td>\n",
              "      <td>4126200</td>\n",
              "    </tr>\n",
              "    <tr>\n",
              "      <th>2022-02-02</th>\n",
              "      <td>14.52</td>\n",
              "      <td>26.420000</td>\n",
              "      <td>31.209999</td>\n",
              "      <td>12.399358</td>\n",
              "      <td>27.650000</td>\n",
              "      <td>13.957825</td>\n",
              "      <td>30.997290</td>\n",
              "      <td>16.703482</td>\n",
              "      <td>20.312307</td>\n",
              "      <td>21.929512</td>\n",
              "      <td>...</td>\n",
              "      <td>3630000</td>\n",
              "      <td>4367600</td>\n",
              "      <td>5389400</td>\n",
              "      <td>13505200</td>\n",
              "      <td>17489000</td>\n",
              "      <td>3963900</td>\n",
              "      <td>51646000</td>\n",
              "      <td>1399500</td>\n",
              "      <td>4925100</td>\n",
              "      <td>2286400</td>\n",
              "    </tr>\n",
              "    <tr>\n",
              "      <th>2022-02-03</th>\n",
              "      <td>14.46</td>\n",
              "      <td>25.920000</td>\n",
              "      <td>32.000000</td>\n",
              "      <td>12.399358</td>\n",
              "      <td>27.330000</td>\n",
              "      <td>13.967703</td>\n",
              "      <td>31.209932</td>\n",
              "      <td>16.938616</td>\n",
              "      <td>20.610884</td>\n",
              "      <td>22.054550</td>\n",
              "      <td>...</td>\n",
              "      <td>6519300</td>\n",
              "      <td>2745300</td>\n",
              "      <td>6936700</td>\n",
              "      <td>20575800</td>\n",
              "      <td>19179400</td>\n",
              "      <td>7868700</td>\n",
              "      <td>56051800</td>\n",
              "      <td>1269200</td>\n",
              "      <td>5506300</td>\n",
              "      <td>3588300</td>\n",
              "    </tr>\n",
              "    <tr>\n",
              "      <th>2022-02-04</th>\n",
              "      <td>14.41</td>\n",
              "      <td>25.830000</td>\n",
              "      <td>32.150002</td>\n",
              "      <td>12.796137</td>\n",
              "      <td>26.370001</td>\n",
              "      <td>13.957825</td>\n",
              "      <td>31.151939</td>\n",
              "      <td>16.974794</td>\n",
              "      <td>20.746603</td>\n",
              "      <td>21.958366</td>\n",
              "      <td>...</td>\n",
              "      <td>3370700</td>\n",
              "      <td>3566100</td>\n",
              "      <td>5738300</td>\n",
              "      <td>14148800</td>\n",
              "      <td>24535400</td>\n",
              "      <td>10097900</td>\n",
              "      <td>52345500</td>\n",
              "      <td>1246900</td>\n",
              "      <td>5170800</td>\n",
              "      <td>2392300</td>\n",
              "    </tr>\n",
              "    <tr>\n",
              "      <th>2022-02-07</th>\n",
              "      <td>14.29</td>\n",
              "      <td>25.959999</td>\n",
              "      <td>32.200001</td>\n",
              "      <td>12.667184</td>\n",
              "      <td>26.260000</td>\n",
              "      <td>13.533064</td>\n",
              "      <td>30.794315</td>\n",
              "      <td>17.001921</td>\n",
              "      <td>20.674219</td>\n",
              "      <td>23.218351</td>\n",
              "      <td>...</td>\n",
              "      <td>10904600</td>\n",
              "      <td>5266900</td>\n",
              "      <td>5707100</td>\n",
              "      <td>21626800</td>\n",
              "      <td>24915800</td>\n",
              "      <td>5616200</td>\n",
              "      <td>57982300</td>\n",
              "      <td>1712600</td>\n",
              "      <td>5010100</td>\n",
              "      <td>6908800</td>\n",
              "    </tr>\n",
              "    <tr>\n",
              "      <th>2022-02-08</th>\n",
              "      <td>14.16</td>\n",
              "      <td>26.440001</td>\n",
              "      <td>33.270000</td>\n",
              "      <td>12.409277</td>\n",
              "      <td>26.410000</td>\n",
              "      <td>13.384892</td>\n",
              "      <td>31.122942</td>\n",
              "      <td>17.065226</td>\n",
              "      <td>20.556597</td>\n",
              "      <td>23.179880</td>\n",
              "      <td>...</td>\n",
              "      <td>6965300</td>\n",
              "      <td>3898100</td>\n",
              "      <td>6809800</td>\n",
              "      <td>14037400</td>\n",
              "      <td>26598600</td>\n",
              "      <td>4750000</td>\n",
              "      <td>40448200</td>\n",
              "      <td>1925000</td>\n",
              "      <td>6430500</td>\n",
              "      <td>4598900</td>\n",
              "    </tr>\n",
              "    <tr>\n",
              "      <th>2022-02-09</th>\n",
              "      <td>14.54</td>\n",
              "      <td>26.840000</td>\n",
              "      <td>34.029999</td>\n",
              "      <td>12.508471</td>\n",
              "      <td>28.110001</td>\n",
              "      <td>13.987459</td>\n",
              "      <td>30.852308</td>\n",
              "      <td>15.563993</td>\n",
              "      <td>18.792280</td>\n",
              "      <td>23.343390</td>\n",
              "      <td>...</td>\n",
              "      <td>29046800</td>\n",
              "      <td>3396200</td>\n",
              "      <td>5287400</td>\n",
              "      <td>14784800</td>\n",
              "      <td>24815300</td>\n",
              "      <td>8016900</td>\n",
              "      <td>48640900</td>\n",
              "      <td>2642500</td>\n",
              "      <td>5009700</td>\n",
              "      <td>1932100</td>\n",
              "    </tr>\n",
              "    <tr>\n",
              "      <th>2022-02-10</th>\n",
              "      <td>14.75</td>\n",
              "      <td>26.600000</td>\n",
              "      <td>33.950001</td>\n",
              "      <td>12.577909</td>\n",
              "      <td>28.620001</td>\n",
              "      <td>13.928190</td>\n",
              "      <td>31.190599</td>\n",
              "      <td>15.690602</td>\n",
              "      <td>19.063711</td>\n",
              "      <td>23.429953</td>\n",
              "      <td>...</td>\n",
              "      <td>8989100</td>\n",
              "      <td>4983300</td>\n",
              "      <td>5188100</td>\n",
              "      <td>25220700</td>\n",
              "      <td>47888900</td>\n",
              "      <td>7723700</td>\n",
              "      <td>88372900</td>\n",
              "      <td>2213800</td>\n",
              "      <td>8569200</td>\n",
              "      <td>1533100</td>\n",
              "    </tr>\n",
              "    <tr>\n",
              "      <th>2022-02-11</th>\n",
              "      <td>14.86</td>\n",
              "      <td>27.090000</td>\n",
              "      <td>32.540001</td>\n",
              "      <td>12.240646</td>\n",
              "      <td>26.950001</td>\n",
              "      <td>13.750383</td>\n",
              "      <td>32.282806</td>\n",
              "      <td>15.853387</td>\n",
              "      <td>19.127045</td>\n",
              "      <td>22.760000</td>\n",
              "      <td>...</td>\n",
              "      <td>7409300</td>\n",
              "      <td>5154800</td>\n",
              "      <td>7125100</td>\n",
              "      <td>66203500</td>\n",
              "      <td>34555300</td>\n",
              "      <td>8110900</td>\n",
              "      <td>73340800</td>\n",
              "      <td>1727000</td>\n",
              "      <td>9352700</td>\n",
              "      <td>1702400</td>\n",
              "    </tr>\n",
              "    <tr>\n",
              "      <th>2022-02-14</th>\n",
              "      <td>15.06</td>\n",
              "      <td>27.299999</td>\n",
              "      <td>33.720001</td>\n",
              "      <td>12.230726</td>\n",
              "      <td>26.990000</td>\n",
              "      <td>13.947947</td>\n",
              "      <td>32.418121</td>\n",
              "      <td>15.970954</td>\n",
              "      <td>19.154192</td>\n",
              "      <td>23.370001</td>\n",
              "      <td>...</td>\n",
              "      <td>6602900</td>\n",
              "      <td>4514100</td>\n",
              "      <td>4354600</td>\n",
              "      <td>23686600</td>\n",
              "      <td>22804400</td>\n",
              "      <td>7618600</td>\n",
              "      <td>56300300</td>\n",
              "      <td>1885500</td>\n",
              "      <td>10962400</td>\n",
              "      <td>1517100</td>\n",
              "    </tr>\n",
              "    <tr>\n",
              "      <th>2022-02-15</th>\n",
              "      <td>15.38</td>\n",
              "      <td>28.020000</td>\n",
              "      <td>35.860001</td>\n",
              "      <td>12.081934</td>\n",
              "      <td>29.270000</td>\n",
              "      <td>14.422098</td>\n",
              "      <td>33.954937</td>\n",
              "      <td>16.151823</td>\n",
              "      <td>19.172287</td>\n",
              "      <td>23.139999</td>\n",
              "      <td>...</td>\n",
              "      <td>4562700</td>\n",
              "      <td>6855400</td>\n",
              "      <td>5731500</td>\n",
              "      <td>28728900</td>\n",
              "      <td>29624900</td>\n",
              "      <td>10902900</td>\n",
              "      <td>36145600</td>\n",
              "      <td>2378200</td>\n",
              "      <td>11758400</td>\n",
              "      <td>3240500</td>\n",
              "    </tr>\n",
              "    <tr>\n",
              "      <th>2022-02-16</th>\n",
              "      <td>15.08</td>\n",
              "      <td>27.090000</td>\n",
              "      <td>35.439999</td>\n",
              "      <td>12.944929</td>\n",
              "      <td>29.290001</td>\n",
              "      <td>14.412220</td>\n",
              "      <td>34.148251</td>\n",
              "      <td>16.287479</td>\n",
              "      <td>19.398481</td>\n",
              "      <td>23.080000</td>\n",
              "      <td>...</td>\n",
              "      <td>4051700</td>\n",
              "      <td>6116000</td>\n",
              "      <td>8601000</td>\n",
              "      <td>20383200</td>\n",
              "      <td>20774700</td>\n",
              "      <td>19215900</td>\n",
              "      <td>45592600</td>\n",
              "      <td>2220300</td>\n",
              "      <td>20714400</td>\n",
              "      <td>2096000</td>\n",
              "    </tr>\n",
              "    <tr>\n",
              "      <th>2022-02-17</th>\n",
              "      <td>14.85</td>\n",
              "      <td>26.799999</td>\n",
              "      <td>34.279999</td>\n",
              "      <td>13.143319</td>\n",
              "      <td>28.780001</td>\n",
              "      <td>14.026972</td>\n",
              "      <td>34.148251</td>\n",
              "      <td>16.124695</td>\n",
              "      <td>19.172287</td>\n",
              "      <td>23.170000</td>\n",
              "      <td>...</td>\n",
              "      <td>3886000</td>\n",
              "      <td>14125600</td>\n",
              "      <td>5515000</td>\n",
              "      <td>29080100</td>\n",
              "      <td>36259300</td>\n",
              "      <td>12474100</td>\n",
              "      <td>60121500</td>\n",
              "      <td>1424100</td>\n",
              "      <td>8085500</td>\n",
              "      <td>945500</td>\n",
              "    </tr>\n",
              "  </tbody>\n",
              "</table>\n",
              "<p>13 rows × 552 columns</p>\n",
              "</div>\n",
              "      <button class=\"colab-df-convert\" onclick=\"convertToInteractive('df-61388f3b-c2a4-4e9b-8db8-1c5c5b527155')\"\n",
              "              title=\"Convert this dataframe to an interactive table.\"\n",
              "              style=\"display:none;\">\n",
              "        \n",
              "  <svg xmlns=\"http://www.w3.org/2000/svg\" height=\"24px\"viewBox=\"0 0 24 24\"\n",
              "       width=\"24px\">\n",
              "    <path d=\"M0 0h24v24H0V0z\" fill=\"none\"/>\n",
              "    <path d=\"M18.56 5.44l.94 2.06.94-2.06 2.06-.94-2.06-.94-.94-2.06-.94 2.06-2.06.94zm-11 1L8.5 8.5l.94-2.06 2.06-.94-2.06-.94L8.5 2.5l-.94 2.06-2.06.94zm10 10l.94 2.06.94-2.06 2.06-.94-2.06-.94-.94-2.06-.94 2.06-2.06.94z\"/><path d=\"M17.41 7.96l-1.37-1.37c-.4-.4-.92-.59-1.43-.59-.52 0-1.04.2-1.43.59L10.3 9.45l-7.72 7.72c-.78.78-.78 2.05 0 2.83L4 21.41c.39.39.9.59 1.41.59.51 0 1.02-.2 1.41-.59l7.78-7.78 2.81-2.81c.8-.78.8-2.07 0-2.86zM5.41 20L4 18.59l7.72-7.72 1.47 1.35L5.41 20z\"/>\n",
              "  </svg>\n",
              "      </button>\n",
              "      \n",
              "  <style>\n",
              "    .colab-df-container {\n",
              "      display:flex;\n",
              "      flex-wrap:wrap;\n",
              "      gap: 12px;\n",
              "    }\n",
              "\n",
              "    .colab-df-convert {\n",
              "      background-color: #E8F0FE;\n",
              "      border: none;\n",
              "      border-radius: 50%;\n",
              "      cursor: pointer;\n",
              "      display: none;\n",
              "      fill: #1967D2;\n",
              "      height: 32px;\n",
              "      padding: 0 0 0 0;\n",
              "      width: 32px;\n",
              "    }\n",
              "\n",
              "    .colab-df-convert:hover {\n",
              "      background-color: #E2EBFA;\n",
              "      box-shadow: 0px 1px 2px rgba(60, 64, 67, 0.3), 0px 1px 3px 1px rgba(60, 64, 67, 0.15);\n",
              "      fill: #174EA6;\n",
              "    }\n",
              "\n",
              "    [theme=dark] .colab-df-convert {\n",
              "      background-color: #3B4455;\n",
              "      fill: #D2E3FC;\n",
              "    }\n",
              "\n",
              "    [theme=dark] .colab-df-convert:hover {\n",
              "      background-color: #434B5C;\n",
              "      box-shadow: 0px 1px 3px 1px rgba(0, 0, 0, 0.15);\n",
              "      filter: drop-shadow(0px 1px 2px rgba(0, 0, 0, 0.3));\n",
              "      fill: #FFFFFF;\n",
              "    }\n",
              "  </style>\n",
              "\n",
              "      <script>\n",
              "        const buttonEl =\n",
              "          document.querySelector('#df-61388f3b-c2a4-4e9b-8db8-1c5c5b527155 button.colab-df-convert');\n",
              "        buttonEl.style.display =\n",
              "          google.colab.kernel.accessAllowed ? 'block' : 'none';\n",
              "\n",
              "        async function convertToInteractive(key) {\n",
              "          const element = document.querySelector('#df-61388f3b-c2a4-4e9b-8db8-1c5c5b527155');\n",
              "          const dataTable =\n",
              "            await google.colab.kernel.invokeFunction('convertToInteractive',\n",
              "                                                     [key], {});\n",
              "          if (!dataTable) return;\n",
              "\n",
              "          const docLinkHtml = 'Like what you see? Visit the ' +\n",
              "            '<a target=\"_blank\" href=https://colab.research.google.com/notebooks/data_table.ipynb>data table notebook</a>'\n",
              "            + ' to learn more about interactive tables.';\n",
              "          element.innerHTML = '';\n",
              "          dataTable['output_type'] = 'display_data';\n",
              "          await google.colab.output.renderOutput(dataTable, element);\n",
              "          const docLink = document.createElement('div');\n",
              "          docLink.innerHTML = docLinkHtml;\n",
              "          element.appendChild(docLink);\n",
              "        }\n",
              "      </script>\n",
              "    </div>\n",
              "  </div>\n",
              "  "
            ]
          },
          "metadata": {},
          "execution_count": 53
        }
      ]
    },
    {
      "cell_type": "markdown",
      "source": [
        "Perceba que a estrutura acima replica as 5 colunas (Abertura, Máxima, Mínima, Fechamento, Fechamento Ajustado e Volume) para todos os papéis. Isso cria uma estrutura muito grande e difícil de trabalhar. É melhor selecionar apenas uma coluna específica para esses papéis:"
      ],
      "metadata": {
        "id": "5aFEXoi9JUgi"
      }
    },
    {
      "cell_type": "code",
      "source": [
        "# Nesse caso, estamos não apenas extraindo os dados, mas armazenando na variável cotacoes_IBOV\n",
        "\n",
        "cotacoes_IBOV = yf.download(tickers_IBOV_SA, start='2022-02-10', end='2022-02-18', period = \"1d\")"
      ],
      "metadata": {
        "colab": {
          "base_uri": "https://localhost:8080/"
        },
        "id": "pMvjI4P3JcwX",
        "outputId": "a3703497-5f81-4ee3-8205-4e91c1e41706"
      },
      "execution_count": 54,
      "outputs": [
        {
          "output_type": "stream",
          "name": "stdout",
          "text": [
            "[*********************100%***********************]  92 of 92 completed\n",
            "\n",
            "2 Failed downloads:\n",
            "- BIDI11.SA: No data found for this date range, symbol may be delisted\n",
            "- GNDI3.SA: No data found, symbol may be delisted\n"
          ]
        }
      ]
    },
    {
      "cell_type": "markdown",
      "source": [
        "Para facilitar nossa vida, podemos obter apenas os dados da coluna Adj Close para todos os papéis de uma vez"
      ],
      "metadata": {
        "id": "MruW24sWJkSS"
      }
    },
    {
      "cell_type": "code",
      "source": [
        "yf.download(tickers_IBOV_SA, start='2022-02-10', end='2022-02-18', period = \"1d\")['Adj Close']"
      ],
      "metadata": {
        "colab": {
          "base_uri": "https://localhost:8080/",
          "height": 553
        },
        "id": "tOMJUdWuJsEA",
        "outputId": "17d4e5d6-5174-4d11-e2cb-17798754d9c1"
      },
      "execution_count": 55,
      "outputs": [
        {
          "output_type": "stream",
          "name": "stdout",
          "text": [
            "[*********************100%***********************]  92 of 92 completed\n",
            "\n",
            "2 Failed downloads:\n",
            "- BIDI11.SA: No data found for this date range, symbol may be delisted\n",
            "- GNDI3.SA: No data found, symbol may be delisted\n"
          ]
        },
        {
          "output_type": "execute_result",
          "data": {
            "text/plain": [
              "            ABEV3.SA   ALPA4.SA   AMER3.SA   ASAI3.SA   AZUL4.SA   B3SA3.SA  \\\n",
              "Date                                                                          \n",
              "2022-02-10     14.75  26.600000  33.950001  12.577909  28.620001  13.928190   \n",
              "2022-02-11     14.86  27.090000  32.540001  12.240646  26.950001  13.750383   \n",
              "2022-02-14     15.06  27.299999  33.720001  12.230726  26.990000  13.947947   \n",
              "2022-02-15     15.38  28.020000  35.860001  12.081934  29.270000  14.422098   \n",
              "2022-02-16     15.08  27.090000  35.439999  12.944929  29.290001  14.412220   \n",
              "2022-02-17     14.85  26.799999  34.279999  13.143319  28.780001  14.026972   \n",
              "\n",
              "             BBAS3.SA   BBDC3.SA   BBDC4.SA   BBSE3.SA  ...   TIMS3.SA  \\\n",
              "Date                                                    ...              \n",
              "2022-02-10  31.190599  15.690602  19.063711  23.429953  ...  13.879147   \n",
              "2022-02-11  32.282803  15.853387  19.127048  22.760000  ...  13.819494   \n",
              "2022-02-14  32.418121  15.970955  19.154190  23.370001  ...  13.799610   \n",
              "2022-02-15  33.954937  16.151825  19.172285  23.139999  ...  13.759842   \n",
              "2022-02-16  34.148251  16.287477  19.398481  23.080000  ...  13.739957   \n",
              "2022-02-17  34.148251  16.124693  19.172285  23.170000  ...  13.700189   \n",
              "\n",
              "             TOTS3.SA   UGPA3.SA   USIM5.SA   VALE3.SA   VBBR3.SA  VIIA3.SA  \\\n",
              "Date                                                                          \n",
              "2022-02-10  27.700001  13.903831  15.920329  90.394722  22.717138      4.34   \n",
              "2022-02-11  27.629999  13.922996  14.734368  88.565063  22.727085      4.12   \n",
              "2022-02-14  28.670000  14.009236  14.876684  88.179871  22.945900      4.02   \n",
              "2022-02-15  30.219999  14.497931  14.791294  85.560570  23.492943      4.12   \n",
              "2022-02-16  30.450001  15.139940  14.696417  86.186508  24.318478      4.15   \n",
              "2022-02-17  32.220001  14.862056  14.098693  82.479050  24.010143      4.01   \n",
              "\n",
              "             VIVT3.SA   WEGE3.SA   YDUQ3.SA  \n",
              "Date                                         \n",
              "2022-02-10  48.140499  29.502254  21.527210  \n",
              "2022-02-11  48.392952  29.293934  21.060738  \n",
              "2022-02-14  48.383244  30.196659  21.626461  \n",
              "2022-02-15  47.577343  32.617157  22.757904  \n",
              "2022-02-16  47.858921  31.049784  22.182257  \n",
              "2022-02-17  48.305561  30.404980  21.844809  \n",
              "\n",
              "[6 rows x 92 columns]"
            ],
            "text/html": [
              "\n",
              "  <div id=\"df-2eb42087-ad8f-4b0c-8da0-fee40c76dbf7\">\n",
              "    <div class=\"colab-df-container\">\n",
              "      <div>\n",
              "<style scoped>\n",
              "    .dataframe tbody tr th:only-of-type {\n",
              "        vertical-align: middle;\n",
              "    }\n",
              "\n",
              "    .dataframe tbody tr th {\n",
              "        vertical-align: top;\n",
              "    }\n",
              "\n",
              "    .dataframe thead th {\n",
              "        text-align: right;\n",
              "    }\n",
              "</style>\n",
              "<table border=\"1\" class=\"dataframe\">\n",
              "  <thead>\n",
              "    <tr style=\"text-align: right;\">\n",
              "      <th></th>\n",
              "      <th>ABEV3.SA</th>\n",
              "      <th>ALPA4.SA</th>\n",
              "      <th>AMER3.SA</th>\n",
              "      <th>ASAI3.SA</th>\n",
              "      <th>AZUL4.SA</th>\n",
              "      <th>B3SA3.SA</th>\n",
              "      <th>BBAS3.SA</th>\n",
              "      <th>BBDC3.SA</th>\n",
              "      <th>BBDC4.SA</th>\n",
              "      <th>BBSE3.SA</th>\n",
              "      <th>...</th>\n",
              "      <th>TIMS3.SA</th>\n",
              "      <th>TOTS3.SA</th>\n",
              "      <th>UGPA3.SA</th>\n",
              "      <th>USIM5.SA</th>\n",
              "      <th>VALE3.SA</th>\n",
              "      <th>VBBR3.SA</th>\n",
              "      <th>VIIA3.SA</th>\n",
              "      <th>VIVT3.SA</th>\n",
              "      <th>WEGE3.SA</th>\n",
              "      <th>YDUQ3.SA</th>\n",
              "    </tr>\n",
              "    <tr>\n",
              "      <th>Date</th>\n",
              "      <th></th>\n",
              "      <th></th>\n",
              "      <th></th>\n",
              "      <th></th>\n",
              "      <th></th>\n",
              "      <th></th>\n",
              "      <th></th>\n",
              "      <th></th>\n",
              "      <th></th>\n",
              "      <th></th>\n",
              "      <th></th>\n",
              "      <th></th>\n",
              "      <th></th>\n",
              "      <th></th>\n",
              "      <th></th>\n",
              "      <th></th>\n",
              "      <th></th>\n",
              "      <th></th>\n",
              "      <th></th>\n",
              "      <th></th>\n",
              "      <th></th>\n",
              "    </tr>\n",
              "  </thead>\n",
              "  <tbody>\n",
              "    <tr>\n",
              "      <th>2022-02-10</th>\n",
              "      <td>14.75</td>\n",
              "      <td>26.600000</td>\n",
              "      <td>33.950001</td>\n",
              "      <td>12.577909</td>\n",
              "      <td>28.620001</td>\n",
              "      <td>13.928190</td>\n",
              "      <td>31.190599</td>\n",
              "      <td>15.690602</td>\n",
              "      <td>19.063711</td>\n",
              "      <td>23.429953</td>\n",
              "      <td>...</td>\n",
              "      <td>13.879147</td>\n",
              "      <td>27.700001</td>\n",
              "      <td>13.903831</td>\n",
              "      <td>15.920329</td>\n",
              "      <td>90.394722</td>\n",
              "      <td>22.717138</td>\n",
              "      <td>4.34</td>\n",
              "      <td>48.140499</td>\n",
              "      <td>29.502254</td>\n",
              "      <td>21.527210</td>\n",
              "    </tr>\n",
              "    <tr>\n",
              "      <th>2022-02-11</th>\n",
              "      <td>14.86</td>\n",
              "      <td>27.090000</td>\n",
              "      <td>32.540001</td>\n",
              "      <td>12.240646</td>\n",
              "      <td>26.950001</td>\n",
              "      <td>13.750383</td>\n",
              "      <td>32.282803</td>\n",
              "      <td>15.853387</td>\n",
              "      <td>19.127048</td>\n",
              "      <td>22.760000</td>\n",
              "      <td>...</td>\n",
              "      <td>13.819494</td>\n",
              "      <td>27.629999</td>\n",
              "      <td>13.922996</td>\n",
              "      <td>14.734368</td>\n",
              "      <td>88.565063</td>\n",
              "      <td>22.727085</td>\n",
              "      <td>4.12</td>\n",
              "      <td>48.392952</td>\n",
              "      <td>29.293934</td>\n",
              "      <td>21.060738</td>\n",
              "    </tr>\n",
              "    <tr>\n",
              "      <th>2022-02-14</th>\n",
              "      <td>15.06</td>\n",
              "      <td>27.299999</td>\n",
              "      <td>33.720001</td>\n",
              "      <td>12.230726</td>\n",
              "      <td>26.990000</td>\n",
              "      <td>13.947947</td>\n",
              "      <td>32.418121</td>\n",
              "      <td>15.970955</td>\n",
              "      <td>19.154190</td>\n",
              "      <td>23.370001</td>\n",
              "      <td>...</td>\n",
              "      <td>13.799610</td>\n",
              "      <td>28.670000</td>\n",
              "      <td>14.009236</td>\n",
              "      <td>14.876684</td>\n",
              "      <td>88.179871</td>\n",
              "      <td>22.945900</td>\n",
              "      <td>4.02</td>\n",
              "      <td>48.383244</td>\n",
              "      <td>30.196659</td>\n",
              "      <td>21.626461</td>\n",
              "    </tr>\n",
              "    <tr>\n",
              "      <th>2022-02-15</th>\n",
              "      <td>15.38</td>\n",
              "      <td>28.020000</td>\n",
              "      <td>35.860001</td>\n",
              "      <td>12.081934</td>\n",
              "      <td>29.270000</td>\n",
              "      <td>14.422098</td>\n",
              "      <td>33.954937</td>\n",
              "      <td>16.151825</td>\n",
              "      <td>19.172285</td>\n",
              "      <td>23.139999</td>\n",
              "      <td>...</td>\n",
              "      <td>13.759842</td>\n",
              "      <td>30.219999</td>\n",
              "      <td>14.497931</td>\n",
              "      <td>14.791294</td>\n",
              "      <td>85.560570</td>\n",
              "      <td>23.492943</td>\n",
              "      <td>4.12</td>\n",
              "      <td>47.577343</td>\n",
              "      <td>32.617157</td>\n",
              "      <td>22.757904</td>\n",
              "    </tr>\n",
              "    <tr>\n",
              "      <th>2022-02-16</th>\n",
              "      <td>15.08</td>\n",
              "      <td>27.090000</td>\n",
              "      <td>35.439999</td>\n",
              "      <td>12.944929</td>\n",
              "      <td>29.290001</td>\n",
              "      <td>14.412220</td>\n",
              "      <td>34.148251</td>\n",
              "      <td>16.287477</td>\n",
              "      <td>19.398481</td>\n",
              "      <td>23.080000</td>\n",
              "      <td>...</td>\n",
              "      <td>13.739957</td>\n",
              "      <td>30.450001</td>\n",
              "      <td>15.139940</td>\n",
              "      <td>14.696417</td>\n",
              "      <td>86.186508</td>\n",
              "      <td>24.318478</td>\n",
              "      <td>4.15</td>\n",
              "      <td>47.858921</td>\n",
              "      <td>31.049784</td>\n",
              "      <td>22.182257</td>\n",
              "    </tr>\n",
              "    <tr>\n",
              "      <th>2022-02-17</th>\n",
              "      <td>14.85</td>\n",
              "      <td>26.799999</td>\n",
              "      <td>34.279999</td>\n",
              "      <td>13.143319</td>\n",
              "      <td>28.780001</td>\n",
              "      <td>14.026972</td>\n",
              "      <td>34.148251</td>\n",
              "      <td>16.124693</td>\n",
              "      <td>19.172285</td>\n",
              "      <td>23.170000</td>\n",
              "      <td>...</td>\n",
              "      <td>13.700189</td>\n",
              "      <td>32.220001</td>\n",
              "      <td>14.862056</td>\n",
              "      <td>14.098693</td>\n",
              "      <td>82.479050</td>\n",
              "      <td>24.010143</td>\n",
              "      <td>4.01</td>\n",
              "      <td>48.305561</td>\n",
              "      <td>30.404980</td>\n",
              "      <td>21.844809</td>\n",
              "    </tr>\n",
              "  </tbody>\n",
              "</table>\n",
              "<p>6 rows × 92 columns</p>\n",
              "</div>\n",
              "      <button class=\"colab-df-convert\" onclick=\"convertToInteractive('df-2eb42087-ad8f-4b0c-8da0-fee40c76dbf7')\"\n",
              "              title=\"Convert this dataframe to an interactive table.\"\n",
              "              style=\"display:none;\">\n",
              "        \n",
              "  <svg xmlns=\"http://www.w3.org/2000/svg\" height=\"24px\"viewBox=\"0 0 24 24\"\n",
              "       width=\"24px\">\n",
              "    <path d=\"M0 0h24v24H0V0z\" fill=\"none\"/>\n",
              "    <path d=\"M18.56 5.44l.94 2.06.94-2.06 2.06-.94-2.06-.94-.94-2.06-.94 2.06-2.06.94zm-11 1L8.5 8.5l.94-2.06 2.06-.94-2.06-.94L8.5 2.5l-.94 2.06-2.06.94zm10 10l.94 2.06.94-2.06 2.06-.94-2.06-.94-.94-2.06-.94 2.06-2.06.94z\"/><path d=\"M17.41 7.96l-1.37-1.37c-.4-.4-.92-.59-1.43-.59-.52 0-1.04.2-1.43.59L10.3 9.45l-7.72 7.72c-.78.78-.78 2.05 0 2.83L4 21.41c.39.39.9.59 1.41.59.51 0 1.02-.2 1.41-.59l7.78-7.78 2.81-2.81c.8-.78.8-2.07 0-2.86zM5.41 20L4 18.59l7.72-7.72 1.47 1.35L5.41 20z\"/>\n",
              "  </svg>\n",
              "      </button>\n",
              "      \n",
              "  <style>\n",
              "    .colab-df-container {\n",
              "      display:flex;\n",
              "      flex-wrap:wrap;\n",
              "      gap: 12px;\n",
              "    }\n",
              "\n",
              "    .colab-df-convert {\n",
              "      background-color: #E8F0FE;\n",
              "      border: none;\n",
              "      border-radius: 50%;\n",
              "      cursor: pointer;\n",
              "      display: none;\n",
              "      fill: #1967D2;\n",
              "      height: 32px;\n",
              "      padding: 0 0 0 0;\n",
              "      width: 32px;\n",
              "    }\n",
              "\n",
              "    .colab-df-convert:hover {\n",
              "      background-color: #E2EBFA;\n",
              "      box-shadow: 0px 1px 2px rgba(60, 64, 67, 0.3), 0px 1px 3px 1px rgba(60, 64, 67, 0.15);\n",
              "      fill: #174EA6;\n",
              "    }\n",
              "\n",
              "    [theme=dark] .colab-df-convert {\n",
              "      background-color: #3B4455;\n",
              "      fill: #D2E3FC;\n",
              "    }\n",
              "\n",
              "    [theme=dark] .colab-df-convert:hover {\n",
              "      background-color: #434B5C;\n",
              "      box-shadow: 0px 1px 3px 1px rgba(0, 0, 0, 0.15);\n",
              "      filter: drop-shadow(0px 1px 2px rgba(0, 0, 0, 0.3));\n",
              "      fill: #FFFFFF;\n",
              "    }\n",
              "  </style>\n",
              "\n",
              "      <script>\n",
              "        const buttonEl =\n",
              "          document.querySelector('#df-2eb42087-ad8f-4b0c-8da0-fee40c76dbf7 button.colab-df-convert');\n",
              "        buttonEl.style.display =\n",
              "          google.colab.kernel.accessAllowed ? 'block' : 'none';\n",
              "\n",
              "        async function convertToInteractive(key) {\n",
              "          const element = document.querySelector('#df-2eb42087-ad8f-4b0c-8da0-fee40c76dbf7');\n",
              "          const dataTable =\n",
              "            await google.colab.kernel.invokeFunction('convertToInteractive',\n",
              "                                                     [key], {});\n",
              "          if (!dataTable) return;\n",
              "\n",
              "          const docLinkHtml = 'Like what you see? Visit the ' +\n",
              "            '<a target=\"_blank\" href=https://colab.research.google.com/notebooks/data_table.ipynb>data table notebook</a>'\n",
              "            + ' to learn more about interactive tables.';\n",
              "          element.innerHTML = '';\n",
              "          dataTable['output_type'] = 'display_data';\n",
              "          await google.colab.output.renderOutput(dataTable, element);\n",
              "          const docLink = document.createElement('div');\n",
              "          docLink.innerHTML = docLinkHtml;\n",
              "          element.appendChild(docLink);\n",
              "        }\n",
              "      </script>\n",
              "    </div>\n",
              "  </div>\n",
              "  "
            ]
          },
          "metadata": {},
          "execution_count": 55
        }
      ]
    },
    {
      "cell_type": "markdown",
      "source": [
        "Perceba que reduzimos o número de colunas de 552 para 92 (Adj Close dos 92 ativos da lista)\n",
        "\n",
        "Vamos criar um novo dataframe com o resultado da busca de cotação ao longo de todo o período de 2021, considerando todos as colunas disponíveis (OHLC, Adj Close e Volume)"
      ],
      "metadata": {
        "id": "JBB3ppBbKDSp"
      }
    },
    {
      "cell_type": "code",
      "source": [
        "cotacao_IBOV = yf.download(tickers_IBOV_SA, start = '2021-01-01', end = '2021-12-31', period = '1d')"
      ],
      "metadata": {
        "colab": {
          "base_uri": "https://localhost:8080/"
        },
        "id": "8Bw_JuRtKILU",
        "outputId": "d1415801-cf9c-4d47-f67a-f6b5351c9edf"
      },
      "execution_count": 56,
      "outputs": [
        {
          "output_type": "stream",
          "name": "stdout",
          "text": [
            "[*********************100%***********************]  92 of 92 completed\n",
            "\n",
            "1 Failed download:\n",
            "- GNDI3.SA: No data found, symbol may be delisted\n"
          ]
        }
      ]
    },
    {
      "cell_type": "code",
      "source": [
        "# Reforçando a complexidade do dateframe, composto por pois índices de colunas\n",
        "# Indice 0 para os parâmetros das cotações e índice 1 para os ativos\n",
        "\n",
        "cotacao_IBOV.columns"
      ],
      "metadata": {
        "colab": {
          "base_uri": "https://localhost:8080/"
        },
        "id": "w-9LfDL5KfZr",
        "outputId": "e8cd0df9-5a04-4770-8d6b-99aa62843249"
      },
      "execution_count": 57,
      "outputs": [
        {
          "output_type": "execute_result",
          "data": {
            "text/plain": [
              "MultiIndex([('Adj Close', 'ABEV3.SA'),\n",
              "            ('Adj Close', 'ALPA4.SA'),\n",
              "            ('Adj Close', 'AMER3.SA'),\n",
              "            ('Adj Close', 'ASAI3.SA'),\n",
              "            ('Adj Close', 'AZUL4.SA'),\n",
              "            ('Adj Close', 'B3SA3.SA'),\n",
              "            ('Adj Close', 'BBAS3.SA'),\n",
              "            ('Adj Close', 'BBDC3.SA'),\n",
              "            ('Adj Close', 'BBDC4.SA'),\n",
              "            ('Adj Close', 'BBSE3.SA'),\n",
              "            ...\n",
              "            (   'Volume', 'TIMS3.SA'),\n",
              "            (   'Volume', 'TOTS3.SA'),\n",
              "            (   'Volume', 'UGPA3.SA'),\n",
              "            (   'Volume', 'USIM5.SA'),\n",
              "            (   'Volume', 'VALE3.SA'),\n",
              "            (   'Volume', 'VBBR3.SA'),\n",
              "            (   'Volume', 'VIIA3.SA'),\n",
              "            (   'Volume', 'VIVT3.SA'),\n",
              "            (   'Volume', 'WEGE3.SA'),\n",
              "            (   'Volume', 'YDUQ3.SA')],\n",
              "           length=552)"
            ]
          },
          "metadata": {},
          "execution_count": 57
        }
      ]
    },
    {
      "cell_type": "code",
      "source": [
        "# Usando o set (conjunto) podemos remover as duplicatas e ver a lista de parâmetros disponíveis\n",
        "\n",
        "set(cotacao_IBOV.columns.get_level_values(0))"
      ],
      "metadata": {
        "colab": {
          "base_uri": "https://localhost:8080/"
        },
        "id": "UqHpTmRqKnaA",
        "outputId": "31e0c529-13b2-4114-bd31-0ce3f1743d00"
      },
      "execution_count": 58,
      "outputs": [
        {
          "output_type": "execute_result",
          "data": {
            "text/plain": [
              "{'Adj Close', 'Close', 'High', 'Low', 'Open', 'Volume'}"
            ]
          },
          "metadata": {},
          "execution_count": 58
        }
      ]
    },
    {
      "cell_type": "code",
      "source": [
        "# Filtrar apenas o índice que contém os preços de Adj Close\n",
        "\n",
        "cotacoes_IBOV_Adj_Close = cotacoes_IBOV['Adj Close']\n",
        "cotacoes_IBOV_Adj_Close"
      ],
      "metadata": {
        "colab": {
          "base_uri": "https://localhost:8080/",
          "height": 466
        },
        "id": "EJC6vbwgK5h_",
        "outputId": "d32b947a-7f2b-4a84-ed20-4786ffe3e20b"
      },
      "execution_count": 59,
      "outputs": [
        {
          "output_type": "execute_result",
          "data": {
            "text/plain": [
              "            ABEV3.SA   ALPA4.SA   AMER3.SA   ASAI3.SA   AZUL4.SA   B3SA3.SA  \\\n",
              "Date                                                                          \n",
              "2022-02-10     14.75  26.600000  33.950001  12.577909  28.620001  13.928190   \n",
              "2022-02-11     14.86  27.090000  32.540001  12.240646  26.950001  13.750383   \n",
              "2022-02-14     15.06  27.299999  33.720001  12.230726  26.990000  13.947947   \n",
              "2022-02-15     15.38  28.020000  35.860001  12.081934  29.270000  14.422098   \n",
              "2022-02-16     15.08  27.090000  35.439999  12.944929  29.290001  14.412220   \n",
              "2022-02-17     14.85  26.799999  34.279999  13.143319  28.780001  14.026972   \n",
              "\n",
              "             BBAS3.SA   BBDC3.SA   BBDC4.SA   BBSE3.SA  ...   TIMS3.SA  \\\n",
              "Date                                                    ...              \n",
              "2022-02-10  31.190599  15.690603  19.063711  23.429953  ...  13.879147   \n",
              "2022-02-11  32.282803  15.853388  19.127048  22.760000  ...  13.819494   \n",
              "2022-02-14  32.418121  15.970955  19.154190  23.370001  ...  13.799610   \n",
              "2022-02-15  33.954937  16.151825  19.172285  23.139999  ...  13.759842   \n",
              "2022-02-16  34.148251  16.287477  19.398481  23.080000  ...  13.739957   \n",
              "2022-02-17  34.148251  16.124695  19.172285  23.170000  ...  13.700189   \n",
              "\n",
              "             TOTS3.SA   UGPA3.SA   USIM5.SA   VALE3.SA   VBBR3.SA  VIIA3.SA  \\\n",
              "Date                                                                          \n",
              "2022-02-10  27.700001  13.903831  15.920329  90.394722  22.717138      4.34   \n",
              "2022-02-11  27.629999  13.922996  14.734368  88.565063  22.727085      4.12   \n",
              "2022-02-14  28.670000  14.009235  14.876684  88.179871  22.945900      4.02   \n",
              "2022-02-15  30.219999  14.497931  14.791294  85.560570  23.492943      4.12   \n",
              "2022-02-16  30.450001  15.139941  14.696417  86.186508  24.318478      4.15   \n",
              "2022-02-17  32.220001  14.862056  14.098693  82.479050  24.010143      4.01   \n",
              "\n",
              "             VIVT3.SA   WEGE3.SA   YDUQ3.SA  \n",
              "Date                                         \n",
              "2022-02-10  48.140499  29.502254  21.527210  \n",
              "2022-02-11  48.392948  29.293934  21.060738  \n",
              "2022-02-14  48.383244  30.196659  21.626461  \n",
              "2022-02-15  47.577339  32.617157  22.757904  \n",
              "2022-02-16  47.858921  31.049784  22.182257  \n",
              "2022-02-17  48.305561  30.404980  21.844809  \n",
              "\n",
              "[6 rows x 92 columns]"
            ],
            "text/html": [
              "\n",
              "  <div id=\"df-12f3094b-e50b-4b4a-93c8-d137cb3167a9\">\n",
              "    <div class=\"colab-df-container\">\n",
              "      <div>\n",
              "<style scoped>\n",
              "    .dataframe tbody tr th:only-of-type {\n",
              "        vertical-align: middle;\n",
              "    }\n",
              "\n",
              "    .dataframe tbody tr th {\n",
              "        vertical-align: top;\n",
              "    }\n",
              "\n",
              "    .dataframe thead th {\n",
              "        text-align: right;\n",
              "    }\n",
              "</style>\n",
              "<table border=\"1\" class=\"dataframe\">\n",
              "  <thead>\n",
              "    <tr style=\"text-align: right;\">\n",
              "      <th></th>\n",
              "      <th>ABEV3.SA</th>\n",
              "      <th>ALPA4.SA</th>\n",
              "      <th>AMER3.SA</th>\n",
              "      <th>ASAI3.SA</th>\n",
              "      <th>AZUL4.SA</th>\n",
              "      <th>B3SA3.SA</th>\n",
              "      <th>BBAS3.SA</th>\n",
              "      <th>BBDC3.SA</th>\n",
              "      <th>BBDC4.SA</th>\n",
              "      <th>BBSE3.SA</th>\n",
              "      <th>...</th>\n",
              "      <th>TIMS3.SA</th>\n",
              "      <th>TOTS3.SA</th>\n",
              "      <th>UGPA3.SA</th>\n",
              "      <th>USIM5.SA</th>\n",
              "      <th>VALE3.SA</th>\n",
              "      <th>VBBR3.SA</th>\n",
              "      <th>VIIA3.SA</th>\n",
              "      <th>VIVT3.SA</th>\n",
              "      <th>WEGE3.SA</th>\n",
              "      <th>YDUQ3.SA</th>\n",
              "    </tr>\n",
              "    <tr>\n",
              "      <th>Date</th>\n",
              "      <th></th>\n",
              "      <th></th>\n",
              "      <th></th>\n",
              "      <th></th>\n",
              "      <th></th>\n",
              "      <th></th>\n",
              "      <th></th>\n",
              "      <th></th>\n",
              "      <th></th>\n",
              "      <th></th>\n",
              "      <th></th>\n",
              "      <th></th>\n",
              "      <th></th>\n",
              "      <th></th>\n",
              "      <th></th>\n",
              "      <th></th>\n",
              "      <th></th>\n",
              "      <th></th>\n",
              "      <th></th>\n",
              "      <th></th>\n",
              "      <th></th>\n",
              "    </tr>\n",
              "  </thead>\n",
              "  <tbody>\n",
              "    <tr>\n",
              "      <th>2022-02-10</th>\n",
              "      <td>14.75</td>\n",
              "      <td>26.600000</td>\n",
              "      <td>33.950001</td>\n",
              "      <td>12.577909</td>\n",
              "      <td>28.620001</td>\n",
              "      <td>13.928190</td>\n",
              "      <td>31.190599</td>\n",
              "      <td>15.690603</td>\n",
              "      <td>19.063711</td>\n",
              "      <td>23.429953</td>\n",
              "      <td>...</td>\n",
              "      <td>13.879147</td>\n",
              "      <td>27.700001</td>\n",
              "      <td>13.903831</td>\n",
              "      <td>15.920329</td>\n",
              "      <td>90.394722</td>\n",
              "      <td>22.717138</td>\n",
              "      <td>4.34</td>\n",
              "      <td>48.140499</td>\n",
              "      <td>29.502254</td>\n",
              "      <td>21.527210</td>\n",
              "    </tr>\n",
              "    <tr>\n",
              "      <th>2022-02-11</th>\n",
              "      <td>14.86</td>\n",
              "      <td>27.090000</td>\n",
              "      <td>32.540001</td>\n",
              "      <td>12.240646</td>\n",
              "      <td>26.950001</td>\n",
              "      <td>13.750383</td>\n",
              "      <td>32.282803</td>\n",
              "      <td>15.853388</td>\n",
              "      <td>19.127048</td>\n",
              "      <td>22.760000</td>\n",
              "      <td>...</td>\n",
              "      <td>13.819494</td>\n",
              "      <td>27.629999</td>\n",
              "      <td>13.922996</td>\n",
              "      <td>14.734368</td>\n",
              "      <td>88.565063</td>\n",
              "      <td>22.727085</td>\n",
              "      <td>4.12</td>\n",
              "      <td>48.392948</td>\n",
              "      <td>29.293934</td>\n",
              "      <td>21.060738</td>\n",
              "    </tr>\n",
              "    <tr>\n",
              "      <th>2022-02-14</th>\n",
              "      <td>15.06</td>\n",
              "      <td>27.299999</td>\n",
              "      <td>33.720001</td>\n",
              "      <td>12.230726</td>\n",
              "      <td>26.990000</td>\n",
              "      <td>13.947947</td>\n",
              "      <td>32.418121</td>\n",
              "      <td>15.970955</td>\n",
              "      <td>19.154190</td>\n",
              "      <td>23.370001</td>\n",
              "      <td>...</td>\n",
              "      <td>13.799610</td>\n",
              "      <td>28.670000</td>\n",
              "      <td>14.009235</td>\n",
              "      <td>14.876684</td>\n",
              "      <td>88.179871</td>\n",
              "      <td>22.945900</td>\n",
              "      <td>4.02</td>\n",
              "      <td>48.383244</td>\n",
              "      <td>30.196659</td>\n",
              "      <td>21.626461</td>\n",
              "    </tr>\n",
              "    <tr>\n",
              "      <th>2022-02-15</th>\n",
              "      <td>15.38</td>\n",
              "      <td>28.020000</td>\n",
              "      <td>35.860001</td>\n",
              "      <td>12.081934</td>\n",
              "      <td>29.270000</td>\n",
              "      <td>14.422098</td>\n",
              "      <td>33.954937</td>\n",
              "      <td>16.151825</td>\n",
              "      <td>19.172285</td>\n",
              "      <td>23.139999</td>\n",
              "      <td>...</td>\n",
              "      <td>13.759842</td>\n",
              "      <td>30.219999</td>\n",
              "      <td>14.497931</td>\n",
              "      <td>14.791294</td>\n",
              "      <td>85.560570</td>\n",
              "      <td>23.492943</td>\n",
              "      <td>4.12</td>\n",
              "      <td>47.577339</td>\n",
              "      <td>32.617157</td>\n",
              "      <td>22.757904</td>\n",
              "    </tr>\n",
              "    <tr>\n",
              "      <th>2022-02-16</th>\n",
              "      <td>15.08</td>\n",
              "      <td>27.090000</td>\n",
              "      <td>35.439999</td>\n",
              "      <td>12.944929</td>\n",
              "      <td>29.290001</td>\n",
              "      <td>14.412220</td>\n",
              "      <td>34.148251</td>\n",
              "      <td>16.287477</td>\n",
              "      <td>19.398481</td>\n",
              "      <td>23.080000</td>\n",
              "      <td>...</td>\n",
              "      <td>13.739957</td>\n",
              "      <td>30.450001</td>\n",
              "      <td>15.139941</td>\n",
              "      <td>14.696417</td>\n",
              "      <td>86.186508</td>\n",
              "      <td>24.318478</td>\n",
              "      <td>4.15</td>\n",
              "      <td>47.858921</td>\n",
              "      <td>31.049784</td>\n",
              "      <td>22.182257</td>\n",
              "    </tr>\n",
              "    <tr>\n",
              "      <th>2022-02-17</th>\n",
              "      <td>14.85</td>\n",
              "      <td>26.799999</td>\n",
              "      <td>34.279999</td>\n",
              "      <td>13.143319</td>\n",
              "      <td>28.780001</td>\n",
              "      <td>14.026972</td>\n",
              "      <td>34.148251</td>\n",
              "      <td>16.124695</td>\n",
              "      <td>19.172285</td>\n",
              "      <td>23.170000</td>\n",
              "      <td>...</td>\n",
              "      <td>13.700189</td>\n",
              "      <td>32.220001</td>\n",
              "      <td>14.862056</td>\n",
              "      <td>14.098693</td>\n",
              "      <td>82.479050</td>\n",
              "      <td>24.010143</td>\n",
              "      <td>4.01</td>\n",
              "      <td>48.305561</td>\n",
              "      <td>30.404980</td>\n",
              "      <td>21.844809</td>\n",
              "    </tr>\n",
              "  </tbody>\n",
              "</table>\n",
              "<p>6 rows × 92 columns</p>\n",
              "</div>\n",
              "      <button class=\"colab-df-convert\" onclick=\"convertToInteractive('df-12f3094b-e50b-4b4a-93c8-d137cb3167a9')\"\n",
              "              title=\"Convert this dataframe to an interactive table.\"\n",
              "              style=\"display:none;\">\n",
              "        \n",
              "  <svg xmlns=\"http://www.w3.org/2000/svg\" height=\"24px\"viewBox=\"0 0 24 24\"\n",
              "       width=\"24px\">\n",
              "    <path d=\"M0 0h24v24H0V0z\" fill=\"none\"/>\n",
              "    <path d=\"M18.56 5.44l.94 2.06.94-2.06 2.06-.94-2.06-.94-.94-2.06-.94 2.06-2.06.94zm-11 1L8.5 8.5l.94-2.06 2.06-.94-2.06-.94L8.5 2.5l-.94 2.06-2.06.94zm10 10l.94 2.06.94-2.06 2.06-.94-2.06-.94-.94-2.06-.94 2.06-2.06.94z\"/><path d=\"M17.41 7.96l-1.37-1.37c-.4-.4-.92-.59-1.43-.59-.52 0-1.04.2-1.43.59L10.3 9.45l-7.72 7.72c-.78.78-.78 2.05 0 2.83L4 21.41c.39.39.9.59 1.41.59.51 0 1.02-.2 1.41-.59l7.78-7.78 2.81-2.81c.8-.78.8-2.07 0-2.86zM5.41 20L4 18.59l7.72-7.72 1.47 1.35L5.41 20z\"/>\n",
              "  </svg>\n",
              "      </button>\n",
              "      \n",
              "  <style>\n",
              "    .colab-df-container {\n",
              "      display:flex;\n",
              "      flex-wrap:wrap;\n",
              "      gap: 12px;\n",
              "    }\n",
              "\n",
              "    .colab-df-convert {\n",
              "      background-color: #E8F0FE;\n",
              "      border: none;\n",
              "      border-radius: 50%;\n",
              "      cursor: pointer;\n",
              "      display: none;\n",
              "      fill: #1967D2;\n",
              "      height: 32px;\n",
              "      padding: 0 0 0 0;\n",
              "      width: 32px;\n",
              "    }\n",
              "\n",
              "    .colab-df-convert:hover {\n",
              "      background-color: #E2EBFA;\n",
              "      box-shadow: 0px 1px 2px rgba(60, 64, 67, 0.3), 0px 1px 3px 1px rgba(60, 64, 67, 0.15);\n",
              "      fill: #174EA6;\n",
              "    }\n",
              "\n",
              "    [theme=dark] .colab-df-convert {\n",
              "      background-color: #3B4455;\n",
              "      fill: #D2E3FC;\n",
              "    }\n",
              "\n",
              "    [theme=dark] .colab-df-convert:hover {\n",
              "      background-color: #434B5C;\n",
              "      box-shadow: 0px 1px 3px 1px rgba(0, 0, 0, 0.15);\n",
              "      filter: drop-shadow(0px 1px 2px rgba(0, 0, 0, 0.3));\n",
              "      fill: #FFFFFF;\n",
              "    }\n",
              "  </style>\n",
              "\n",
              "      <script>\n",
              "        const buttonEl =\n",
              "          document.querySelector('#df-12f3094b-e50b-4b4a-93c8-d137cb3167a9 button.colab-df-convert');\n",
              "        buttonEl.style.display =\n",
              "          google.colab.kernel.accessAllowed ? 'block' : 'none';\n",
              "\n",
              "        async function convertToInteractive(key) {\n",
              "          const element = document.querySelector('#df-12f3094b-e50b-4b4a-93c8-d137cb3167a9');\n",
              "          const dataTable =\n",
              "            await google.colab.kernel.invokeFunction('convertToInteractive',\n",
              "                                                     [key], {});\n",
              "          if (!dataTable) return;\n",
              "\n",
              "          const docLinkHtml = 'Like what you see? Visit the ' +\n",
              "            '<a target=\"_blank\" href=https://colab.research.google.com/notebooks/data_table.ipynb>data table notebook</a>'\n",
              "            + ' to learn more about interactive tables.';\n",
              "          element.innerHTML = '';\n",
              "          dataTable['output_type'] = 'display_data';\n",
              "          await google.colab.output.renderOutput(dataTable, element);\n",
              "          const docLink = document.createElement('div');\n",
              "          docLink.innerHTML = docLinkHtml;\n",
              "          element.appendChild(docLink);\n",
              "        }\n",
              "      </script>\n",
              "    </div>\n",
              "  </div>\n",
              "  "
            ]
          },
          "metadata": {},
          "execution_count": 59
        }
      ]
    },
    {
      "cell_type": "code",
      "source": [
        "# Filtrar apenas o índice que contém os preços de Adj Close e ABEV3.SA ao mesmo tempo (acaba sendo uma única coluna)\n",
        "# Como é apenas uma coluna, ele desconsidera o formato dateframe e traz como um formato \"series\" da biblioteca pandas\n",
        "# Usando pd.DataFrame podemos reconfigurar como dataframe\n",
        "\n",
        "cotacoes_IBOV_Adj_Close_ABEV3 = cotacoes_IBOV[('Adj Close','ABEV3.SA')]\n",
        "cotacoes_IBOV_Adj_Close_ABEV3 = pd.DataFrame(cotacoes_IBOV_Adj_Close_ABEV3)\n",
        "cotacoes_IBOV_Adj_Close_ABEV3"
      ],
      "metadata": {
        "colab": {
          "base_uri": "https://localhost:8080/",
          "height": 300
        },
        "id": "8BtI5mY4LjTD",
        "outputId": "17ccfc9a-49c4-4332-dcdf-1e913de0f286"
      },
      "execution_count": 60,
      "outputs": [
        {
          "output_type": "execute_result",
          "data": {
            "text/plain": [
              "           Adj Close\n",
              "            ABEV3.SA\n",
              "Date                \n",
              "2022-02-10     14.75\n",
              "2022-02-11     14.86\n",
              "2022-02-14     15.06\n",
              "2022-02-15     15.38\n",
              "2022-02-16     15.08\n",
              "2022-02-17     14.85"
            ],
            "text/html": [
              "\n",
              "  <div id=\"df-bb033793-23a4-42fe-825e-cd45275d9131\">\n",
              "    <div class=\"colab-df-container\">\n",
              "      <div>\n",
              "<style scoped>\n",
              "    .dataframe tbody tr th:only-of-type {\n",
              "        vertical-align: middle;\n",
              "    }\n",
              "\n",
              "    .dataframe tbody tr th {\n",
              "        vertical-align: top;\n",
              "    }\n",
              "\n",
              "    .dataframe thead tr th {\n",
              "        text-align: left;\n",
              "    }\n",
              "\n",
              "    .dataframe thead tr:last-of-type th {\n",
              "        text-align: right;\n",
              "    }\n",
              "</style>\n",
              "<table border=\"1\" class=\"dataframe\">\n",
              "  <thead>\n",
              "    <tr>\n",
              "      <th></th>\n",
              "      <th>Adj Close</th>\n",
              "    </tr>\n",
              "    <tr>\n",
              "      <th></th>\n",
              "      <th>ABEV3.SA</th>\n",
              "    </tr>\n",
              "    <tr>\n",
              "      <th>Date</th>\n",
              "      <th></th>\n",
              "    </tr>\n",
              "  </thead>\n",
              "  <tbody>\n",
              "    <tr>\n",
              "      <th>2022-02-10</th>\n",
              "      <td>14.75</td>\n",
              "    </tr>\n",
              "    <tr>\n",
              "      <th>2022-02-11</th>\n",
              "      <td>14.86</td>\n",
              "    </tr>\n",
              "    <tr>\n",
              "      <th>2022-02-14</th>\n",
              "      <td>15.06</td>\n",
              "    </tr>\n",
              "    <tr>\n",
              "      <th>2022-02-15</th>\n",
              "      <td>15.38</td>\n",
              "    </tr>\n",
              "    <tr>\n",
              "      <th>2022-02-16</th>\n",
              "      <td>15.08</td>\n",
              "    </tr>\n",
              "    <tr>\n",
              "      <th>2022-02-17</th>\n",
              "      <td>14.85</td>\n",
              "    </tr>\n",
              "  </tbody>\n",
              "</table>\n",
              "</div>\n",
              "      <button class=\"colab-df-convert\" onclick=\"convertToInteractive('df-bb033793-23a4-42fe-825e-cd45275d9131')\"\n",
              "              title=\"Convert this dataframe to an interactive table.\"\n",
              "              style=\"display:none;\">\n",
              "        \n",
              "  <svg xmlns=\"http://www.w3.org/2000/svg\" height=\"24px\"viewBox=\"0 0 24 24\"\n",
              "       width=\"24px\">\n",
              "    <path d=\"M0 0h24v24H0V0z\" fill=\"none\"/>\n",
              "    <path d=\"M18.56 5.44l.94 2.06.94-2.06 2.06-.94-2.06-.94-.94-2.06-.94 2.06-2.06.94zm-11 1L8.5 8.5l.94-2.06 2.06-.94-2.06-.94L8.5 2.5l-.94 2.06-2.06.94zm10 10l.94 2.06.94-2.06 2.06-.94-2.06-.94-.94-2.06-.94 2.06-2.06.94z\"/><path d=\"M17.41 7.96l-1.37-1.37c-.4-.4-.92-.59-1.43-.59-.52 0-1.04.2-1.43.59L10.3 9.45l-7.72 7.72c-.78.78-.78 2.05 0 2.83L4 21.41c.39.39.9.59 1.41.59.51 0 1.02-.2 1.41-.59l7.78-7.78 2.81-2.81c.8-.78.8-2.07 0-2.86zM5.41 20L4 18.59l7.72-7.72 1.47 1.35L5.41 20z\"/>\n",
              "  </svg>\n",
              "      </button>\n",
              "      \n",
              "  <style>\n",
              "    .colab-df-container {\n",
              "      display:flex;\n",
              "      flex-wrap:wrap;\n",
              "      gap: 12px;\n",
              "    }\n",
              "\n",
              "    .colab-df-convert {\n",
              "      background-color: #E8F0FE;\n",
              "      border: none;\n",
              "      border-radius: 50%;\n",
              "      cursor: pointer;\n",
              "      display: none;\n",
              "      fill: #1967D2;\n",
              "      height: 32px;\n",
              "      padding: 0 0 0 0;\n",
              "      width: 32px;\n",
              "    }\n",
              "\n",
              "    .colab-df-convert:hover {\n",
              "      background-color: #E2EBFA;\n",
              "      box-shadow: 0px 1px 2px rgba(60, 64, 67, 0.3), 0px 1px 3px 1px rgba(60, 64, 67, 0.15);\n",
              "      fill: #174EA6;\n",
              "    }\n",
              "\n",
              "    [theme=dark] .colab-df-convert {\n",
              "      background-color: #3B4455;\n",
              "      fill: #D2E3FC;\n",
              "    }\n",
              "\n",
              "    [theme=dark] .colab-df-convert:hover {\n",
              "      background-color: #434B5C;\n",
              "      box-shadow: 0px 1px 3px 1px rgba(0, 0, 0, 0.15);\n",
              "      filter: drop-shadow(0px 1px 2px rgba(0, 0, 0, 0.3));\n",
              "      fill: #FFFFFF;\n",
              "    }\n",
              "  </style>\n",
              "\n",
              "      <script>\n",
              "        const buttonEl =\n",
              "          document.querySelector('#df-bb033793-23a4-42fe-825e-cd45275d9131 button.colab-df-convert');\n",
              "        buttonEl.style.display =\n",
              "          google.colab.kernel.accessAllowed ? 'block' : 'none';\n",
              "\n",
              "        async function convertToInteractive(key) {\n",
              "          const element = document.querySelector('#df-bb033793-23a4-42fe-825e-cd45275d9131');\n",
              "          const dataTable =\n",
              "            await google.colab.kernel.invokeFunction('convertToInteractive',\n",
              "                                                     [key], {});\n",
              "          if (!dataTable) return;\n",
              "\n",
              "          const docLinkHtml = 'Like what you see? Visit the ' +\n",
              "            '<a target=\"_blank\" href=https://colab.research.google.com/notebooks/data_table.ipynb>data table notebook</a>'\n",
              "            + ' to learn more about interactive tables.';\n",
              "          element.innerHTML = '';\n",
              "          dataTable['output_type'] = 'display_data';\n",
              "          await google.colab.output.renderOutput(dataTable, element);\n",
              "          const docLink = document.createElement('div');\n",
              "          docLink.innerHTML = docLinkHtml;\n",
              "          element.appendChild(docLink);\n",
              "        }\n",
              "      </script>\n",
              "    </div>\n",
              "  </div>\n",
              "  "
            ]
          },
          "metadata": {},
          "execution_count": 60
        }
      ]
    }
  ]
}