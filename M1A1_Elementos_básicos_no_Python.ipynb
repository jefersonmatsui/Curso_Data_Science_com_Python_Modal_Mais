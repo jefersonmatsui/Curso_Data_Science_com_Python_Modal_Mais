{
  "nbformat": 4,
  "nbformat_minor": 0,
  "metadata": {
    "colab": {
      "name": "M1A1_Elementos_básicos_no_Python.ipynb",
      "provenance": [],
      "authorship_tag": "ABX9TyMLfh1w3uHQz44FMvnI+SHc",
      "include_colab_link": true
    },
    "kernelspec": {
      "name": "python3",
      "display_name": "Python 3"
    },
    "language_info": {
      "name": "python"
    }
  },
  "cells": [
    {
      "cell_type": "markdown",
      "metadata": {
        "id": "view-in-github",
        "colab_type": "text"
      },
      "source": [
        "<a href=\"https://colab.research.google.com/github/jefersonmatsui/Data_Science_com_Python_Modal_Mais/blob/main/M1A1_Elementos_b%C3%A1sicos_no_Python.ipynb\" target=\"_parent\"><img src=\"https://colab.research.google.com/assets/colab-badge.svg\" alt=\"Open In Colab\"/></a>"
      ]
    },
    {
      "cell_type": "markdown",
      "source": [
        "# Data Science com Python\n"
      ],
      "metadata": {
        "id": "YgdRGlQnW58n"
      }
    },
    {
      "cell_type": "markdown",
      "source": [
        "<center><img src = \"https://upload.wikimedia.org/wikipedia/commons/1/1f/Python_logo_01.svg\" width = \"100\n",
        "\">"
      ],
      "metadata": {
        "id": "2iAGrPMsXAP_"
      }
    },
    {
      "cell_type": "markdown",
      "source": [
        "## 0. Hello World!"
      ],
      "metadata": {
        "id": "X61QfNLmXFbQ"
      }
    },
    {
      "cell_type": "markdown",
      "source": [
        "Tradiconalmente, o ensino da programação inicia-se com o comando clássico \"Hello World!\""
      ],
      "metadata": {
        "id": "hBvgX9vNXKWL"
      }
    },
    {
      "cell_type": "code",
      "execution_count": null,
      "metadata": {
        "colab": {
          "base_uri": "https://localhost:8080/"
        },
        "id": "j842SpvRWN2-",
        "outputId": "301a7c52-a280-4499-b617-f76cadd4255f"
      },
      "outputs": [
        {
          "output_type": "stream",
          "name": "stdout",
          "text": [
            "Hello World!\n"
          ]
        }
      ],
      "source": [
        "# Usando a função 'print' para imprimir na tela a mensagem entre aspas\n",
        "print('Hello World!')"
      ]
    },
    {
      "cell_type": "code",
      "source": [
        "print('Olá, meu nome é Jeferson!')"
      ],
      "metadata": {
        "colab": {
          "base_uri": "https://localhost:8080/"
        },
        "id": "S2HkUbwCXn0j",
        "outputId": "1452dcb2-17dc-441c-e6d3-a74461a619d7"
      },
      "execution_count": null,
      "outputs": [
        {
          "output_type": "stream",
          "name": "stdout",
          "text": [
            "Olá, meu nome é Jeferson!\n"
          ]
        }
      ]
    },
    {
      "cell_type": "markdown",
      "source": [
        "## 1. Variáveis vs Objetos"
      ],
      "metadata": {
        "id": "CzybVRXEXtn2"
      }
    },
    {
      "cell_type": "code",
      "source": [
        "# Objeto\n",
        "5"
      ],
      "metadata": {
        "colab": {
          "base_uri": "https://localhost:8080/"
        },
        "id": "NJlOnIrRX0YK",
        "outputId": "bbcfea5b-498e-444d-c31c-463b72b6371c"
      },
      "execution_count": null,
      "outputs": [
        {
          "output_type": "execute_result",
          "data": {
            "text/plain": [
              "5"
            ]
          },
          "metadata": {},
          "execution_count": 35
        }
      ]
    },
    {
      "cell_type": "code",
      "source": [
        "# Variável apontando para o objeto\n",
        "a = 5"
      ],
      "metadata": {
        "id": "shJq2EDqYJiJ"
      },
      "execution_count": null,
      "outputs": []
    },
    {
      "cell_type": "code",
      "source": [
        "a\n"
      ],
      "metadata": {
        "colab": {
          "base_uri": "https://localhost:8080/"
        },
        "id": "1A8HKUx5YP1A",
        "outputId": "849d12e5-f11e-4bb6-befa-6f0ea1e9b06a"
      },
      "execution_count": null,
      "outputs": [
        {
          "output_type": "execute_result",
          "data": {
            "text/plain": [
              "5"
            ]
          },
          "metadata": {},
          "execution_count": 37
        }
      ]
    },
    {
      "cell_type": "markdown",
      "source": [
        "### 1.1 Tipos de váriaveis\n",
        "\n",
        "*   integer (int): 2\n",
        "*   float (float): 1.45\n",
        "*   string (str): 'PETR4'\n",
        "*   boolean (bool): True ou False"
      ],
      "metadata": {
        "id": "TV_h8s89YagD"
      }
    },
    {
      "cell_type": "code",
      "source": [
        "b = 5.5"
      ],
      "metadata": {
        "id": "Hl5iXrAyZaAP"
      },
      "execution_count": null,
      "outputs": []
    },
    {
      "cell_type": "code",
      "source": [
        "b"
      ],
      "metadata": {
        "colab": {
          "base_uri": "https://localhost:8080/"
        },
        "id": "DNIAeF7ZZbSP",
        "outputId": "adefc218-1864-4416-c13d-57a1d6c984a8"
      },
      "execution_count": null,
      "outputs": [
        {
          "output_type": "execute_result",
          "data": {
            "text/plain": [
              "5.5"
            ]
          },
          "metadata": {},
          "execution_count": 39
        }
      ]
    },
    {
      "cell_type": "code",
      "source": [
        "a + b"
      ],
      "metadata": {
        "colab": {
          "base_uri": "https://localhost:8080/"
        },
        "id": "oxQZa-jHZfmm",
        "outputId": "3d1c0b5a-476f-4571-9dfb-c3af83dadbe4"
      },
      "execution_count": null,
      "outputs": [
        {
          "output_type": "execute_result",
          "data": {
            "text/plain": [
              "10.5"
            ]
          },
          "metadata": {},
          "execution_count": 40
        }
      ]
    },
    {
      "cell_type": "code",
      "source": [
        "type(a)"
      ],
      "metadata": {
        "colab": {
          "base_uri": "https://localhost:8080/"
        },
        "id": "C6HX3E2kZnJH",
        "outputId": "4317ad60-e26c-4108-fc50-351dd0f3c2f8"
      },
      "execution_count": null,
      "outputs": [
        {
          "output_type": "execute_result",
          "data": {
            "text/plain": [
              "int"
            ]
          },
          "metadata": {},
          "execution_count": 41
        }
      ]
    },
    {
      "cell_type": "code",
      "source": [
        "type(b)"
      ],
      "metadata": {
        "colab": {
          "base_uri": "https://localhost:8080/"
        },
        "id": "OQnVK-qnZrpF",
        "outputId": "c8b5bee3-9c75-4953-ff93-b6b424d5bb40"
      },
      "execution_count": null,
      "outputs": [
        {
          "output_type": "execute_result",
          "data": {
            "text/plain": [
              "float"
            ]
          },
          "metadata": {},
          "execution_count": 42
        }
      ]
    },
    {
      "cell_type": "code",
      "source": [
        "ativo = 'WEGE3'"
      ],
      "metadata": {
        "id": "FCys1M_DZtJt"
      },
      "execution_count": null,
      "outputs": []
    },
    {
      "cell_type": "code",
      "source": [
        "print(ativo)"
      ],
      "metadata": {
        "colab": {
          "base_uri": "https://localhost:8080/"
        },
        "id": "6FuW6xP_Z8ef",
        "outputId": "d74f39fa-37de-4b92-e530-7c27246e2f85"
      },
      "execution_count": null,
      "outputs": [
        {
          "output_type": "stream",
          "name": "stdout",
          "text": [
            "WEGE3\n"
          ]
        }
      ]
    },
    {
      "cell_type": "code",
      "source": [
        "type(ativo)"
      ],
      "metadata": {
        "colab": {
          "base_uri": "https://localhost:8080/"
        },
        "id": "cRqZCdcyaKee",
        "outputId": "073c90cd-a709-4c4c-979b-31ccf68b1a23"
      },
      "execution_count": null,
      "outputs": [
        {
          "output_type": "execute_result",
          "data": {
            "text/plain": [
              "str"
            ]
          },
          "metadata": {},
          "execution_count": 45
        }
      ]
    },
    {
      "cell_type": "code",
      "source": [
        "b == a"
      ],
      "metadata": {
        "colab": {
          "base_uri": "https://localhost:8080/"
        },
        "id": "5HWieqLtaOMN",
        "outputId": "2e28441e-6261-4ea7-e93d-914d72a3ed06"
      },
      "execution_count": null,
      "outputs": [
        {
          "output_type": "execute_result",
          "data": {
            "text/plain": [
              "False"
            ]
          },
          "metadata": {},
          "execution_count": 46
        }
      ]
    },
    {
      "cell_type": "code",
      "source": [
        "a = b"
      ],
      "metadata": {
        "id": "JgLyoEBnaU61"
      },
      "execution_count": null,
      "outputs": []
    },
    {
      "cell_type": "code",
      "source": [
        "b == a"
      ],
      "metadata": {
        "colab": {
          "base_uri": "https://localhost:8080/"
        },
        "id": "rBuK5H_NabP9",
        "outputId": "1710b0ea-351c-42b7-bfb3-cfdd0b220607"
      },
      "execution_count": null,
      "outputs": [
        {
          "output_type": "execute_result",
          "data": {
            "text/plain": [
              "True"
            ]
          },
          "metadata": {},
          "execution_count": 48
        }
      ]
    },
    {
      "cell_type": "code",
      "source": [
        "c = a == b"
      ],
      "metadata": {
        "id": "UNM_P1LEacYl"
      },
      "execution_count": null,
      "outputs": []
    },
    {
      "cell_type": "code",
      "source": [
        "c"
      ],
      "metadata": {
        "colab": {
          "base_uri": "https://localhost:8080/"
        },
        "id": "dXVUmTbeajbz",
        "outputId": "f665bdd5-32f4-4078-9024-919857cd3b01"
      },
      "execution_count": null,
      "outputs": [
        {
          "output_type": "execute_result",
          "data": {
            "text/plain": [
              "True"
            ]
          },
          "metadata": {},
          "execution_count": 50
        }
      ]
    },
    {
      "cell_type": "code",
      "source": [
        ""
      ],
      "metadata": {
        "id": "29pMo6PUakom"
      },
      "execution_count": null,
      "outputs": []
    },
    {
      "cell_type": "markdown",
      "source": [
        "## 2. Operadores aritméticos\n"
      ],
      "metadata": {
        "id": "yGciSaoyavLC"
      }
    },
    {
      "cell_type": "markdown",
      "source": [
        "\n",
        "\n",
        "*   Soma (+)\n",
        "*   Subtração (-)\n",
        "*   Multiplicação (*)\n",
        "*   Divisão (/)\n",
        "*   Divisão parte inteira (//)\n",
        "*   Resto da divisão (%)\n",
        "*   Potência(**)\n",
        "\n",
        "\n",
        "\n"
      ],
      "metadata": {
        "id": "TjHM9lxya7A8"
      }
    },
    {
      "cell_type": "code",
      "source": [
        "# Soma\n",
        "d = a + b"
      ],
      "metadata": {
        "id": "va5AIbvia2T1"
      },
      "execution_count": null,
      "outputs": []
    },
    {
      "cell_type": "code",
      "source": [
        "d"
      ],
      "metadata": {
        "colab": {
          "base_uri": "https://localhost:8080/"
        },
        "id": "gYtX9-K3tVLq",
        "outputId": "2f19a2b0-34bc-4054-8e16-5a26a6d0384e"
      },
      "execution_count": null,
      "outputs": [
        {
          "output_type": "execute_result",
          "data": {
            "text/plain": [
              "11.0"
            ]
          },
          "metadata": {},
          "execution_count": 54
        }
      ]
    },
    {
      "cell_type": "code",
      "source": [
        "# Soma\n",
        "e = d + a + b + d + d"
      ],
      "metadata": {
        "id": "254o9dSSbiNK"
      },
      "execution_count": null,
      "outputs": []
    },
    {
      "cell_type": "code",
      "source": [
        "e"
      ],
      "metadata": {
        "colab": {
          "base_uri": "https://localhost:8080/"
        },
        "id": "NoQUyxcwtXxE",
        "outputId": "8d300981-cb22-4182-f52f-a1579952fb15"
      },
      "execution_count": null,
      "outputs": [
        {
          "output_type": "execute_result",
          "data": {
            "text/plain": [
              "44.0"
            ]
          },
          "metadata": {},
          "execution_count": 56
        }
      ]
    },
    {
      "cell_type": "code",
      "source": [
        "# Subtração\n",
        "a - b"
      ],
      "metadata": {
        "colab": {
          "base_uri": "https://localhost:8080/"
        },
        "id": "tNvVaMneb5Zq",
        "outputId": "5730625d-17a6-403f-bb8b-5c71d4b8b92c"
      },
      "execution_count": null,
      "outputs": [
        {
          "output_type": "execute_result",
          "data": {
            "text/plain": [
              "0.0"
            ]
          },
          "metadata": {},
          "execution_count": 57
        }
      ]
    },
    {
      "cell_type": "code",
      "source": [
        "# Subtração\n",
        "e - d"
      ],
      "metadata": {
        "colab": {
          "base_uri": "https://localhost:8080/"
        },
        "id": "PoAbfN1McCtp",
        "outputId": "d8907b51-d880-4890-ba82-5f928d243658"
      },
      "execution_count": null,
      "outputs": [
        {
          "output_type": "execute_result",
          "data": {
            "text/plain": [
              "33.0"
            ]
          },
          "metadata": {},
          "execution_count": 58
        }
      ]
    },
    {
      "cell_type": "code",
      "source": [
        "# Multiplicação\n",
        "a * b"
      ],
      "metadata": {
        "colab": {
          "base_uri": "https://localhost:8080/"
        },
        "id": "ahXMTzWFcGd-",
        "outputId": "ec5bcb99-98c8-434f-97a3-a3c81a8e4427"
      },
      "execution_count": null,
      "outputs": [
        {
          "output_type": "execute_result",
          "data": {
            "text/plain": [
              "30.25"
            ]
          },
          "metadata": {},
          "execution_count": 59
        }
      ]
    },
    {
      "cell_type": "code",
      "source": [
        "# Multiplicação\n",
        "f = 10"
      ],
      "metadata": {
        "id": "XUmBeNiGcLVq"
      },
      "execution_count": null,
      "outputs": []
    },
    {
      "cell_type": "code",
      "source": [
        "e * f"
      ],
      "metadata": {
        "colab": {
          "base_uri": "https://localhost:8080/"
        },
        "id": "TNhak_oktd8X",
        "outputId": "65c88c87-5e0c-4a83-b5f1-044bbc900af0"
      },
      "execution_count": null,
      "outputs": [
        {
          "output_type": "execute_result",
          "data": {
            "text/plain": [
              "440.0"
            ]
          },
          "metadata": {},
          "execution_count": 61
        }
      ]
    },
    {
      "cell_type": "markdown",
      "source": [
        "### Exemplo:\n",
        "### Qual o tamanho da minha posição em PETR4 dados o número de papéis que comprei e a cotação atual?"
      ],
      "metadata": {
        "id": "l20WM3cpcL_D"
      }
    },
    {
      "cell_type": "code",
      "source": [
        "cotacao = 33.32\n",
        "papeis = 100\n",
        "\n",
        "patrimonio = cotacao * papeis\n",
        "print(patrimonio)"
      ],
      "metadata": {
        "colab": {
          "base_uri": "https://localhost:8080/"
        },
        "id": "CNFoKYs2cqTw",
        "outputId": "34b38693-55a4-49b0-edf9-7e8055dfae2a"
      },
      "execution_count": null,
      "outputs": [
        {
          "output_type": "stream",
          "name": "stdout",
          "text": [
            "3332.0\n"
          ]
        }
      ]
    },
    {
      "cell_type": "markdown",
      "source": [
        "Qual o preço atual?"
      ],
      "metadata": {
        "id": "1iQCIURpcz0i"
      }
    },
    {
      "cell_type": "code",
      "source": [
        "cotacao = 33.32\n",
        "papeis = 100\n",
        "\n",
        "patrimonio = cotacao * papeis\n",
        "\n",
        "preco = patrimonio/papeis\n",
        "print(preco)"
      ],
      "metadata": {
        "colab": {
          "base_uri": "https://localhost:8080/"
        },
        "id": "otRaHl87pGR0",
        "outputId": "1358f720-b6e6-4cea-8567-37f3097c9a89"
      },
      "execution_count": null,
      "outputs": [
        {
          "output_type": "stream",
          "name": "stdout",
          "text": [
            "33.32\n"
          ]
        }
      ]
    },
    {
      "cell_type": "markdown",
      "source": [
        "Exemplo com VALE3 - Qual o número de papéis que eu posso comprar?"
      ],
      "metadata": {
        "id": "1QSyeaDQpond"
      }
    },
    {
      "cell_type": "code",
      "source": [
        "carteira = 4000"
      ],
      "metadata": {
        "id": "fSg6QIBfpyf2"
      },
      "execution_count": null,
      "outputs": []
    },
    {
      "cell_type": "code",
      "source": [
        "vale3 = 50.32"
      ],
      "metadata": {
        "id": "7H4CF5m-p_oD"
      },
      "execution_count": null,
      "outputs": []
    },
    {
      "cell_type": "code",
      "source": [
        "carteira/vale3"
      ],
      "metadata": {
        "colab": {
          "base_uri": "https://localhost:8080/"
        },
        "id": "J4Luidi9qB3A",
        "outputId": "88a56515-c88b-4880-87d5-202d29bd296b"
      },
      "execution_count": null,
      "outputs": [
        {
          "output_type": "execute_result",
          "data": {
            "text/plain": [
              "79.4912559618442"
            ]
          },
          "metadata": {},
          "execution_count": 81
        }
      ]
    },
    {
      "cell_type": "markdown",
      "source": [
        "Divisão como resultado a parte inteira"
      ],
      "metadata": {
        "id": "T0efRHM9qP0Y"
      }
    },
    {
      "cell_type": "code",
      "source": [
        "carteira//vale3"
      ],
      "metadata": {
        "colab": {
          "base_uri": "https://localhost:8080/"
        },
        "id": "FRVluFSRqVeD",
        "outputId": "57675e14-e647-49d8-9933-807ae91f534a"
      },
      "execution_count": null,
      "outputs": [
        {
          "output_type": "execute_result",
          "data": {
            "text/plain": [
              "79.0"
            ]
          },
          "metadata": {},
          "execution_count": 82
        }
      ]
    },
    {
      "cell_type": "code",
      "source": [
        "10/4"
      ],
      "metadata": {
        "colab": {
          "base_uri": "https://localhost:8080/"
        },
        "id": "4-1OB59AqVWZ",
        "outputId": "c1824498-1732-48af-f554-f7b5f536c28b"
      },
      "execution_count": null,
      "outputs": [
        {
          "output_type": "execute_result",
          "data": {
            "text/plain": [
              "2.5"
            ]
          },
          "metadata": {},
          "execution_count": 83
        }
      ]
    },
    {
      "cell_type": "code",
      "source": [
        "10//4"
      ],
      "metadata": {
        "colab": {
          "base_uri": "https://localhost:8080/"
        },
        "id": "ngQgoBatqd8_",
        "outputId": "7318d21b-435b-40ad-eea9-215ca1909d18"
      },
      "execution_count": null,
      "outputs": [
        {
          "output_type": "execute_result",
          "data": {
            "text/plain": [
              "2"
            ]
          },
          "metadata": {},
          "execution_count": 84
        }
      ]
    },
    {
      "cell_type": "markdown",
      "source": [
        "Resto da divisão"
      ],
      "metadata": {
        "id": "Fq1Gd-DIqfGH"
      }
    },
    {
      "cell_type": "code",
      "source": [
        "7/4"
      ],
      "metadata": {
        "colab": {
          "base_uri": "https://localhost:8080/"
        },
        "id": "9_t2Z8CvqlFJ",
        "outputId": "2c86c45b-dd2a-4993-8ee0-a43d06f3540c"
      },
      "execution_count": null,
      "outputs": [
        {
          "output_type": "execute_result",
          "data": {
            "text/plain": [
              "1.75"
            ]
          },
          "metadata": {},
          "execution_count": 85
        }
      ]
    },
    {
      "cell_type": "code",
      "source": [
        "7%4"
      ],
      "metadata": {
        "colab": {
          "base_uri": "https://localhost:8080/"
        },
        "id": "MKgKP-AQqqpt",
        "outputId": "a52a7c51-2243-4ec1-c04f-7741536636b1"
      },
      "execution_count": null,
      "outputs": [
        {
          "output_type": "execute_result",
          "data": {
            "text/plain": [
              "3"
            ]
          },
          "metadata": {},
          "execution_count": 86
        }
      ]
    },
    {
      "cell_type": "code",
      "source": [
        "10/3"
      ],
      "metadata": {
        "colab": {
          "base_uri": "https://localhost:8080/"
        },
        "id": "07e-QWPeq91U",
        "outputId": "958ada2f-9a1a-4fbc-9c8e-63a2809b7d63"
      },
      "execution_count": null,
      "outputs": [
        {
          "output_type": "execute_result",
          "data": {
            "text/plain": [
              "3.3333333333333335"
            ]
          },
          "metadata": {},
          "execution_count": 87
        }
      ]
    },
    {
      "cell_type": "code",
      "source": [
        "10%3"
      ],
      "metadata": {
        "colab": {
          "base_uri": "https://localhost:8080/"
        },
        "id": "6rUBXgmWq_QF",
        "outputId": "bc25a8b0-af16-4f8f-a664-ba8ecc1529ab"
      },
      "execution_count": null,
      "outputs": [
        {
          "output_type": "execute_result",
          "data": {
            "text/plain": [
              "1"
            ]
          },
          "metadata": {},
          "execution_count": 88
        }
      ]
    },
    {
      "cell_type": "markdown",
      "source": [
        "Potenciação"
      ],
      "metadata": {
        "id": "QrSdnRs6rBLl"
      }
    },
    {
      "cell_type": "code",
      "source": [
        "2**2"
      ],
      "metadata": {
        "colab": {
          "base_uri": "https://localhost:8080/"
        },
        "id": "SCTSLKOnrMA9",
        "outputId": "45ea4e55-cecf-4428-e3d5-01a3aaecdc9a"
      },
      "execution_count": null,
      "outputs": [
        {
          "output_type": "execute_result",
          "data": {
            "text/plain": [
              "4"
            ]
          },
          "metadata": {},
          "execution_count": 89
        }
      ]
    },
    {
      "cell_type": "code",
      "source": [
        "2**3"
      ],
      "metadata": {
        "colab": {
          "base_uri": "https://localhost:8080/"
        },
        "id": "FajhOp5rrOIv",
        "outputId": "8b0f2e63-c61a-4113-9e34-63e918d9391e"
      },
      "execution_count": null,
      "outputs": [
        {
          "output_type": "execute_result",
          "data": {
            "text/plain": [
              "8"
            ]
          },
          "metadata": {},
          "execution_count": 90
        }
      ]
    },
    {
      "cell_type": "code",
      "source": [
        "2**10"
      ],
      "metadata": {
        "colab": {
          "base_uri": "https://localhost:8080/"
        },
        "id": "QEe4KlJTrPym",
        "outputId": "1194b5bd-e8fc-4cc9-c744-b7867dd2e1eb"
      },
      "execution_count": null,
      "outputs": [
        {
          "output_type": "execute_result",
          "data": {
            "text/plain": [
              "1024"
            ]
          },
          "metadata": {},
          "execution_count": 91
        }
      ]
    },
    {
      "cell_type": "markdown",
      "source": [
        "## 3. Operadores lógicos"
      ],
      "metadata": {
        "id": "8j0vJ1pmrdmD"
      }
    },
    {
      "cell_type": "markdown",
      "source": [
        "### 3.1 Operadores compartivos"
      ],
      "metadata": {
        "id": "zTxnnKFTr0kI"
      }
    },
    {
      "cell_type": "markdown",
      "source": [
        "* Igualdade  (==)\n",
        "* Diferença (!=)\n",
        "* menor (<)\n",
        "* maior (>)\n",
        "* menor ou igual (<=)\n",
        "* maior ou igual (>=)"
      ],
      "metadata": {
        "id": "OFSPoPC1r_e_"
      }
    },
    {
      "cell_type": "code",
      "source": [
        "g = 5\n",
        "h = 5"
      ],
      "metadata": {
        "id": "uI41zDtOsWMq"
      },
      "execution_count": null,
      "outputs": []
    },
    {
      "cell_type": "code",
      "source": [
        "g >= h"
      ],
      "metadata": {
        "colab": {
          "base_uri": "https://localhost:8080/"
        },
        "id": "rIQrCcMpscRd",
        "outputId": "db572a2f-b66e-4f75-b118-dc7f96d1eafc"
      },
      "execution_count": null,
      "outputs": [
        {
          "output_type": "execute_result",
          "data": {
            "text/plain": [
              "True"
            ]
          },
          "metadata": {},
          "execution_count": 25
        }
      ]
    },
    {
      "cell_type": "code",
      "source": [
        "papel1 = 'VALE3'\n",
        "papel2 = 'PETR4'"
      ],
      "metadata": {
        "id": "iiYamyZpshvc"
      },
      "execution_count": null,
      "outputs": []
    },
    {
      "cell_type": "code",
      "source": [
        "papel1 == papel2"
      ],
      "metadata": {
        "colab": {
          "base_uri": "https://localhost:8080/"
        },
        "id": "CKfJWE_Csohr",
        "outputId": "55fe08eb-42c2-4913-d99d-4f2cfe5cc5bc"
      },
      "execution_count": null,
      "outputs": [
        {
          "output_type": "execute_result",
          "data": {
            "text/plain": [
              "False"
            ]
          },
          "metadata": {},
          "execution_count": 27
        }
      ]
    },
    {
      "cell_type": "code",
      "source": [
        "papel1 != papel2"
      ],
      "metadata": {
        "colab": {
          "base_uri": "https://localhost:8080/"
        },
        "id": "RVbgyBdUst0L",
        "outputId": "f38d3454-b128-4775-e0ba-22f9ad7050c7"
      },
      "execution_count": null,
      "outputs": [
        {
          "output_type": "execute_result",
          "data": {
            "text/plain": [
              "True"
            ]
          },
          "metadata": {},
          "execution_count": 28
        }
      ]
    },
    {
      "cell_type": "markdown",
      "source": [
        "## 3.2 Operadores condicionais"
      ],
      "metadata": {
        "id": "-6a-wRpgtksN"
      }
    },
    {
      "cell_type": "markdown",
      "source": [
        "* AND\n",
        "* OR"
      ],
      "metadata": {
        "id": "i6JQyg8Wtr05"
      }
    },
    {
      "cell_type": "code",
      "source": [
        "e > f and g >= h"
      ],
      "metadata": {
        "colab": {
          "base_uri": "https://localhost:8080/"
        },
        "id": "9D1LpmwOtu1H",
        "outputId": "28e045cd-2c21-4e84-ef9e-de3bfbe1de06"
      },
      "execution_count": null,
      "outputs": [
        {
          "output_type": "execute_result",
          "data": {
            "text/plain": [
              "True"
            ]
          },
          "metadata": {},
          "execution_count": 92
        }
      ]
    },
    {
      "cell_type": "code",
      "source": [
        "e < f"
      ],
      "metadata": {
        "colab": {
          "base_uri": "https://localhost:8080/"
        },
        "id": "pLcFYC5Zt0Qv",
        "outputId": "1deee704-ca19-4ef4-8b72-683128436f89"
      },
      "execution_count": null,
      "outputs": [
        {
          "output_type": "execute_result",
          "data": {
            "text/plain": [
              "False"
            ]
          },
          "metadata": {},
          "execution_count": 93
        }
      ]
    },
    {
      "cell_type": "code",
      "source": [
        "e < f and g >=h"
      ],
      "metadata": {
        "colab": {
          "base_uri": "https://localhost:8080/"
        },
        "id": "7SHn10J5t5eL",
        "outputId": "f7947410-b46a-449b-8848-f3253fdc6a8a"
      },
      "execution_count": null,
      "outputs": [
        {
          "output_type": "execute_result",
          "data": {
            "text/plain": [
              "False"
            ]
          },
          "metadata": {},
          "execution_count": 94
        }
      ]
    },
    {
      "cell_type": "code",
      "source": [
        "e < f or g >= h"
      ],
      "metadata": {
        "colab": {
          "base_uri": "https://localhost:8080/"
        },
        "id": "GOzmLzE4t-bI",
        "outputId": "e70fff01-7fa8-4cb6-aab2-ae4e178c1036"
      },
      "execution_count": null,
      "outputs": [
        {
          "output_type": "execute_result",
          "data": {
            "text/plain": [
              "True"
            ]
          },
          "metadata": {},
          "execution_count": 95
        }
      ]
    },
    {
      "cell_type": "code",
      "source": [
        "e < f or g > h"
      ],
      "metadata": {
        "colab": {
          "base_uri": "https://localhost:8080/"
        },
        "id": "r_sESnRWuCTt",
        "outputId": "7a214509-8771-4325-d0ee-579861b2bc5d"
      },
      "execution_count": null,
      "outputs": [
        {
          "output_type": "execute_result",
          "data": {
            "text/plain": [
              "False"
            ]
          },
          "metadata": {},
          "execution_count": 96
        }
      ]
    },
    {
      "cell_type": "code",
      "source": [
        "e < f and g >= h"
      ],
      "metadata": {
        "colab": {
          "base_uri": "https://localhost:8080/"
        },
        "id": "Rwp4O2HwuMC7",
        "outputId": "f26c17c6-d89a-406d-a770-b9eb3a44525f"
      },
      "execution_count": null,
      "outputs": [
        {
          "output_type": "execute_result",
          "data": {
            "text/plain": [
              "False"
            ]
          },
          "metadata": {},
          "execution_count": 97
        }
      ]
    }
  ]
}